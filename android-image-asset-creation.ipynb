{
 "cells": [
  {
   "cell_type": "code",
   "execution_count": 1,
   "id": "9b990284-62d3-4fe0-acff-a2d6be035758",
   "metadata": {},
   "outputs": [],
   "source": [
    "%load_ext autoreload"
   ]
  },
  {
   "cell_type": "code",
   "execution_count": 2,
   "id": "7f2bb0b1-d501-4b69-892e-b138a4ce5350",
   "metadata": {},
   "outputs": [],
   "source": [
    "%autoreload 2"
   ]
  },
  {
   "cell_type": "code",
   "execution_count": 1,
   "id": "05b2e479-d30c-4713-a5cc-5c7a8e5258e7",
   "metadata": {},
   "outputs": [],
   "source": [
    "import mynnlib\n",
    "from mynnlib import *"
   ]
  },
  {
   "cell_type": "code",
   "execution_count": 2,
   "id": "16ce1b8d-3817-4ce8-824a-31f52272599e",
   "metadata": {},
   "outputs": [],
   "source": [
    "# !pip install imagehash\n",
    "# import imagehash\n",
    "from itertools import chain\n",
    "\n",
    "max_imx_cnt = 6\n",
    "max_img_size = 300\n",
    "\n",
    "def is_black(pixel):\n",
    "    threshold = 10\n",
    "    return pixel[0] <= threshold and pixel[1] <= threshold and pixel[2] <= threshold\n",
    "\n",
    "def crop_header_footer(img):\n",
    "    width, height = img.size\n",
    "    start = int(height * 0.15)\n",
    "    while not is_black(img.getpixel((int(width / 2), start))) and start > 0:\n",
    "        start -= 1\n",
    "    end = int(height * 0.85)\n",
    "    while not is_black(img.getpixel((int(width / 2), end))) and end < height -1:\n",
    "        end += 1\n",
    "    return img.crop((0, start, width, end))\n",
    "\n",
    "def center_crop(img):\n",
    "    width, height = img.size\n",
    "    square_size = min(width, height)\n",
    "    left = (width - square_size) / 2\n",
    "    top = (height - square_size) / 2\n",
    "    right = (width + square_size) / 2\n",
    "    bottom = (height + square_size) / 2\n",
    "    return img.crop((left, top, right, bottom))\n",
    "\n",
    "def resize(img):\n",
    "    width, height = img.size\n",
    "    img_size = min(width, max_img_size)\n",
    "    return img.resize((img_size, img_size), Image.LANCZOS)\n",
    "\n",
    "def create_dataset(src_dirs, dst):\n",
    "    if os.path.exists(dst):\n",
    "        shutil.rmtree(dst)\n",
    "    classes = list(set(list(chain(*[os.listdir(src) for src in src_dirs]))))\n",
    "    for class_name in classes:\n",
    "        img_cnt = 0\n",
    "        # img_hashes = []\n",
    "        for src in src_dirs:\n",
    "            if not os.path.exists(f\"{src}/{class_name}\"):\n",
    "                continue\n",
    "            for file in os.listdir(f\"{src}/{class_name}\"):\n",
    "                if not Path(f\"{src}/{class_name}/{file}\").is_file():\n",
    "                    continue\n",
    "                img = Image.open(f\"{src}/{class_name}/{file}\").convert(\"RGB\")\n",
    "                img = crop_header_footer(img)\n",
    "                img = center_crop(img)\n",
    "                img = resize(img)\n",
    "                if img.size[0] < max_img_size:\n",
    "                    continue\n",
    "                # img_hash = imagehash.average_hash(img)\n",
    "                # if img_hash in img_hashes:\n",
    "                #     continue\n",
    "                # img_hashes += [img_hash]\n",
    "                if not os.path.exists(f\"{dst}/{class_name}/\"):\n",
    "                    os.makedirs(f\"{dst}/{class_name}/\")\n",
    "                img.save(f\"{dst}/{class_name}/{img_cnt + 1}.jpg\", format=\"JPEG\", quality=50)\n",
    "                img_cnt += 1\n",
    "                if img_cnt >= max_imx_cnt:\n",
    "                    break\n",
    "            if img_cnt >= max_imx_cnt:\n",
    "                break"
   ]
  },
  {
   "cell_type": "code",
   "execution_count": 5,
   "id": "09fe7da3-35b6-4229-8f0f-6b0eabef43ee",
   "metadata": {},
   "outputs": [],
   "source": [
    "import zipfile\n",
    "\n",
    "def zip_folder(folder_path, zip_filename):\n",
    "    with zipfile.ZipFile(zip_filename, 'w', zipfile.ZIP_DEFLATED) as zipf:\n",
    "        for root, _, files in os.walk(folder_path):\n",
    "            for file in files:\n",
    "                file_path = os.path.join(root, file)\n",
    "                arcname = os.path.relpath(file_path, folder_path)\n",
    "                zipf.write(file_path, arcname)\n",
    "    shutil.rmtree(folder_path)"
   ]
  },
  {
   "cell_type": "code",
   "execution_count": 7,
   "id": "69262f79-7c9e-45bf-9c8f-e78056929549",
   "metadata": {},
   "outputs": [],
   "source": [
    "create_dataset([\"insect-dataset/src/ifoundbutterflies.org\", \n",
    "                \"insect-dataset/src/mothsofindia.org\", \n",
    "                \"insect-dataset/src/butterfly.inaturalist.org\", \n",
    "                \"insect-dataset/src/moth.inaturalist.org\"], \n",
    "               f\"models/images.lepidoptera\")"
   ]
  },
  {
   "cell_type": "code",
   "execution_count": 9,
   "id": "f9e000af-8100-4098-b767-39700be1f6e1",
   "metadata": {},
   "outputs": [],
   "source": [
    "zip_folder(\"models/images.lepidoptera\", \"models/images.lepidoptera.zip\")"
   ]
  },
  {
   "cell_type": "code",
   "execution_count": 11,
   "id": "7fcf9435-2a70-4800-99cf-072fba682471",
   "metadata": {},
   "outputs": [],
   "source": [
    "create_dataset([\"insect-dataset/src/indianodonata.org\", \n",
    "                \"insect-dataset/src/odonata.inaturalist.org\"], \n",
    "               f\"models/images.odonata\")"
   ]
  },
  {
   "cell_type": "code",
   "execution_count": 13,
   "id": "56c87a13-782d-42a4-8450-0b216e07c2f7",
   "metadata": {},
   "outputs": [],
   "source": [
    "zip_folder(\"models/images.odonata\", \"models/images.odonata.zip\")"
   ]
  },
  {
   "cell_type": "code",
   "execution_count": 12,
   "id": "151bcaf3-c3db-4176-9bf8-86fefe79ddb5",
   "metadata": {},
   "outputs": [],
   "source": [
    "create_dataset([\"insect-dataset/src/indiancicadas.org\", \n",
    "                \"insect-dataset/src/cicada.inaturalist.org\"], \n",
    "               f\"models/images.cicada\")"
   ]
  },
  {
   "cell_type": "code",
   "execution_count": 14,
   "id": "c0b425ca-a9dd-48c7-9cf2-010c170b52e3",
   "metadata": {},
   "outputs": [],
   "source": [
    "zip_folder(\"models/images.cicada\", \"models/images.cicada.zip\")"
   ]
  },
  {
   "cell_type": "code",
   "execution_count": 3,
   "id": "698ed719-72bf-41ac-b584-1f7462a39f82",
   "metadata": {},
   "outputs": [],
   "source": [
    "create_dataset([\"insect-dataset/src/ifoundbutterflies.org\", \n",
    "                \"insect-dataset/src/butterfly.inaturalist.org\"], \n",
    "               f\"models/images.butterfly\")"
   ]
  },
  {
   "cell_type": "code",
   "execution_count": 6,
   "id": "5ce43ebc-c444-43d3-b9ac-e015c4a779ea",
   "metadata": {},
   "outputs": [],
   "source": [
    "zip_folder(\"models/images.butterfly\", \"models/images.butterfly.zip\")"
   ]
  },
  {
   "cell_type": "code",
   "execution_count": 8,
   "id": "f6a4c51d-b27d-4734-843a-4a1b25db1219",
   "metadata": {},
   "outputs": [],
   "source": [
    "create_dataset([\"insect-dataset/src/mothsofindia.org\", \n",
    "                \"insect-dataset/src/moth.inaturalist.org\"], \n",
    "               f\"models/images.moth\")"
   ]
  },
  {
   "cell_type": "code",
   "execution_count": 10,
   "id": "8e521e0c-88e2-48ce-b621-36b20c87e543",
   "metadata": {},
   "outputs": [],
   "source": [
    "zip_folder(\"models/images.moth\", \"models/images.moth.zip\")"
   ]
  },
  {
   "cell_type": "code",
   "execution_count": null,
   "id": "c5603655-f409-4ad7-aa48-a14a90df36f0",
   "metadata": {},
   "outputs": [],
   "source": []
  }
 ],
 "metadata": {
  "kernelspec": {
   "display_name": "Python 3 (ipykernel)",
   "language": "python",
   "name": "python3"
  },
  "language_info": {
   "codemirror_mode": {
    "name": "ipython",
    "version": 3
   },
   "file_extension": ".py",
   "mimetype": "text/x-python",
   "name": "python",
   "nbconvert_exporter": "python",
   "pygments_lexer": "ipython3",
   "version": "3.12.9"
  }
 },
 "nbformat": 4,
 "nbformat_minor": 5
}
