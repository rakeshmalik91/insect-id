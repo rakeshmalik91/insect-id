{
 "cells": [
  {
   "cell_type": "code",
   "execution_count": 2,
   "id": "9b990284-62d3-4fe0-acff-a2d6be035758",
   "metadata": {},
   "outputs": [],
   "source": [
    "%load_ext autoreload"
   ]
  },
  {
   "cell_type": "code",
   "execution_count": 3,
   "id": "7f2bb0b1-d501-4b69-892e-b138a4ce5350",
   "metadata": {},
   "outputs": [],
   "source": [
    "%autoreload 2"
   ]
  },
  {
   "cell_type": "code",
   "execution_count": 4,
   "id": "05b2e479-d30c-4713-a5cc-5c7a8e5258e7",
   "metadata": {},
   "outputs": [],
   "source": [
    "import mynnlib\n",
    "from mynnlib import *"
   ]
  },
  {
   "cell_type": "code",
   "execution_count": 5,
   "id": "16ce1b8d-3817-4ce8-824a-31f52272599e",
   "metadata": {},
   "outputs": [],
   "source": [
    "# !pip install imagehash\n",
    "# import imagehash\n",
    "from itertools import chain\n",
    "\n",
    "max_imx_cnt = 6\n",
    "max_img_size = 300\n",
    "\n",
    "def is_black(pixel):\n",
    "    threshold = 10\n",
    "    return pixel[0] <= threshold and pixel[1] <= threshold and pixel[2] <= threshold\n",
    "\n",
    "def crop_header_footer(img):\n",
    "    width, height = img.size\n",
    "    start = int(height * 0.15)\n",
    "    while not is_black(img.getpixel((int(width / 2), start))) and start > 0:\n",
    "        start -= 1\n",
    "    end = int(height * 0.85)\n",
    "    while not is_black(img.getpixel((int(width / 2), end))) and end < height -1:\n",
    "        end += 1\n",
    "    return img.crop((0, start, width, end))\n",
    "\n",
    "def center_crop(img):\n",
    "    width, height = img.size\n",
    "    square_size = min(width, height)\n",
    "    left = (width - square_size) / 2\n",
    "    top = (height - square_size) / 2\n",
    "    right = (width + square_size) / 2\n",
    "    bottom = (height + square_size) / 2\n",
    "    return img.crop((left, top, right, bottom))\n",
    "\n",
    "def resize(img):\n",
    "    width, height = img.size\n",
    "    img_size = min(width, max_img_size)\n",
    "    return img.resize((img_size, img_size), Image.LANCZOS)\n",
    "\n",
    "def create_dataset(src_dirs, dst, add_species_only=False):\n",
    "    species_added_cnt = 0\n",
    "    if not add_species_only and os.path.exists(dst):\n",
    "        shutil.rmtree(dst)\n",
    "    classes = list(set(list(chain(*[os.listdir(src) for src in src_dirs if os.path.exists(src)]))))\n",
    "    for class_name in classes:\n",
    "        if os.path.exists(f\"{dst}/{class_name}\"):\n",
    "            continue\n",
    "        species_added_cnt += 1\n",
    "        img_cnt = 0\n",
    "        # img_hashes = []\n",
    "        for src in src_dirs:\n",
    "            if add_species_only and not os.path.exists(f\"{src}/{class_name}\"):\n",
    "                continue\n",
    "            for file in os.listdir(f\"{src}/{class_name}\"):\n",
    "                if not Path(f\"{src}/{class_name}/{file}\").is_file():\n",
    "                    continue\n",
    "                img = Image.open(f\"{src}/{class_name}/{file}\").convert(\"RGB\")\n",
    "                img = crop_header_footer(img)\n",
    "                img = center_crop(img)\n",
    "                img = resize(img)\n",
    "                if img.size[0] < max_img_size:\n",
    "                    continue\n",
    "                    # img_hash = imagehash.average_hash(img)\n",
    "                    # if img_hash in img_hashes:\n",
    "                    #     continue\n",
    "                    # img_hashes += [img_hash]\n",
    "                if not os.path.exists(f\"{dst}/{class_name}/\"):\n",
    "                    os.makedirs(f\"{dst}/{class_name}/\")\n",
    "                img.save(f\"{dst}/{class_name}/{img_cnt + 1}.jpg\", format=\"JPEG\", quality=50)\n",
    "                img_cnt += 1\n",
    "                if img_cnt >= max_imx_cnt:\n",
    "                    break\n",
    "            if img_cnt >= max_imx_cnt:\n",
    "                break\n",
    "    print(f\"{species_added_cnt} species added\")"
   ]
  },
  {
   "cell_type": "code",
   "execution_count": 6,
   "id": "09fe7da3-35b6-4229-8f0f-6b0eabef43ee",
   "metadata": {},
   "outputs": [],
   "source": [
    "import zipfile\n",
    "\n",
    "def zip_folder(folder_path, zip_filename):\n",
    "    with zipfile.ZipFile(zip_filename, 'w', zipfile.ZIP_DEFLATED) as zipf:\n",
    "        for root, _, files in os.walk(folder_path):\n",
    "            for file in files:\n",
    "                file_path = os.path.join(root, file)\n",
    "                arcname = os.path.relpath(file_path, folder_path)\n",
    "                zipf.write(file_path, arcname)\n",
    "    shutil.rmtree(folder_path)\n",
    "\n",
    "def unzip_file(zip_path, extract_to):\n",
    "    with zipfile.ZipFile(zip_path, 'r') as zip_ref:\n",
    "        zip_ref.extractall(extract_to)"
   ]
  },
  {
   "cell_type": "code",
   "execution_count": 7,
   "id": "69262f79-7c9e-45bf-9c8f-e78056929549",
   "metadata": {},
   "outputs": [
    {
     "name": "stdout",
     "output_type": "stream",
     "text": [
      "384 species added\n"
     ]
    }
   ],
   "source": [
    "if os.path.exists(\"models/images.lepidoptera.zip\"):\n",
    "    unzip_file(\"models/images.lepidoptera.zip\", \"models/images.lepidoptera\")\n",
    "create_dataset([\"insect-dataset/src/ifoundbutterflies.org\", \n",
    "                \"insect-dataset/src/mothsofindia.org\", \n",
    "                \"insect-dataset/src/butterfly.inaturalist.org\", \n",
    "                \"insect-dataset/src/moth.inaturalist.org\",\n",
    "                \"insect-dataset/lepidoptera/data\"], \n",
    "               \"models/images.lepidoptera\",\n",
    "               add_species_only=True)\n",
    "if os.path.exists(\"models/images.lepidoptera\"):\n",
    "    zip_folder(\"models/images.lepidoptera\", \"models/images.lepidoptera.zip\")"
   ]
  },
  {
   "cell_type": "code",
   "execution_count": 8,
   "id": "7fcf9435-2a70-4800-99cf-072fba682471",
   "metadata": {},
   "outputs": [
    {
     "name": "stdout",
     "output_type": "stream",
     "text": [
      "1 species added\n"
     ]
    }
   ],
   "source": [
    "if os.path.exists(\"models/images.odonata.zip\"):\n",
    "    unzip_file(\"models/images.odonata.zip\", \"models/images.odonata\")\n",
    "create_dataset([\"insect-dataset/src/indianodonata.org\", \n",
    "                \"insect-dataset/src/odonata.inaturalist.org\",\n",
    "                \"insect-dataset/odonata/data\"], \n",
    "               \"models/images.odonata\",\n",
    "               add_species_only=True)\n",
    "if os.path.exists(\"models/images.odonata\"):\n",
    "    zip_folder(\"models/images.odonata\", \"models/images.odonata.zip\")"
   ]
  },
  {
   "cell_type": "code",
   "execution_count": 8,
   "id": "151bcaf3-c3db-4176-9bf8-86fefe79ddb5",
   "metadata": {},
   "outputs": [
    {
     "name": "stdout",
     "output_type": "stream",
     "text": [
      "0 species added\n"
     ]
    }
   ],
   "source": [
    "if os.path.exists(\"models/images.cicada.zip\"):\n",
    "    unzip_file(\"models/images.cicada.zip\", \"models/images.cicada\")\n",
    "create_dataset([\"insect-dataset/src/indiancicadas.org\", \n",
    "                \"insect-dataset/src/cicada.inaturalist.org\",\n",
    "                \"insect-dataset/cicada/data\"], \n",
    "               \"models/images.cicada\",\n",
    "               add_species_only=True)\n",
    "if os.path.exists(\"models/images.cicada\"):\n",
    "    zip_folder(\"models/images.cicada\", \"models/images.cicada.zip\")"
   ]
  },
  {
   "cell_type": "code",
   "execution_count": 9,
   "id": "698ed719-72bf-41ac-b584-1f7462a39f82",
   "metadata": {},
   "outputs": [
    {
     "name": "stdout",
     "output_type": "stream",
     "text": [
      "203 species added\n"
     ]
    }
   ],
   "source": [
    "if os.path.exists(\"models/images.butterfly.zip\"):\n",
    "    unzip_file(\"models/images.butterfly.zip\", \"models/images.butterfly\")\n",
    "create_dataset([\"insect-dataset/src/ifoundbutterflies.org\", \n",
    "                \"insect-dataset/src/butterfly.inaturalist.org\",\n",
    "                \"insect-dataset/butterfly/data\"], \n",
    "               \"models/images.butterfly\",\n",
    "               add_species_only=True)\n",
    "if os.path.exists(\"models/images.butterfly\"):\n",
    "    zip_folder(\"models/images.butterfly\", \"models/images.butterfly.zip\")"
   ]
  },
  {
   "cell_type": "code",
   "execution_count": 10,
   "id": "f6a4c51d-b27d-4734-843a-4a1b25db1219",
   "metadata": {},
   "outputs": [
    {
     "name": "stdout",
     "output_type": "stream",
     "text": [
      "181 species added\n"
     ]
    }
   ],
   "source": [
    "if os.path.exists(\"models/images.moth.zip\"):\n",
    "    unzip_file(\"models/images.moth.zip\", \"models/images.moth\")\n",
    "create_dataset([\"insect-dataset/src/mothsofindia.org\", \n",
    "                \"insect-dataset/src/moth.inaturalist.org\",\n",
    "                \"insect-dataset/moth/data\"], \n",
    "               \"models/images.moth\",\n",
    "               add_species_only=True)\n",
    "if os.path.exists(\"models/images.moth\"):\n",
    "    zip_folder(\"models/images.moth\", \"models/images.moth.zip\")"
   ]
  },
  {
   "cell_type": "code",
   "execution_count": null,
   "id": "44aee978-bd08-4976-bfa8-f01cc2c0033b",
   "metadata": {},
   "outputs": [],
   "source": []
  }
 ],
 "metadata": {
  "kernelspec": {
   "display_name": "Python 3 (ipykernel)",
   "language": "python",
   "name": "python3"
  },
  "language_info": {
   "codemirror_mode": {
    "name": "ipython",
    "version": 3
   },
   "file_extension": ".py",
   "mimetype": "text/x-python",
   "name": "python",
   "nbconvert_exporter": "python",
   "pygments_lexer": "ipython3",
   "version": "3.13.2"
  }
 },
 "nbformat": 4,
 "nbformat_minor": 5
}
