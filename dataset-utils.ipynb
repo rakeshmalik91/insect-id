{
 "cells": [
  {
   "cell_type": "code",
   "execution_count": null,
   "id": "e8138642-dd11-4329-aae1-17a60d6e4336",
   "metadata": {},
   "outputs": [],
   "source": [
    "import shutil\n",
    "import os\n",
    "import time\n",
    "import datetime\n",
    "import re\n",
    "from pathlib import Path\n",
    "from PIL import Image"
   ]
  },
  {
   "cell_type": "code",
   "execution_count": null,
   "id": "ff93a215-0c69-4f78-be4d-470f268d7061",
   "metadata": {},
   "outputs": [],
   "source": [
    "# copy flat test directory to hierarchical test directory\n",
    "\n",
    "def flat_to_hierarchical_test_dir(src_dir, target_dir):\n",
    "    for file in Path(src_dir).iterdir():\n",
    "        if file.is_file():\n",
    "            species_name = re.sub(r\".(jpg|png|jpeg)$\", \"\", file.name)\n",
    "            species_name = re.sub(r\"__|(-[0-9]+$)\", \"\", species_name)\n",
    "            # print(species_name)\n",
    "            species_dir = f\"{target_dir}/{species_name.lower()}\"\n",
    "            if not os.path.exists(species_dir):\n",
    "                os.makedirs(species_dir)\n",
    "            shutil.copy(file, species_dir)\n",
    "\n",
    "for family in [\"moth\", \"butterfly\"]:\n",
    "    target_dir = f\"insect-dataset/{family}/val\"\n",
    "    if os.path.exists(target_dir):\n",
    "            shutil.rmtree(target_dir)\n",
    "    for src in [\"random-test\", \"my-test\"]:\n",
    "        flat_to_hierarchical_test_dir(f\"insect-dataset/{family}/{src}\", target_dir)"
   ]
  },
  {
   "cell_type": "code",
   "execution_count": null,
   "id": "8eec49f7-e60f-4146-a2e2-66270f712f5f",
   "metadata": {},
   "outputs": [],
   "source": [
    "def rename_and_merge_folder(src, dst):\n",
    "    if os.path.exists(dst):\n",
    "        for item in os.listdir(src):\n",
    "            src_path = os.path.join(src, item)\n",
    "            dst_path = os.path.join(dst, item)\n",
    "            if os.path.isdir(src_path):\n",
    "                rename_and_merge_folder(src_path, dst_path)\n",
    "            else:\n",
    "                shutil.move(src_path, dst_path)\n",
    "        os.rmdir(src)\n",
    "    else:\n",
    "        shutil.move(src, dst)"
   ]
  },
  {
   "cell_type": "code",
   "execution_count": null,
   "id": "280acdf7-7b6b-4e86-abc3-6255f583054b",
   "metadata": {},
   "outputs": [],
   "source": []
  },
  {
   "cell_type": "code",
   "execution_count": null,
   "id": "6c2c9414-43c7-4670-88d3-a515e03f1b8c",
   "metadata": {},
   "outputs": [],
   "source": []
  },
  {
   "cell_type": "code",
   "execution_count": null,
   "id": "14a7f626-a175-4cab-97cb-1155b9e383e9",
   "metadata": {},
   "outputs": [],
   "source": []
  }
 ],
 "metadata": {
  "kernelspec": {
   "display_name": "Python 3 (ipykernel)",
   "language": "python",
   "name": "python3"
  },
  "language_info": {
   "codemirror_mode": {
    "name": "ipython",
    "version": 3
   },
   "file_extension": ".py",
   "mimetype": "text/x-python",
   "name": "python",
   "nbconvert_exporter": "python",
   "pygments_lexer": "ipython3",
   "version": "3.13.2"
  }
 },
 "nbformat": 4,
 "nbformat_minor": 5
}
