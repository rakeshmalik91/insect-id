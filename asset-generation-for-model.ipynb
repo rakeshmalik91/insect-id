{
 "cells": [
  {
   "cell_type": "code",
   "execution_count": 1,
   "id": "8127028e-031e-4af7-abee-30e2bb952b55",
   "metadata": {},
   "outputs": [],
   "source": [
    "%load_ext autoreload"
   ]
  },
  {
   "cell_type": "code",
   "execution_count": 2,
   "id": "01e181a3-f731-4210-b411-c26e373993a9",
   "metadata": {},
   "outputs": [],
   "source": [
    "%autoreload 2"
   ]
  },
  {
   "cell_type": "code",
   "execution_count": 3,
   "id": "0841a9c0-1580-435d-9763-a6bad0d62870",
   "metadata": {},
   "outputs": [],
   "source": [
    "import mynnlib\n",
    "from mynnlib import *"
   ]
  },
  {
   "cell_type": "markdown",
   "id": "c677f65a-1ed6-4835-8ede-353b3bf93796",
   "metadata": {},
   "source": [
    "# Generate .pt and classes json"
   ]
  },
  {
   "cell_type": "code",
   "execution_count": 4,
   "id": "5d965e04-42c5-4905-9c12-7316412e2520",
   "metadata": {},
   "outputs": [],
   "source": [
    "output_dir = \"models\"\n",
    "models = {\n",
    "    \"moth\": \"insect-dataset/moth/checkpoint.moth.tg.ep060001.pth\",\n",
    "    \"butterfly\": \"insect-dataset/butterfly/checkpoint.butterfly.te.ep050000.pth\",\n",
    "    \"lepidoptera\": \"insect-dataset/lepidoptera/checkpoint.lepidoptera.te.ep060004.pth\",\n",
    "    \"odonata\": \"insect-dataset/odonata/checkpoint.odonata.tc.ep060002.pth\",\n",
    "    \"cicada\": \"insect-dataset/cicada/checkpoint.cicada.te.ep060000.pth\",\n",
    "    \"root-classifier\": \"insect-dataset/root-classifier/checkpoint.root-classifier.tj.ep060001.pth\"\n",
    "}"
   ]
  },
  {
   "cell_type": "code",
   "execution_count": null,
   "id": "f7e8d938-6261-4e8e-8a7c-5eb601df7056",
   "metadata": {},
   "outputs": [
    {
     "name": "stdout",
     "output_type": "stream",
     "text": [
      "insect-dataset/moth/checkpoint.moth.tg.ep060001.pth\n",
      " --> models/m.checkpoint.moth.pt\n",
      " --> models/classes.moth.json\n",
      "insect-dataset/butterfly/checkpoint.butterfly.te.ep050000.pth\n",
      " --> models/m.checkpoint.butterfly.pt\n",
      " --> models/classes.butterfly.json\n",
      "insect-dataset/lepidoptera/checkpoint.lepidoptera.te.ep060004.pth\n",
      " --> models/m.checkpoint.lepidoptera.pt\n",
      " --> models/classes.lepidoptera.json\n",
      "insect-dataset/odonata/checkpoint.odonata.tc.ep060002.pth\n",
      " --> models/m.checkpoint.odonata.pt\n",
      " --> models/classes.odonata.json\n",
      "insect-dataset/cicada/checkpoint.cicada.te.ep060000.pth\n",
      " --> models/m.checkpoint.cicada.pt\n",
      " --> models/classes.cicada.json\n",
      "insect-dataset/root-classifier/checkpoint.root-classifier.tj.ep060001.pth\n",
      " --> models/m.checkpoint.root-classifier.pt\n",
      " --> models/classes.root-classifier.json\n"
     ]
    }
   ],
   "source": [
    "for model_name, model_path in models.items():\n",
    "    if os.path.exists(model_path):\n",
    "        print(f\"{model_path}\")\n",
    "        model_data = torch.load(model_path, weights_only=False)\n",
    "        model = model_data['model']\n",
    "        device = torch.device(\"cpu\")\n",
    "        model.to(device)\n",
    "        model.eval()\n",
    "        scripted_model = torch.jit.script(model)\n",
    "        scripted_model_path = f\"{output_dir}/m.checkpoint.{model_name}.pt\"\n",
    "        scripted_model.save(scripted_model_path)\n",
    "        print(f\" --> {scripted_model_path}\")\n",
    "        class_file_path = f\"{output_dir}/classes.{model_name}.json\"\n",
    "        with open(class_file_path, \"w\", encoding=\"utf-8\") as file:\n",
    "            json.dump(model_data['class_names'], file, indent=4)\n",
    "        print(f\" --> {class_file_path}\")"
   ]
  },
  {
   "cell_type": "code",
   "execution_count": 6,
   "id": "327d0877-7b11-46d7-8960-689f170007bd",
   "metadata": {},
   "outputs": [],
   "source": [
    "# shutil.copy(\"models/m.checkpoint.root-classifier.pt\", \"insect-id-app/app/src/main/assets/m.checkpoint.root-classifier.pt\")"
   ]
  },
  {
   "cell_type": "code",
   "execution_count": 5,
   "id": "fb2cc1b0-5cb6-4a65-8e47-397175ef7776",
   "metadata": {},
   "outputs": [],
   "source": [
    "metadata = load_json(\"insect-id-app/metadata.json\")\n",
    "metadata['root-classifier']['classes'] = load_json(\"models/classes.root-classifier.json\")\n",
    "dump_json(\"insect-id-app/metadata.json\", metadata)\n",
    "os.remove(\"models/classes.root-classifier.json\")"
   ]
  },
  {
   "cell_type": "markdown",
   "id": "4e19d664-42ab-4e0e-8f13-0a1e28321950",
   "metadata": {},
   "source": [
    "# Model stats"
   ]
  },
  {
   "cell_type": "code",
   "execution_count": 9,
   "id": "4abd2f4e-b67b-4bab-b920-325e4fea4363",
   "metadata": {},
   "outputs": [],
   "source": [
    "base_dir = \"insect-dataset\"\n",
    "metadata_path = \"insect-id-app/metadata.json\""
   ]
  },
  {
   "cell_type": "code",
   "execution_count": 10,
   "id": "047d1c64-3161-4bb5-943f-ece5344e05cd",
   "metadata": {},
   "outputs": [],
   "source": [
    "metadata = load_json(metadata_path)\n",
    "for species_type in ['lepidoptera', 'moth', 'butterfly', 'odonata', 'cicada']:\n",
    "    data_dir = f\"insect-dataset/{species_type}/data\"\n",
    "    if os.path.exists(data_dir):\n",
    "        if not metadata[species_type]['stats']:\n",
    "            metadata[species_type]['stats'] = {}\n",
    "        stats = metadata[species_type]['stats']\n",
    "        stats['class_count'] = len(os.listdir(f\"{data_dir}\"))\n",
    "        stats['species_count'] = len([class_name for class_name in os.listdir(f\"{data_dir}\") if not re.match(r\"^.*-(early|genera|spp)$\", class_name)])\n",
    "        stats['spp_class_count'] = len([class_name for class_name in os.listdir(f\"{data_dir}\") if re.match(r\"^.*-(genera|spp)$\", class_name)])\n",
    "        stats['early_stage_class_count'] = len([class_name for class_name in os.listdir(f\"{data_dir}\") if re.match(r\"^.*-(early)$\", class_name)])\n",
    "        stats['data_count'] = sum([len(os.listdir(f\"{data_dir}/{class_name}\")) for class_name in os.listdir(f\"{data_dir}\")])\n",
    "dump_json(metadata_path, metadata)"
   ]
  },
  {
   "cell_type": "code",
   "execution_count": 11,
   "id": "1fb64919-e1a5-4728-b8b2-8060f158654b",
   "metadata": {},
   "outputs": [
    {
     "name": "stdout",
     "output_type": "stream",
     "text": [
      "\n",
      "lepidoptera\n",
      "------------------------------\n",
      "Top 1 Success: 8777/11106 -> 79.03%\n",
      "Top 3 Success: 9806/11106 -> 88.29%\n",
      "\n",
      "moth\n",
      "------------------------------\n",
      "Top 1 Success: 5692/6541 -> 87.02%\n",
      "Top 3 Success: 6204/6541 -> 94.85%\n",
      "\n",
      "butterfly\n",
      "------------------------------\n",
      "Top 1 Success: 3017/3467 -> 87.02%\n",
      "Top 3 Success: 3302/3467 -> 95.24%\n",
      "\n",
      "cicada\n",
      "------------------------------\n",
      "Top 1 Success: 280/449 -> 62.36%\n",
      "Top 3 Success: 317/449 -> 70.60%\n",
      "\n",
      "odonata\n",
      "------------------------------\n",
      "Top 1 Success: 1416/1701 -> 83.25%\n",
      "Top 3 Success: 1589/1701 -> 93.42%\n"
     ]
    }
   ],
   "source": [
    "min_val_data_cnt = 2\n",
    "metadata = load_json(metadata_path)\n",
    "for species_type in [\"lepidoptera\", \"moth\", \"butterfly\", \"cicada\", \"odonata\"]:\n",
    "    print(f\"\\n{species_type}\\n\" + ('-' * 30))\n",
    "\n",
    "    # make val dataset uniform\n",
    "    dataset_dir = f\"{base_dir}/{species_type}\"\n",
    "    for class_name in os.listdir(f\"{dataset_dir}/data\"):\n",
    "        if not os.path.exists(f\"{dataset_dir}/val/{class_name}\"):\n",
    "            os.makedirs(f\"{dataset_dir}/val/{class_name}\")\n",
    "        val_data_cnt = len(os.listdir(f\"{dataset_dir}/val/{class_name}\"))\n",
    "        data_to_add = max(0, min_val_data_cnt - val_data_cnt)\n",
    "        if data_to_add > 0:\n",
    "            files = os.listdir(f\"{dataset_dir}/data/{class_name}\")\n",
    "            random.shuffle(files)\n",
    "            for file in files[:data_to_add]:\n",
    "                shutil.copy2(f\"{dataset_dir}/data/{class_name}/{file}\", f\"{dataset_dir}/val/{class_name}/{file}\")\n",
    "\n",
    "    # get accuracy\n",
    "    model_data = torch.load(models[species_type], weights_only=False)\n",
    "    top1 = validate_prediction_in_dir_top_k(f\"{base_dir}/{species_type}/val\", model_data, 1)\n",
    "    print(f\"Top 1 Success: {top1['success']}/{top1['total']} -> {100*top1['success']/top1['total']:.2f}%\")\n",
    "    top3 = validate_prediction_in_dir_top_k(f\"{base_dir}/{species_type}/val\", model_data, 3)\n",
    "    print(f\"Top 3 Success: {top3['success']}/{top3['total']} -> {100*top3['success']/top3['total']:.2f}%\")\n",
    "\n",
    "    # save in json\n",
    "    if not metadata[species_type]['stats']:\n",
    "        metadata[species_type]['stats'] = {}\n",
    "    stats = metadata[species_type]['stats']\n",
    "    stats['accuracy'] = f\"{100*top1['success']/top1['total']:.2f}%\"\n",
    "    stats['accuracy_top3'] = f\"{100*top3['success']/top3['total']:.2f}%\"\n",
    "    dump_json(metadata_path, metadata)"
   ]
  },
  {
   "cell_type": "code",
   "execution_count": null,
   "id": "f25670fd-d2f5-4508-804b-fcf99ae72230",
   "metadata": {},
   "outputs": [],
   "source": []
  }
 ],
 "metadata": {
  "kernelspec": {
   "display_name": "Python 3 (ipykernel)",
   "language": "python",
   "name": "python3"
  },
  "language_info": {
   "codemirror_mode": {
    "name": "ipython",
    "version": 3
   },
   "file_extension": ".py",
   "mimetype": "text/x-python",
   "name": "python",
   "nbconvert_exporter": "python",
   "pygments_lexer": "ipython3",
   "version": "3.13.3"
  }
 },
 "nbformat": 4,
 "nbformat_minor": 5
}
