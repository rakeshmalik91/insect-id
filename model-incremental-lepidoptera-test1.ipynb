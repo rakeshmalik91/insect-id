{
 "cells": [
  {
   "cell_type": "code",
   "execution_count": 7,
   "id": "4fcf56e3-6699-438c-9ae7-94e7131fda94",
   "metadata": {},
   "outputs": [
    {
     "name": "stdout",
     "output_type": "stream",
     "text": [
      "The autoreload extension is already loaded. To reload it, use:\n",
      "  %reload_ext autoreload\n"
     ]
    }
   ],
   "source": [
    "%load_ext autoreload"
   ]
  },
  {
   "cell_type": "code",
   "execution_count": 8,
   "id": "400f0fb3-fd46-4e44-a8b6-02d02c630f60",
   "metadata": {},
   "outputs": [],
   "source": [
    "%autoreload 2"
   ]
  },
  {
   "cell_type": "code",
   "execution_count": 9,
   "id": "62816b45-260d-468f-b57a-8e0d408dad13",
   "metadata": {},
   "outputs": [],
   "source": [
    "import os\n",
    "os.chdir(\"D:/Projects/insect-id\")\n",
    "\n",
    "import mynnlibv2\n",
    "from mynnlibv2 import *"
   ]
  },
  {
   "cell_type": "code",
   "execution_count": 10,
   "id": "aeb32cd8-445e-4c32-a63d-94cdeba50db5",
   "metadata": {},
   "outputs": [],
   "source": [
    "dataset_dir = \"insect-dataset/lepidoptera\""
   ]
  },
  {
   "cell_type": "code",
   "execution_count": null,
   "id": "dc7ba422-fc2f-43e3-9256-c7681ebc0d45",
   "metadata": {},
   "outputs": [],
   "source": [
    "model_data = init_model(f\"{dataset_dir}/data\", f\"{dataset_dir}/val\", batch_size=32, image_size=224, lr=1e-4)\n",
    "for epoch in range(5):\n",
    "    run_epoch(model_data, output_path=f\"{dataset_dir}/checkpoint.inc.lepidoptera\")"
   ]
  },
  {
   "cell_type": "code",
   "execution_count": null,
   "id": "907cf754-5169-4cac-ac7b-1d3ea0ca2d1c",
   "metadata": {},
   "outputs": [],
   "source": [
    "model_data = torch.load(f\"{dataset_dir}/checkpoint.inc.lepidoptera.i01.e05.pth\", weights_only=False)\n",
    "model_data = init_iteration(model_data, f\"{dataset_dir}/i01-train\", f\"{dataset_dir}/i01-val\", lr=1e-4)\n",
    "for epoch in range(5):\n",
    "    run_epoch(model_data, output_path=f\"{dataset_dir}/checkpoint.inc.lepidoptera\")"
   ]
  },
  {
   "cell_type": "code",
   "execution_count": null,
   "id": "5d09b78b-486e-47c3-80d4-881dfe3ccfbc",
   "metadata": {},
   "outputs": [],
   "source": []
  },
  {
   "cell_type": "code",
   "execution_count": null,
   "id": "2ead0602-8c5f-4ec1-b4b9-66798b1401ea",
   "metadata": {},
   "outputs": [],
   "source": []
  }
 ],
 "metadata": {
  "kernelspec": {
   "display_name": "Python 3 (ipykernel)",
   "language": "python",
   "name": "python3"
  },
  "language_info": {
   "codemirror_mode": {
    "name": "ipython",
    "version": 3
   },
   "file_extension": ".py",
   "mimetype": "text/x-python",
   "name": "python",
   "nbconvert_exporter": "python",
   "pygments_lexer": "ipython3",
   "version": "3.13.3"
  }
 },
 "nbformat": 4,
 "nbformat_minor": 5
}
