{
 "cells": [
  {
   "cell_type": "code",
   "execution_count": 1,
   "id": "4fcf56e3-6699-438c-9ae7-94e7131fda94",
   "metadata": {},
   "outputs": [],
   "source": [
    "%load_ext autoreload"
   ]
  },
  {
   "cell_type": "code",
   "execution_count": 2,
   "id": "400f0fb3-fd46-4e44-a8b6-02d02c630f60",
   "metadata": {},
   "outputs": [],
   "source": [
    "%autoreload 2"
   ]
  },
  {
   "cell_type": "code",
   "execution_count": 3,
   "id": "62816b45-260d-468f-b57a-8e0d408dad13",
   "metadata": {},
   "outputs": [],
   "source": [
    "import os\n",
    "os.chdir(\"D:/Projects/insect-id\")\n",
    "\n",
    "import mynnlibv2\n",
    "from mynnlibv2 import *"
   ]
  },
  {
   "cell_type": "code",
   "execution_count": 5,
   "id": "aeb32cd8-445e-4c32-a63d-94cdeba50db5",
   "metadata": {},
   "outputs": [],
   "source": [
    "dataset_dir = \"insect-dataset/lepidoptera\""
   ]
  },
  {
   "cell_type": "markdown",
   "id": "0e653375",
   "metadata": {},
   "source": [
    "# Normalize data"
   ]
  },
  {
   "cell_type": "code",
   "execution_count": 8,
   "id": "61a3b119",
   "metadata": {},
   "outputs": [],
   "source": [
    "import shutil\n",
    "\n",
    "# make val dataset uniform\n",
    "min_val_data_cnt = 2\n",
    "for class_name in os.listdir(f\"{dataset_dir}/data\"):\n",
    "    if not os.path.exists(f\"{dataset_dir}/val/{class_name}\"):\n",
    "        os.makedirs(f\"{dataset_dir}/val/{class_name}\")\n",
    "    val_data_cnt = len(os.listdir(f\"{dataset_dir}/val/{class_name}\"))\n",
    "    data_to_add = max(0, min_val_data_cnt - val_data_cnt)\n",
    "    if data_to_add > 0:\n",
    "        files = os.listdir(f\"{dataset_dir}/data/{class_name}\")\n",
    "        random.shuffle(files)\n",
    "        for file in files[:data_to_add]:\n",
    "            shutil.copy2(f\"{dataset_dir}/data/{class_name}/{file}\", f\"{dataset_dir}/val/{class_name}/{file}\")"
   ]
  },
  {
   "cell_type": "code",
   "execution_count": 14,
   "id": "8758170c",
   "metadata": {},
   "outputs": [
    {
     "name": "stdout",
     "output_type": "stream",
     "text": [
      "[WARNING] class apona-spp in val not present in data removed\n",
      "[WARNING] class vindula-dejone in val not present in data removed\n"
     ]
    }
   ],
   "source": [
    "# find inconsistant data\n",
    "for class_name in os.listdir(f\"{dataset_dir}/val\"):\n",
    "    if not os.path.exists(f\"{dataset_dir}/data/{class_name}\"):\n",
    "        shutil.rmtree(f\"{dataset_dir}/val/{class_name}\")\n",
    "        print(f\"[WARNING] class {class_name} in val not present in data removed\")"
   ]
  },
  {
   "cell_type": "code",
   "execution_count": 19,
   "id": "0d851879",
   "metadata": {},
   "outputs": [
    {
     "name": "stdout",
     "output_type": "stream",
     "text": [
      "[INFO] train set: 325920 images\n",
      "[INFO] val set: 11105 images\n"
     ]
    }
   ],
   "source": [
    "validate_dataset(f\"{dataset_dir}/data\", f\"{dataset_dir}/val\")"
   ]
  },
  {
   "cell_type": "markdown",
   "id": "04d28777",
   "metadata": {},
   "source": [
    "# Model A"
   ]
  },
  {
   "cell_type": "markdown",
   "id": "e3868edc",
   "metadata": {},
   "source": [
    "## Itertaion 1 (5615:325920)"
   ]
  },
  {
   "cell_type": "code",
   "execution_count": 5,
   "id": "dc7ba422-fc2f-43e3-9256-c7681ebc0d45",
   "metadata": {},
   "outputs": [
    {
     "name": "stdout",
     "output_type": "stream",
     "text": [
      "[INFO] classes: 5615\n",
      "[INFO] Training started at 2025-06-08 21:21:46\n"
     ]
    },
    {
     "name": "stdout",
     "output_type": "stream",
     "text": [
      "[INFO] Iteration 01 | Epoch 01 | Train      --> 10185/10185 batches | Elapsed time: 02:00:10 | Loss: 2.39 | Acc: 0.573\n"
     ]
    },
    {
     "name": "stdout",
     "output_type": "stream",
     "text": [
      "[INFO] Iteration 01 | Epoch 01 | Val        --> 348/348 batches | Elapsed time: 00:02:39 | Loss: 2.02 | Acc: 0.637\n"
     ]
    },
    {
     "name": "stdout",
     "output_type": "stream",
     "text": [
      "[INFO] Iteration 01 | Epoch 02 | Train      --> 10185/10185 batches | Elapsed time: 01:58:25 | Loss: 0.742 | Acc: 0.811\n"
     ]
    },
    {
     "name": "stdout",
     "output_type": "stream",
     "text": [
      "[INFO] Iteration 01 | Epoch 02 | Val        --> 348/348 batches | Elapsed time: 00:02:45 | Loss: 0.714 | Acc: 0.831\n"
     ]
    },
    {
     "name": "stdout",
     "output_type": "stream",
     "text": [
      "[INFO] Iteration 01 | Epoch 03 | Train      --> 10185/10185 batches | Elapsed time: 01:59:45 | Loss: 0.478 | Acc: 0.864\n"
     ]
    },
    {
     "name": "stdout",
     "output_type": "stream",
     "text": [
      "[INFO] Iteration 01 | Epoch 03 | Val        --> 348/348 batches | Elapsed time: 00:02:45 | Loss: 0.34 | Acc: 0.904\n"
     ]
    },
    {
     "name": "stdout",
     "output_type": "stream",
     "text": [
      "[INFO] Iteration 01 | Epoch 04 | Train      --> 10185/10185 batches | Elapsed time: 01:56:50 | Loss: 0.356 | Acc: 0.891\n"
     ]
    },
    {
     "name": "stdout",
     "output_type": "stream",
     "text": [
      "[INFO] Iteration 01 | Epoch 04 | Val        --> 348/348 batches | Elapsed time: 00:02:43 | Loss: 0.209 | Acc: 0.939\n"
     ]
    },
    {
     "name": "stdout",
     "output_type": "stream",
     "text": [
      "[INFO] Iteration 01 | Epoch 05 | Train      --> 10185/10185 batches | Elapsed time: 02:05:13 | Loss: 1.32 | Acc: 0.704\n"
     ]
    },
    {
     "name": "stdout",
     "output_type": "stream",
     "text": [
      "[INFO] Iteration 01 | Epoch 05 | Val        --> 348/348 batches | Elapsed time: 00:02:41 | Loss: 0.339 | Acc: 0.902\n"
     ]
    }
   ],
   "source": [
    "model_data = init_model(f\"{dataset_dir}/data\", f\"{dataset_dir}/val\", batch_size=32, image_size=224, lr=1e-4, validate=False)\n",
    "for epoch in range(5):\n",
    "    model_data = run_epoch(model_data, output_path=f\"{dataset_dir}/checkpoint.inc.lepidoptera.ta\", robustness_lambda=0.1)"
   ]
  },
  {
   "cell_type": "code",
   "execution_count": 6,
   "id": "6767ec9c",
   "metadata": {},
   "outputs": [
    {
     "name": "stdout",
     "output_type": "stream",
     "text": [
      "[INFO] Iteration 01 | Epoch 06 | Train      --> 10185/10185 batches | Elapsed time: 02:04:04 | Loss: 1.12 | Acc: 0.745\n"
     ]
    },
    {
     "name": "stdout",
     "output_type": "stream",
     "text": [
      "[INFO] Iteration 01 | Epoch 06 | Val        --> 348/348 batches | Elapsed time: 00:02:47 | Loss: 0.249 | Acc: 0.925\n"
     ]
    },
    {
     "name": "stdout",
     "output_type": "stream",
     "text": [
      "[INFO] Iteration 01 | Epoch 07 | Train      --> 10185/10185 batches | Elapsed time: 02:05:33 | Loss: 1.03 | Acc: 0.764\n"
     ]
    },
    {
     "name": "stdout",
     "output_type": "stream",
     "text": [
      "[INFO] Iteration 01 | Epoch 07 | Val        --> 348/348 batches | Elapsed time: 00:02:48 | Loss: 0.236 | Acc: 0.932\n"
     ]
    },
    {
     "name": "stdout",
     "output_type": "stream",
     "text": [
      "[INFO] Iteration 01 | Epoch 08 | Train      --> 10185/10185 batches | Elapsed time: 02:05:43 | Loss: 0.961 | Acc: 0.778\n"
     ]
    },
    {
     "name": "stdout",
     "output_type": "stream",
     "text": [
      "[INFO] Iteration 01 | Epoch 08 | Val        --> 348/348 batches | Elapsed time: 00:02:49 | Loss: 0.236 | Acc: 0.928\n"
     ]
    },
    {
     "name": "stdout",
     "output_type": "stream",
     "text": [
      "[INFO] Iteration 01 | Epoch 09 | Train      --> 10185/10185 batches | Elapsed time: 02:06:54 | Loss: 0.914 | Acc: 0.788\n"
     ]
    },
    {
     "name": "stdout",
     "output_type": "stream",
     "text": [
      "[INFO] Iteration 01 | Epoch 09 | Val        --> 348/348 batches | Elapsed time: 00:02:50 | Loss: 0.219 | Acc: 0.936\n"
     ]
    },
    {
     "name": "stdout",
     "output_type": "stream",
     "text": [
      "[INFO] Iteration 01 | Epoch 10 | Train      --> 10185/10185 batches | Elapsed time: 02:09:48 | Loss: 0.879 | Acc: 0.796\n"
     ]
    },
    {
     "name": "stdout",
     "output_type": "stream",
     "text": [
      "[INFO] Iteration 01 | Epoch 10 | Val        --> 348/348 batches | Elapsed time: 00:02:53 | Loss: 0.196 | Acc: 0.941\n"
     ]
    }
   ],
   "source": [
    "model_data = torch.load(f\"{dataset_dir}/checkpoint.inc.lepidoptera.ta.i01.e05.pth\", weights_only=False)\n",
    "for epoch in range(5):\n",
    "    model_data = run_epoch(model_data, output_path=f\"{dataset_dir}/checkpoint.inc.lepidoptera.ta\", robustness_lambda=0.1)"
   ]
  },
  {
   "cell_type": "code",
   "execution_count": 10,
   "id": "89c0df05",
   "metadata": {},
   "outputs": [
    {
     "name": "stdout",
     "output_type": "stream",
     "text": [
      "amyna-axis-2: \n",
      "\t \u001b[33mamyna-punctum\u001b[0m(0.299)  \u001b[33mcamptomastix-hisbonalis\u001b[0m(0.270)  \u001b[33msymmoracma-minoralis\u001b[0m(0.079)  \n",
      "catopsilia-pomona: \n",
      "\t \u001b[31mcolias-erate\u001b[0m(0.443)  \u001b[31mappias-lalage\u001b[0m(0.178)  \u001b[31mappias-albina\u001b[0m(0.128)  \n",
      "eupterote-undata-2: \n",
      "\t \u001b[31machaea-serva\u001b[0m(0.666)  \u001b[31mhamodes-propitia\u001b[0m(0.187)  \u001b[31mhamodes-pendleburyi\u001b[0m(0.069)  \n",
      "unidentified-butterfly-1: \n",
      "\t \u001b[31mneptis-clinia\u001b[0m(0.524)  \u001b[31mneptis-nata\u001b[0m(0.315)  \u001b[31mneptis-harita\u001b[0m(0.080)  \n",
      "unidentified-moth-2: \n",
      "\t \u001b[31morgyia-postica-early\u001b[0m(0.836)  \u001b[31mcifuna-locuples-early\u001b[0m(0.057)  \u001b[31masura-conferta\u001b[0m(0.044)  \n",
      "unidentified-moth-3a: \n",
      "\t \u001b[31mcangetta-rectilinea\u001b[0m(0.322)  \u001b[31mpyralidae-genera-spp\u001b[0m(0.176)  \u001b[31mherminiinae-genera-spp\u001b[0m(0.150)  \n",
      "unidentified-moth-3b: \n",
      "\t \u001b[31mpyralis-manihotalis\u001b[0m(0.539)  \u001b[31mlocastra-muscosalis\u001b[0m(0.155)  \u001b[31mpolydesma-boarmoides\u001b[0m(0.079)  \n",
      "unidentified-moth-4a: \n",
      "\t \u001b[31mcleora-injectaria\u001b[0m(0.853)  \u001b[31mcleora-fraterna\u001b[0m(0.074)  \u001b[31mhypomecis-transcissa\u001b[0m(0.032)  \n",
      "unidentified-moth-4b: \n",
      "\t \u001b[31mcleora-injectaria\u001b[0m(0.968)  \u001b[31mboarmiini-genera-spp\u001b[0m(0.010)  \u001b[31mhypomecis-transcissa\u001b[0m(0.008)  \n",
      "unidentified-moth-5: \n",
      "\t \u001b[31magrotis-segetum\u001b[0m(0.421)  \u001b[31mspodoptera-mauritia\u001b[0m(0.172)  \u001b[31mtiracola-aureata\u001b[0m(0.104)  \n",
      "vindula-dejone: \n",
      "\t \u001b[31mcirrochroa-tyche\u001b[0m(0.792)  \u001b[31mramadasa-pavo\u001b[0m(0.063)  \u001b[31mcirrochroa-thais\u001b[0m(0.044)  \n",
      "Top   1 accuracy: 38/49 -> 77.55%, genus matched: 44/49 -> 89.80%\n",
      "Top   3 accuracy: 45/49 -> 91.84%, genus matched: 46/49 -> 93.88%\n",
      "Top   5 accuracy: 47/49 -> 95.92%, genus matched: 48/49 -> 97.96%\n",
      "Top  10 accuracy: 48/49 -> 97.96%, genus matched: 49/49 -> 100.00%\n"
     ]
    }
   ],
   "source": [
    "model_data = torch.load(f\"{dataset_dir}/checkpoint.inc.lepidoptera.ta.i01.e10.pth\", weights_only=False)\n",
    "test_top_k(model_data, f\"{dataset_dir}/test\", 3, print_preds=False, print_top1_accuracy=True, print_no_match=True)\n",
    "test_top_k(model_data, f\"{dataset_dir}/test\", 5, print_preds=False, print_top1_accuracy=False)\n",
    "test_top_k(model_data, f\"{dataset_dir}/test\", 10, print_preds=False, print_top1_accuracy=False)"
   ]
  },
  {
   "cell_type": "code",
   "execution_count": 11,
   "id": "64b6fdfd",
   "metadata": {},
   "outputs": [
    {
     "name": "stdout",
     "output_type": "stream",
     "text": [
      "Top   1 accuracy: 223/308 -> 72.40%, genus matched: 273/308 -> 88.64%\n",
      "Top   3 accuracy: 278/308 -> 90.26%, genus matched: 297/308 -> 96.43%\n",
      "Top   5 accuracy: 284/308 -> 92.21%, genus matched: 298/308 -> 96.75%\n",
      "Top  10 accuracy: 290/308 -> 94.16%, genus matched: 300/308 -> 97.40%\n"
     ]
    }
   ],
   "source": [
    "model_data = torch.load(f\"{dataset_dir}/checkpoint.inc.lepidoptera.ta.i01.e10.pth\", weights_only=False)\n",
    "test_top_k(model_data, f\"{dataset_dir}/test2\", 3, print_preds=False, print_top1_accuracy=True, print_no_match=False)\n",
    "test_top_k(model_data, f\"{dataset_dir}/test2\", 5, print_preds=False, print_top1_accuracy=False)\n",
    "test_top_k(model_data, f\"{dataset_dir}/test2\", 10, print_preds=False, print_top1_accuracy=False)"
   ]
  },
  {
   "cell_type": "markdown",
   "id": "1c660cbb",
   "metadata": {},
   "source": [
    "## Iteration 2"
   ]
  },
  {
   "cell_type": "code",
   "execution_count": null,
   "id": "907cf754-5169-4cac-ac7b-1d3ea0ca2d1c",
   "metadata": {},
   "outputs": [],
   "source": [
    "# model_data = torch.load(f\"{dataset_dir}/checkpoint.inc.lepidoptera.ta.i01.e10.pth\", weights_only=False)\n",
    "# model_data = init_iteration(model_data, f\"{dataset_dir}/i01-train\", f\"{dataset_dir}/i01-val\", lr=1e-4)\n",
    "# for epoch in range(5):\n",
    "#     model_data = run_epoch(model_data, output_path=f\"{dataset_dir}/checkpoint.inc.lepidoptera.ta\", robustness_lambda=0.1)"
   ]
  },
  {
   "cell_type": "code",
   "execution_count": null,
   "id": "5d09b78b-486e-47c3-80d4-881dfe3ccfbc",
   "metadata": {},
   "outputs": [],
   "source": []
  }
 ],
 "metadata": {
  "kernelspec": {
   "display_name": "Python 3 (ipykernel)",
   "language": "python",
   "name": "python3"
  },
  "language_info": {
   "codemirror_mode": {
    "name": "ipython",
    "version": 3
   },
   "file_extension": ".py",
   "mimetype": "text/x-python",
   "name": "python",
   "nbconvert_exporter": "python",
   "pygments_lexer": "ipython3",
   "version": "3.13.3"
  }
 },
 "nbformat": 4,
 "nbformat_minor": 5
}
