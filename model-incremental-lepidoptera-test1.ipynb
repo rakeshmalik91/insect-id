{
 "cells": [
  {
   "cell_type": "code",
   "execution_count": 1,
   "id": "4fcf56e3-6699-438c-9ae7-94e7131fda94",
   "metadata": {},
   "outputs": [],
   "source": [
    "%load_ext autoreload"
   ]
  },
  {
   "cell_type": "code",
   "execution_count": 2,
   "id": "400f0fb3-fd46-4e44-a8b6-02d02c630f60",
   "metadata": {},
   "outputs": [],
   "source": [
    "%autoreload 2"
   ]
  },
  {
   "cell_type": "code",
   "execution_count": 3,
   "id": "62816b45-260d-468f-b57a-8e0d408dad13",
   "metadata": {},
   "outputs": [],
   "source": [
    "import os\n",
    "os.chdir(\"D:/Projects/insect-id\")\n",
    "\n",
    "import mynnlibv2\n",
    "from mynnlibv2 import *"
   ]
  },
  {
   "cell_type": "code",
   "execution_count": 4,
   "id": "aeb32cd8-445e-4c32-a63d-94cdeba50db5",
   "metadata": {},
   "outputs": [],
   "source": [
    "dataset_dir = \"insect-dataset/lepidoptera\""
   ]
  },
  {
   "cell_type": "markdown",
   "id": "0e653375",
   "metadata": {},
   "source": [
    "# Normalize data"
   ]
  },
  {
   "cell_type": "code",
   "execution_count": 8,
   "id": "61a3b119",
   "metadata": {},
   "outputs": [],
   "source": [
    "import shutil\n",
    "\n",
    "# make val dataset uniform\n",
    "min_val_data_cnt = 2\n",
    "for class_name in os.listdir(f\"{dataset_dir}/data\"):\n",
    "    if not os.path.exists(f\"{dataset_dir}/val/{class_name}\"):\n",
    "        os.makedirs(f\"{dataset_dir}/val/{class_name}\")\n",
    "    val_data_cnt = len(os.listdir(f\"{dataset_dir}/val/{class_name}\"))\n",
    "    data_to_add = max(0, min_val_data_cnt - val_data_cnt)\n",
    "    if data_to_add > 0:\n",
    "        files = os.listdir(f\"{dataset_dir}/data/{class_name}\")\n",
    "        random.shuffle(files)\n",
    "        for file in files[:data_to_add]:\n",
    "            shutil.copy2(f\"{dataset_dir}/data/{class_name}/{file}\", f\"{dataset_dir}/val/{class_name}/{file}\")"
   ]
  },
  {
   "cell_type": "code",
   "execution_count": 14,
   "id": "8758170c",
   "metadata": {},
   "outputs": [
    {
     "name": "stdout",
     "output_type": "stream",
     "text": [
      "[WARNING] class apona-spp in val not present in data removed\n",
      "[WARNING] class vindula-dejone in val not present in data removed\n"
     ]
    }
   ],
   "source": [
    "# find inconsistant data\n",
    "for class_name in os.listdir(f\"{dataset_dir}/val\"):\n",
    "    if not os.path.exists(f\"{dataset_dir}/data/{class_name}\"):\n",
    "        shutil.rmtree(f\"{dataset_dir}/val/{class_name}\")\n",
    "        print(f\"[WARNING] class {class_name} in val not present in data removed\")"
   ]
  },
  {
   "cell_type": "code",
   "execution_count": 19,
   "id": "0d851879",
   "metadata": {},
   "outputs": [
    {
     "name": "stdout",
     "output_type": "stream",
     "text": [
      "[INFO] train set: 325920 images\n",
      "[INFO] val set: 11105 images\n"
     ]
    }
   ],
   "source": [
    "validate_dataset(f\"{dataset_dir}/data\", f\"{dataset_dir}/val\")"
   ]
  },
  {
   "cell_type": "markdown",
   "id": "04d28777",
   "metadata": {},
   "source": [
    "# Model A\n",
    "\n",
    " - RESNET-152\n",
    " - lr = 1e-4\n",
    " - rubustness (random crop/resize/jitter) increased by 0.1 on each epoch\n",
    " - model feature_extractor & fc modified"
   ]
  },
  {
   "cell_type": "markdown",
   "id": "e3868edc",
   "metadata": {},
   "source": [
    "## Itertaion 1\n",
    "- 5615 classes with 325920 images"
   ]
  },
  {
   "cell_type": "code",
   "execution_count": 5,
   "id": "dc7ba422-fc2f-43e3-9256-c7681ebc0d45",
   "metadata": {},
   "outputs": [
    {
     "name": "stdout",
     "output_type": "stream",
     "text": [
      "[INFO] classes: 5615\n",
      "[INFO] Training started at 2025-06-08 21:21:46\n"
     ]
    },
    {
     "name": "stdout",
     "output_type": "stream",
     "text": [
      "[INFO] Iteration 01 | Epoch 01 | Train      --> 10185/10185 batches | Elapsed time: 02:00:10 | Loss: 2.39 | Acc: 0.573\n"
     ]
    },
    {
     "name": "stdout",
     "output_type": "stream",
     "text": [
      "[INFO] Iteration 01 | Epoch 01 | Val        --> 348/348 batches | Elapsed time: 00:02:39 | Loss: 2.02 | Acc: 0.637\n"
     ]
    },
    {
     "name": "stdout",
     "output_type": "stream",
     "text": [
      "[INFO] Iteration 01 | Epoch 02 | Train      --> 10185/10185 batches | Elapsed time: 01:58:25 | Loss: 0.742 | Acc: 0.811\n"
     ]
    },
    {
     "name": "stdout",
     "output_type": "stream",
     "text": [
      "[INFO] Iteration 01 | Epoch 02 | Val        --> 348/348 batches | Elapsed time: 00:02:45 | Loss: 0.714 | Acc: 0.831\n"
     ]
    },
    {
     "name": "stdout",
     "output_type": "stream",
     "text": [
      "[INFO] Iteration 01 | Epoch 03 | Train      --> 10185/10185 batches | Elapsed time: 01:59:45 | Loss: 0.478 | Acc: 0.864\n"
     ]
    },
    {
     "name": "stdout",
     "output_type": "stream",
     "text": [
      "[INFO] Iteration 01 | Epoch 03 | Val        --> 348/348 batches | Elapsed time: 00:02:45 | Loss: 0.34 | Acc: 0.904\n"
     ]
    },
    {
     "name": "stdout",
     "output_type": "stream",
     "text": [
      "[INFO] Iteration 01 | Epoch 04 | Train      --> 10185/10185 batches | Elapsed time: 01:56:50 | Loss: 0.356 | Acc: 0.891\n"
     ]
    },
    {
     "name": "stdout",
     "output_type": "stream",
     "text": [
      "[INFO] Iteration 01 | Epoch 04 | Val        --> 348/348 batches | Elapsed time: 00:02:43 | Loss: 0.209 | Acc: 0.939\n"
     ]
    },
    {
     "name": "stdout",
     "output_type": "stream",
     "text": [
      "[INFO] Iteration 01 | Epoch 05 | Train      --> 10185/10185 batches | Elapsed time: 02:05:13 | Loss: 1.32 | Acc: 0.704\n"
     ]
    },
    {
     "name": "stdout",
     "output_type": "stream",
     "text": [
      "[INFO] Iteration 01 | Epoch 05 | Val        --> 348/348 batches | Elapsed time: 00:02:41 | Loss: 0.339 | Acc: 0.902\n"
     ]
    },
    {
     "name": "stdout",
     "output_type": "stream",
     "text": [
      "[INFO] Iteration 01 | Epoch 06 | Train      --> 10185/10185 batches | Elapsed time: 02:04:04 | Loss: 1.12 | Acc: 0.745\n"
     ]
    },
    {
     "name": "stdout",
     "output_type": "stream",
     "text": [
      "[INFO] Iteration 01 | Epoch 06 | Val        --> 348/348 batches | Elapsed time: 00:02:47 | Loss: 0.249 | Acc: 0.925\n"
     ]
    },
    {
     "name": "stdout",
     "output_type": "stream",
     "text": [
      "[INFO] Iteration 01 | Epoch 07 | Train      --> 10185/10185 batches | Elapsed time: 02:05:33 | Loss: 1.03 | Acc: 0.764\n"
     ]
    },
    {
     "name": "stdout",
     "output_type": "stream",
     "text": [
      "[INFO] Iteration 01 | Epoch 07 | Val        --> 348/348 batches | Elapsed time: 00:02:48 | Loss: 0.236 | Acc: 0.932\n"
     ]
    },
    {
     "name": "stdout",
     "output_type": "stream",
     "text": [
      "[INFO] Iteration 01 | Epoch 08 | Train      --> 10185/10185 batches | Elapsed time: 02:05:43 | Loss: 0.961 | Acc: 0.778\n"
     ]
    },
    {
     "name": "stdout",
     "output_type": "stream",
     "text": [
      "[INFO] Iteration 01 | Epoch 08 | Val        --> 348/348 batches | Elapsed time: 00:02:49 | Loss: 0.236 | Acc: 0.928\n"
     ]
    },
    {
     "name": "stdout",
     "output_type": "stream",
     "text": [
      "[INFO] Iteration 01 | Epoch 09 | Train      --> 10185/10185 batches | Elapsed time: 02:06:54 | Loss: 0.914 | Acc: 0.788\n"
     ]
    },
    {
     "name": "stdout",
     "output_type": "stream",
     "text": [
      "[INFO] Iteration 01 | Epoch 09 | Val        --> 348/348 batches | Elapsed time: 00:02:50 | Loss: 0.219 | Acc: 0.936\n"
     ]
    },
    {
     "name": "stdout",
     "output_type": "stream",
     "text": [
      "[INFO] Iteration 01 | Epoch 10 | Train      --> 10185/10185 batches | Elapsed time: 02:09:48 | Loss: 0.879 | Acc: 0.796\n"
     ]
    },
    {
     "name": "stdout",
     "output_type": "stream",
     "text": [
      "[INFO] Iteration 01 | Epoch 10 | Val        --> 348/348 batches | Elapsed time: 00:02:53 | Loss: 0.196 | Acc: 0.941\n"
     ]
    },
    {
     "name": "stdout",
     "output_type": "stream",
     "text": [
      "[INFO] Iteration 01 | Epoch 11 | Train      --> 10185/10185 batches | Elapsed time: 02:11:05 | Loss: 0.843 | Acc: 0.804\n"
     ]
    },
    {
     "name": "stdout",
     "output_type": "stream",
     "text": [
      "[INFO] Iteration 01 | Epoch 11 | Val        --> 348/348 batches | Elapsed time: 00:02:51 | Loss: 0.173 | Acc: 0.947\n"
     ]
    },
    {
     "name": "stdout",
     "output_type": "stream",
     "text": [
      "[INFO] Iteration 01 | Epoch 12 | Train      --> 10185/10185 batches | Elapsed time: 02:03:59 | Loss: 0.813 | Acc: 0.81\n"
     ]
    },
    {
     "name": "stdout",
     "output_type": "stream",
     "text": [
      "[INFO] Iteration 01 | Epoch 12 | Val        --> 348/348 batches | Elapsed time: 00:02:53 | Loss: 0.158 | Acc: 0.953\n"
     ]
    },
    {
     "name": "stdout",
     "output_type": "stream",
     "text": [
      "[INFO] Iteration 01 | Epoch 13 | Train      --> 10185/10185 batches | Elapsed time: 02:03:50 | Loss: 0.79 | Acc: 0.816\n"
     ]
    },
    {
     "name": "stdout",
     "output_type": "stream",
     "text": [
      "[INFO] Iteration 01 | Epoch 13 | Val        --> 348/348 batches | Elapsed time: 00:02:51 | Loss: 0.153 | Acc: 0.953\n"
     ]
    },
    {
     "name": "stdout",
     "output_type": "stream",
     "text": [
      "[INFO] Iteration 01 | Epoch 14 | Train      --> 10185/10185 batches | Elapsed time: 02:05:00 | Loss: 0.768 | Acc: 0.821\n"
     ]
    },
    {
     "name": "stdout",
     "output_type": "stream",
     "text": [
      "[INFO] Iteration 01 | Epoch 14 | Val        --> 348/348 batches | Elapsed time: 00:02:46 | Loss: 0.137 | Acc: 0.96\n"
     ]
    },
    {
     "name": "stdout",
     "output_type": "stream",
     "text": [
      "[INFO] Iteration 01 | Epoch 15 | Train      --> 10185/10185 batches | Elapsed time: 02:12:15 | Loss: 0.746 | Acc: 0.826\n"
     ]
    },
    {
     "name": "stdout",
     "output_type": "stream",
     "text": [
      "[INFO] Iteration 01 | Epoch 15 | Val        --> 348/348 batches | Elapsed time: 00:02:53 | Loss: 0.14 | Acc: 0.958\n"
     ]
    }
   ],
   "source": [
    "model_data = init_model(f\"{dataset_dir}/data\", f\"{dataset_dir}/val\", batch_size=32, image_size=224, lr=1e-4, validate=False)\n",
    "for epoch in range(15):\n",
    "    model_data = run_epoch(model_data, output_path=f\"{dataset_dir}/checkpoint.inc.lepidoptera.ta\", robustness_lambda=0.1)"
   ]
  },
  {
   "cell_type": "code",
   "execution_count": 11,
   "id": "49cd0d13",
   "metadata": {},
   "outputs": [
    {
     "name": "stdout",
     "output_type": "stream",
     "text": [
      "catopsilia-pomona        : \u001b[31mbelenois-aurota\u001b[0m(0.439)  \u001b[31mappias-libythea\u001b[0m(0.178)  \u001b[31mcolias-erate\u001b[0m(0.139)  \n",
      "unidentified-butterfly-1 : \u001b[31mneptis-nata\u001b[0m(0.596)  \u001b[31mneptis-clinia\u001b[0m(0.304)  \u001b[31mneptis-soma\u001b[0m(0.038)  \n",
      "unidentified-moth-2      : \u001b[31morgyia-postica-early\u001b[0m(0.636)  \u001b[31masura-conferta\u001b[0m(0.205)  \u001b[31mnepita-conferta-early\u001b[0m(0.065)  \n",
      "unidentified-moth-3a     : \u001b[31mpyralis-pictalis\u001b[0m(0.423)  \u001b[31mmarasmia-poeyalis\u001b[0m(0.247)  \u001b[31mchlumetia-transversa\u001b[0m(0.075)  \n",
      "unidentified-moth-3b     : \u001b[31mpyralis-manihotalis\u001b[0m(0.646)  \u001b[31mlocastra-muscosalis\u001b[0m(0.311)  \u001b[31msyntypistis-pallidifascia\u001b[0m(0.024)  \n",
      "unidentified-moth-4a     : \u001b[31mcleora-injectaria\u001b[0m(0.486)  \u001b[31mcleora-fraterna\u001b[0m(0.319)  \u001b[31mcleora-alienaria\u001b[0m(0.106)  \n",
      "unidentified-moth-4b     : \u001b[31mcleora-injectaria\u001b[0m(0.719)  \u001b[31mboarmiini-genera-spp\u001b[0m(0.084)  \u001b[31mhypomecis-cineracea\u001b[0m(0.040)  \n",
      "unidentified-moth-5      : \u001b[31mathetis-bremusa\u001b[0m(0.460)  \u001b[31mmythimna-separata\u001b[0m(0.189)  \u001b[31mspodoptera-mauritia\u001b[0m(0.171)  \n",
      "vindula-dejone           : \u001b[33mcirrochroa-tyche\u001b[0m(0.893)  \u001b[33mvindula-erota\u001b[0m(0.101)  \u001b[33mcirrochroa-aoris\u001b[0m(0.003)  \n",
      "Top   1 accuracy: 38/49 -> 77.55%, genus matched: 46/49 -> 93.88%\n",
      "Top   3 accuracy: 47/49 -> 95.92%, genus matched: 48/49 -> 97.96%\n",
      "Top   5 accuracy: 48/49 -> 97.96%, genus matched: 49/49 -> 100.00%\n",
      "Top  10 accuracy: 48/49 -> 97.96%, genus matched: 49/49 -> 100.00%\n"
     ]
    }
   ],
   "source": [
    "model_data = torch.load(f\"{dataset_dir}/checkpoint.inc.lepidoptera.ta.i01.e14.pth\", weights_only=False)\n",
    "test_top_k(model_data, f\"{dataset_dir}/test\", 3, print_preds=False, print_top1_accuracy=True, print_no_match=True)\n",
    "test_top_k(model_data, f\"{dataset_dir}/test\", 5, print_preds=False, print_top1_accuracy=False)\n",
    "test_top_k(model_data, f\"{dataset_dir}/test\", 10, print_preds=False, print_top1_accuracy=False)"
   ]
  },
  {
   "cell_type": "code",
   "execution_count": 12,
   "id": "1094a04e",
   "metadata": {},
   "outputs": [
    {
     "name": "stdout",
     "output_type": "stream",
     "text": [
      "Top   1 accuracy: 242/308 -> 78.57%, genus matched: 282/308 -> 91.56%\n",
      "Top   3 accuracy: 277/308 -> 89.94%, genus matched: 295/308 -> 95.78%\n",
      "Top   5 accuracy: 288/308 -> 93.51%, genus matched: 297/308 -> 96.43%\n",
      "Top  10 accuracy: 295/308 -> 95.78%, genus matched: 302/308 -> 98.05%\n"
     ]
    }
   ],
   "source": [
    "model_data = torch.load(f\"{dataset_dir}/checkpoint.inc.lepidoptera.ta.i01.e14.pth\", weights_only=False)\n",
    "test_top_k(model_data, f\"{dataset_dir}/test2\", 3, print_preds=False, print_top1_accuracy=True, print_no_match=False)\n",
    "test_top_k(model_data, f\"{dataset_dir}/test2\", 5, print_preds=False, print_top1_accuracy=False)\n",
    "test_top_k(model_data, f\"{dataset_dir}/test2\", 10, print_preds=False, print_top1_accuracy=False)"
   ]
  },
  {
   "cell_type": "code",
   "execution_count": 5,
   "id": "668e670e",
   "metadata": {},
   "outputs": [
    {
     "name": "stdout",
     "output_type": "stream",
     "text": [
      "[INFO] Iteration 01 | Epoch 16 | Train      --> 10185/10185 batches | Elapsed time: 02:03:38 | Loss: 0.728 | Acc: 0.831\n"
     ]
    },
    {
     "name": "stdout",
     "output_type": "stream",
     "text": [
      "[INFO] Iteration 01 | Epoch 16 | Val        --> 348/348 batches | Elapsed time: 00:02:31 | Loss: 0.131 | Acc: 0.961\n"
     ]
    },
    {
     "name": "stdout",
     "output_type": "stream",
     "text": [
      "[INFO] Iteration 01 | Epoch 17 | Train      --> 10185/10185 batches | Elapsed time: 01:52:37 | Loss: 0.711 | Acc: 0.833\n"
     ]
    },
    {
     "name": "stdout",
     "output_type": "stream",
     "text": [
      "[INFO] Iteration 01 | Epoch 17 | Val        --> 348/348 batches | Elapsed time: 00:02:29 | Loss: 0.132 | Acc: 0.96\n"
     ]
    },
    {
     "name": "stdout",
     "output_type": "stream",
     "text": [
      "[INFO] Iteration 01 | Epoch 18 | Train      --> 10185/10185 batches | Elapsed time: 01:51:45 | Loss: 0.694 | Acc: 0.838\n"
     ]
    },
    {
     "name": "stdout",
     "output_type": "stream",
     "text": [
      "[INFO] Iteration 01 | Epoch 18 | Val        --> 348/348 batches | Elapsed time: 00:02:29 | Loss: 0.125 | Acc: 0.963\n"
     ]
    },
    {
     "name": "stdout",
     "output_type": "stream",
     "text": [
      "[INFO] Iteration 01 | Epoch 19 | Train      --> 10185/10185 batches | Elapsed time: 02:39:02 | Loss: 0.679 | Acc: 0.841\n"
     ]
    },
    {
     "name": "stdout",
     "output_type": "stream",
     "text": [
      "[INFO] Iteration 01 | Epoch 19 | Val        --> 348/348 batches | Elapsed time: 00:02:32 | Loss: 0.12 | Acc: 0.963\n"
     ]
    },
    {
     "name": "stdout",
     "output_type": "stream",
     "text": [
      "[INFO] Iteration 01 | Epoch 20 | Train      --> 10185/10185 batches | Elapsed time: 02:00:20 | Loss: 0.669 | Acc: 0.843\n"
     ]
    },
    {
     "name": "stdout",
     "output_type": "stream",
     "text": [
      "[INFO] Iteration 01 | Epoch 20 | Val        --> 348/348 batches | Elapsed time: 00:02:37 | Loss: 0.128 | Acc: 0.961\n"
     ]
    }
   ],
   "source": [
    "model_data = torch.load(f\"{dataset_dir}/checkpoint.inc.lepidoptera.ta.i01.e15.pth\", weights_only=False)\n",
    "for epoch in range(5):\n",
    "    model_data = run_epoch(model_data, output_path=f\"{dataset_dir}/checkpoint.inc.lepidoptera.ta\", robustness_lambda=0.1)"
   ]
  },
  {
   "cell_type": "code",
   "execution_count": 9,
   "id": "55fe1301",
   "metadata": {},
   "outputs": [
    {
     "name": "stdout",
     "output_type": "stream",
     "text": [
      "amyna-axis               : \u001b[31mnolinae-genera-spp\u001b[0m(0.596)  \u001b[31mathetis-lineosa\u001b[0m(0.178)  \u001b[31mathetis-spp\u001b[0m(0.094)  \n",
      "unidentified-butterfly-1 : \u001b[31mneptis-harita\u001b[0m(0.645)  \u001b[31mneptis-clinia\u001b[0m(0.314)  \u001b[31mneptis-neptis-spp\u001b[0m(0.020)  \n",
      "unidentified-moth-2      : \u001b[31morgyia-postica-early\u001b[0m(0.813)  \u001b[31masura-conferta\u001b[0m(0.107)  \u001b[31mlymantria-ampla\u001b[0m(0.056)  \n",
      "unidentified-moth-3a     : \u001b[31mpyralidae-genera-spp\u001b[0m(0.496)  \u001b[31mepipaschiinae-genera-spp\u001b[0m(0.118)  \u001b[31mlocastra-muscosalis\u001b[0m(0.085)  \n",
      "unidentified-moth-3b     : \u001b[31mpyralis-manihotalis\u001b[0m(0.625)  \u001b[31mlocastra-muscosalis\u001b[0m(0.198)  \u001b[31maporodes-floralis\u001b[0m(0.131)  \n",
      "unidentified-moth-4a     : \u001b[31mcleora-injectaria\u001b[0m(0.455)  \u001b[31mcleora-alienaria\u001b[0m(0.275)  \u001b[31mcleora-spp\u001b[0m(0.117)  \n",
      "unidentified-moth-4b     : \u001b[31mcleora-injectaria\u001b[0m(0.979)  \u001b[31mcleora-alienaria\u001b[0m(0.007)  \u001b[31mcleora-spp\u001b[0m(0.005)  \n",
      "unidentified-moth-5      : \u001b[31mathetis-bremusa\u001b[0m(0.351)  \u001b[31mspodoptera-mauritia\u001b[0m(0.260)  \u001b[31mdichagyris-flammatra\u001b[0m(0.158)  \n",
      "vindula-dejone           : \u001b[33mcirrochroa-tyche\u001b[0m(0.947)  \u001b[33mvindula-erota\u001b[0m(0.046)  \u001b[33mheliophorus-moorei\u001b[0m(0.002)  \n",
      "Top   1 accuracy: 39/49 -> 79.59%, genus matched: 47/49 -> 95.92%\n",
      "Top   3 accuracy: 47/49 -> 95.92%, genus matched: 48/49 -> 97.96%\n",
      "Top   5 accuracy: 47/49 -> 95.92%, genus matched: 49/49 -> 100.00%\n",
      "Top  10 accuracy: 48/49 -> 97.96%, genus matched: 49/49 -> 100.00%\n"
     ]
    }
   ],
   "source": [
    "model_data = torch.load(f\"{dataset_dir}/checkpoint.inc.lepidoptera.ta.i01.e19.pth\", weights_only=False)\n",
    "test_top_k(model_data, f\"{dataset_dir}/test\", 3, print_preds=False, print_top1_accuracy=True, print_no_match=True)\n",
    "test_top_k(model_data, f\"{dataset_dir}/test\", 5, print_preds=False, print_top1_accuracy=False)\n",
    "test_top_k(model_data, f\"{dataset_dir}/test\", 10, print_preds=False, print_top1_accuracy=False)"
   ]
  },
  {
   "cell_type": "code",
   "execution_count": 10,
   "id": "79144a77",
   "metadata": {},
   "outputs": [
    {
     "name": "stdout",
     "output_type": "stream",
     "text": [
      "Top   1 accuracy: 242/308 -> 78.57%, genus matched: 284/308 -> 92.21%\n",
      "Top   3 accuracy: 281/308 -> 91.23%, genus matched: 299/308 -> 97.08%\n",
      "Top   5 accuracy: 289/308 -> 93.83%, genus matched: 300/308 -> 97.40%\n",
      "Top  10 accuracy: 295/308 -> 95.78%, genus matched: 302/308 -> 98.05%\n"
     ]
    }
   ],
   "source": [
    "model_data = torch.load(f\"{dataset_dir}/checkpoint.inc.lepidoptera.ta.i01.e19.pth\", weights_only=False)\n",
    "test_top_k(model_data, f\"{dataset_dir}/test2\", 3, print_preds=False, print_top1_accuracy=True, print_no_match=False)\n",
    "test_top_k(model_data, f\"{dataset_dir}/test2\", 5, print_preds=False, print_top1_accuracy=False)\n",
    "test_top_k(model_data, f\"{dataset_dir}/test2\", 10, print_preds=False, print_top1_accuracy=False)"
   ]
  },
  {
   "cell_type": "markdown",
   "id": "1c660cbb",
   "metadata": {},
   "source": [
    "## Iteration 2\n",
    "\n",
    "- added distillation loss from teacher model (distill_lambda=1.0, temperature=2.0)"
   ]
  },
  {
   "cell_type": "code",
   "execution_count": null,
   "id": "907cf754-5169-4cac-ac7b-1d3ea0ca2d1c",
   "metadata": {},
   "outputs": [],
   "source": [
    "model_data = torch.load(f\"{dataset_dir}/checkpoint.inc.lepidoptera.ta.i01.e19.pth\", weights_only=False)\n",
    "model_data = init_iteration(model_data, f\"{dataset_dir}/i01-train\", f\"{dataset_dir}/i01-val\", lr=1e-4)\n",
    "for epoch in range(5):\n",
    "    model_data = run_epoch(model_data, output_path=f\"{dataset_dir}/checkpoint.inc.lepidoptera.ta\", robustness_lambda=0.1)"
   ]
  },
  {
   "cell_type": "code",
   "execution_count": null,
   "id": "5d09b78b-486e-47c3-80d4-881dfe3ccfbc",
   "metadata": {},
   "outputs": [],
   "source": [
    "model_data = torch.load(f\"{dataset_dir}/checkpoint.inc.lepidoptera.ta.i02.e05.pth\", weights_only=False)\n",
    "test_top_k(model_data, f\"{dataset_dir}/test\", 3, print_preds=False, print_top1_accuracy=True, print_no_match=True)\n",
    "test_top_k(model_data, f\"{dataset_dir}/test\", 5, print_preds=False, print_top1_accuracy=False)\n",
    "test_top_k(model_data, f\"{dataset_dir}/test\", 10, print_preds=False, print_top1_accuracy=False)"
   ]
  },
  {
   "cell_type": "code",
   "execution_count": null,
   "id": "502edea9",
   "metadata": {},
   "outputs": [],
   "source": [
    "model_data = torch.load(f\"{dataset_dir}/checkpoint.inc.lepidoptera.ta.i02.e05.pth\", weights_only=False)\n",
    "test_top_k(model_data, f\"{dataset_dir}/test2\", 3, print_preds=False, print_top1_accuracy=True, print_no_match=False)\n",
    "test_top_k(model_data, f\"{dataset_dir}/test2\", 5, print_preds=False, print_top1_accuracy=False)\n",
    "test_top_k(model_data, f\"{dataset_dir}/test2\", 10, print_preds=False, print_top1_accuracy=False)"
   ]
  }
 ],
 "metadata": {
  "kernelspec": {
   "display_name": "Python 3 (ipykernel)",
   "language": "python",
   "name": "python3"
  },
  "language_info": {
   "codemirror_mode": {
    "name": "ipython",
    "version": 3
   },
   "file_extension": ".py",
   "mimetype": "text/x-python",
   "name": "python",
   "nbconvert_exporter": "python",
   "pygments_lexer": "ipython3",
   "version": "3.13.3"
  }
 },
 "nbformat": 4,
 "nbformat_minor": 5
}
