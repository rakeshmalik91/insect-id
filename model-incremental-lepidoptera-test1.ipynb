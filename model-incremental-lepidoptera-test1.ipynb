{
 "cells": [
  {
   "cell_type": "code",
   "execution_count": 1,
   "id": "4fcf56e3-6699-438c-9ae7-94e7131fda94",
   "metadata": {},
   "outputs": [],
   "source": [
    "%load_ext autoreload"
   ]
  },
  {
   "cell_type": "code",
   "execution_count": 2,
   "id": "400f0fb3-fd46-4e44-a8b6-02d02c630f60",
   "metadata": {},
   "outputs": [],
   "source": [
    "%autoreload 2"
   ]
  },
  {
   "cell_type": "code",
   "execution_count": 3,
   "id": "62816b45-260d-468f-b57a-8e0d408dad13",
   "metadata": {},
   "outputs": [],
   "source": [
    "import os\n",
    "os.chdir(\"D:/Projects/insect-id\")\n",
    "\n",
    "import mynnlibv2\n",
    "from mynnlibv2 import *"
   ]
  },
  {
   "cell_type": "code",
   "execution_count": 4,
   "id": "aeb32cd8-445e-4c32-a63d-94cdeba50db5",
   "metadata": {},
   "outputs": [],
   "source": [
    "dataset_dir = \"insect-dataset/lepidoptera\""
   ]
  },
  {
   "cell_type": "markdown",
   "id": "0e653375",
   "metadata": {},
   "source": [
    "# Normalize data"
   ]
  },
  {
   "cell_type": "code",
   "execution_count": 8,
   "id": "61a3b119",
   "metadata": {},
   "outputs": [],
   "source": [
    "import shutil\n",
    "\n",
    "# make val dataset uniform\n",
    "min_val_data_cnt = 2\n",
    "for class_name in os.listdir(f\"{dataset_dir}/data\"):\n",
    "    if not os.path.exists(f\"{dataset_dir}/val/{class_name}\"):\n",
    "        os.makedirs(f\"{dataset_dir}/val/{class_name}\")\n",
    "    val_data_cnt = len(os.listdir(f\"{dataset_dir}/val/{class_name}\"))\n",
    "    data_to_add = max(0, min_val_data_cnt - val_data_cnt)\n",
    "    if data_to_add > 0:\n",
    "        files = os.listdir(f\"{dataset_dir}/data/{class_name}\")\n",
    "        random.shuffle(files)\n",
    "        for file in files[:data_to_add]:\n",
    "            shutil.copy2(f\"{dataset_dir}/data/{class_name}/{file}\", f\"{dataset_dir}/val/{class_name}/{file}\")"
   ]
  },
  {
   "cell_type": "code",
   "execution_count": 14,
   "id": "8758170c",
   "metadata": {},
   "outputs": [
    {
     "name": "stdout",
     "output_type": "stream",
     "text": [
      "[WARNING] class apona-spp in val not present in data removed\n",
      "[WARNING] class vindula-dejone in val not present in data removed\n"
     ]
    }
   ],
   "source": [
    "# find inconsistant data\n",
    "for class_name in os.listdir(f\"{dataset_dir}/val\"):\n",
    "    if not os.path.exists(f\"{dataset_dir}/data/{class_name}\"):\n",
    "        shutil.rmtree(f\"{dataset_dir}/val/{class_name}\")\n",
    "        print(f\"[WARNING] class {class_name} in val not present in data removed\")"
   ]
  },
  {
   "cell_type": "code",
   "execution_count": 19,
   "id": "0d851879",
   "metadata": {},
   "outputs": [
    {
     "name": "stdout",
     "output_type": "stream",
     "text": [
      "[INFO] train set: 325920 images\n",
      "[INFO] val set: 11105 images\n"
     ]
    }
   ],
   "source": [
    "validate_dataset(f\"{dataset_dir}/data\", f\"{dataset_dir}/val\")"
   ]
  },
  {
   "cell_type": "markdown",
   "id": "04d28777",
   "metadata": {},
   "source": [
    "# Model A"
   ]
  },
  {
   "cell_type": "markdown",
   "id": "e3868edc",
   "metadata": {},
   "source": [
    "## Itertaion 1 (5615:325920)"
   ]
  },
  {
   "cell_type": "code",
   "execution_count": 5,
   "id": "dc7ba422-fc2f-43e3-9256-c7681ebc0d45",
   "metadata": {},
   "outputs": [
    {
     "name": "stdout",
     "output_type": "stream",
     "text": [
      "[INFO] classes: 5615\n",
      "[INFO] Training started at 2025-06-08 21:21:46\n"
     ]
    },
    {
     "name": "stdout",
     "output_type": "stream",
     "text": [
      "[INFO] Iteration 01 | Epoch 01 | Train      --> 10185/10185 batches | Elapsed time: 02:00:10 | Loss: 2.39 | Acc: 0.573\n"
     ]
    },
    {
     "name": "stdout",
     "output_type": "stream",
     "text": [
      "[INFO] Iteration 01 | Epoch 01 | Val        --> 348/348 batches | Elapsed time: 00:02:39 | Loss: 2.02 | Acc: 0.637\n"
     ]
    },
    {
     "name": "stdout",
     "output_type": "stream",
     "text": [
      "[INFO] Iteration 01 | Epoch 02 | Train      --> 10185/10185 batches | Elapsed time: 01:58:25 | Loss: 0.742 | Acc: 0.811\n"
     ]
    },
    {
     "name": "stdout",
     "output_type": "stream",
     "text": [
      "[INFO] Iteration 01 | Epoch 02 | Val        --> 348/348 batches | Elapsed time: 00:02:45 | Loss: 0.714 | Acc: 0.831\n"
     ]
    },
    {
     "name": "stdout",
     "output_type": "stream",
     "text": [
      "[INFO] Iteration 01 | Epoch 03 | Train      --> 10185/10185 batches | Elapsed time: 01:59:45 | Loss: 0.478 | Acc: 0.864\n"
     ]
    },
    {
     "name": "stdout",
     "output_type": "stream",
     "text": [
      "[INFO] Iteration 01 | Epoch 03 | Val        --> 348/348 batches | Elapsed time: 00:02:45 | Loss: 0.34 | Acc: 0.904\n"
     ]
    },
    {
     "name": "stdout",
     "output_type": "stream",
     "text": [
      "[INFO] Iteration 01 | Epoch 04 | Train      --> 10185/10185 batches | Elapsed time: 01:56:50 | Loss: 0.356 | Acc: 0.891\n"
     ]
    },
    {
     "name": "stdout",
     "output_type": "stream",
     "text": [
      "[INFO] Iteration 01 | Epoch 04 | Val        --> 348/348 batches | Elapsed time: 00:02:43 | Loss: 0.209 | Acc: 0.939\n"
     ]
    },
    {
     "name": "stdout",
     "output_type": "stream",
     "text": [
      "[INFO] Iteration 01 | Epoch 05 | Train      --> 10185/10185 batches | Elapsed time: 02:05:13 | Loss: 1.32 | Acc: 0.704\n"
     ]
    },
    {
     "name": "stdout",
     "output_type": "stream",
     "text": [
      "[INFO] Iteration 01 | Epoch 05 | Val        --> 348/348 batches | Elapsed time: 00:02:41 | Loss: 0.339 | Acc: 0.902\n"
     ]
    }
   ],
   "source": [
    "model_data = init_model(f\"{dataset_dir}/data\", f\"{dataset_dir}/val\", batch_size=32, image_size=224, lr=1e-4, validate=False)\n",
    "for epoch in range(5):\n",
    "    model_data = run_epoch(model_data, output_path=f\"{dataset_dir}/checkpoint.inc.lepidoptera.ta\", robustness_lambda=0.1)"
   ]
  },
  {
   "cell_type": "code",
   "execution_count": null,
   "id": "6767ec9c",
   "metadata": {},
   "outputs": [],
   "source": [
    "model_data = torch.load(f\"{dataset_dir}/checkpoint.inc.lepidoptera.ta.i01.e05.pth\", weights_only=False)\n",
    "for epoch in range(5):\n",
    "    model_data = run_epoch(model_data, output_path=f\"{dataset_dir}/checkpoint.inc.lepidoptera.ta\", robustness_lambda=0.1)"
   ]
  },
  {
   "cell_type": "markdown",
   "id": "1c660cbb",
   "metadata": {},
   "source": [
    "## Iteration 2"
   ]
  },
  {
   "cell_type": "code",
   "execution_count": null,
   "id": "907cf754-5169-4cac-ac7b-1d3ea0ca2d1c",
   "metadata": {},
   "outputs": [],
   "source": [
    "# model_data = torch.load(f\"{dataset_dir}/checkpoint.inc.lepidoptera.ta.i01.e10.pth\", weights_only=False)\n",
    "# model_data = init_iteration(model_data, f\"{dataset_dir}/i01-train\", f\"{dataset_dir}/i01-val\", lr=1e-4)\n",
    "# for epoch in range(5):\n",
    "#     model_data = run_epoch(model_data, output_path=f\"{dataset_dir}/checkpoint.inc.lepidoptera.ta\", robustness_lambda=0.1)"
   ]
  },
  {
   "cell_type": "code",
   "execution_count": null,
   "id": "5d09b78b-486e-47c3-80d4-881dfe3ccfbc",
   "metadata": {},
   "outputs": [],
   "source": []
  }
 ],
 "metadata": {
  "kernelspec": {
   "display_name": "Python 3 (ipykernel)",
   "language": "python",
   "name": "python3"
  },
  "language_info": {
   "codemirror_mode": {
    "name": "ipython",
    "version": 3
   },
   "file_extension": ".py",
   "mimetype": "text/x-python",
   "name": "python",
   "nbconvert_exporter": "python",
   "pygments_lexer": "ipython3",
   "version": "3.13.3"
  }
 },
 "nbformat": 4,
 "nbformat_minor": 5
}
