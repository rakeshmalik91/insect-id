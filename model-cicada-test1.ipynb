{
 "cells": [
  {
   "cell_type": "code",
   "execution_count": 11,
   "id": "daec9bf3-bab1-4312-b6ab-16ea45a778c9",
   "metadata": {},
   "outputs": [
    {
     "name": "stdout",
     "output_type": "stream",
     "text": [
      "The autoreload extension is already loaded. To reload it, use:\n",
      "  %reload_ext autoreload\n"
     ]
    }
   ],
   "source": [
    "%load_ext autoreload"
   ]
  },
  {
   "cell_type": "code",
   "execution_count": 7,
   "id": "7e6f45b3-4a2d-4cc7-92eb-ca2f497d0073",
   "metadata": {},
   "outputs": [],
   "source": [
    "%autoreload 2"
   ]
  },
  {
   "cell_type": "code",
   "execution_count": 12,
   "id": "7c70caf4-3495-4873-b1cc-f5b5a72ccd24",
   "metadata": {},
   "outputs": [],
   "source": [
    "import mynnlib\n",
    "from mynnlib import *\n",
    "\n",
    "dataset_dir = \"insect-dataset/cicada\"\n",
    "\n",
    "early_regex = r\"^.*-(early)$\"\n",
    "unidentified_regex = r\"^.*-(spp|genera|genera-spp)$\"\n",
    "early_or_unidentified_regex = r\"^.*-(early|spp|genera|genera-spp)$\""
   ]
  },
  {
   "cell_type": "markdown",
   "id": "0d3edc07-9122-4dc5-baed-6ad1d8f1f7b9",
   "metadata": {},
   "source": [
    "# Create Dataset"
   ]
  },
  {
   "cell_type": "code",
   "execution_count": 20,
   "id": "3c5dbc80-5b87-4229-b12d-1cc056034e68",
   "metadata": {},
   "outputs": [],
   "source": [
    "if os.path.exists(f\"{dataset_dir}/data\"):\n",
    "    shutil.rmtree(f\"{dataset_dir}/data\")\n",
    "os.makedirs(f\"{dataset_dir}/data\")"
   ]
  },
  {
   "cell_type": "code",
   "execution_count": 21,
   "id": "cc6f0643-a5ce-452b-8987-f90943c3a500",
   "metadata": {},
   "outputs": [],
   "source": [
    "# merge early and imago classes\n",
    "# merge unnamed classes suffixed \"-0\"\n",
    "\n",
    "src_dir = \"insect-dataset/src/indiancicadas.org\"\n",
    "for class_dir in os.listdir(src_dir):\n",
    "    if not os.path.exists(f\"{dataset_dir}/data/{re.sub(r\"-(early|0)\", \"\", class_dir)}\"):\n",
    "        os.makedirs(f\"{dataset_dir}/data/{re.sub(r\"-(early|0)\", \"\", class_dir)}\")\n",
    "    if os.listdir(f\"{src_dir}/{class_dir}\"):\n",
    "        if re.match(r\"^.*-(early|0)$\", class_dir):\n",
    "            for file in os.listdir(f\"{src_dir}/{class_dir}\"):\n",
    "                shutil.copy2(f\"{src_dir}/{class_dir}/{file}\", f\"{dataset_dir}/data/{re.sub(r\"-(early|0)\", \"\", class_dir)}/{file}\")\n",
    "        else:\n",
    "            for file in os.listdir(f\"{src_dir}/{class_dir}\"):\n",
    "                shutil.copy2(f\"{src_dir}/{class_dir}/{file}\", f\"{dataset_dir}/data/{class_dir}/{file}\")"
   ]
  },
  {
   "cell_type": "code",
   "execution_count": 22,
   "id": "cf7ed24f-a2cc-4115-b39e-e6470085bcfa",
   "metadata": {
    "jupyter": {
     "source_hidden": true
    }
   },
   "outputs": [],
   "source": [
    "def copy_data_from(sources, add_early=False):\n",
    "    class_cnt = 0\n",
    "    img_cnt = 0\n",
    "    for more_data_dir in sources:\n",
    "        for class_dir in os.listdir(f\"{dataset_dir}/data\"):\n",
    "            if os.path.exists(f\"{more_data_dir}/{class_dir}\"):\n",
    "                # print(f\"Copying data for {class_dir}...\")\n",
    "                class_cnt += 1\n",
    "                for file in os.listdir(f\"{more_data_dir}/{class_dir}\"):\n",
    "                    shutil.copy2(f\"{more_data_dir}/{class_dir}/{file}\", f\"{dataset_dir}/data/{class_dir}/{file}\")\n",
    "                    img_cnt += 1\n",
    "            if add_early and os.path.exists(f\"{more_data_dir}/{class_dir}-early\"):\n",
    "                # print(f\"Copying data for {class_dir}-early...\")\n",
    "                class_cnt += 1\n",
    "                os.makedirs(f\"{dataset_dir}/data/{class_dir}-early/{file}\")\n",
    "                for file in os.listdir(f\"{more_data_dir}/{class_dir}-early\"):\n",
    "                    shutil.copy2(f\"{more_data_dir}/{class_dir}-early/{file}\", f\"{dataset_dir}/data/{class_dir}-early/{file}\")\n",
    "                    img_cnt += 1\n",
    "    print(f\"{img_cnt} images added into {class_cnt} classes\")"
   ]
  },
  {
   "cell_type": "code",
   "execution_count": 23,
   "id": "d44f31fd-9135-4ad3-91ae-5da9233ab554",
   "metadata": {},
   "outputs": [
    {
     "name": "stdout",
     "output_type": "stream",
     "text": [
      "6998 images added into 154 classes\n"
     ]
    }
   ],
   "source": [
    "copy_data_from([\"insect-dataset/src/cicada.inaturalist.org\"], add_early=False)"
   ]
  },
  {
   "cell_type": "code",
   "execution_count": 24,
   "id": "3c5305f8-438c-4329-9eba-7abbf154b990",
   "metadata": {},
   "outputs": [
    {
     "name": "stdout",
     "output_type": "stream",
     "text": [
      "Removed 0 unsupported files\n"
     ]
    }
   ],
   "source": [
    "remove_file_cnt = 0\n",
    "valid_file_regex = r\"^.*\\\\.(jpg|jpeg|png|ppm|bmp|pgm|tif|tiff|webp)$\"\n",
    "for class_dir in os.listdir(f\"{dataset_dir}/data\"):\n",
    "    for file in os.listdir(f\"{dataset_dir}/data/{class_dir}\"):\n",
    "        if not re.match(valid_file_regex, file):\n",
    "            # os.remove(f\"{dataset_dir}/data/{class_dir}/{file}\")\n",
    "            remove_file_cnt += 0\n",
    "print(f\"Removed {remove_file_cnt} unsupported files\")"
   ]
  },
  {
   "cell_type": "code",
   "execution_count": 25,
   "id": "17bb6694-8e8d-4b06-b166-0231af38b378",
   "metadata": {
    "scrolled": true
   },
   "outputs": [
    {
     "name": "stdout",
     "output_type": "stream",
     "text": [
      "abricta-brunnea\n",
      "abricta-pusilla\n",
      "abroma-apicalis\n",
      "balinta-pulchella\n",
      "balinta-sanguiniventris\n",
      "becquartina-goera\n",
      "calcagninus-divaricatus\n",
      "calcagninus-nilgirensis\n",
      "callogaeana-annamensis\n",
      "chremistica-germana\n",
      "chremistica-viridis\n",
      "cicada-complex\n",
      "cicada-conspurcata\n",
      "cicada-olivierana\n",
      "cicadatra-anoea\n",
      "cicadatra-gingat\n",
      "cicadatra-intermedia\n",
      "cicadatra-karachiensis\n",
      "cicadatra-minuta\n",
      "cicadatra-raja\n",
      "cicadatra-walkeri\n",
      "cicadetta-inglisi\n",
      "cicadetta-intermedia\n",
      "cicadetta-minuta\n",
      "cryptotympana-auropilosa\n",
      "dundubia-ensifera\n",
      "dundubia-myitkyinensis\n",
      "emathia-aegrota\n",
      "emathia-dup-aegrota\n",
      "eopycna-himalayana\n",
      "eopycna-minor\n",
      "eopycna-montana\n",
      "eopycna-spp\n",
      "eopycna-verna\n",
      "gaeana-consors\n",
      "huechys-haematica\n",
      "hyalessa-melanoptera\n",
      "hyalessa-virescens\n",
      "khimbya-cuneata\n",
      "kumanga-sandaracata\n",
      "linguacicada-continuata\n",
      "meimuna-pallida\n",
      "meimuna-velitaris\n",
      "melampsalta-mogannia\n",
      "mogannia-aurea\n",
      "mogannia-spurcata\n",
      "mogannia-venutissima\n",
      "neotanna-thalia\n",
      "orientopsaltria-beaudouini\n",
      "panka-simulata\n",
      "paratanna-parata\n",
      "platylomia-juno\n",
      "platylomia-lemoultii\n",
      "platylomia-malickyi\n",
      "platypleura-inglisi\n",
      "platypleura-intermedia\n",
      "platypleura-nigrosignata\n",
      "platypleura-testacea\n",
      "pomponia-adusta\n",
      "proarna-shaoshia\n",
      "psalmocharias-balochii\n",
      "psalmocharias-chitralensis\n",
      "psalmocharias-gizarensis\n",
      "psalmocharias-japokensis\n",
      "psalmocharias-paliur\n",
      "scieroptera-montana\n",
      "scieroptera-sumatrana\n",
      "shaoshia-zhangi\n",
      "subtibicina-tigris\n",
      "talainga-japrona\n",
      "talainga-naga\n",
      "tanna-minor\n",
      "taungia-abnormis\n",
      "terpnosia-abdullah\n",
      "terpnosia-elegans\n",
      "terpnosia-polei\n",
      "tettigetta-musiva\n",
      "unduncus-connexa\n",
      "zouga-fornicata\n",
      "\n",
      "Removed 79 empty classes\n"
     ]
    }
   ],
   "source": [
    "# list empty classes\n",
    "empty_class_cnt = 0\n",
    "for class_dir in os.listdir(f\"{dataset_dir}/data\"):\n",
    "    if not os.listdir(f\"{dataset_dir}/data/{class_dir}\"):\n",
    "        print(class_dir)\n",
    "        shutil.rmtree(f\"{dataset_dir}/data/{class_dir}\")\n",
    "        empty_class_cnt += 1\n",
    "print(f\"\\nRemoved {empty_class_cnt} empty classes\")"
   ]
  },
  {
   "cell_type": "markdown",
   "id": "3538b22f-f326-4bea-a91c-0deb31d2a8cf",
   "metadata": {},
   "source": [
    "# Create val dataset"
   ]
  },
  {
   "cell_type": "code",
   "execution_count": 26,
   "id": "6a973f85-6f56-464b-925d-77c782dfcb28",
   "metadata": {},
   "outputs": [],
   "source": [
    "if os.path.exists(f\"{dataset_dir}/val\"):\n",
    "    shutil.rmtree(f\"{dataset_dir}/val\")\n",
    "os.makedirs(f\"{dataset_dir}/val\")"
   ]
  },
  {
   "cell_type": "code",
   "execution_count": 27,
   "id": "abf13802-1ff5-43d4-8da5-71692bf5afdf",
   "metadata": {},
   "outputs": [
    {
     "name": "stdout",
     "output_type": "stream",
     "text": [
      "84 images moved from data to val\n"
     ]
    }
   ],
   "source": [
    "move_src = \"data\"\n",
    "move_dst = \"val\"\n",
    "val_data_ratio = 0.01\n",
    "val_data_cnt = 0\n",
    "for class_dir in os.listdir(f\"{dataset_dir}/{move_src}\"):\n",
    "    for file in os.listdir(f\"{dataset_dir}/{move_src}/{class_dir}\"):\n",
    "        if random.random() < val_data_ratio:\n",
    "            if not os.path.exists(f\"{dataset_dir}/{move_dst}/{class_dir}\"):\n",
    "                os.makedirs(f\"{dataset_dir}/{move_dst}/{class_dir}\")\n",
    "            shutil.move(f\"{dataset_dir}/{move_src}/{class_dir}/{file}\", f\"{dataset_dir}/{move_dst}/{class_dir}/\")\n",
    "            val_data_cnt += 1\n",
    "print(f\"{val_data_cnt} images moved from {move_src} to {move_dst}\")"
   ]
  },
  {
   "cell_type": "markdown",
   "id": "fe1e04da-0c6e-4bf6-99a5-dd7617d5c9ee",
   "metadata": {},
   "source": [
    "# Count"
   ]
  },
  {
   "cell_type": "code",
   "execution_count": 28,
   "id": "978768d6-274f-49fb-badd-dfc78c96f930",
   "metadata": {},
   "outputs": [
    {
     "name": "stdout",
     "output_type": "stream",
     "text": [
      "Total Class count :    217 ( Unidentified:      0 / Early-stage:      0 / Identified-adult:    217 )\n",
      "Total  Data count :   7933 ( Unidentified:      0 / Early-stage:      0 / Identified-adult:   7933 )\n"
     ]
    }
   ],
   "source": [
    "classes = { class_dir: len([ img for img in os.listdir(f\"{dataset_dir}/data/{class_dir}\") ]) for class_dir in os.listdir(f\"{dataset_dir}/data\") }\n",
    "early_classes = { class_name: count for class_name, count in classes.items() if re.match(early_regex, class_name) }\n",
    "unidentified_classes = { class_name: count for class_name, count in classes.items() if re.match(unidentified_regex, class_name) }\n",
    "print(f\"Total Class count : {len(classes):6} ( Unidentified: {len(unidentified_classes):6} / Early-stage: {len(early_classes):6} / Identified-adult: {len(classes) - len(unidentified_classes) - len(early_classes):6} )\")\n",
    "print(f\"Total  Data count : {sum(classes.values()):6} ( Unidentified: {sum(unidentified_classes.values()):6} / Early-stage: {sum(early_classes.values()):6} / Identified-adult: {sum(classes.values()) - sum(unidentified_classes.values()) - sum(early_classes.values()):6} )\")"
   ]
  },
  {
   "cell_type": "code",
   "execution_count": 29,
   "id": "5997d9b6-6df3-47f5-b8d0-08f268c1b801",
   "metadata": {},
   "outputs": [
    {
     "name": "stdout",
     "output_type": "stream",
     "text": [
      "    55 classes with <=2 images\n",
      "    78 classes with <=5 images\n"
     ]
    }
   ],
   "source": [
    "img2_class = []\n",
    "img5_class = []\n",
    "for class_dir in os.listdir(f\"{dataset_dir}/data\"):\n",
    "    if not re.match(early_or_unidentified_regex, class_dir):\n",
    "        img_cnt = sum([1 for file in os.listdir(f\"{dataset_dir}/data/{class_dir}\")])\n",
    "        img2_class += [class_dir] if img_cnt <= 2 else []\n",
    "        img5_class += [class_dir] if img_cnt <= 5 else []\n",
    "print(f\"{len(img2_class):6} classes with <=2 images\")\n",
    "print(f\"{len(img5_class):6} classes with <=5 images\")"
   ]
  },
  {
   "cell_type": "code",
   "execution_count": 30,
   "id": "a97d9aa1-b003-4d7b-9ad9-0910362d07fc",
   "metadata": {},
   "outputs": [
    {
     "name": "stdout",
     "output_type": "stream",
     "text": [
      "Genera count: 65\n"
     ]
    }
   ],
   "source": [
    "generas = set()\n",
    "for class_name in classes:\n",
    "    generas.add(class_name.split('-')[0])\n",
    "print(f\"Genera count: {len(generas)}\")"
   ]
  },
  {
   "cell_type": "markdown",
   "id": "04cb382e-ad32-4a22-a955-2566a2b96bdf",
   "metadata": {},
   "source": [
    "# Train"
   ]
  },
  {
   "cell_type": "markdown",
   "id": "2c48fbbc-010f-43a2-b366-40a39746a665",
   "metadata": {
    "jp-MarkdownHeadingCollapsed": true
   },
   "source": [
    "### Model A (resnet-50)"
   ]
  },
  {
   "cell_type": "code",
   "execution_count": 15,
   "id": "4d6aef9d-d7e2-44cb-91cc-a47df64ae3a8",
   "metadata": {},
   "outputs": [
    {
     "name": "stdout",
     "output_type": "stream",
     "text": [
      "Phase 1:\n",
      "Epoch    1 /    5  | Train Loss: 4.4782 Acc: 0.1412  | Val Loss: 3.8467 Acc: 0.1875  | Elapsed time: 0:00:39.764082\n",
      "Epoch    2 /    5  | Train Loss: 3.1831 Acc: 0.3162  | Val Loss: 3.0110 Acc: 0.3438  | Elapsed time: 0:01:06.269717\n",
      "Epoch    3 /    5  | Train Loss: 2.4004 Acc: 0.4675  | Val Loss: 2.3262 Acc: 0.5312  | Elapsed time: 0:01:32.488642\n",
      "Epoch    4 /    5  | Train Loss: 1.7762 Acc: 0.6245  | Val Loss: 1.8954 Acc: 0.6250  | Elapsed time: 0:01:58.846555\n",
      "Epoch    5 /    5  | Train Loss: 1.3094 Acc: 0.7420  | Val Loss: 1.5509 Acc: 0.6562  | Elapsed time: 0:02:25.624755\n",
      "Phase 2:\n",
      "Epoch    1 /    5  | Train Loss: 2.0995 Acc: 0.5409  | Val Loss: 1.5360 Acc: 0.6875  | Elapsed time: 0:00:25.839088\n",
      "Epoch    2 /    5  | Train Loss: 1.7627 Acc: 0.6172  | Val Loss: 1.4179 Acc: 0.7188  | Elapsed time: 0:00:52.120409\n",
      "Epoch    3 /    5  | Train Loss: 1.5564 Acc: 0.6612  | Val Loss: 1.4157 Acc: 0.6875  | Elapsed time: 0:01:18.515850\n",
      "Phase 3:\n",
      "Epoch    1 /    5  | Train Loss: 1.6346 Acc: 0.6375  | Val Loss: 1.3932 Acc: 0.6875  | Elapsed time: 0:00:25.817011\n",
      "Epoch    2 /    5  | Train Loss: 1.5524 Acc: 0.6623  | Val Loss: 1.3849 Acc: 0.7188  | Elapsed time: 0:00:51.958460\n",
      "Epoch    3 /    5  | Train Loss: 1.5745 Acc: 0.6635  | Val Loss: 1.3693 Acc: 0.7188  | Elapsed time: 0:01:17.939608\n",
      "Phase 4:\n",
      "Epoch    1 /    5  | Train Loss: 1.6862 Acc: 0.6251  | Val Loss: 1.3771 Acc: 0.7188  | Elapsed time: 0:00:26.052369\n",
      "Epoch    2 /    5  | Train Loss: 1.6241 Acc: 0.6460  | Val Loss: 1.3595 Acc: 0.7188  | Elapsed time: 0:00:52.284747\n",
      "Epoch    3 /    5  | Train Loss: 1.6050 Acc: 0.6522  | Val Loss: 1.3751 Acc: 0.6875  | Elapsed time: 0:01:20.507893\n",
      "Phase 5:\n",
      "Epoch    1 /    5  | Train Loss: 1.5614 Acc: 0.6606  | Val Loss: 1.3783 Acc: 0.7188  | Elapsed time: 0:00:41.610277\n",
      "Epoch    2 /    5  | Train Loss: 1.5759 Acc: 0.6550  | Val Loss: 1.3775 Acc: 0.6875  | Elapsed time: 0:01:12.355143\n",
      "Phase 6:\n",
      "Epoch    1 /    5  | Train Loss: 1.5657 Acc: 0.6584  | Val Loss: 1.3806 Acc: 0.6875  | Elapsed time: 0:00:25.970553\n",
      "Epoch    2 /    5  | Train Loss: 1.5932 Acc: 0.6544  | Val Loss: 1.3534 Acc: 0.7188  | Elapsed time: 0:00:52.087802\n",
      "Epoch    3 /    5  | Train Loss: 1.5694 Acc: 0.6584  | Val Loss: 1.3599 Acc: 0.7188  | Elapsed time: 0:01:18.250438\n",
      "Epoch    4 /    5  | Train Loss: 1.5655 Acc: 0.6685  | Val Loss: 1.3640 Acc: 0.7188  | Elapsed time: 0:01:44.743619\n",
      "Epoch    5 /    5  | Train Loss: 1.5849 Acc: 0.6561  | Val Loss: 1.3503 Acc: 0.7188  | Elapsed time: 0:02:11.097451\n"
     ]
    }
   ],
   "source": [
    "training_params = [\n",
    "    { \"idx\": 1, \"robustness\": 0.2, \"break_at_val_acc_diff\": 0.05},\n",
    "    { \"idx\": 2, \"robustness\": 0.5, \"break_at_val_acc_diff\": 0.02},\n",
    "    { \"idx\": 3, \"robustness\": 1.0, \"break_at_val_acc_diff\": 0.01},\n",
    "    { \"idx\": 4, \"robustness\": 2.0, \"break_at_val_acc_diff\": -0.000001},\n",
    "    { \"idx\": 5, \"robustness\": 2.0, \"break_at_val_acc_diff\": -0.000001},\n",
    "    { \"idx\": 6, \"robustness\": 2.0, \"break_at_val_acc_diff\": -0.000001}\n",
    "]\n",
    "for param in training_params:\n",
    "    print(f\"Phase {param[\"idx\"]}:\")\n",
    "    if param[\"idx\"] == 1:\n",
    "        model_data = init_model_for_training(f'{dataset_dir}/data', f'{dataset_dir}/val', \n",
    "                                             batch_size=32, arch=\"resnet50\", image_size=224, robustness=param[\"robustness\"],\n",
    "                                             lr=1e-4, weight_decay=1e-4, silent=True)\n",
    "    else:\n",
    "        model_data = prepare_for_retraining(model_data, f'{dataset_dir}/data', f'{dataset_dir}/val', \n",
    "                                            batch_size=32, image_size=224, robustness=param[\"robustness\"], silent=True)\n",
    "    train(model_data, 5, f\"{dataset_dir}/checkpoint.cicada.ta.ep{param[\"idx\"]:02}###.pth\", \n",
    "          break_at_val_acc_diff=param[\"break_at_val_acc_diff\"])"
   ]
  },
  {
   "cell_type": "code",
   "execution_count": null,
   "id": "c33c731d-a05a-472d-9989-66e6d5ffacd1",
   "metadata": {},
   "outputs": [],
   "source": []
  },
  {
   "cell_type": "code",
   "execution_count": null,
   "id": "70d2b228-18a6-4f5a-b56b-bcfe2381187d",
   "metadata": {},
   "outputs": [],
   "source": []
  },
  {
   "cell_type": "code",
   "execution_count": null,
   "id": "81ec3d0c-7ffc-4571-8de4-c349698f783e",
   "metadata": {},
   "outputs": [],
   "source": []
  },
  {
   "cell_type": "markdown",
   "id": "ad23f1bd-d7ed-4a5e-9e05-6ace7ac44542",
   "metadata": {
    "jp-MarkdownHeadingCollapsed": true
   },
   "source": [
    "### Model B (resnet-101)"
   ]
  },
  {
   "cell_type": "code",
   "execution_count": 31,
   "id": "4feff062-f9b6-476e-9679-e3fec0ee9bad",
   "metadata": {},
   "outputs": [
    {
     "name": "stdout",
     "output_type": "stream",
     "text": [
      "Phase 1:\n",
      "Epoch    1 /    5  | Train Loss: 3.4608 Acc: 0.2665  | Val Loss: 2.1670 Acc: 0.4762  | Elapsed time: 0:02:05.581155\n",
      "Epoch    2 /    5  | Train Loss: 1.6958 Acc: 0.5942  | Val Loss: 1.5121 Acc: 0.6429  | Elapsed time: 0:03:36.464370\n",
      "Epoch    3 /    5  | Train Loss: 0.9535 Acc: 0.7648  | Val Loss: 1.2624 Acc: 0.6667  | Elapsed time: 0:05:09.525064\n",
      "Phase 2:\n",
      "Epoch    1 /    5  | Train Loss: 1.5493 Acc: 0.6033  | Val Loss: 1.2991 Acc: 0.6310  | Elapsed time: 0:01:38.251262\n",
      "Epoch    2 /    5  | Train Loss: 1.2566 Acc: 0.6749  | Val Loss: 1.2669 Acc: 0.6905  | Elapsed time: 0:03:16.885391\n",
      "Epoch    3 /    5  | Train Loss: 1.1231 Acc: 0.7082  | Val Loss: 1.1394 Acc: 0.7143  | Elapsed time: 0:04:55.921881\n",
      "Epoch    4 /    5  | Train Loss: 0.9947 Acc: 0.7457  | Val Loss: 1.1135 Acc: 0.7024  | Elapsed time: 0:06:37.681167\n",
      "Phase 3:\n",
      "Epoch    1 /    5  | Train Loss: 0.8878 Acc: 0.7790  | Val Loss: 1.0842 Acc: 0.7143  | Elapsed time: 0:01:41.590388\n",
      "Epoch    2 /    5  | Train Loss: 0.8209 Acc: 0.7929  | Val Loss: 1.0520 Acc: 0.7262  | Elapsed time: 0:03:21.237632\n",
      "Epoch    3 /    5  | Train Loss: 0.8188 Acc: 0.7972  | Val Loss: 1.0209 Acc: 0.7381  | Elapsed time: 0:05:03.701757\n",
      "Epoch    4 /    5  | Train Loss: 0.7612 Acc: 0.8121  | Val Loss: 0.9769 Acc: 0.7381  | Elapsed time: 0:06:47.255168\n",
      "Phase 4:\n",
      "Epoch    1 /    5  | Train Loss: 0.8610 Acc: 0.7839  | Val Loss: 1.0400 Acc: 0.7381  | Elapsed time: 0:01:44.112451\n",
      "Epoch    2 /    5  | Train Loss: 0.8245 Acc: 0.7911  | Val Loss: 1.0254 Acc: 0.7381  | Elapsed time: 0:03:24.777726\n",
      "Epoch    3 /    5  | Train Loss: 0.7902 Acc: 0.8010  | Val Loss: 1.0041 Acc: 0.7381  | Elapsed time: 0:05:05.049147\n",
      "Epoch    4 /    5  | Train Loss: 0.7859 Acc: 0.7997  | Val Loss: 1.0070 Acc: 0.7143  | Elapsed time: 0:06:46.520232\n",
      "Phase 5:\n",
      "Epoch    1 /    5  | Train Loss: 0.7924 Acc: 0.8018  | Val Loss: 0.9955 Acc: 0.7381  | Elapsed time: 0:01:41.733299\n",
      "Epoch    2 /    5  | Train Loss: 0.7733 Acc: 0.8064  | Val Loss: 0.9877 Acc: 0.7262  | Elapsed time: 0:03:36.354118\n",
      "Phase 6:\n",
      "Epoch    1 /    5  | Train Loss: 0.7634 Acc: 0.8066  | Val Loss: 0.9844 Acc: 0.7381  | Elapsed time: 0:01:56.593355\n",
      "Epoch    2 /    5  | Train Loss: 0.7807 Acc: 0.8023  | Val Loss: 0.9984 Acc: 0.7381  | Elapsed time: 0:03:40.515159\n",
      "Epoch    3 /    5  | Train Loss: 0.7800 Acc: 0.8007  | Val Loss: 0.9861 Acc: 0.7500  | Elapsed time: 0:05:34.330060\n",
      "Epoch    4 /    5  | Train Loss: 0.7792 Acc: 0.8041  | Val Loss: 1.0015 Acc: 0.7262  | Elapsed time: 0:07:26.077321\n"
     ]
    }
   ],
   "source": [
    "training_params = [\n",
    "    { \"idx\": 1, \"robustness\": 0.2, \"break_at_val_acc_diff\": 0.05},\n",
    "    { \"idx\": 2, \"robustness\": 0.5, \"break_at_val_acc_diff\": 0.02},\n",
    "    { \"idx\": 3, \"robustness\": 1.0, \"break_at_val_acc_diff\": 0.01},\n",
    "    { \"idx\": 4, \"robustness\": 2.0, \"break_at_val_acc_diff\": -0.000001},\n",
    "    { \"idx\": 5, \"robustness\": 2.0, \"break_at_val_acc_diff\": -0.000001},\n",
    "    { \"idx\": 6, \"robustness\": 2.0, \"break_at_val_acc_diff\": -0.000001}\n",
    "]\n",
    "for param in training_params:\n",
    "    print(f\"Phase {param[\"idx\"]}:\")\n",
    "    if param[\"idx\"] == 1:\n",
    "        model_data = init_model_for_training(f'{dataset_dir}/data', f'{dataset_dir}/val', \n",
    "                                             batch_size=32, arch=\"resnet101\", image_size=224, robustness=param[\"robustness\"],\n",
    "                                             lr=1e-4, weight_decay=1e-4, silent=True)\n",
    "    else:\n",
    "        model_data = prepare_for_retraining(model_data, f'{dataset_dir}/data', f'{dataset_dir}/val', \n",
    "                                            batch_size=32, image_size=224, robustness=param[\"robustness\"], silent=True)\n",
    "    train(model_data, 5, f\"{dataset_dir}/checkpoint.cicada.tb.ep{param[\"idx\"]:02}###.pth\", \n",
    "          break_at_val_acc_diff=param[\"break_at_val_acc_diff\"])"
   ]
  },
  {
   "cell_type": "code",
   "execution_count": 39,
   "id": "470ae1c4-9434-4a9f-bdf2-e9439e08a240",
   "metadata": {},
   "outputs": [],
   "source": [
    "model_data = torch.load(f\"{dataset_dir}/checkpoint.cicada.tb.ep060002.pth\", weights_only=False)"
   ]
  },
  {
   "cell_type": "code",
   "execution_count": null,
   "id": "a7d7faa8-1d49-4a0b-af85-c65e87298255",
   "metadata": {},
   "outputs": [],
   "source": []
  },
  {
   "cell_type": "code",
   "execution_count": null,
   "id": "6b44be7a-4849-431d-81a9-ac706d6fa4e5",
   "metadata": {},
   "outputs": [],
   "source": []
  },
  {
   "cell_type": "code",
   "execution_count": null,
   "id": "ad5d5808-d030-4c3f-aa12-f2025ce3b955",
   "metadata": {},
   "outputs": [],
   "source": []
  },
  {
   "cell_type": "markdown",
   "id": "753f0232-02e9-4350-bc75-277815e03487",
   "metadata": {
    "jp-MarkdownHeadingCollapsed": true
   },
   "source": [
    "### Model C (resnet-34)"
   ]
  },
  {
   "cell_type": "code",
   "execution_count": 17,
   "id": "9a684e3c-f36f-4cdb-a9bb-a140d6324953",
   "metadata": {},
   "outputs": [
    {
     "name": "stdout",
     "output_type": "stream",
     "text": [
      "Phase 1:\n",
      "Epoch    1 /    5  | Train Loss: 4.0401 Acc: 0.2157  | Val Loss: 3.0061 Acc: 0.3750  | Elapsed time: 0:00:22.853247\n",
      "Epoch    2 /    5  | Train Loss: 2.4528 Acc: 0.5065  | Val Loss: 2.2035 Acc: 0.4688  | Elapsed time: 0:00:46.589591\n",
      "Epoch    3 /    5  | Train Loss: 1.7044 Acc: 0.6770  | Val Loss: 1.6959 Acc: 0.6562  | Elapsed time: 0:01:09.745984\n",
      "Epoch    4 /    5  | Train Loss: 1.1965 Acc: 0.7899  | Val Loss: 1.4126 Acc: 0.6562  | Elapsed time: 0:01:32.913761\n",
      "Phase 2:\n",
      "Epoch    1 /    5  | Train Loss: 2.3284 Acc: 0.4896  | Val Loss: 1.4854 Acc: 0.6250  | Elapsed time: 0:00:24.587938\n",
      "Epoch    2 /    5  | Train Loss: 1.9940 Acc: 0.5641  | Val Loss: 1.5214 Acc: 0.6250  | Elapsed time: 0:00:49.241880\n",
      "Phase 3:\n",
      "Epoch    1 /    5  | Train Loss: 1.8658 Acc: 0.5985  | Val Loss: 1.3553 Acc: 0.7188  | Elapsed time: 0:00:24.544694\n",
      "Epoch    2 /    5  | Train Loss: 1.6329 Acc: 0.6635  | Val Loss: 1.3041 Acc: 0.7500  | Elapsed time: 0:00:49.237325\n",
      "Epoch    3 /    5  | Train Loss: 1.6149 Acc: 0.6589  | Val Loss: 1.3094 Acc: 0.7188  | Elapsed time: 0:01:13.887661\n",
      "Phase 4:\n",
      "Epoch    1 /    5  | Train Loss: 1.7251 Acc: 0.6409  | Val Loss: 1.3136 Acc: 0.7500  | Elapsed time: 0:00:23.753691\n",
      "Epoch    2 /    5  | Train Loss: 1.6989 Acc: 0.6352  | Val Loss: 1.2815 Acc: 0.7500  | Elapsed time: 0:00:48.468268\n",
      "Epoch    3 /    5  | Train Loss: 1.6424 Acc: 0.6567  | Val Loss: 1.2720 Acc: 0.7500  | Elapsed time: 0:01:12.930839\n",
      "Epoch    4 /    5  | Train Loss: 1.6124 Acc: 0.6652  | Val Loss: 1.2472 Acc: 0.7500  | Elapsed time: 0:01:37.555555\n",
      "Epoch    5 /    5  | Train Loss: 1.5976 Acc: 0.6550  | Val Loss: 1.2384 Acc: 0.7500  | Elapsed time: 0:02:02.247990\n",
      "Phase 5:\n",
      "Epoch    1 /    5  | Train Loss: 1.5662 Acc: 0.6798  | Val Loss: 1.2249 Acc: 0.7500  | Elapsed time: 0:00:24.624271\n",
      "Epoch    2 /    5  | Train Loss: 1.5801 Acc: 0.6753  | Val Loss: 1.2470 Acc: 0.7500  | Elapsed time: 0:00:49.174371\n",
      "Epoch    3 /    5  | Train Loss: 1.5581 Acc: 0.6731  | Val Loss: 1.2317 Acc: 0.7500  | Elapsed time: 0:01:13.468161\n",
      "Epoch    4 /    5  | Train Loss: 1.5720 Acc: 0.6748  | Val Loss: 1.2295 Acc: 0.7500  | Elapsed time: 0:01:38.298065\n",
      "Epoch    5 /    5  | Train Loss: 1.5353 Acc: 0.6748  | Val Loss: 1.2390 Acc: 0.7500  | Elapsed time: 0:02:02.606097\n",
      "Phase 6:\n",
      "Epoch    1 /    5  | Train Loss: 1.5782 Acc: 0.6652  | Val Loss: 1.2436 Acc: 0.7500  | Elapsed time: 0:00:24.574712\n",
      "Epoch    2 /    5  | Train Loss: 1.5550 Acc: 0.6866  | Val Loss: 1.2437 Acc: 0.7500  | Elapsed time: 0:00:49.569633\n",
      "Epoch    3 /    5  | Train Loss: 1.5318 Acc: 0.6844  | Val Loss: 1.2331 Acc: 0.7500  | Elapsed time: 0:01:13.796143\n",
      "Epoch    4 /    5  | Train Loss: 1.5520 Acc: 0.6753  | Val Loss: 1.2463 Acc: 0.7500  | Elapsed time: 0:01:38.788728\n",
      "Epoch    5 /    5  | Train Loss: 1.5219 Acc: 0.6928  | Val Loss: 1.2395 Acc: 0.7500  | Elapsed time: 0:02:03.566735\n"
     ]
    }
   ],
   "source": [
    "training_params = [\n",
    "    { \"idx\": 1, \"robustness\": 0.2, \"break_at_val_acc_diff\": 0.05},\n",
    "    { \"idx\": 2, \"robustness\": 0.5, \"break_at_val_acc_diff\": 0.02},\n",
    "    { \"idx\": 3, \"robustness\": 1.0, \"break_at_val_acc_diff\": 0.01},\n",
    "    { \"idx\": 4, \"robustness\": 2.0, \"break_at_val_acc_diff\": -0.000001},\n",
    "    { \"idx\": 5, \"robustness\": 2.0, \"break_at_val_acc_diff\": -0.000001},\n",
    "    { \"idx\": 6, \"robustness\": 2.0, \"break_at_val_acc_diff\": -0.000001}\n",
    "]\n",
    "for param in training_params:\n",
    "    print(f\"Phase {param[\"idx\"]}:\")\n",
    "    if param[\"idx\"] == 1:\n",
    "        model_data = init_model_for_training(f'{dataset_dir}/data', f'{dataset_dir}/val', \n",
    "                                             batch_size=32, arch=\"resnet34\", image_size=224, robustness=param[\"robustness\"],\n",
    "                                             lr=1e-4, weight_decay=1e-4, silent=True)\n",
    "    else:\n",
    "        model_data = prepare_for_retraining(model_data, f'{dataset_dir}/data', f'{dataset_dir}/val', \n",
    "                                            batch_size=32, image_size=224, robustness=param[\"robustness\"], silent=True)\n",
    "    train(model_data, 5, f\"{dataset_dir}/checkpoint.cicada.tc.ep{param[\"idx\"]:02}###.pth\", \n",
    "          break_at_val_acc_diff=param[\"break_at_val_acc_diff\"])"
   ]
  },
  {
   "cell_type": "code",
   "execution_count": null,
   "id": "0e2beda8-b525-45de-b16a-457480fcae6a",
   "metadata": {},
   "outputs": [],
   "source": []
  },
  {
   "cell_type": "code",
   "execution_count": null,
   "id": "946f6061-a51a-46d8-a50c-139aac6f9ea9",
   "metadata": {},
   "outputs": [],
   "source": []
  },
  {
   "cell_type": "code",
   "execution_count": null,
   "id": "0e8a4231-3427-4135-b73a-11b6f7738240",
   "metadata": {},
   "outputs": [],
   "source": []
  },
  {
   "cell_type": "markdown",
   "id": "64263f60-e833-419f-b727-d9cc234a0915",
   "metadata": {
    "jp-MarkdownHeadingCollapsed": true
   },
   "source": [
    "### Model D (resnet-152)"
   ]
  },
  {
   "cell_type": "code",
   "execution_count": 32,
   "id": "d2d78836-8872-48e6-936f-964ac5874865",
   "metadata": {},
   "outputs": [
    {
     "name": "stdout",
     "output_type": "stream",
     "text": [
      "Phase 1:\n",
      "Epoch    1 /    5  | Train Loss: 3.2403 Acc: 0.3033  | Val Loss: 2.0221 Acc: 0.5000  | Elapsed time: 0:02:07.260538\n",
      "Epoch    2 /    5  | Train Loss: 1.4557 Acc: 0.6489  | Val Loss: 1.3021 Acc: 0.6429  | Elapsed time: 0:04:09.869474\n",
      "Epoch    3 /    5  | Train Loss: 0.7899 Acc: 0.7979  | Val Loss: 1.0924 Acc: 0.6905  | Elapsed time: 0:06:12.231535\n",
      "Phase 2:\n",
      "Epoch    1 /    5  | Train Loss: 1.4493 Acc: 0.6331  | Val Loss: 1.2052 Acc: 0.6786  | Elapsed time: 0:02:07.982461\n",
      "Epoch    2 /    5  | Train Loss: 1.1428 Acc: 0.7030  | Val Loss: 1.1173 Acc: 0.7024  | Elapsed time: 0:04:15.917992\n",
      "Epoch    3 /    5  | Train Loss: 1.0085 Acc: 0.7362  | Val Loss: 1.0478 Acc: 0.6905  | Elapsed time: 0:06:23.896194\n",
      "Phase 3:\n",
      "Epoch    1 /    5  | Train Loss: 0.9487 Acc: 0.7539  | Val Loss: 1.2315 Acc: 0.6310  | Elapsed time: 0:02:07.946518\n",
      "Epoch    2 /    5  | Train Loss: 0.7555 Acc: 0.8089  | Val Loss: 1.1461 Acc: 0.6905  | Elapsed time: 0:04:16.602304\n",
      "Epoch    3 /    5  | Train Loss: 0.7001 Acc: 0.8202  | Val Loss: 1.1056 Acc: 0.6786  | Elapsed time: 0:06:25.270600\n",
      "Phase 4:\n",
      "Epoch    1 /    5  | Train Loss: 0.7753 Acc: 0.8017  | Val Loss: 1.0919 Acc: 0.6905  | Elapsed time: 0:02:07.639572\n",
      "Epoch    2 /    5  | Train Loss: 0.7253 Acc: 0.8117  | Val Loss: 1.0040 Acc: 0.7024  | Elapsed time: 0:04:16.448229\n",
      "Epoch    3 /    5  | Train Loss: 0.7156 Acc: 0.8196  | Val Loss: 1.0285 Acc: 0.6905  | Elapsed time: 0:06:25.147991\n",
      "Phase 5:\n",
      "Epoch    1 /    5  | Train Loss: 0.6825 Acc: 0.8248  | Val Loss: 0.9788 Acc: 0.7024  | Elapsed time: 0:02:08.016837\n",
      "Epoch    2 /    5  | Train Loss: 0.6458 Acc: 0.8345  | Val Loss: 0.9788 Acc: 0.7143  | Elapsed time: 0:04:20.152081\n",
      "Epoch    3 /    5  | Train Loss: 0.6532 Acc: 0.8335  | Val Loss: 0.9716 Acc: 0.7024  | Elapsed time: 0:06:41.772044\n",
      "Phase 6:\n",
      "Epoch    1 /    5  | Train Loss: 0.6214 Acc: 0.8407  | Val Loss: 0.9677 Acc: 0.7262  | Elapsed time: 0:02:13.446215\n",
      "Epoch    2 /    5  | Train Loss: 0.6785 Acc: 0.8259  | Val Loss: 0.9770 Acc: 0.7262  | Elapsed time: 0:04:44.661298\n",
      "Epoch    3 /    5  | Train Loss: 0.6341 Acc: 0.8399  | Val Loss: 0.9872 Acc: 0.6905  | Elapsed time: 0:07:39.175326\n"
     ]
    }
   ],
   "source": [
    "training_params = [\n",
    "    { \"idx\": 1, \"robustness\": 0.2, \"break_at_val_acc_diff\": 0.05},\n",
    "    { \"idx\": 2, \"robustness\": 0.5, \"break_at_val_acc_diff\": 0.02},\n",
    "    { \"idx\": 3, \"robustness\": 1.0, \"break_at_val_acc_diff\": 0.01},\n",
    "    { \"idx\": 4, \"robustness\": 2.0, \"break_at_val_acc_diff\": -0.000001},\n",
    "    { \"idx\": 5, \"robustness\": 2.0, \"break_at_val_acc_diff\": -0.000001},\n",
    "    { \"idx\": 6, \"robustness\": 2.0, \"break_at_val_acc_diff\": -0.000001}\n",
    "]\n",
    "for param in training_params:\n",
    "    print(f\"Phase {param[\"idx\"]}:\")\n",
    "    if param[\"idx\"] == 1:\n",
    "        model_data = init_model_for_training(f'{dataset_dir}/data', f'{dataset_dir}/val', \n",
    "                                             batch_size=32, arch=\"resnet152\", image_size=224, robustness=param[\"robustness\"],\n",
    "                                             lr=1e-4, weight_decay=1e-4, silent=True)\n",
    "    else:\n",
    "        model_data = prepare_for_retraining(model_data, f'{dataset_dir}/data', f'{dataset_dir}/val', \n",
    "                                            batch_size=32, image_size=224, robustness=param[\"robustness\"], silent=True)\n",
    "    train(model_data, 5, f\"{dataset_dir}/checkpoint.cicada.td.ep{param[\"idx\"]:02}###.pth\", \n",
    "          break_at_val_acc_diff=param[\"break_at_val_acc_diff\"])"
   ]
  },
  {
   "cell_type": "code",
   "execution_count": 5,
   "id": "ed59be1d-3f48-47d8-bd17-6e68df3e0aa2",
   "metadata": {},
   "outputs": [],
   "source": [
    "model_data = torch.load(f\"{dataset_dir}/checkpoint.cicada.td.ep060001.pth\", weights_only=False)"
   ]
  },
  {
   "cell_type": "code",
   "execution_count": 7,
   "id": "3684cd68-ee8b-46a9-b7f1-2ab3e434c8c5",
   "metadata": {},
   "outputs": [
    {
     "name": "stdout",
     "output_type": "stream",
     "text": [
      "eopycna-repanda-2 : \u001b[32meopycna-repanda\u001b[0m(0.885)  platypleura-capitata(0.038)  hamza-ciliaris(0.024)  \n",
      "eopycna-repanda   : \u001b[32meopycna-repanda\u001b[0m(0.654)  platypleura-takasagona(0.329)  platypleura-assamensis(0.006)  \n",
      "----------\n",
      "Top   1 accuracy: 2/2 -> 100.00%, genus matched: 2/2 -> 100.00%\n",
      "Top   3 accuracy: 2/2 -> 100.00%, genus matched: 2/2 -> 100.00%\n",
      "Top   5 accuracy: 2/2 -> 100.00%, genus matched: 2/2 -> 100.00%\n",
      "Top  10 accuracy: 2/2 -> 100.00%, genus matched: 2/2 -> 100.00%\n"
     ]
    }
   ],
   "source": [
    "test_top_k(model_data, f\"{dataset_dir}/test\", 3, print_preds=True, print_top1_accuracy=True, print_no_match=False)\n",
    "test_top_k(model_data, f\"{dataset_dir}/test\", 5, print_preds=False, print_top1_accuracy=False)\n",
    "test_top_k(model_data, f\"{dataset_dir}/test\", 10, print_preds=False, print_top1_accuracy=False)"
   ]
  },
  {
   "cell_type": "code",
   "execution_count": null,
   "id": "ad056120-fbdf-463f-b7d6-0c403a355ec1",
   "metadata": {},
   "outputs": [],
   "source": []
  },
  {
   "cell_type": "code",
   "execution_count": null,
   "id": "8f3b4a70-225e-4f26-a85b-ee37bebae62d",
   "metadata": {},
   "outputs": [],
   "source": []
  },
  {
   "cell_type": "code",
   "execution_count": null,
   "id": "8b355e6a-c412-40da-8679-3cd3fa758033",
   "metadata": {},
   "outputs": [],
   "source": []
  },
  {
   "cell_type": "markdown",
   "id": "95633db3-4c51-47cb-bd8a-00cbcc6ea2ee",
   "metadata": {},
   "source": [
    "### Model E (resnet-152 + image transform pipeline fixed) ***"
   ]
  },
  {
   "cell_type": "code",
   "execution_count": 4,
   "id": "2f07bf6b-91e4-4727-bf7d-ec7fb197e812",
   "metadata": {},
   "outputs": [
    {
     "name": "stdout",
     "output_type": "stream",
     "text": [
      "Started at: 2025-03-23 08:32:57\n",
      "Phase 1:\n",
      "Epoch    0 /    4  | Train Loss: 3.1861 Acc: 0.3228  | Val Loss: 1.9318 Acc: 0.5714  | Elapsed time: 0:02:35.264527\n",
      "Epoch    1 /    4  | Train Loss: 1.4204 Acc: 0.6499  | Val Loss: 1.4491 Acc: 0.6310  | Elapsed time: 0:04:30.619668\n",
      "Epoch    2 /    4  | Train Loss: 0.7573 Acc: 0.8062  | Val Loss: 1.2325 Acc: 0.6190  | Elapsed time: 0:06:27.802004\n",
      "Total elapsed time: 0:06:31.450745\n",
      "Phase 2:\n",
      "Epoch    0 /    4  | Train Loss: 1.4660 Acc: 0.6313  | Val Loss: 1.1841 Acc: 0.6905  | Elapsed time: 0:02:02.647503\n",
      "Epoch    1 /    4  | Train Loss: 1.2273 Acc: 0.6841  | Val Loss: 1.0426 Acc: 0.6667  | Elapsed time: 0:04:05.797385\n",
      "Total elapsed time: 0:10:38.044754\n",
      "Phase 3:\n",
      "Epoch    0 /    4  | Train Loss: 1.1494 Acc: 0.7017  | Val Loss: 0.9463 Acc: 0.6905  | Elapsed time: 0:02:02.980263\n",
      "Epoch    1 /    4  | Train Loss: 1.0343 Acc: 0.7352  | Val Loss: 0.9951 Acc: 0.7381  | Elapsed time: 0:04:07.226541\n",
      "Epoch    2 /    4  | Train Loss: 0.8684 Acc: 0.7770  | Val Loss: 0.8531 Acc: 0.7381  | Elapsed time: 0:06:11.207399\n",
      "Total elapsed time: 0:16:50.209967\n",
      "Phase 4:\n",
      "Epoch    0 /    4  | Train Loss: 0.9373 Acc: 0.7616  | Val Loss: 0.8500 Acc: 0.7262  | Elapsed time: 0:02:03.546642\n",
      "Epoch    1 /    4  | Train Loss: 0.8661 Acc: 0.7775  | Val Loss: 0.8377 Acc: 0.7738  | Elapsed time: 0:04:08.765666\n",
      "Epoch    2 /    4  | Train Loss: 0.8364 Acc: 0.7848  | Val Loss: 0.8518 Acc: 0.7500  | Elapsed time: 0:06:13.142398\n",
      "Total elapsed time: 0:23:04.287345\n",
      "Phase 5:\n",
      "Epoch    0 /    4  | Train Loss: 0.7865 Acc: 0.8043  | Val Loss: 0.8576 Acc: 0.7262  | Elapsed time: 0:02:05.579343\n",
      "Epoch    1 /    4  | Train Loss: 0.7928 Acc: 0.7953  | Val Loss: 0.8294 Acc: 0.7619  | Elapsed time: 0:04:11.075745\n",
      "Epoch    2 /    4  | Train Loss: 0.7731 Acc: 0.8043  | Val Loss: 0.8317 Acc: 0.7619  | Elapsed time: 0:06:16.540842\n",
      "Epoch    3 /    4  | Train Loss: 0.7613 Acc: 0.8065  | Val Loss: 0.8273 Acc: 0.7738  | Elapsed time: 0:08:22.786057\n",
      "Epoch    4 /    4  | Train Loss: 0.7325 Acc: 0.8144  | Val Loss: 0.8180 Acc: 0.7619  | Elapsed time: 0:10:28.143260\n",
      "Total elapsed time: 0:33:33.767756\n",
      "Phase 6:\n",
      "Epoch    0 /    4  | Train Loss: 0.7522 Acc: 0.8080  | Val Loss: 0.7862 Acc: 0.7857  | Elapsed time: 0:02:04.943111\n",
      "Epoch    1 /    4  | Train Loss: 0.7395 Acc: 0.8111  | Val Loss: 0.8071 Acc: 0.7619  | Elapsed time: 0:04:10.670419\n",
      "Total elapsed time: 0:37:45.293109\n"
     ]
    }
   ],
   "source": [
    "training_params = [\n",
    "    { \"idx\": 1, \"robustness\": 0.2, \"break_at_val_acc_diff\": 0.05},\n",
    "    { \"idx\": 2, \"robustness\": 0.5, \"break_at_val_acc_diff\": 0.02},\n",
    "    { \"idx\": 3, \"robustness\": 1.0, \"break_at_val_acc_diff\": 0.01},\n",
    "    { \"idx\": 4, \"robustness\": 2.0, \"break_at_val_acc_diff\": -0.000001},\n",
    "    { \"idx\": 5, \"robustness\": 2.0, \"break_at_val_acc_diff\": -0.000001},\n",
    "    { \"idx\": 6, \"robustness\": 2.0, \"break_at_val_acc_diff\": -0.000001}\n",
    "]\n",
    "start_time = time.time()\n",
    "print(\"Started at:\", datetime.datetime.now().strftime(\"%Y-%m-%d %H:%M:%S\"))\n",
    "for param in training_params:\n",
    "    print(f\"Phase {param[\"idx\"]}:\")\n",
    "    if param[\"idx\"] == 1:\n",
    "        model_data = init_model_for_training(f'{dataset_dir}/data', f'{dataset_dir}/val', \n",
    "                                             batch_size=32, arch=\"resnet152\", image_size=224, robustness=param[\"robustness\"],\n",
    "                                             lr=1e-4, weight_decay=1e-4, silent=True)\n",
    "    else:\n",
    "        model_data = prepare_for_retraining(model_data, f'{dataset_dir}/data', f'{dataset_dir}/val', \n",
    "                                            batch_size=32, image_size=224, robustness=param[\"robustness\"], silent=True)\n",
    "    train(model_data, 5, f\"{dataset_dir}/checkpoint.cicada.te.ep{param[\"idx\"]:02}###.pth\", \n",
    "          break_at_val_acc_diff=param[\"break_at_val_acc_diff\"])\n",
    "    print(f\"Total elapsed time: {datetime.timedelta(seconds=(time.time() - start_time))}\")"
   ]
  },
  {
   "cell_type": "code",
   "execution_count": 3,
   "id": "7510e4f8-e43f-4cd8-9a2e-15cadc07f85e",
   "metadata": {},
   "outputs": [],
   "source": [
    "model_data = torch.load(f\"{dataset_dir}/checkpoint.cicada.te.ep060000.pth\", weights_only=False)"
   ]
  },
  {
   "cell_type": "code",
   "execution_count": 6,
   "id": "a56b5c25-7368-4bd4-9de8-183962de5a10",
   "metadata": {},
   "outputs": [
    {
     "name": "stdout",
     "output_type": "stream",
     "text": [
      "eopycna-repanda-2 : \u001b[32meopycna-repanda\u001b[0m(0.997)  platypleura-takasagona(0.001)  platypleura-assamensis(0.000)  \n",
      "eopycna-repanda   : \u001b[32meopycna-repanda\u001b[0m(0.822)  platypleura-takasagona(0.157)  platypleura-assamensis(0.013)  \n",
      "----------\n",
      "Top   1 accuracy: 2/2 -> 100.00%, genus matched: 2/2 -> 100.00%\n",
      "Top   3 accuracy: 2/2 -> 100.00%, genus matched: 2/2 -> 100.00%\n",
      "Top   5 accuracy: 2/2 -> 100.00%, genus matched: 2/2 -> 100.00%\n",
      "Top  10 accuracy: 2/2 -> 100.00%, genus matched: 2/2 -> 100.00%\n"
     ]
    }
   ],
   "source": [
    "test_top_k(model_data, f\"{dataset_dir}/test\", 3, print_preds=True, print_top1_accuracy=True, print_no_match=False)\n",
    "test_top_k(model_data, f\"{dataset_dir}/test\", 5, print_preds=False, print_top1_accuracy=False)\n",
    "test_top_k(model_data, f\"{dataset_dir}/test\", 10, print_preds=False, print_top1_accuracy=False)"
   ]
  },
  {
   "cell_type": "code",
   "execution_count": 20,
   "id": "4c9e2eb2-99e6-46ad-b897-ba2a73ddb20a",
   "metadata": {},
   "outputs": [
    {
     "name": "stdout",
     "output_type": "stream",
     "text": [
      "Top 3 accuracy: 76/84 -> 90.48%\n"
     ]
    }
   ],
   "source": [
    "pred = validate_prediction_in_dir_top_k(f\"{dataset_dir}/val\", model_data, 3)\n",
    "print (f\"Top 3 accuracy: {pred['success']}/{pred['total']} -> {100*pred['success']/pred['total']:.2f}%\")"
   ]
  },
  {
   "cell_type": "code",
   "execution_count": null,
   "id": "5d3df95c-08db-47c5-b940-fd623f219481",
   "metadata": {},
   "outputs": [],
   "source": []
  },
  {
   "cell_type": "code",
   "execution_count": null,
   "id": "2fd4aefb-3759-4799-8095-34fe5240c78b",
   "metadata": {},
   "outputs": [],
   "source": []
  },
  {
   "cell_type": "code",
   "execution_count": null,
   "id": "4942fdcd-4eb4-4b9c-a2bf-b7d65d93a132",
   "metadata": {},
   "outputs": [],
   "source": []
  }
 ],
 "metadata": {
  "kernelspec": {
   "display_name": "Python 3 (ipykernel)",
   "language": "python",
   "name": "python3"
  },
  "language_info": {
   "codemirror_mode": {
    "name": "ipython",
    "version": 3
   },
   "file_extension": ".py",
   "mimetype": "text/x-python",
   "name": "python",
   "nbconvert_exporter": "python",
   "pygments_lexer": "ipython3",
   "version": "3.13.2"
  }
 },
 "nbformat": 4,
 "nbformat_minor": 5
}
