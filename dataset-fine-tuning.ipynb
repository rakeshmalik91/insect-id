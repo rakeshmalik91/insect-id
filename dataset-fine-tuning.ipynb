{
 "cells": [
  {
   "cell_type": "code",
   "execution_count": 1,
   "id": "c24a5de1-91c4-49d2-b2ae-bb3fbffbbb8a",
   "metadata": {},
   "outputs": [],
   "source": [
    "%load_ext autoreload"
   ]
  },
  {
   "cell_type": "code",
   "execution_count": 2,
   "id": "a5f89542-f83f-492b-bc72-a1b3eb8db272",
   "metadata": {},
   "outputs": [],
   "source": [
    "%autoreload 2"
   ]
  },
  {
   "cell_type": "code",
   "execution_count": 1,
   "id": "f34cbdeb-d8fa-4ea1-83df-cdebf0dff532",
   "metadata": {},
   "outputs": [],
   "source": [
    "import mynnlib\n",
    "from mynnlib import *\n",
    "import imagehash"
   ]
  },
  {
   "cell_type": "markdown",
   "id": "ef4bf691-d957-40a6-bb40-abdc9f3510d1",
   "metadata": {},
   "source": [
    "# Remove duplicate images"
   ]
  },
  {
   "cell_type": "code",
   "execution_count": 11,
   "id": "ef168c85-0613-4f7c-a020-7539a71a1970",
   "metadata": {
    "jupyter": {
     "source_hidden": true
    }
   },
   "outputs": [],
   "source": [
    "def clean_datasets(species_types, dataset_type='data'):\n",
    "    for species_type in species_types:\n",
    "        dataset_dir = f\"insect-dataset/{species_type}/{dataset_type}\"\n",
    "        removed_corrupted = 0\n",
    "        removed_duplicate = 0\n",
    "        for class_name in os.listdir(dataset_dir):\n",
    "            img_hashes = []\n",
    "            for file in os.listdir(f\"{dataset_dir}/{class_name}\"):\n",
    "                if not Path(f\"{dataset_dir}/{class_name}/{file}\").is_file():\n",
    "                    removed_corrupted += 1\n",
    "                    shutil.rmtree(f\"{dataset_dir}/{class_name}/{file}\")\n",
    "                    continue\n",
    "                img = Image.open(f\"{dataset_dir}/{class_name}/{file}\").convert(\"RGB\")\n",
    "                img_hash = imagehash.average_hash(img)\n",
    "                if img_hash in img_hashes:\n",
    "                    removed_duplicate += 1\n",
    "                    os.remove(f\"{dataset_dir}/{class_name}/{file}\")\n",
    "                    continue\n",
    "                img_hashes += [img_hash]\n",
    "        print(f\"{dataset_dir:30}: removed_corrupted={removed_corrupted:5}, removed_duplicate={removed_duplicate:5}\")"
   ]
  },
  {
   "cell_type": "code",
   "execution_count": 10,
   "id": "e10c25c4-de01-49a2-8639-7574aecbc194",
   "metadata": {},
   "outputs": [
    {
     "name": "stdout",
     "output_type": "stream",
     "text": [
      "insect-dataset/lepidoptera/data: removed_corrupted=  433, removed_duplicate= 5496\n",
      "insect-dataset/moth/data      : removed_corrupted=  330, removed_duplicate= 2884\n",
      "insect-dataset/butterfly/data : removed_corrupted=   97, removed_duplicate= 2713\n",
      "insect-dataset/cicada/data    : removed_corrupted=    0, removed_duplicate=  134\n",
      "insect-dataset/odonata/data   : removed_corrupted=    0, removed_duplicate=  512\n",
      "insect-dataset/root-classifier/data: removed_corrupted=    0, removed_duplicate= 1711\n"
     ]
    }
   ],
   "source": [
    "clean_datasets([\"lepidoptera\", \"moth\", \"butterfly\", \"cicada\", \"odonata\", \"root-classifier\"])"
   ]
  },
  {
   "cell_type": "code",
   "execution_count": 12,
   "id": "128f74ea-30cd-439b-963b-bcf91e4926c5",
   "metadata": {},
   "outputs": [
    {
     "name": "stdout",
     "output_type": "stream",
     "text": [
      "insect-dataset/lepidoptera/val: removed_corrupted=    0, removed_duplicate=    1\n",
      "insect-dataset/moth/val       : removed_corrupted=    0, removed_duplicate=    0\n",
      "insect-dataset/butterfly/val  : removed_corrupted=    0, removed_duplicate=    1\n",
      "insect-dataset/cicada/val     : removed_corrupted=    0, removed_duplicate=    0\n",
      "insect-dataset/odonata/val    : removed_corrupted=    0, removed_duplicate=    0\n",
      "insect-dataset/root-classifier/val: removed_corrupted=    0, removed_duplicate=   17\n"
     ]
    }
   ],
   "source": [
    "clean_datasets([\"lepidoptera\", \"moth\", \"butterfly\", \"cicada\", \"odonata\", \"root-classifier\"], dataset_type='val')"
   ]
  },
  {
   "cell_type": "markdown",
   "id": "0430b523-c908-45c9-9693-43adc7669048",
   "metadata": {},
   "source": [
    "# Remove backdated species"
   ]
  },
  {
   "cell_type": "code",
   "execution_count": 121,
   "id": "9bd1ec98-964c-4772-9fbb-bafb49af5d2f",
   "metadata": {},
   "outputs": [],
   "source": [
    "species = load_json(\"species.json\")"
   ]
  },
  {
   "cell_type": "code",
   "execution_count": 22,
   "id": "9b8aa5eb-bbc1-434d-93ad-7a658078dc7b",
   "metadata": {},
   "outputs": [],
   "source": [
    "def sort_species(species):\n",
    "    species['lepidoptera']['butterfly'] = sorted(set(species['lepidoptera']['butterfly']))\n",
    "    species['lepidoptera']['moth'] = sorted(set(species['lepidoptera']['moth']))\n",
    "    species['odonata'] = sorted(set(species['odonata']))\n",
    "    species['cicada'] = sorted(set(species['cicada']))\n",
    "    return species"
   ]
  },
  {
   "cell_type": "code",
   "execution_count": 123,
   "id": "08e38039-9f09-4ae8-8b40-2d939a5f36d8",
   "metadata": {},
   "outputs": [],
   "source": [
    "species['lepidoptera']['butterfly'] = list({re.sub(r\"^(apharitis|spindasis)\", \"cigaritis\", s) for s in species['lepidoptera']['butterfly']})\n",
    "dump_json(\"species.json\", sort_species(species))"
   ]
  },
  {
   "cell_type": "markdown",
   "id": "69073f04-8bdb-410e-87cd-f4826f3ca8d0",
   "metadata": {},
   "source": [
    "# Find more species & data\n",
    "India has almost ~12k moth and ~1.5k butterfly. Lepidoptera model is currently trained on 3739 species"
   ]
  },
  {
   "cell_type": "code",
   "execution_count": 2,
   "id": "465d4451-5dcb-4e2b-914e-00906a2fea70",
   "metadata": {},
   "outputs": [],
   "source": [
    "species = load_json(\"species.json\")"
   ]
  },
  {
   "cell_type": "code",
   "execution_count": 15,
   "id": "11f68959-4e45-4182-a36c-16f5aae82c4f",
   "metadata": {
    "jupyter": {
     "source_hidden": true
    },
    "scrolled": true
   },
   "outputs": [
    {
     "name": "stdout",
     "output_type": "stream",
     "text": [
      "total = 4175\n",
      "with_data = 3947\n",
      "no_data = 228\n",
      "\n",
      "{'hasora-danda', 'pseudochazara-panjshira', 'darpa-minta', 'cacyparia-insolitata', 'aucha-latipennis', 'halpe-knyvetti', 'tapena-minuscula', 'halpe-molta', 'eulaceura-manipurensis', 'celaenorrhinus-flavocincta', 'halpe-perfossa', 'milleria-hamiltoni', 'karanasa-modesta', 'euthalia-thawgawa', 'parnassius-tianschanica', 'udara-selma', 'karanasa-leechi', 'pontia-glauconome', 'colias-leechi', 'halpe-arcuata', 'arhopala-zeta', 'polyommatus-hunza', 'shirozuozephyrus-birupa', 'deudorix-gaetulia', 'ochlodes-pasca', 'karanasa-astorica', 'cigaritis-acamas', 'graphium-adonarensis', 'karanasa-boloricus', 'euploea-roepstorffi', 'melitaea-lunulata', 'athyma-reta', 'argynnis-hyperbius-castetsi', 'orthomiella-ronkayana', 'chaetoprocta-kurumi', 'melitaea-shandura', 'hyponephele-neoza', 'allotinus-taras', 'chitoria-ulpi', 'ahlbergia-leechii', 'plebejus-rupala', 'hyponephele-tenuistigma', 'ypthima-lycus', 'potanthus-nina', 'boloria-hegemone', 'potanthus-alcon', 'polyommatus-sutleja', 'euaspa-miyashitai', 'spalgis-baiongus', 'rapala-buxaria', 'pontia-sherpae', 'euploea-core-andamanensis', 'melitaea-balbita', 'chrysozephyrus-sikkimensis', 'bassarona-iva', 'plebejidea-sanoga', 'horaga-syrinx', 'albulina-chitralensis', 'leucantigius-atayalica', 'kallima-limborgii', 'baoris-scopulifera', 'notarthrinus-binghami', 'agriades-sikkima', 'caltoris-confusa', 'neptis-capnodes', 'athyma-nefte-inara', 'tajuria-sebonga', 'karanasa-cadesia', 'melitaea-sultanensis', 'shirozuozephyrus-khasia', 'telinga-watsoni', 'euthalia-lengba', 'arhopala-arvina', 'pintara-tabrica', 'paralasa-chitralica', 'thoressa-gupta', 'virachola-dohertyi', 'scobura-tytleri', 'mycalesis-mercea', 'colias-thrasibulus', 'lobocla-aborica', 'potanthus-dara', 'celaenorrhinus-sumitra', 'colias-dubia', 'plebejus-eversmanni', 'potanthus-diana', 'parnassius-hunnyngtoni', 'virachola-rubida', 'phaedyma-binghami', 'parallelia-rigidistria-calefasciens', 'arhopala-lycaenaria', 'melitaea-sikkimensis', 'parantica-melanoleuca', 'issoria-altissima', 'hyponephele-hilaris', 'karanasa-pupilata', 'paroeneis-sikkimensis', 'argynnis-aglaja', 'charana-cepheis', 'halpe-kusala', 'polygonia-l-album', 'lasippa-nar', 'satyrus-alaica', 'celastrina-oreana', 'mycalesis-patnia-junonia', 'polytremis-minuta', 'rapala-extensa', 'agriades-arcaseia', 'cethosia-nietneri-mahratta', 'turanana-chitrali', 'potanthus-sita', 'goniocraspidum-ennomoide', 'taractrocera-atropunctata', 'chrysozephyrus-zoa', 'euthalia-narayana', 'hyponephele-sylvia', 'polyura-athamas-bharata', 'virachola-kessuma', 'iolana-gigantea', 'polytela-florigera', 'miletus-nymphis', 'chrysozephyrus-intermeda', 'fujiokaozephyrus-tsangkie', 'aulocera-brahminoides', 'darpa-dealbata', 'iwaseozephyrus-mandara', 'arhopala-ariel', 'baracus-vittatusseptentrionum', 'ypthima-philomela-tabella', 'sovia-malta', 'polyommatus-chitralensis', 'callyna-melanosema', 'pseudochazara-gilgitica', 'plebejus-sartoides', 'hyponephele-carbonelli', 'euaspa-motokii', 'paroeneis-bicolor', 'gonepteryx-chitralensis', 'inomataozephyrus-syla', 'chrysozephyrus-letha', 'carcharodus-dravira', 'pelopidas-masta', 'halpe-handa', 'kretania-beani', 'patricius-younghusbandi', 'celaenorrhinus-andamanica', 'pantoporia-bieti', 'byasa-tytleri', 'baltia-shawi', 'albulina-selma', 'tajuria-albiplaga', 'chrysozephyrus-vittata', 'karanasa-rohtanga', 'aporia-peloria', 'parnara-apostata', 'horaga-rana', 'karanasa-moorei', 'polyommatus-fraterluci', 'hyponephele-astorica', 'neptis-nemorum', 'perixera-insitiva', 'celaenorrhinus-aspersa', 'lethe-moelleri', 'euploea-core-scherzeri', 'neozephyrus-yukiae', 'boloria-korla', 'lethe-sadona', 'eumedonia-annulata', 'shirozuozephyrus-triloka', 'agriades-ellisi', 'caltoris-moorei', 'pyrgus-dejeani', 'celastrina-huegelii', 'caltoris-plebeia', 'arhopala-ralanda', 'cupido-alaina', 'ypthima-davidsoni', 'erynnis-pathan', 'hyponephele-kashmirensis', 'curetis-naga', 'parantica-agleoides', 'plebejus-gooraisica', 'mothsodindia.org', 'albulina-pharis', 'euaspa-pavo', 'pseudochazara-droshica', 'abisara-saturata', 'argynnis-argyrospilata', 'pseudocoladenia-dan-festa', 'cigaritis-gabriel', 'potanthus-mingo', 'mycalesis-mystes', 'euaspa-hishikawai', 'baracus-vittatussubditus', 'spialia-orbifer', 'parnassius-maharaja', 'tajuria-megistia', 'shirozuozephyrus-jakamensis', 'chrysozephyrus-sandersi', 'oroplema-simplex', 'mycalesis-orseis', 'lasippa-tiga', 'nacaduba-berenice', 'agriades-leela', 'ypthima-dohertyi', 'graphium-albociliatus', 'arhopala-alesia', 'eumedonia-astorica', 'ypthima-peguana', 'ypthima-bolanica', 'colias-berylla', 'pyrgus-alpina', 'sacada-pyraliformis', 'ypthima-persimilis', 'satyrium-mackwoodi', 'shirozuozephyrus-paona', 'baracus-vittatushampsoni', 'potanthus-mara', 'tajuria-culta', 'enispe-duranius', 'thoressa-fusca', 'ypthima-sarcaposa', 'halpe-kumara', 'tajuria-thyia', 'siccia-maculifascia', 'potanthus-nesta', 'satyrus-pimpla', 'hyponephele-baroghila'}\n"
     ]
    }
   ],
   "source": [
    "classes_with_data = {c for c in os.listdir(f\"insect-dataset/lepidoptera/data\") if not re.match(r\"^.*-(early|genera|spp)$\", c)}\n",
    "lepidoptera_classes = set(species['lepidoptera']['moth'] + species['lepidoptera']['butterfly'])\n",
    "print(f\"total = {len(lepidoptera_classes)}\")\n",
    "no_data_classes = lepidoptera_classes - classes_with_data\n",
    "print(f\"with_data = {len(lepidoptera_classes - no_data_classes)}\")\n",
    "print(f\"no_data = {len(no_data_classes)}\")\n",
    "print(f\"\\n{no_data_classes}\")"
   ]
  },
  {
   "cell_type": "markdown",
   "id": "2f0487c0-a0a6-4df5-b70d-674e72e3a055",
   "metadata": {},
   "source": [
    "### Data from indianbiodiversity.org"
   ]
  },
  {
   "cell_type": "code",
   "execution_count": 16,
   "id": "09ebc5b7-a60d-4c36-ac58-0580fb56587a",
   "metadata": {
    "jupyter": {
     "source_hidden": true
    }
   },
   "outputs": [],
   "source": [
    "moth_genus = set([ s.split('-')[0] for s in species['lepidoptera']['moth'] ])\n",
    "moth_regex = f\"^({'|'.join(moth_genus)})-.*\"\n",
    "\n",
    "butterfly_genus = set([ s.split('-')[0] for s in species['lepidoptera']['butterfly'] ])\n",
    "butterfly_regex = f\"^({'|'.join(butterfly_genus)})-.*\"\n",
    "\n",
    "ignore_regex = r\"^(apharitis|spindasis).*\""
   ]
  },
  {
   "cell_type": "code",
   "execution_count": 20,
   "id": "b5dd8518-e392-4b91-b023-362a0b2c4457",
   "metadata": {
    "jupyter": {
     "source_hidden": true
    }
   },
   "outputs": [
    {
     "name": "stdout",
     "output_type": "stream",
     "text": [
      "Discarded: 19\n",
      "{'chasmina-cadida', 'sticopthalma-camadeva', 'appias-lyncinda', 'leucophlebia-lineate', 'orvasca-subnotota', 'jamides-caeruleus', 'earias-vitella', 'hippoton-roseta', 'spalgis-epeus', 'ypthima-chenui', 'euthalia-durga', 'homodes-propitia', 'udara-dilecta', 'argina-argus', 'brevipecten-captatus', 'polydesma-boarmioides', 'conogethes-puntiferalis', 'eurema-andersoni', 'istrugia-disputaria'}\n",
      "\n",
      "Moth: 104\n",
      "{'bombyx-mori', 'eublemma-anachoresis', 'spodoptera-littoralis', 'serrodes-inara', 'athetis-thoracica', 'scirpophaga-innotata', 'hypena-lividalis', 'chiasmia-hebesata', 'avatha-bubo', 'barsine-striata', 'macroglossum-mitchellii', 'glyphodes-onychinalis', 'hypena-thermesialis', 'penicillaria-maculata', 'laelia-testacea', 'bastilla-torrida', 'rajendra-vittata', 'hyblaea-puera', 'cnaphalocrocis-ruralis', 'creatonotos-gangis', 'utetheisa-lotrix', 'nausinoe-pueritia', 'endotricha-melanobasis', 'cania-bilinea', 'syntypistis-fasciata', 'cotachena-histricalis', 'ophiusa-indistincta', 'aemene-taprobanis', 'orthospila-orissusalis', 'omiodes-analis', 'parotis-nilgirica', 'dysgonia-arcuata', 'tatobotys-janapalis', 'dysgonia-stuposa', 'theretra-nessus-nessus', 'antheua-exanthemata', 'bradina-melanoperas', 'chrysodeixis-acuta', 'abraxas-sylvata', 'zeuzera-indica', 'eupterote-lineosa', 'aiteta-diurna', 'kunugia-ampla', 'heliothis-irrorata', 'chiasmia-cymatodes', 'xanthodes-malvae', 'cleora-injectaria', 'hypochrosis-hyadaria', 'theretra-castanea', 'omphisa-fuscidentalis', 'paectes-subapicalis', 'melittia-chalciformis', 'astygisa-albopunctata', 'leucinodes-apicalis', 'scirpophaga-nepalensis', 'platyja-umminea', 'theretra-silhetensis-silhetensis', 'eudocima-cocalus', 'pygospila-octomaculalis', 'ischnurges-gratiosalis', 'zamarada-excisa', 'parotis-suralis', 'macrobrochis-splendens', 'botyodes-flavibasalis', 'rajendra-perrotteti', 'aedia-acronyctoides', 'botyodes-patulalis', 'trigonodes-regalis', 'palpita-annulifer', 'theretra-latreillii-lucasii', 'maruca-testulalis', 'cydalima-conchylalis', 'aedia-leucomelas', 'herpetogramma-bipunctalis', 'mythimna-proleuca', 'dierna-acanthusalis', 'scirpophaga-nivella', 'mythimna-loreyi', 'cnaphalocrocis-poeyalis', 'lemyra-spilosomata', 'streblote-dorsalis', 'barsine-cardinalis', 'parasa-herbifera', 'endotricha-consocia', 'psilogramma-menephron', 'parotis-marginata', 'eublemma-parva', 'amyna-selenampha', 'metanastria-aconyta', 'hypsopygia-mauritialis', 'anomis-privata', 'carriola-ecnomoda', 'calyptra-minuticornis', 'ophiusa-triphaenoides', 'antheraea-mylitta', 'agrotis-segetum', 'cyana-ridleyi', 'lophoptera-squammigera', 'cyana-effracta', 'macroglossum-stellatarum', 'pardomima-distorta', 'herpetogramma-nigricornalis', 'notarcha-quaternalis', 'pyrausta-panopealis'}\n",
      "\n",
      "Butterfly: 18\n",
      "{'aglais-urticae', 'cethosia-nietneri', 'neptis-yerburyi', 'mycalesis-malsarida', 'papilio-nephelus', 'telicota-ancilla', 'colias-croceus', 'gonepteryx-amintha-thibetana', 'colotis-eucharis', 'mycalesis-patnia', 'tarucus-theophrastus', 'everes-diporides', 'graphium-evemon', 'ypthima-philomela', 'pareronia-valeria', 'arhopala-pseudocentaurus', 'curetis-dentata', 'prioneris-clemanthe'}\n",
      "\n",
      "Unidentified: 52\n",
      "{'cimitra-seclusella', 'eutelia-blandiatrix', 'pleuroptya-iopasalis', 'polygrammodes-pectinicornalis', 'indomyrlaea-ferreotincta', 'hydrillodes-lentalis', 'eoophyla-sejunctalis', 'paliga-damastesalis', 'maliarpha-separatella', 'charltona-kala', 'sauris-eupitheciata', 'spirama-helicina', 'banisia-myrsusalis', 'diplopseustis-periseresalis', 'spirama-indenta', 'cosmophila-flava', 'ancylolomia-taprobanensis', 'pilocrocis-milvinalis', 'thalassodes-quadraria', 'pelagodes-falsaria', 'culladia-suffusella', 'chliaria-othona', 'euclasta-defamatalis', 'phycita-steniella', 'gastropacha-pardale', 'pelagodes-quadraria', 'spirama-retorta', 'crithote-horridipes', 'feliniopsis-indistans', 'pericallia-matherana', 'erebabraxas-metachromata', 'alsophila-nilgirensis', 'ceira-longipennis', 'eilema-antica', 'homaloxestis-myloxesta', 'hydrillodes-gravatalis', 'endothenia-banausopis', 'glaucocharis-tripunctata', 'hyphormides-argentipunctata', 'caligula-simla', 'catada-prominens', 'eutectona-machoeralis', 'lyclene-undulosa', 'anuga-lunulata', 'pleuroptya-balteata', 'pleurona-falcata', 'lamprophaia-ablactalis', 'asura-conferta', 'ancylolomia-saundersiella', 'blenina-donans', 'hydrillodes-transversalis', 'antitrygodes-cuneilinea'}\n"
     ]
    }
   ],
   "source": [
    "# lepidoptera data extracted from indianbiodiversity.org\n",
    "\n",
    "import json\n",
    "from bs4 import BeautifulSoup\n",
    "import Levenshtein\n",
    "\n",
    "# with open(\"test.html\", \"r\", encoding=\"utf-8\") as file:\n",
    "#     biodiversity_soup = BeautifulSoup(file, \"html.parser\")\n",
    "# new_species = {i.get_text().lower().replace(\" \", \"-\") for i in biodiversity_soup.find_all(\"i\")}\n",
    "new_species = {'mocis-frugalis', 'chiasmia-fidoniata', 'spindasis-lohita', 'caleta-elna', 'belenois-aurota', 'indomyrlaea-ferreotincta', 'eudocima-homaena', 'biston-suppressaria', 'scirpophaga-innotata', 'nausinoe-perspectata', 'chiasmia-hebesata', 'eurema-laeta', 'avatha-bubo', 'prosotas-bhutea', 'oxyodes-scrobiculata', 'glyphodes-bivitralis', 'theretra-suffusa', 'junonia-hierta', 'elymnias-caudata', 'charaxes-athamas', 'anthene-emolus', 'neptis-miah', 'phalanta-alcippe', 'tarucus-theophrastus', 'pareronia-valeria', 'callopistria-guttulalis', 'crithote-horridipes', 'papilio-helenus', 'agathodes-ostentalis', 'colotis-amata', 'bamra-mundata', 'papilio-demoleus', 'scobura-cephaloides', 'horaga-onyx', 'rapala-manea', 'hypena-laceratalis', 'areas-galactina', 'cnaphalocrocis-ruralis', 'glaucocharis-tripunctata', 'phaedyma-columella', 'heterostegane-subtessellata', 'agrotera-basinotata', 'clanis-phalaris', 'pingasa-ruginaria', 'creon-cleobis', 'lebadea-martha', 'flos-adriana', 'cirrochroa-thais', 'nepita-conferta', 'cyana-puella', 'delias-pasithoe', 'charana-mandarinus', 'lasippa-viraja', 'abisara-fylla', 'stibochiona-nicea', 'stauropus-alternus', 'prioneris-thestylis', 'ypthima-nareda', 'ariadne-merione', 'danaus-genutia', 'cimitra-seclusella', 'macroglossum-gyrans', 'callerebia-suroia', 'eutelia-blandiatrix', 'leptosia-nina', 'colotis-eucharis', 'theretra-nessus-nessus', 'agnosia-microta', 'traminda-mundissima', 'astictopterus-jama', 'erebus-ephesperis', 'timandra-convectaria', 'charltona-kala', 'arhopala-abseus', 'antheua-exanthemata', 'grammodes-geometrica', 'zesius-chrysomallus', 'spalgis-epeus', 'mycalesis-anaxias', 'eressa-confinis', 'ampittia-dioscorides', 'brahmaea-hearseyi', 'mimathyma-ambica', 'pieris-canidia', 'urapteroides-astheniata', 'charaxes-bernardus', 'abraxas-sylvata', 'loepa-katinka', 'amata-cyssea', 'asota-ficus', 'yepcalphis-dilectissima', 'papilio-paris', 'macaldenia-palumba', 'eumelea-ludovicata', 'kunugia-ampla', 'chiasmia-cymatodes', 'serrodes-campana', 'dalima-schistacearia', 'delias-acalis', 'chasmina-candida', 'lamproptera-curius', 'cechenena-helops', 'spindasis-syama', 'prioneris-clemanthe', 'eretmocera-impactella', 'metoeca-foedalis', 'charaxes-solon', 'cleora-injectaria', 'macrocilix-maia', 'herona-marathus', 'tagiades-japetus', 'iambrix-salsala', 'spialia-galba', 'aethaloessa-calidalis', 'callyna-costiplaga', 'neptis-clinia', 'maliattha-signifera', 'xestia', 'ischyja-manlia', 'graphium-agetes', 'colotis-etrida', 'cyrestis-thyodamas', 'orvasca-subnotota', 'megisba-malaya', 'tanaecia-julii', 'athyma-pravara', 'athyma-cama', 'amyna-punctum', 'pericyma-cruegeri', 'thalassodes-quadraria', 'pelagodes-falsaria', 'chalciope-mygdon', 'anomis', 'lexias-cyanipardus', 'charaxes-eudamippus', 'ophthalmitis-herbidaria', 'udara-dilecta', 'ischnurges-gratiosalis', 'acraea-terpsicore', 'cirrhochrista-brizoalis', 'parapoynx-crisonalis', 'elymnias-nesaea', 'mycalesis-malsarida', 'calesia-stillifera', 'euthalia-telchinia', 'mycalesis-gotama', 'talicada-nyseus', 'phalanta-phalantha', 'theretra-alecto', 'homaloxestis-myloxesta', 'lymantria-mathura', 'chiasmia-eleonora', 'prosotas-aluta', 'agrotis-ipsilon', 'delias-hyparete', 'palpita-annulifer', 'psimada-quadripennis', 'eurema-hecabe', 'papilio-castor', 'pycnarmon-cribrata', 'dodona-dipoea', 'sebastonyma-dolopia', 'trischalis-subaurana', 'athyma-perius', 'tagiades-gana', 'ancylolomia-saundersiella', 'pareronia-avatar', 'pleuroptya-balteata', 'mythimna-proleuca', 'cethosia-cyane', 'calliteara-grotei', 'dierna-acanthusalis', 'lethe-europa', 'papilio-paradoxa', 'zemeros-flegyas', 'neope-yama', 'hydrillodes-lentalis', 'cirrochroa-tyche', 'jamides-caeruleus', 'ypthima-ceylonica', 'chilades-pandava', 'caltoris-cahira', 'luxiaria-phyllosaria', 'neptis-jumbah', 'bassarona-teuta', 'eudocima-phalonia', 'speiredonia-mutabilis', 'tirumala-septentrionis', 'appias-albina', 'lemyra-spilosomata', 'streblote-dorsalis', 'delias-descombesi', 'barsine-cardinalis', 'yasoda-tripunctata', 'chilo-partellus', 'sphingomorpha-chlorea', 'eurema-andersonii', 'comostola-pyrrhogona', 'psilogramma-menephron', 'parotis-marginata', 'eudocima-hypermnestra', 'eublemma-parva', 'phazaca-leucocera', 'pericallia-matherana', 'kallima-horsfieldii', 'altha-subnotata', 'utetheisa-varians', 'chrysorabdia-bivitta', 'hydrillodes-gravatalis', 'aetholix-flavibasalis', 'endothenia-banausopis', 'prosotas-dubiosa', 'hippotion-rosetta', 'achaea-janata', 'lymantria-incerta', 'euthalia-lubentina', 'glyphodes-caesalis', 'euchromius-ocellea', 'earias-cupreoviridis', 'pyralis-pictalis', 'cyana-ridleyi', 'lophoptera-squammigera', 'athyma-inara', 'satarupa-splendens', 'rapala-pheretima', 'egnasia-ephyrodalis', 'pardomima-distorta', 'attatha-regalis', 'cepora-nadina', 'spoladea-recurvalis', 'helicoverpa-assulta', 'junonia-lemonias', 'pyrausta-panopealis', 'aloa-lactinea', 'hasora-badra', 'celastrina-lavendularis', 'hasora-chromus', 'trypanophora-semihyalina', 'tathorhynchus-exsiccata', 'callerebia-dibangensis', 'nyctemera-coleta', 'actias-selene', 'graphium-evemon', 'cnaphalocrocis-medinalis', 'graphium-nomius', 'leptotes-plinius', 'dysallacta-negatalis', 'papilio-nephelus', 'zizeeria-karsandra', 'macroglossum-mitchellii', 'chlumetia-transversa', 'ancylolomia-taprobanensis', 'symbrenthia-lilaea', 'graphium-macareus', 'zeheba-aureata', 'culladia-suffusella', 'theretra-oldenlandiae', 'ypthima-philomela', 'glyphodes-onychinalis', 'dercas-verhuelli', 'leptomiza-calcearia', 'acropteris-striataria', 'nausinoe-geometralis', 'teliphasa-albifusa', 'olene-mendosa', 'digama-hearseyana', 'bastilla-torrida', 'mangina-syringa', 'creatonotos-gangis', 'ramadasa-pavo', 'poritia-hewitsoni', 'euthalia-phemius', 'epiplema-reticulata', 'penicillaria-jocosatrix', 'utetheisa-lotrix', 'cephonodes-hylas', 'athyma-zeroca', 'zeltus-amasa', 'aporia-agathon', 'colias-croceus', 'euthalia-aconthea', 'cotachena-histricalis', 'pelopidas-conjuncta', 'omphisa-repetitalis', 'bastilla-crameri', 'anisoneura-aluco', 'junonia-iphita', 'koruthaialos-rubecula', 'telinga-malsara', 'lasiommata-schakra', 'cupha-erymanthis', 'sephisa-chandra', 'aglais-urticae', 'conogethes-punctiferalis', 'athyma-selenophora', 'isocentris-filalis', 'spodoptera-exigua', 'aegocera-bimacula', 'diasemiopsis-ramburialis', 'borbo-cinnara', 'eurema-brigitta', 'appias-lyncinda', 'athyma-ranga', 'nomophila-noctuella', 'polyura-athamas', 'phalera-grotei', 'sauris-eupitheciata', 'appias-olferna', 'chrysodeixis-acuta', 'chliaria-othona', 'euclasta-defamatalis', 'rapala-iarbus', 'scobura-isota', 'telicota-bambusae', 'feliniopsis-indistans', 'attacus-atlas', 'symbrenthia-hypselis', 'micronia-aculeata', 'badamia-exclamationis', 'sympis-rufibasis', 'agrius-convolvuli', 'xanthodes-malvae', 'comostola-laesaria', 'eudocima-salaminia', 'ericeia-pertendens', 'graphium-xenocles', 'caleta-decidia', 'anisephyra-ocularia', 'mocis-undata', 'samia-canningii', 'zizina-otis', 'conservula', 'curetis-thetis', 'jamides-bochus', 'polydesma-boarmioides', 'libythea-lepita', 'arhopala-fulla', 'acontia-nitidula', 'pachliopta-aristolochiae', 'lethe-chandica', 'junonia-almana', 'eutectona-machoeralis', 'nyctemera-lacticinia', 'syngamia-latimarginalis', 'conogethes-puntiferalis', 'heliophorus-brahma', 'celastrina-oreana', 'halpe-kusala', 'catapaecilma-major', 'arthroschista-hilaralis', 'arhopala-bazaloides', 'hellula-undalis', 'scobura-parawoolletti', 'antitrygodes-cuneilinea', 'aiteta-rufoflava', 'pseudozizeeria-maha', 'autocharis-fessalis', 'telicota-colon', 'endotricha-mesenterialis', 'helicoverpa-armigera', 'arhopala-perimuta', 'digama-marchalii', 'abisara-neophron', 'astygisa-albopunctata', 'ochus-subvittatus', 'rathinda-amor', 'tarucus-nara', 'zurobata-vacillans', 'leucophlebia-lineate', 'nannoarctia-dentata', 'callyna-jugaria', 'koruthaialos-butleri', 'arhopala-amantes', 'euploea-klugii', 'hypospila-bolinoides', 'colotis-fausta', 'zographetus-rama', 'banisia-myrsusalis', 'pieris-brassicae', 'satarupa-zulla', 'ypthima-chenui', 'notocrypta-paralysos', 'charaxes-marmax', 'atrophaneura-varuna', 'epiplema-himala', 'phycita-steniella', 'erebus-hieroglyphica', 'papilio-polytes', 'udea-ferrugalis', 'theretra-silhetensis-silhetensis', 'mycalesis-patnia', 'pelagodes-quadraria', 'nyctemera-adversata', 'pelopidas-assamensis', 'eustrotia-marginata', 'zamarada-excisa', 'neogurelca-hyas', 'botyodes-flavibasalis', 'macrobrochis-splendens', 'hypolycaena-othona', 'kaniska-canace', 'tanaecia-lepidea', 'utetheisa-pulchelloides', 'callopistria-maillardi', 'eilema-antica', 'graphium-eurypylus', 'acraea-issoria', 'tagiades-menaka', 'thyas-juno', 'acosmeryx-akanshi', 'phalera-combusta', 'filodes-fulvidorsalis', 'theretra-pallicosta', 'ticherra-acte', 'theretra-latreillii-lucasii', 'callerebia-hybrida', 'omiodes-indicata', 'erebus-caprimulgus', 'theretra-clotho', 'pelopidas-subochracea', 'mahathala-ameria', 'pantoporia-hordonia', 'asura-conferta', 'athetis-bremusa', 'homaea-clathrum', 'chadisra-bipars', 'delgamma-pangonia', 'ixias-marianne', 'creatonotos-transiens', 'dierna-strigata', 'lymantria-marginata', 'euploea-radamanthus', 'episteme-adulatrix', 'areas-imperialis', 'perina-nuda', 'virachola-isocrates', 'papilio-memnon', 'appias-libythea', 'eurrhyparodes-tricoloralis', 'theretra-silhetensis', 'jamides-alecto', 'potanthus-pseudomaesa', 'dichromia-pullata', 'vanessa-indica', 'grammodes-stolida', 'hulodes-caranea', 'gastropacha-pardale', 'orphanostigma-abruptalis', 'papilio-polymnestor', 'parasa-herbifera', 'tagiades-litigiosa', 'endotricha-consocia', 'etiella-zinckenella', 'dysphania-militaris', 'scopelodes-venosa', 'chersonesia-intermedia', 'amyna-selenampha', 'chiasmia-nora', 'udaspes-folus', 'argina-argus', 'hypsopygia-mauritialis', 'penthema-lisarda', 'acherontia-lachesis', 'pieris-melete', 'bastilla-arctotaenia', 'phazaca-theclata', 'nephele-hespera', 'amplypterus-panopus', 'lymantria-concolor', 'antheraea-mylitta', 'dodona-eugenes', 'delias-agostina', 'amblypodia-anita', 'hypolycaena-erylus', 'eupterote-mollifera', 'zizula-hylax', 'appias-lalage', 'neptis-yerburyi', 'macroglossum-stellatarum', 'cyclosia-papilionaris', 'halpe-zema', 'glyphodes-stolalis', 'lamprophaia-ablactalis', 'parthenos-sylvia', 'ctenoplusia-albostriata', 'amata-passalis', 'amblychia-hymenaria', 'athyma-kanwa', 'polytela-gloriosae', 'bombyx-mori', 'azanus-jesous', 'notocrypta-feisthamelii', 'parantica-melaneus', 'ophiusa-tirhaca', 'eublemma-anachoresis', 'graphium-chironides', 'jamides-celeno', 'spodoptera-littoralis', 'erebus-albicincta', 'serrodes-inara', 'pleuroptya-iopasalis', 'athetis-thoracica', 'azanus-ubaldus', 'hypena-lividalis', 'dichocrocis-rigidalis', 'arctioblepsis-rubida', 'nygmia-icilia', 'pindara-illibata', 'papilio-alcmenor', 'hebomoia-glaucippe', 'atrophaneura-aidoneus', 'charaxes-aristogiton', 'odontodes-aleuca', 'iton-semamora', 'danaus-chrysippus', 'eudocima-materna', 'protuliocnemis-biplagiata', 'barsine-striata', 'rhagastis-olivacea', 'aglais-rizana', 'leucophlebia-emittens', 'vanessa-cardui', 'noorda-blitealis', 'xenoplia', 'amraica-recursaria', 'chrysodeixis-eriosoma', 'alsophila-nilgirensis', 'theretra-nessus', 'aglaomorpha-plagiata', 'lampides-boeticus', 'artaxa-digramma', 'marumba-dyras', 'pyralis-manihotalis', 'cheritra-freja', 'lethe-verma', 'papilio-machaon', 'eurrhyparodes-bracteolalis', 'everes-diporides', 'problepsis-vulgaris', 'burara-amara', 'parnassius-hardwickii', 'azygophleps-pusilla', 'hyphormides-argentipunctata', 'sinna-extrema', 'surendra-quercetorum', 'remelana-jangala', 'rhinopalpa-polynice', 'delias-eucharis', 'lyclene-undulosa', 'celaenorrhinus-ambareesa', 'marumba-nympha', 'lyssa-zampa', 'syntypistis-fasciata', 'euripus-nyctelius', 'parasa-lepida', 'freyeria-trochylus', 'omiodes-analis', 'fascellina-plagiata', 'colotis-danae', 'pachynoa-sabelialis', 'euploea-algea', 'catopsilia-pyranthe', 'thysanoplusia-orichalcea', 'prosotas-nora', 'leucinodes-orbonalis', 'naranga-diffusa', 'tatobotys-janapalis', 'thaumantis-diores', 'pontia-daplidice', 'pirdana-major', 'neptis-namba', 'matapa-aria', 'rohana-parisatis', 'zographetus-satwa', 'earias-vitella', 'eublemma-dimidialis', 'lethe-mekara', 'spirama-helicina', 'macrobrochis-gigas', 'corma-maculata', 'acraea-violae', 'hyperythra-lutea', 'asota-plaginota', 'ragadia-crisilda', 'euthalia-durga', 'xyleutes-persona', 'pieris-rapae', 'zeuzera-indica', 'homodes-propitia', 'gangara-thyrsis', 'eupterote-lineosa', 'sumalia-daraxa', 'episparis-liturata', 'hypomecis-transcissa', 'aiteta-diurna', 'graphium-sarpedon', 'erebabraxas-metachromata', 'graphium-aristeus', 'taxila-haquinus', 'mycalesis-visala', 'hypolycaena-kina', 'talanga-sexpunctalis', 'catopsilia-pomona', 'ypthima-baldus', 'cydalima-laticostalis', 'orthocabera-ocernaria', 'trabala-vishnou', 'euthalia-anosia', 'ancistroides-nigrita', 'hypochrosis-hyadaria', 'artipe-eryx', 'theretra-castanea', 'netria-viridescens', 'ethope-himachala', 'paectes-subapicalis', 'netria-multispinae', 'westermannia-superba', 'oriens-goloides', 'epiplema', 'dophla-evelina', 'jamides-pura', 'colotis-vestalis', 'miresa-albipuncta', 'mota-massyla', 'vagrans-egista', 'euchromia-polymena', 'euploea-midamus', 'rhodometra-sacraria', 'xanthodes-intersepta', 'hesudra-divisa', 'pareronia-hippia', 'colias-fieldii', 'catochrysops-panormus', 'diplopseustis-periseresalis', 'scirpophaga-nepalensis', 'spirama-indenta', 'cosmophila-flava', 'tyspanodes-linealis', 'graphium-antiphates', 'papilio-clytia', 'arhopala-paramuta', 'telicota-ancilla', 'campylotes-histrionicus', 'mooreana-trichoneura', 'doleschallia-bisaltide', 'papilio-dravidarum', 'hyposidra-talaca', 'curetis-bulis', 'eudocima-cocalus', 'orsotriaena-medus', 'biston-contectaria', 'pygospila-octomaculalis', 'junonia-atlites', 'cupitha-purreea', 'cirrhochrista-fumipalpis', 'byblia-ilithyia', 'matapa-sasivarna', 'marumba-spectabilis', 'actias-maenas', 'heliophorus-epicles', 'satarupa-gopala', 'burara-gomata', 'aedia-acronyctoides', 'conolophia-nigripuncta', 'lethe-sinorix', 'colotis-aurora', 'trilocha-varians', 'bibasis-sena', 'maruca-amboinalis', 'junonia-orithya', 'parantica-pedonga', 'taractrocera-ceramas', 'lassaba-albidaria', 'erionota-torus', 'charaxes-delphis', 'artena-dotata', 'euthrix-laeta', 'thyas-coronata', 'parantica-aglea', 'nevrina-procopia', 'thyas-honesta', 'nacaduba-beroe', 'chersonesia-risa', 'eurema-andersoni', 'bradina-diagonalis', 'parapoynx-fluctuosalis', 'hydrillodes-transversalis', 'chasmina-cadida', 'neptis-pseudovikasi', 'scirpophaga-nivella', 'jamides-elpis', 'ypthima-huebneri', 'kallima-inachus', 'gonodontis-clelia', 'euthalia-monina', 'curetis-dentata', 'mythimna-loreyi', 'anthene-lycaenina', 'acontia-crocata', 'gadirtha-pulchra', 'hypocala-subsatura', 'sphragifera-rejecta', 'chiasmia-emersaria', 'parapoynx-stagnalis', 'catochrysops-strabo', 'sasunaga-tenebrosa', 'eublemma-cochylioides', 'acytolepis-puspa', 'argina-astrea', 'cirrhochrista-pulchellalis', 'bhutanitis-lidderdalii', 'asota-heliconia', 'euploea-core', 'pantoporia-sandaka', 'psilogramma-increta', 'metanastria-aconyta', 'charaxes-psaphon', 'anomis-privata', 'discrepans', 'papilio-mayo', 'chabula-acamasalis', 'bastilla-conficiens', 'lamprosema-tampiusalis', 'mangina-argus', 'agrotis-segetum', 'eurema-blanda', 'freyeria-putli', 'cepora-nerissa', 'suastus-gremius', 'spodoptera-litura', 'eublemma-baccalix', 'heliophorus-sena', 'xandrames-latiferaria', 'discolampa-ethion', 'marumba-indicus', 'herpetogramma-nigricornalis', 'ercheia-cyllaria', 'daphnis-nerii', 'artena-rubida', 'sameodes-cancellalis', 'rapala-varuna', 'amerila-astreus', 'hypocala-deflorata', 'enispe-euthymius', 'parantica-nilgiriensis', 'mycalesis-mineus', 'iraota-timoleon', 'agrotis-biconica', 'papilio-bianor', 'polygrammodes-pectinicornalis', 'araotes-lapithis', 'eoophyla-sejunctalis', 'dyrzela-plagiata', 'paliga-damastesalis', 'macroglossum-belis', 'maliarpha-separatella', 'gerosis-phisara', 'euploea-mulciber', 'pilocrocis-milvinalis', 'dichorragia-nesimachus', 'syntomoides-imaon', 'dysphania-percota', 'euchrysops-cnejus', 'amata-sperbius', 'troides-minos', 'papilio-buddha', 'dudusa-synopla', 'elymnias-malelas', 'problepsis-deliaria', 'hypena-thermesialis', 'oeonistis-entella', 'lestranicus-transpectus', 'polyptychus-dentatus', 'mycalesis-evansii', 'penicillaria-maculata', 'laelia-testacea', 'buzara-onelia', 'brevipecten-captatus', 'pygospila-tyres', 'rajendra-vittata', 'achaea-serva', 'oraesia-emarginata', 'neptis-soma', 'aeromachus-pygmaeus', 'hyblaea-puera', 'gandaca-harina', 'notocrypta-curvifascia', 'pachliopta-hector', 'eterusia-aedea', 'cirrhochrista-spissalis', 'nyctemera-arctata', 'phocoderma-velutina', 'hypolimnas-misippus', 'nausinoe-pueritia', 'macrobrochis-prasena', 'endotricha-melanobasis', 'cania-bilinea', 'asota-plana', 'lymantria-bivittata', 'darpa-pteria', 'terastia-egialealis', 'herpetogramma-cynaralis', 'aemene-taprobanis', 'didyma', 'ophiusa-indistincta', 'orthospila-orissusalis', 'arhopala-pseudocentaurus', 'parotis-nilgirica', 'pericyma-umbrina', 'moduza-procris', 'dysgonia-arcuata', 'hippotion-celerio', 'nebulosa', 'dysgonia-stuposa', 'gonepteryx-rhamni', 'scopula-pulchellata', 'agathia-lycaenaria', 'plusiodonta-coelonota', 'hemithea-tritonaria', 'agrioglypta-eurytusalis', 'plutodes-transmutata', 'coladenia-agni', 'pantoporia-paraka', 'bradina-melanoperas', 'euploea-doubledayi', 'thoressa-gupta', 'pithauria-stramineipennis', 'byasa-polyeuctes', 'ariadne-ariadne', 'fodina-oriolus', 'diaphania-indica', 'acherontia-styx', 'heliothis-irrorata', 'maruca-vitrata', 'curoba-sangarida', 'papilio-protenor', 'hypolimnas-bolina', 'chilades-lajus', 'celaenorrhinus-leucocera', 'erebus-macrops', 'heliophorus-moorei', 'charaxes-kahruba', 'bastilla-simillima', 'caligula-simla', 'pidorus-glaucopis', 'lethe-confusa', 'sarangesa-purendra', 'spindasis-vulcanus', 'catada-prominens', 'cyclodes-omma', 'tarucus-ananda', 'asota-sericea', 'neptis-harita', 'neptis-hylas', 'arsacia-rectalis', 'ixias-pyrene', 'parantica-sita', 'caltoris-kumara', 'arhopala-centaurus', 'symphaedra-nais', 'dichocrocis-zebralis', 'argynnis-hyperbius', 'omphisa-fuscidentalis', 'melanitis-leda', 'lethe-vindhya', 'idaea-macrospila', 'pelopidas-agna', 'melittia-chalciformis', 'antigastra-catalaunalis', 'olepa-ricini', 'hyles-livornica', 'choaspes-benjaminii', 'omphisa-anastomosalis', 'macaretaera-hesperis', 'deudorix-epijarbas', 'asota-producta', 'entomogramma-fautrix', 'hippoton-roseta', 'cethosia-nietneri', 'bastilla-joviana', 'leucinodes-apicalis', 'syllepte-sellalis', 'pagyda-salvalis', 'platyja-umminea', 'glyphodes-bicolor', 'loxura-atymnus', 'spodoptera-mauritia', 'mycalesis-francisca', 'spindasis-elima', 'odontoptilum-angulata', 'haritalodes-derogata', 'parotis-suralis', 'elymnias-hypermnestra', 'pergesa-acteus', 'vindula-erota', 'castalius-rosimon', 'hydriris-ornatalis', 'tajuria-cippus', 'rajendra-perrotteti', 'cethosia-biblis', 'botyodes-patulalis', 'appias-indra', 'tirumala-limniace', 'gerosis-sinica', 'crocidolomia-pavonana', 'achaea-mercatoria', 'rapala-nissa', 'amata-bicincta', 'trigonodes-regalis', 'ypthima-asterope', 'maruca-testulalis', 'orybina-plangonalis', 'pleurona-falcata', 'xanthodes-transversa', 'cydalima-conchylalis', 'aedia-leucomelas', 'blenina-donans', 'herpetogramma-bipunctalis', 'prioneris-sita', 'anuga-lunulata', 'celaenorrhinus-aurivittata', 'gonepteryx-amintha', 'istrugia-disputaria', 'pseudocoladenia-dan', 'mycalesis-perseus', 'arnetta-atkinsoni', 'neopithecops-zalmora', 'graphium-doson', 'sticopthalma-camadeva', 'papilio-krishna', 'rehimena-phrynealis', 'discophora-sondaica', 'orudiza-protheclaria', 'similis', 'abisara-chela', 'arctornis-comma', 'brithys-crini', 'pterothysanus-laticilia', 'cnaphalocrocis-poeyalis', 'trigonodes-disjuncta', 'anticarsia-irrorata', 'sinthusa-nasaka', 'hyarotis-adrastus', 'celaenorrhinus-ruficornis', 'ataboruza-divisa', 'hymenia-perspectalis', 'amyna-axis', 'taraka-hamada', 'delias-belladonna', 'trigonodes-hyppasia', 'thoressa-cerata', 'lymantria-similis', 'spirama-retorta', 'botyodes-asialis', 'sarangesa-dasahara', 'psolos-fuligo', 'lexias-dirtea', 'dacalana-penicilligera', 'heliothis-peltigera', 'graphium-agamemnon', 'asota-caricae', 'ceira-longipennis', 'gonepteryx-amintha-thibetana', 'hippotion-velox', 'lacera-procellosa', 'nagadeba-indecoralis', 'penicillaria-simplex', 'achrosis-rondelaria', 'carriola-ecnomoda', 'loboschiza-koenigiana', 'calyptra-minuticornis', 'appias-lyncida', 'papilio-crino', 'ophiusa-triphaenoides', 'hypopyra-vespertilio', 'cirrochroa-aoris', 'troides-helena', 'cyana-effracta', 'eressa-multigutta', 'maliattha-quadripartita', 'burara-oedipodea', 'eligma-narcissus', 'pseudergolis-wedah', 'synclera-traducalis', 'pannosa', 'oraesia-argyrosigna', 'telinga-malsarida', 'notarcha-quaternalis', 'faunis-canens'}\n",
    "new_species = { s for s in new_species if len(s.split('-')) > 1 and not re.match(ignore_regex, s) }\n",
    "new_species -= lepidoptera_classes\n",
    "\n",
    "# discard possible typo\n",
    "discarded_species = {s for s in new_species if min([ Levenshtein.distance(s, s2) for s2 in lepidoptera_classes ]) <= 2}\n",
    "print(f\"Discarded: {len(discarded_species)}\")\n",
    "print(discarded_species)\n",
    "new_species -= discarded_species\n",
    "\n",
    "new_moth = { s for s in new_species if re.match(moth_regex, s) }\n",
    "print(f\"\\nMoth: {len(new_moth)}\")\n",
    "print(new_moth)\n",
    "\n",
    "new_butterfly = { s for s in new_species if re.match(butterfly_regex, s) }\n",
    "print(f\"\\nButterfly: {len(new_butterfly)}\")\n",
    "print(new_butterfly)\n",
    "\n",
    "print(f\"\\nUnidentified: {len(new_species - new_moth - new_butterfly)}\")\n",
    "print(new_species - new_moth - new_butterfly)"
   ]
  },
  {
   "cell_type": "code",
   "execution_count": 55,
   "id": "e5d3ab81-5396-42e6-a3ef-3482fb0f00e6",
   "metadata": {},
   "outputs": [],
   "source": [
    "species = load_json(\"species.json\")\n",
    "species['lepidoptera']['moth'] += new_moth\n",
    "species['lepidoptera']['butterfly'] += new_butterfly\n",
    "dump_json(\"species.json\", sort_species(species))"
   ]
  },
  {
   "cell_type": "code",
   "execution_count": 56,
   "id": "c62f4bd6-a01e-407a-8428-73220202dda0",
   "metadata": {
    "jupyter": {
     "source_hidden": true
    }
   },
   "outputs": [
    {
     "name": "stdout",
     "output_type": "stream",
     "text": [
      "Discarded: 24\n",
      "{'chasmina-cadida', 'sticopthalma-camadeva', 'polygrammodes-pectinicornalis', 'appias-lyncinda', 'leucophlebia-lineate', 'orvasca-subnotota', 'jamides-caeruleus', 'earias-vitella', 'sauris-eupitheciata', 'hippoton-roseta', 'diplopseustis-periseresalis', 'spalgis-epeus', 'ypthima-chenui', 'euthalia-durga', 'homodes-propitia', 'udara-dilecta', 'argina-argus', 'homaloxestis-myloxesta', 'brevipecten-captatus', 'polydesma-boarmioides', 'eutectona-machoeralis', 'conogethes-puntiferalis', 'eurema-andersoni', 'istrugia-disputaria'}\n",
      "\n",
      "Unidentified: 3\n",
      "{'indomyrlaea-ferreotincta', 'charltona-kala', 'erebabraxas-metachromata'}\n"
     ]
    }
   ],
   "source": [
    "# lepidoptera data extracted from indianbiodiversity.org\n",
    "\n",
    "species = load_json(\"species.json\")\n",
    "lepidoptera_classes = set(species['lepidoptera']['moth'] + species['lepidoptera']['butterfly'])\n",
    "\n",
    "# with open(\"test.html\", \"r\", encoding=\"utf-8\") as file:\n",
    "#     biodiversity_soup = BeautifulSoup(file, \"html.parser\")\n",
    "# new_species = {i.get_text().lower().replace(\" \", \"-\") for i in biodiversity_soup.find_all(\"i\")}\n",
    "new_species = {'mocis-frugalis', 'chiasmia-fidoniata', 'spindasis-lohita', 'caleta-elna', 'belenois-aurota', 'indomyrlaea-ferreotincta', 'eudocima-homaena', 'biston-suppressaria', 'scirpophaga-innotata', 'nausinoe-perspectata', 'chiasmia-hebesata', 'eurema-laeta', 'avatha-bubo', 'prosotas-bhutea', 'oxyodes-scrobiculata', 'glyphodes-bivitralis', 'theretra-suffusa', 'junonia-hierta', 'elymnias-caudata', 'charaxes-athamas', 'anthene-emolus', 'neptis-miah', 'phalanta-alcippe', 'tarucus-theophrastus', 'pareronia-valeria', 'callopistria-guttulalis', 'crithote-horridipes', 'papilio-helenus', 'agathodes-ostentalis', 'colotis-amata', 'bamra-mundata', 'papilio-demoleus', 'scobura-cephaloides', 'horaga-onyx', 'rapala-manea', 'hypena-laceratalis', 'areas-galactina', 'cnaphalocrocis-ruralis', 'glaucocharis-tripunctata', 'phaedyma-columella', 'heterostegane-subtessellata', 'agrotera-basinotata', 'clanis-phalaris', 'pingasa-ruginaria', 'creon-cleobis', 'lebadea-martha', 'flos-adriana', 'cirrochroa-thais', 'nepita-conferta', 'cyana-puella', 'delias-pasithoe', 'charana-mandarinus', 'lasippa-viraja', 'abisara-fylla', 'stibochiona-nicea', 'stauropus-alternus', 'prioneris-thestylis', 'ypthima-nareda', 'ariadne-merione', 'danaus-genutia', 'cimitra-seclusella', 'macroglossum-gyrans', 'callerebia-suroia', 'eutelia-blandiatrix', 'leptosia-nina', 'colotis-eucharis', 'theretra-nessus-nessus', 'agnosia-microta', 'traminda-mundissima', 'astictopterus-jama', 'erebus-ephesperis', 'timandra-convectaria', 'charltona-kala', 'arhopala-abseus', 'antheua-exanthemata', 'grammodes-geometrica', 'zesius-chrysomallus', 'spalgis-epeus', 'mycalesis-anaxias', 'eressa-confinis', 'ampittia-dioscorides', 'brahmaea-hearseyi', 'mimathyma-ambica', 'pieris-canidia', 'urapteroides-astheniata', 'charaxes-bernardus', 'abraxas-sylvata', 'loepa-katinka', 'amata-cyssea', 'asota-ficus', 'yepcalphis-dilectissima', 'papilio-paris', 'macaldenia-palumba', 'eumelea-ludovicata', 'kunugia-ampla', 'chiasmia-cymatodes', 'serrodes-campana', 'dalima-schistacearia', 'delias-acalis', 'chasmina-candida', 'lamproptera-curius', 'cechenena-helops', 'spindasis-syama', 'prioneris-clemanthe', 'eretmocera-impactella', 'metoeca-foedalis', 'charaxes-solon', 'cleora-injectaria', 'macrocilix-maia', 'herona-marathus', 'tagiades-japetus', 'iambrix-salsala', 'spialia-galba', 'aethaloessa-calidalis', 'callyna-costiplaga', 'neptis-clinia', 'maliattha-signifera', 'xestia', 'ischyja-manlia', 'graphium-agetes', 'colotis-etrida', 'cyrestis-thyodamas', 'orvasca-subnotota', 'megisba-malaya', 'tanaecia-julii', 'athyma-pravara', 'athyma-cama', 'amyna-punctum', 'pericyma-cruegeri', 'thalassodes-quadraria', 'pelagodes-falsaria', 'chalciope-mygdon', 'anomis', 'lexias-cyanipardus', 'charaxes-eudamippus', 'ophthalmitis-herbidaria', 'udara-dilecta', 'ischnurges-gratiosalis', 'acraea-terpsicore', 'cirrhochrista-brizoalis', 'parapoynx-crisonalis', 'elymnias-nesaea', 'mycalesis-malsarida', 'calesia-stillifera', 'euthalia-telchinia', 'mycalesis-gotama', 'talicada-nyseus', 'phalanta-phalantha', 'theretra-alecto', 'homaloxestis-myloxesta', 'lymantria-mathura', 'chiasmia-eleonora', 'prosotas-aluta', 'agrotis-ipsilon', 'delias-hyparete', 'palpita-annulifer', 'psimada-quadripennis', 'eurema-hecabe', 'papilio-castor', 'pycnarmon-cribrata', 'dodona-dipoea', 'sebastonyma-dolopia', 'trischalis-subaurana', 'athyma-perius', 'tagiades-gana', 'ancylolomia-saundersiella', 'pareronia-avatar', 'pleuroptya-balteata', 'mythimna-proleuca', 'cethosia-cyane', 'calliteara-grotei', 'dierna-acanthusalis', 'lethe-europa', 'papilio-paradoxa', 'zemeros-flegyas', 'neope-yama', 'hydrillodes-lentalis', 'cirrochroa-tyche', 'jamides-caeruleus', 'ypthima-ceylonica', 'chilades-pandava', 'caltoris-cahira', 'luxiaria-phyllosaria', 'neptis-jumbah', 'bassarona-teuta', 'eudocima-phalonia', 'speiredonia-mutabilis', 'tirumala-septentrionis', 'appias-albina', 'lemyra-spilosomata', 'streblote-dorsalis', 'delias-descombesi', 'barsine-cardinalis', 'yasoda-tripunctata', 'chilo-partellus', 'sphingomorpha-chlorea', 'eurema-andersonii', 'comostola-pyrrhogona', 'psilogramma-menephron', 'parotis-marginata', 'eudocima-hypermnestra', 'eublemma-parva', 'phazaca-leucocera', 'pericallia-matherana', 'kallima-horsfieldii', 'altha-subnotata', 'utetheisa-varians', 'chrysorabdia-bivitta', 'hydrillodes-gravatalis', 'aetholix-flavibasalis', 'endothenia-banausopis', 'prosotas-dubiosa', 'hippotion-rosetta', 'achaea-janata', 'lymantria-incerta', 'euthalia-lubentina', 'glyphodes-caesalis', 'euchromius-ocellea', 'earias-cupreoviridis', 'pyralis-pictalis', 'cyana-ridleyi', 'lophoptera-squammigera', 'athyma-inara', 'satarupa-splendens', 'rapala-pheretima', 'egnasia-ephyrodalis', 'pardomima-distorta', 'attatha-regalis', 'cepora-nadina', 'spoladea-recurvalis', 'helicoverpa-assulta', 'junonia-lemonias', 'pyrausta-panopealis', 'aloa-lactinea', 'hasora-badra', 'celastrina-lavendularis', 'hasora-chromus', 'trypanophora-semihyalina', 'tathorhynchus-exsiccata', 'callerebia-dibangensis', 'nyctemera-coleta', 'actias-selene', 'graphium-evemon', 'cnaphalocrocis-medinalis', 'graphium-nomius', 'leptotes-plinius', 'dysallacta-negatalis', 'papilio-nephelus', 'zizeeria-karsandra', 'macroglossum-mitchellii', 'chlumetia-transversa', 'ancylolomia-taprobanensis', 'symbrenthia-lilaea', 'graphium-macareus', 'zeheba-aureata', 'culladia-suffusella', 'theretra-oldenlandiae', 'ypthima-philomela', 'glyphodes-onychinalis', 'dercas-verhuelli', 'leptomiza-calcearia', 'acropteris-striataria', 'nausinoe-geometralis', 'teliphasa-albifusa', 'olene-mendosa', 'digama-hearseyana', 'bastilla-torrida', 'mangina-syringa', 'creatonotos-gangis', 'ramadasa-pavo', 'poritia-hewitsoni', 'euthalia-phemius', 'epiplema-reticulata', 'penicillaria-jocosatrix', 'utetheisa-lotrix', 'cephonodes-hylas', 'athyma-zeroca', 'zeltus-amasa', 'aporia-agathon', 'colias-croceus', 'euthalia-aconthea', 'cotachena-histricalis', 'pelopidas-conjuncta', 'omphisa-repetitalis', 'bastilla-crameri', 'anisoneura-aluco', 'junonia-iphita', 'koruthaialos-rubecula', 'telinga-malsara', 'lasiommata-schakra', 'cupha-erymanthis', 'sephisa-chandra', 'aglais-urticae', 'conogethes-punctiferalis', 'athyma-selenophora', 'isocentris-filalis', 'spodoptera-exigua', 'aegocera-bimacula', 'diasemiopsis-ramburialis', 'borbo-cinnara', 'eurema-brigitta', 'appias-lyncinda', 'athyma-ranga', 'nomophila-noctuella', 'polyura-athamas', 'phalera-grotei', 'sauris-eupitheciata', 'appias-olferna', 'chrysodeixis-acuta', 'chliaria-othona', 'euclasta-defamatalis', 'rapala-iarbus', 'scobura-isota', 'telicota-bambusae', 'feliniopsis-indistans', 'attacus-atlas', 'symbrenthia-hypselis', 'micronia-aculeata', 'badamia-exclamationis', 'sympis-rufibasis', 'agrius-convolvuli', 'xanthodes-malvae', 'comostola-laesaria', 'eudocima-salaminia', 'ericeia-pertendens', 'graphium-xenocles', 'caleta-decidia', 'anisephyra-ocularia', 'mocis-undata', 'samia-canningii', 'zizina-otis', 'conservula', 'curetis-thetis', 'jamides-bochus', 'polydesma-boarmioides', 'libythea-lepita', 'arhopala-fulla', 'acontia-nitidula', 'pachliopta-aristolochiae', 'lethe-chandica', 'junonia-almana', 'eutectona-machoeralis', 'nyctemera-lacticinia', 'syngamia-latimarginalis', 'conogethes-puntiferalis', 'heliophorus-brahma', 'celastrina-oreana', 'halpe-kusala', 'catapaecilma-major', 'arthroschista-hilaralis', 'arhopala-bazaloides', 'hellula-undalis', 'scobura-parawoolletti', 'antitrygodes-cuneilinea', 'aiteta-rufoflava', 'pseudozizeeria-maha', 'autocharis-fessalis', 'telicota-colon', 'endotricha-mesenterialis', 'helicoverpa-armigera', 'arhopala-perimuta', 'digama-marchalii', 'abisara-neophron', 'astygisa-albopunctata', 'ochus-subvittatus', 'rathinda-amor', 'tarucus-nara', 'zurobata-vacillans', 'leucophlebia-lineate', 'nannoarctia-dentata', 'callyna-jugaria', 'koruthaialos-butleri', 'arhopala-amantes', 'euploea-klugii', 'hypospila-bolinoides', 'colotis-fausta', 'zographetus-rama', 'banisia-myrsusalis', 'pieris-brassicae', 'satarupa-zulla', 'ypthima-chenui', 'notocrypta-paralysos', 'charaxes-marmax', 'atrophaneura-varuna', 'epiplema-himala', 'phycita-steniella', 'erebus-hieroglyphica', 'papilio-polytes', 'udea-ferrugalis', 'theretra-silhetensis-silhetensis', 'mycalesis-patnia', 'pelagodes-quadraria', 'nyctemera-adversata', 'pelopidas-assamensis', 'eustrotia-marginata', 'zamarada-excisa', 'neogurelca-hyas', 'botyodes-flavibasalis', 'macrobrochis-splendens', 'hypolycaena-othona', 'kaniska-canace', 'tanaecia-lepidea', 'utetheisa-pulchelloides', 'callopistria-maillardi', 'eilema-antica', 'graphium-eurypylus', 'acraea-issoria', 'tagiades-menaka', 'thyas-juno', 'acosmeryx-akanshi', 'phalera-combusta', 'filodes-fulvidorsalis', 'theretra-pallicosta', 'ticherra-acte', 'theretra-latreillii-lucasii', 'callerebia-hybrida', 'omiodes-indicata', 'erebus-caprimulgus', 'theretra-clotho', 'pelopidas-subochracea', 'mahathala-ameria', 'pantoporia-hordonia', 'asura-conferta', 'athetis-bremusa', 'homaea-clathrum', 'chadisra-bipars', 'delgamma-pangonia', 'ixias-marianne', 'creatonotos-transiens', 'dierna-strigata', 'lymantria-marginata', 'euploea-radamanthus', 'episteme-adulatrix', 'areas-imperialis', 'perina-nuda', 'virachola-isocrates', 'papilio-memnon', 'appias-libythea', 'eurrhyparodes-tricoloralis', 'theretra-silhetensis', 'jamides-alecto', 'potanthus-pseudomaesa', 'dichromia-pullata', 'vanessa-indica', 'grammodes-stolida', 'hulodes-caranea', 'gastropacha-pardale', 'orphanostigma-abruptalis', 'papilio-polymnestor', 'parasa-herbifera', 'tagiades-litigiosa', 'endotricha-consocia', 'etiella-zinckenella', 'dysphania-militaris', 'scopelodes-venosa', 'chersonesia-intermedia', 'amyna-selenampha', 'chiasmia-nora', 'udaspes-folus', 'argina-argus', 'hypsopygia-mauritialis', 'penthema-lisarda', 'acherontia-lachesis', 'pieris-melete', 'bastilla-arctotaenia', 'phazaca-theclata', 'nephele-hespera', 'amplypterus-panopus', 'lymantria-concolor', 'antheraea-mylitta', 'dodona-eugenes', 'delias-agostina', 'amblypodia-anita', 'hypolycaena-erylus', 'eupterote-mollifera', 'zizula-hylax', 'appias-lalage', 'neptis-yerburyi', 'macroglossum-stellatarum', 'cyclosia-papilionaris', 'halpe-zema', 'glyphodes-stolalis', 'lamprophaia-ablactalis', 'parthenos-sylvia', 'ctenoplusia-albostriata', 'amata-passalis', 'amblychia-hymenaria', 'athyma-kanwa', 'polytela-gloriosae', 'bombyx-mori', 'azanus-jesous', 'notocrypta-feisthamelii', 'parantica-melaneus', 'ophiusa-tirhaca', 'eublemma-anachoresis', 'graphium-chironides', 'jamides-celeno', 'spodoptera-littoralis', 'erebus-albicincta', 'serrodes-inara', 'pleuroptya-iopasalis', 'athetis-thoracica', 'azanus-ubaldus', 'hypena-lividalis', 'dichocrocis-rigidalis', 'arctioblepsis-rubida', 'nygmia-icilia', 'pindara-illibata', 'papilio-alcmenor', 'hebomoia-glaucippe', 'atrophaneura-aidoneus', 'charaxes-aristogiton', 'odontodes-aleuca', 'iton-semamora', 'danaus-chrysippus', 'eudocima-materna', 'protuliocnemis-biplagiata', 'barsine-striata', 'rhagastis-olivacea', 'aglais-rizana', 'leucophlebia-emittens', 'vanessa-cardui', 'noorda-blitealis', 'xenoplia', 'amraica-recursaria', 'chrysodeixis-eriosoma', 'alsophila-nilgirensis', 'theretra-nessus', 'aglaomorpha-plagiata', 'lampides-boeticus', 'artaxa-digramma', 'marumba-dyras', 'pyralis-manihotalis', 'cheritra-freja', 'lethe-verma', 'papilio-machaon', 'eurrhyparodes-bracteolalis', 'everes-diporides', 'problepsis-vulgaris', 'burara-amara', 'parnassius-hardwickii', 'azygophleps-pusilla', 'hyphormides-argentipunctata', 'sinna-extrema', 'surendra-quercetorum', 'remelana-jangala', 'rhinopalpa-polynice', 'delias-eucharis', 'lyclene-undulosa', 'celaenorrhinus-ambareesa', 'marumba-nympha', 'lyssa-zampa', 'syntypistis-fasciata', 'euripus-nyctelius', 'parasa-lepida', 'freyeria-trochylus', 'omiodes-analis', 'fascellina-plagiata', 'colotis-danae', 'pachynoa-sabelialis', 'euploea-algea', 'catopsilia-pyranthe', 'thysanoplusia-orichalcea', 'prosotas-nora', 'leucinodes-orbonalis', 'naranga-diffusa', 'tatobotys-janapalis', 'thaumantis-diores', 'pontia-daplidice', 'pirdana-major', 'neptis-namba', 'matapa-aria', 'rohana-parisatis', 'zographetus-satwa', 'earias-vitella', 'eublemma-dimidialis', 'lethe-mekara', 'spirama-helicina', 'macrobrochis-gigas', 'corma-maculata', 'acraea-violae', 'hyperythra-lutea', 'asota-plaginota', 'ragadia-crisilda', 'euthalia-durga', 'xyleutes-persona', 'pieris-rapae', 'zeuzera-indica', 'homodes-propitia', 'gangara-thyrsis', 'eupterote-lineosa', 'sumalia-daraxa', 'episparis-liturata', 'hypomecis-transcissa', 'aiteta-diurna', 'graphium-sarpedon', 'erebabraxas-metachromata', 'graphium-aristeus', 'taxila-haquinus', 'mycalesis-visala', 'hypolycaena-kina', 'talanga-sexpunctalis', 'catopsilia-pomona', 'ypthima-baldus', 'cydalima-laticostalis', 'orthocabera-ocernaria', 'trabala-vishnou', 'euthalia-anosia', 'ancistroides-nigrita', 'hypochrosis-hyadaria', 'artipe-eryx', 'theretra-castanea', 'netria-viridescens', 'ethope-himachala', 'paectes-subapicalis', 'netria-multispinae', 'westermannia-superba', 'oriens-goloides', 'epiplema', 'dophla-evelina', 'jamides-pura', 'colotis-vestalis', 'miresa-albipuncta', 'mota-massyla', 'vagrans-egista', 'euchromia-polymena', 'euploea-midamus', 'rhodometra-sacraria', 'xanthodes-intersepta', 'hesudra-divisa', 'pareronia-hippia', 'colias-fieldii', 'catochrysops-panormus', 'diplopseustis-periseresalis', 'scirpophaga-nepalensis', 'spirama-indenta', 'cosmophila-flava', 'tyspanodes-linealis', 'graphium-antiphates', 'papilio-clytia', 'arhopala-paramuta', 'telicota-ancilla', 'campylotes-histrionicus', 'mooreana-trichoneura', 'doleschallia-bisaltide', 'papilio-dravidarum', 'hyposidra-talaca', 'curetis-bulis', 'eudocima-cocalus', 'orsotriaena-medus', 'biston-contectaria', 'pygospila-octomaculalis', 'junonia-atlites', 'cupitha-purreea', 'cirrhochrista-fumipalpis', 'byblia-ilithyia', 'matapa-sasivarna', 'marumba-spectabilis', 'actias-maenas', 'heliophorus-epicles', 'satarupa-gopala', 'burara-gomata', 'aedia-acronyctoides', 'conolophia-nigripuncta', 'lethe-sinorix', 'colotis-aurora', 'trilocha-varians', 'bibasis-sena', 'maruca-amboinalis', 'junonia-orithya', 'parantica-pedonga', 'taractrocera-ceramas', 'lassaba-albidaria', 'erionota-torus', 'charaxes-delphis', 'artena-dotata', 'euthrix-laeta', 'thyas-coronata', 'parantica-aglea', 'nevrina-procopia', 'thyas-honesta', 'nacaduba-beroe', 'chersonesia-risa', 'eurema-andersoni', 'bradina-diagonalis', 'parapoynx-fluctuosalis', 'hydrillodes-transversalis', 'chasmina-cadida', 'neptis-pseudovikasi', 'scirpophaga-nivella', 'jamides-elpis', 'ypthima-huebneri', 'kallima-inachus', 'gonodontis-clelia', 'euthalia-monina', 'curetis-dentata', 'mythimna-loreyi', 'anthene-lycaenina', 'acontia-crocata', 'gadirtha-pulchra', 'hypocala-subsatura', 'sphragifera-rejecta', 'chiasmia-emersaria', 'parapoynx-stagnalis', 'catochrysops-strabo', 'sasunaga-tenebrosa', 'eublemma-cochylioides', 'acytolepis-puspa', 'argina-astrea', 'cirrhochrista-pulchellalis', 'bhutanitis-lidderdalii', 'asota-heliconia', 'euploea-core', 'pantoporia-sandaka', 'psilogramma-increta', 'metanastria-aconyta', 'charaxes-psaphon', 'anomis-privata', 'discrepans', 'papilio-mayo', 'chabula-acamasalis', 'bastilla-conficiens', 'lamprosema-tampiusalis', 'mangina-argus', 'agrotis-segetum', 'eurema-blanda', 'freyeria-putli', 'cepora-nerissa', 'suastus-gremius', 'spodoptera-litura', 'eublemma-baccalix', 'heliophorus-sena', 'xandrames-latiferaria', 'discolampa-ethion', 'marumba-indicus', 'herpetogramma-nigricornalis', 'ercheia-cyllaria', 'daphnis-nerii', 'artena-rubida', 'sameodes-cancellalis', 'rapala-varuna', 'amerila-astreus', 'hypocala-deflorata', 'enispe-euthymius', 'parantica-nilgiriensis', 'mycalesis-mineus', 'iraota-timoleon', 'agrotis-biconica', 'papilio-bianor', 'polygrammodes-pectinicornalis', 'araotes-lapithis', 'eoophyla-sejunctalis', 'dyrzela-plagiata', 'paliga-damastesalis', 'macroglossum-belis', 'maliarpha-separatella', 'gerosis-phisara', 'euploea-mulciber', 'pilocrocis-milvinalis', 'dichorragia-nesimachus', 'syntomoides-imaon', 'dysphania-percota', 'euchrysops-cnejus', 'amata-sperbius', 'troides-minos', 'papilio-buddha', 'dudusa-synopla', 'elymnias-malelas', 'problepsis-deliaria', 'hypena-thermesialis', 'oeonistis-entella', 'lestranicus-transpectus', 'polyptychus-dentatus', 'mycalesis-evansii', 'penicillaria-maculata', 'laelia-testacea', 'buzara-onelia', 'brevipecten-captatus', 'pygospila-tyres', 'rajendra-vittata', 'achaea-serva', 'oraesia-emarginata', 'neptis-soma', 'aeromachus-pygmaeus', 'hyblaea-puera', 'gandaca-harina', 'notocrypta-curvifascia', 'pachliopta-hector', 'eterusia-aedea', 'cirrhochrista-spissalis', 'nyctemera-arctata', 'phocoderma-velutina', 'hypolimnas-misippus', 'nausinoe-pueritia', 'macrobrochis-prasena', 'endotricha-melanobasis', 'cania-bilinea', 'asota-plana', 'lymantria-bivittata', 'darpa-pteria', 'terastia-egialealis', 'herpetogramma-cynaralis', 'aemene-taprobanis', 'didyma', 'ophiusa-indistincta', 'orthospila-orissusalis', 'arhopala-pseudocentaurus', 'parotis-nilgirica', 'pericyma-umbrina', 'moduza-procris', 'dysgonia-arcuata', 'hippotion-celerio', 'nebulosa', 'dysgonia-stuposa', 'gonepteryx-rhamni', 'scopula-pulchellata', 'agathia-lycaenaria', 'plusiodonta-coelonota', 'hemithea-tritonaria', 'agrioglypta-eurytusalis', 'plutodes-transmutata', 'coladenia-agni', 'pantoporia-paraka', 'bradina-melanoperas', 'euploea-doubledayi', 'thoressa-gupta', 'pithauria-stramineipennis', 'byasa-polyeuctes', 'ariadne-ariadne', 'fodina-oriolus', 'diaphania-indica', 'acherontia-styx', 'heliothis-irrorata', 'maruca-vitrata', 'curoba-sangarida', 'papilio-protenor', 'hypolimnas-bolina', 'chilades-lajus', 'celaenorrhinus-leucocera', 'erebus-macrops', 'heliophorus-moorei', 'charaxes-kahruba', 'bastilla-simillima', 'caligula-simla', 'pidorus-glaucopis', 'lethe-confusa', 'sarangesa-purendra', 'spindasis-vulcanus', 'catada-prominens', 'cyclodes-omma', 'tarucus-ananda', 'asota-sericea', 'neptis-harita', 'neptis-hylas', 'arsacia-rectalis', 'ixias-pyrene', 'parantica-sita', 'caltoris-kumara', 'arhopala-centaurus', 'symphaedra-nais', 'dichocrocis-zebralis', 'argynnis-hyperbius', 'omphisa-fuscidentalis', 'melanitis-leda', 'lethe-vindhya', 'idaea-macrospila', 'pelopidas-agna', 'melittia-chalciformis', 'antigastra-catalaunalis', 'olepa-ricini', 'hyles-livornica', 'choaspes-benjaminii', 'omphisa-anastomosalis', 'macaretaera-hesperis', 'deudorix-epijarbas', 'asota-producta', 'entomogramma-fautrix', 'hippoton-roseta', 'cethosia-nietneri', 'bastilla-joviana', 'leucinodes-apicalis', 'syllepte-sellalis', 'pagyda-salvalis', 'platyja-umminea', 'glyphodes-bicolor', 'loxura-atymnus', 'spodoptera-mauritia', 'mycalesis-francisca', 'spindasis-elima', 'odontoptilum-angulata', 'haritalodes-derogata', 'parotis-suralis', 'elymnias-hypermnestra', 'pergesa-acteus', 'vindula-erota', 'castalius-rosimon', 'hydriris-ornatalis', 'tajuria-cippus', 'rajendra-perrotteti', 'cethosia-biblis', 'botyodes-patulalis', 'appias-indra', 'tirumala-limniace', 'gerosis-sinica', 'crocidolomia-pavonana', 'achaea-mercatoria', 'rapala-nissa', 'amata-bicincta', 'trigonodes-regalis', 'ypthima-asterope', 'maruca-testulalis', 'orybina-plangonalis', 'pleurona-falcata', 'xanthodes-transversa', 'cydalima-conchylalis', 'aedia-leucomelas', 'blenina-donans', 'herpetogramma-bipunctalis', 'prioneris-sita', 'anuga-lunulata', 'celaenorrhinus-aurivittata', 'gonepteryx-amintha', 'istrugia-disputaria', 'pseudocoladenia-dan', 'mycalesis-perseus', 'arnetta-atkinsoni', 'neopithecops-zalmora', 'graphium-doson', 'sticopthalma-camadeva', 'papilio-krishna', 'rehimena-phrynealis', 'discophora-sondaica', 'orudiza-protheclaria', 'similis', 'abisara-chela', 'arctornis-comma', 'brithys-crini', 'pterothysanus-laticilia', 'cnaphalocrocis-poeyalis', 'trigonodes-disjuncta', 'anticarsia-irrorata', 'sinthusa-nasaka', 'hyarotis-adrastus', 'celaenorrhinus-ruficornis', 'ataboruza-divisa', 'hymenia-perspectalis', 'amyna-axis', 'taraka-hamada', 'delias-belladonna', 'trigonodes-hyppasia', 'thoressa-cerata', 'lymantria-similis', 'spirama-retorta', 'botyodes-asialis', 'sarangesa-dasahara', 'psolos-fuligo', 'lexias-dirtea', 'dacalana-penicilligera', 'heliothis-peltigera', 'graphium-agamemnon', 'asota-caricae', 'ceira-longipennis', 'gonepteryx-amintha-thibetana', 'hippotion-velox', 'lacera-procellosa', 'nagadeba-indecoralis', 'penicillaria-simplex', 'achrosis-rondelaria', 'carriola-ecnomoda', 'loboschiza-koenigiana', 'calyptra-minuticornis', 'appias-lyncida', 'papilio-crino', 'ophiusa-triphaenoides', 'hypopyra-vespertilio', 'cirrochroa-aoris', 'troides-helena', 'cyana-effracta', 'eressa-multigutta', 'maliattha-quadripartita', 'burara-oedipodea', 'eligma-narcissus', 'pseudergolis-wedah', 'synclera-traducalis', 'pannosa', 'oraesia-argyrosigna', 'telinga-malsarida', 'notarcha-quaternalis', 'faunis-canens'}\n",
    "new_species = { s for s in new_species if len(s.split('-')) > 1 and not re.match(ignore_regex, s) }\n",
    "new_species -= lepidoptera_classes\n",
    "\n",
    "# discard possible typo\n",
    "discarded_species = {s for s in new_species if min([ Levenshtein.distance(s, s2) for s2 in lepidoptera_classes ]) <= 2}\n",
    "print(f\"Discarded: {len(discarded_species)}\")\n",
    "print(discarded_species)\n",
    "new_species -= discarded_species\n",
    "\n",
    "new_moth = { s for s in new_species if re.match(moth_regex, s) }\n",
    "# print(f\"\\nMoth: {len(new_moth)}\")\n",
    "# print(new_moth)\n",
    "\n",
    "new_butterfly = { s for s in new_species if re.match(butterfly_regex, s) }\n",
    "# print(f\"\\nButterfly: {len(new_butterfly)}\")\n",
    "# print(new_butterfly)\n",
    "\n",
    "print(f\"\\nUnidentified: {len(new_species - new_moth - new_butterfly)}\")\n",
    "print(new_species - new_moth - new_butterfly)"
   ]
  },
  {
   "cell_type": "markdown",
   "id": "21073df3-b358-4f45-8330-72ff99d44ac6",
   "metadata": {},
   "source": [
    "### Current state"
   ]
  },
  {
   "cell_type": "code",
   "execution_count": 3,
   "id": "f4c8bec4-e3cf-4b47-8f8b-0e6a84af8b5b",
   "metadata": {},
   "outputs": [
    {
     "name": "stdout",
     "output_type": "stream",
     "text": [
      "total = 4346 = moth:2845 + butterfly:1501\n",
      "with_data = 4077\n",
      "no_data = 269\n"
     ]
    }
   ],
   "source": [
    "species = load_json(\"species.json\")\n",
    "classes_with_data = {c for c in os.listdir(f\"insect-dataset/lepidoptera/data\") if not re.match(r\"^.*-(early|genera|spp)$\", c)}\n",
    "lepidoptera_classes = set(species['lepidoptera']['moth'] + species['lepidoptera']['butterfly'])\n",
    "print(f\"total = {len(lepidoptera_classes)} = moth:{len(species['lepidoptera']['moth'])} + butterfly:{len(species['lepidoptera']['butterfly'])}\")\n",
    "no_data_classes = lepidoptera_classes - classes_with_data\n",
    "print(f\"with_data = {len(lepidoptera_classes - no_data_classes)}\")\n",
    "print(f\"no_data = {len(no_data_classes)}\")"
   ]
  },
  {
   "cell_type": "code",
   "execution_count": null,
   "id": "6a24a39f-e3c0-426b-a883-55d3ff694aa8",
   "metadata": {},
   "outputs": [],
   "source": []
  }
 ],
 "metadata": {
  "kernelspec": {
   "display_name": "Python 3 (ipykernel)",
   "language": "python",
   "name": "python3"
  },
  "language_info": {
   "codemirror_mode": {
    "name": "ipython",
    "version": 3
   },
   "file_extension": ".py",
   "mimetype": "text/x-python",
   "name": "python",
   "nbconvert_exporter": "python",
   "pygments_lexer": "ipython3",
   "version": "3.13.2"
  }
 },
 "nbformat": 4,
 "nbformat_minor": 5
}
