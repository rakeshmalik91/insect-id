{
 "cells": [
  {
   "cell_type": "code",
   "execution_count": 1,
   "id": "de674b53-24e6-413f-b81b-fb7a4d1c9350",
   "metadata": {},
   "outputs": [],
   "source": [
    "%load_ext autoreload"
   ]
  },
  {
   "cell_type": "code",
   "execution_count": 2,
   "id": "ea38974a-39bb-41d6-887b-aecd28455c12",
   "metadata": {},
   "outputs": [],
   "source": [
    "%autoreload 2"
   ]
  },
  {
   "cell_type": "code",
   "execution_count": 3,
   "id": "b6a442a1-8c6d-4049-a670-985825623bdb",
   "metadata": {},
   "outputs": [],
   "source": [
    "import mynnlib\n",
    "from mynnlib import *\n",
    "\n",
    "dataset_dir = \"insect-dataset/binary-classifier\""
   ]
  },
  {
   "cell_type": "markdown",
   "id": "d59e0190-0575-4374-a0d3-661683d7788a",
   "metadata": {},
   "source": [
    "# Dataset"
   ]
  },
  {
   "cell_type": "code",
   "execution_count": 43,
   "id": "38d9eaaf-4e02-4cbe-9685-349f006d0cc1",
   "metadata": {},
   "outputs": [
    {
     "name": "stdout",
     "output_type": "stream",
     "text": [
      "insect     : 822\n",
      "other      : 955\n"
     ]
    }
   ],
   "source": [
    "for class_name in os.listdir(f\"{dataset_dir}/data\"):\n",
    "    cnt = sum([1 for class_name in os.listdir(f\"{dataset_dir}/data/{class_name}\")])\n",
    "    print(f\"{class_name:10} : {cnt}\")"
   ]
  },
  {
   "cell_type": "code",
   "execution_count": 44,
   "id": "1ef53dfc-fd1a-440c-a049-489c9ead2b66",
   "metadata": {},
   "outputs": [
    {
     "name": "stdout",
     "output_type": "stream",
     "text": [
      "insect     : 30\n",
      "other      : 13\n"
     ]
    }
   ],
   "source": [
    "for class_name in os.listdir(f\"{dataset_dir}/val\"):\n",
    "    cnt = sum([1 for class_name in os.listdir(f\"{dataset_dir}/val/{class_name}\")])\n",
    "    print(f\"{class_name:10} : {cnt}\")"
   ]
  },
  {
   "cell_type": "markdown",
   "id": "084da7f9-b8e8-4423-b146-276a53154ccb",
   "metadata": {},
   "source": [
    "# Train"
   ]
  },
  {
   "cell_type": "markdown",
   "id": "7cca8c4f-2cbb-4f44-bac5-dd401f95a06f",
   "metadata": {
    "jp-MarkdownHeadingCollapsed": true
   },
   "source": [
    "### Model A (resnet-18)"
   ]
  },
  {
   "cell_type": "code",
   "execution_count": 45,
   "id": "18fc19ae-8694-400a-aeca-378d9abb9516",
   "metadata": {},
   "outputs": [
    {
     "name": "stdout",
     "output_type": "stream",
     "text": [
      "Phase 1:\n",
      "Epoch    1 /    5  | Train Loss: 0.1991 Acc: 0.9173  | Val Loss: 0.2988 Acc: 0.8837  | Elapsed time: 0:00:11.891865\n",
      "Epoch    2 /    5  | Train Loss: 0.0477 Acc: 0.9842  | Val Loss: 0.5127 Acc: 0.7907  | Elapsed time: 0:00:25.734035\n",
      "Phase 2:\n",
      "Epoch    1 /    5  | Train Loss: 0.2478 Acc: 0.8936  | Val Loss: 0.5369 Acc: 0.8140  | Elapsed time: 0:00:14.541735\n",
      "Epoch    2 /    5  | Train Loss: 0.1892 Acc: 0.9257  | Val Loss: 0.7013 Acc: 0.7907  | Elapsed time: 0:00:30.192471\n",
      "Phase 3:\n",
      "Epoch    1 /    5  | Train Loss: 0.2061 Acc: 0.9218  | Val Loss: 0.5354 Acc: 0.7674  | Elapsed time: 0:00:15.359614\n",
      "Epoch    2 /    5  | Train Loss: 0.1681 Acc: 0.9364  | Val Loss: 0.5301 Acc: 0.8140  | Elapsed time: 0:00:31.023119\n",
      "Epoch    3 /    5  | Train Loss: 0.1523 Acc: 0.9381  | Val Loss: 1.4553 Acc: 0.7674  | Elapsed time: 0:00:46.645951\n",
      "Phase 4:\n",
      "Epoch    1 /    5  | Train Loss: 0.1564 Acc: 0.9353  | Val Loss: 0.6374 Acc: 0.7907  | Elapsed time: 0:00:15.620752\n",
      "Epoch    2 /    5  | Train Loss: 0.1640 Acc: 0.9308  | Val Loss: 0.5153 Acc: 0.8140  | Elapsed time: 0:00:31.321439\n",
      "Epoch    3 /    5  | Train Loss: 0.1535 Acc: 0.9375  | Val Loss: 0.4902 Acc: 0.8372  | Elapsed time: 0:00:47.634885\n",
      "Epoch    4 /    5  | Train Loss: 0.1327 Acc: 0.9449  | Val Loss: 0.5196 Acc: 0.8372  | Elapsed time: 0:01:03.779848\n",
      "Epoch    5 /    5  | Train Loss: 0.1375 Acc: 0.9494  | Val Loss: 0.5416 Acc: 0.8372  | Elapsed time: 0:01:20.076112\n",
      "Phase 5:\n",
      "Epoch    1 /    5  | Train Loss: 0.1318 Acc: 0.9482  | Val Loss: 0.3563 Acc: 0.8372  | Elapsed time: 0:00:15.935180\n",
      "Epoch    2 /    5  | Train Loss: 0.1258 Acc: 0.9516  | Val Loss: 0.4375 Acc: 0.8372  | Elapsed time: 0:00:31.997352\n",
      "Epoch    3 /    5  | Train Loss: 0.1107 Acc: 0.9606  | Val Loss: 0.3886 Acc: 0.8372  | Elapsed time: 0:00:48.440447\n",
      "Epoch    4 /    5  | Train Loss: 0.1116 Acc: 0.9567  | Val Loss: 0.5537 Acc: 0.8140  | Elapsed time: 0:01:04.716292\n",
      "Phase 6:\n",
      "Epoch    1 /    5  | Train Loss: 0.1142 Acc: 0.9544  | Val Loss: 0.4235 Acc: 0.8605  | Elapsed time: 0:00:16.120692\n",
      "Epoch    2 /    5  | Train Loss: 0.1277 Acc: 0.9488  | Val Loss: 0.4401 Acc: 0.8372  | Elapsed time: 0:00:32.527064\n"
     ]
    }
   ],
   "source": [
    "training_params = [\n",
    "    { \"idx\": 1, \"robustness\": 0.2, \"break_at_val_acc_diff\": 0.05},\n",
    "    { \"idx\": 2, \"robustness\": 0.5, \"break_at_val_acc_diff\": 0.02},\n",
    "    { \"idx\": 3, \"robustness\": 1.0, \"break_at_val_acc_diff\": 0.01},\n",
    "    { \"idx\": 4, \"robustness\": 2.0, \"break_at_val_acc_diff\": -0.000001},\n",
    "    { \"idx\": 5, \"robustness\": 2.0, \"break_at_val_acc_diff\": -0.000001},\n",
    "    { \"idx\": 6, \"robustness\": 2.0, \"break_at_val_acc_diff\": -0.000001}\n",
    "]\n",
    "for param in training_params:\n",
    "    print(f\"Phase {param[\"idx\"]}:\")\n",
    "    if param[\"idx\"] == 1:\n",
    "        model_data = init_model_for_training(f'{dataset_dir}/data', f'{dataset_dir}/val', \n",
    "                                             batch_size=32, arch=\"resnet18\", image_size=224, robustness=param[\"robustness\"],\n",
    "                                             lr=1e-4, weight_decay=1e-4, silent=True)\n",
    "    else:\n",
    "        model_data = prepare_for_retraining(model_data, f'{dataset_dir}/data', f'{dataset_dir}/val', \n",
    "                                            batch_size=32, image_size=224, robustness=param[\"robustness\"], silent=True)\n",
    "    train(model_data, 5, f\"{dataset_dir}/checkpoint.root-classifier.ta.ep{param[\"idx\"]:02}###.pth\", \n",
    "          break_at_val_acc_diff=param[\"break_at_val_acc_diff\"])"
   ]
  },
  {
   "cell_type": "code",
   "execution_count": 52,
   "id": "950c9896-8384-4722-8115-c43f43054e01",
   "metadata": {},
   "outputs": [],
   "source": [
    "model_data = torch.load(f\"{dataset_dir}/checkpoint.root-classifier.ta.ep060000.pth\", weights_only=False)"
   ]
  },
  {
   "cell_type": "code",
   "execution_count": 53,
   "id": "eb017372-e1fe-4a5b-9554-bb56127c32b8",
   "metadata": {},
   "outputs": [
    {
     "name": "stdout",
     "output_type": "stream",
     "text": [
      "Class: insect          ----> Success: 30/30 -> 100.00%\n",
      "Class: other           ----> Success: 7/13 -> 53.85%\n"
     ]
    }
   ],
   "source": [
    "test_class(model_data, f\"{dataset_dir}/val\", ['insect', 'other'])"
   ]
  },
  {
   "cell_type": "code",
   "execution_count": 54,
   "id": "512366df-971e-4212-ae5f-025171c97808",
   "metadata": {},
   "outputs": [
    {
     "name": "stdout",
     "output_type": "stream",
     "text": [
      "other-04 (hotdog): \n",
      "\t \u001b[31minsect\u001b[0m(0.931)  \n",
      "other-06 (flower): \n",
      "\t \u001b[31minsect\u001b[0m(0.841)  \n",
      "other-07 (rock): \n",
      "\t \u001b[31minsect\u001b[0m(0.987)  \n",
      "other-09 (oriole): \n",
      "\t \u001b[31minsect\u001b[0m(0.952)  \n",
      "other-10 (dog): \n",
      "\t \u001b[31minsect\u001b[0m(0.957)  \n",
      "other-12 (kingfisher): \n",
      "\t \u001b[31minsect\u001b[0m(0.514)  \n",
      "Top   1 accuracy: 38/44 -> 86.36%\n",
      "Top   1 accuracy: 38/44 -> 86.36%\n"
     ]
    }
   ],
   "source": [
    "test_top_k(model_data, f\"{dataset_dir}/test\", 1, print_genus_match=False, print_no_match=True, print_preds=False)"
   ]
  },
  {
   "cell_type": "markdown",
   "id": "388811fc-76b0-4497-bb38-b08419aa7183",
   "metadata": {},
   "source": [
    "### Model B (resnet-34) ***"
   ]
  },
  {
   "cell_type": "code",
   "execution_count": 51,
   "id": "f56c1df1-8552-4c64-b7f8-6539f2324b02",
   "metadata": {},
   "outputs": [
    {
     "name": "stdout",
     "output_type": "stream",
     "text": [
      "Phase 1:\n",
      "Epoch    1 /    5  | Train Loss: 0.1847 Acc: 0.9150  | Val Loss: 0.1013 Acc: 0.9535  | Elapsed time: 0:00:14.834023\n",
      "Epoch    2 /    5  | Train Loss: 0.0582 Acc: 0.9797  | Val Loss: 0.2177 Acc: 0.8837  | Elapsed time: 0:00:30.416462\n",
      "Phase 2:\n",
      "Epoch    1 /    5  | Train Loss: 0.2567 Acc: 0.8953  | Val Loss: 0.5157 Acc: 0.8140  | Elapsed time: 0:00:16.635585\n",
      "Epoch    2 /    5  | Train Loss: 0.1752 Acc: 0.9302  | Val Loss: 0.3952 Acc: 0.8372  | Elapsed time: 0:00:33.741523\n",
      "Epoch    3 /    5  | Train Loss: 0.1595 Acc: 0.9381  | Val Loss: 0.2087 Acc: 0.9302  | Elapsed time: 0:00:51.494270\n",
      "Epoch    4 /    5  | Train Loss: 0.1508 Acc: 0.9370  | Val Loss: 0.4280 Acc: 0.8372  | Elapsed time: 0:01:09.263364\n",
      "Phase 3:\n",
      "Epoch    1 /    5  | Train Loss: 0.1680 Acc: 0.9330  | Val Loss: 0.4454 Acc: 0.8372  | Elapsed time: 0:00:17.794616\n",
      "Epoch    2 /    5  | Train Loss: 0.1407 Acc: 0.9443  | Val Loss: 0.3492 Acc: 0.8837  | Elapsed time: 0:00:35.971152\n",
      "Epoch    3 /    5  | Train Loss: 0.1209 Acc: 0.9589  | Val Loss: 0.2892 Acc: 0.8837  | Elapsed time: 0:00:54.411684\n",
      "Phase 4:\n",
      "Epoch    1 /    5  | Train Loss: 0.1369 Acc: 0.9415  | Val Loss: 0.3165 Acc: 0.9070  | Elapsed time: 0:00:18.136636\n",
      "Epoch    2 /    5  | Train Loss: 0.1610 Acc: 0.9364  | Val Loss: 0.3236 Acc: 0.8837  | Elapsed time: 0:00:37.027548\n",
      "Phase 5:\n",
      "Epoch    1 /    5  | Train Loss: 0.1276 Acc: 0.9505  | Val Loss: 0.3292 Acc: 0.8837  | Elapsed time: 0:00:18.352609\n",
      "Epoch    2 /    5  | Train Loss: 0.1144 Acc: 0.9600  | Val Loss: 0.2918 Acc: 0.9070  | Elapsed time: 0:00:37.021400\n",
      "Epoch    3 /    5  | Train Loss: 0.1087 Acc: 0.9572  | Val Loss: 0.3270 Acc: 0.9070  | Elapsed time: 0:00:55.843070\n",
      "Epoch    4 /    5  | Train Loss: 0.0995 Acc: 0.9567  | Val Loss: 0.3635 Acc: 0.8605  | Elapsed time: 0:01:14.418748\n",
      "Phase 6:\n",
      "Epoch    1 /    5  | Train Loss: 0.1161 Acc: 0.9567  | Val Loss: 0.3346 Acc: 0.8837  | Elapsed time: 0:00:18.362330\n",
      "Epoch    2 /    5  | Train Loss: 0.1185 Acc: 0.9516  | Val Loss: 0.3060 Acc: 0.9070  | Elapsed time: 0:00:37.139052\n",
      "Epoch    3 /    5  | Train Loss: 0.1255 Acc: 0.9505  | Val Loss: 0.3771 Acc: 0.8837  | Elapsed time: 0:00:55.801301\n"
     ]
    }
   ],
   "source": [
    "training_params = [\n",
    "    { \"idx\": 1, \"robustness\": 0.2, \"break_at_val_acc_diff\": 0.05},\n",
    "    { \"idx\": 2, \"robustness\": 0.5, \"break_at_val_acc_diff\": 0.02},\n",
    "    { \"idx\": 3, \"robustness\": 1.0, \"break_at_val_acc_diff\": 0.01},\n",
    "    { \"idx\": 4, \"robustness\": 2.0, \"break_at_val_acc_diff\": -0.000001},\n",
    "    { \"idx\": 5, \"robustness\": 2.0, \"break_at_val_acc_diff\": -0.000001},\n",
    "    { \"idx\": 6, \"robustness\": 2.0, \"break_at_val_acc_diff\": -0.000001}\n",
    "]\n",
    "for param in training_params:\n",
    "    print(f\"Phase {param[\"idx\"]}:\")\n",
    "    if param[\"idx\"] == 1:\n",
    "        model_data = init_model_for_training(f'{dataset_dir}/data', f'{dataset_dir}/val', \n",
    "                                             batch_size=32, arch=\"resnet34\", image_size=224, robustness=param[\"robustness\"],\n",
    "                                             lr=1e-4, weight_decay=1e-4, silent=True)\n",
    "    else:\n",
    "        model_data = prepare_for_retraining(model_data, f'{dataset_dir}/data', f'{dataset_dir}/val', \n",
    "                                            batch_size=32, image_size=224, robustness=param[\"robustness\"], silent=True)\n",
    "    train(model_data, 5, f\"{dataset_dir}/checkpoint.root-classifier.tb.ep{param[\"idx\"]:02}###.pth\", \n",
    "          break_at_val_acc_diff=param[\"break_at_val_acc_diff\"])"
   ]
  },
  {
   "cell_type": "code",
   "execution_count": 70,
   "id": "46aaa51d-d187-4333-aa07-e037c5c59e43",
   "metadata": {},
   "outputs": [],
   "source": [
    "model_data = torch.load(f\"{dataset_dir}/checkpoint.root-classifier.tb.ep060001.pth\", weights_only=False)"
   ]
  },
  {
   "cell_type": "code",
   "execution_count": 71,
   "id": "8b7e22c0-9b22-4001-835d-14f64076d7ae",
   "metadata": {},
   "outputs": [
    {
     "name": "stdout",
     "output_type": "stream",
     "text": [
      "Class: insect          ----> Success: 29/30 -> 96.67%\n",
      "Class: other           ----> Success: 10/13 -> 76.92%\n"
     ]
    }
   ],
   "source": [
    "test_class(model_data, f\"{dataset_dir}/val\", ['insect', 'other'])"
   ]
  },
  {
   "cell_type": "code",
   "execution_count": 72,
   "id": "515c9d9c-3bdb-412a-bf89-015ff2135df8",
   "metadata": {},
   "outputs": [
    {
     "name": "stdout",
     "output_type": "stream",
     "text": [
      "insect-1: \n",
      "\t \u001b[31mother\u001b[0m(0.802)  \n",
      "other-07 (rock): \n",
      "\t \u001b[31minsect\u001b[0m(0.999)  \n",
      "other-09 (oriole): \n",
      "\t \u001b[31minsect\u001b[0m(0.891)  \n",
      "other-10 (toad): \n",
      "\t \u001b[31minsect\u001b[0m(0.601)  \n",
      "Top   1 accuracy: 40/44 -> 90.91%\n",
      "Top   1 accuracy: 40/44 -> 90.91%\n"
     ]
    }
   ],
   "source": [
    "test_top_k(model_data, f\"{dataset_dir}/test\", 1, print_genus_match=False, print_no_match=True, print_preds=False)"
   ]
  },
  {
   "cell_type": "code",
   "execution_count": null,
   "id": "8d5e29b2-0cbf-4374-bd16-760f91e92d40",
   "metadata": {},
   "outputs": [],
   "source": []
  }
 ],
 "metadata": {
  "kernelspec": {
   "display_name": "Python 3 (ipykernel)",
   "language": "python",
   "name": "python3"
  },
  "language_info": {
   "codemirror_mode": {
    "name": "ipython",
    "version": 3
   },
   "file_extension": ".py",
   "mimetype": "text/x-python",
   "name": "python",
   "nbconvert_exporter": "python",
   "pygments_lexer": "ipython3",
   "version": "3.12.9"
  }
 },
 "nbformat": 4,
 "nbformat_minor": 5
}
