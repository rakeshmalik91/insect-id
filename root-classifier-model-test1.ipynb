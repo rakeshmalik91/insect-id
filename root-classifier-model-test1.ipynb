{
 "cells": [
  {
   "cell_type": "code",
   "execution_count": 1,
   "id": "21dc87f2-2830-4f97-9d15-cf6dc891b72f",
   "metadata": {},
   "outputs": [],
   "source": [
    "%load_ext autoreload"
   ]
  },
  {
   "cell_type": "code",
   "execution_count": 2,
   "id": "235c4049-9bd8-42ed-a870-38447e7d3040",
   "metadata": {},
   "outputs": [],
   "source": [
    "%autoreload 2"
   ]
  },
  {
   "cell_type": "code",
   "execution_count": 35,
   "id": "d735e479-5a03-4491-a368-f532990b2a2a",
   "metadata": {},
   "outputs": [],
   "source": [
    "import mynnlib\n",
    "from mynnlib import *\n",
    "\n",
    "dataset_dir = \"insect-dataset/root-classifier\""
   ]
  },
  {
   "cell_type": "markdown",
   "id": "a179d419-8480-4130-8b02-3dfe9b1ed561",
   "metadata": {},
   "source": [
    "# Create datasets"
   ]
  },
  {
   "cell_type": "code",
   "execution_count": 25,
   "id": "f8489b94-2f99-4012-a458-01d5b8a92c7b",
   "metadata": {},
   "outputs": [
    {
     "name": "stdout",
     "output_type": "stream",
     "text": [
      "class: moth                 | total data count:     187506 | used data count:      14804\n",
      "class: butterfly            | total data count:     124809 | used data count:      14956\n"
     ]
    }
   ],
   "source": [
    "target_data_cnt_per_class = 15000\n",
    "\n",
    "for class_name in [\"moth\", \"butterfly\"]:\n",
    "    class_dir = f\"{dataset_dir}/data/{class_name}\"\n",
    "    if os.path.exists(class_dir):\n",
    "        shutil.rmtree(class_dir)\n",
    "    src_dir = f\"{dataset_dir}/../{class_name}/data\"\n",
    "    data_cnt = sum([len(os.listdir(f\"{src_dir}/{species_name}\")) for species_name in os.listdir(src_dir)])\n",
    "    if not os.path.exists(class_dir):\n",
    "        os.makedirs(class_dir)\n",
    "    used_data_cnt = 0\n",
    "    for species_name in os.listdir(src_dir):\n",
    "        for file in Path(f\"{src_dir}/{species_name}\").iterdir():\n",
    "            if file.is_file() and random.random() <= target_data_cnt_per_class/data_cnt:\n",
    "                used_data_cnt += 1\n",
    "                shutil.copy(file, f\"{class_dir}/{file.name}\")\n",
    "    print(f\"class: {class_name:20} | total data count: {data_cnt:10} | used data count: {used_data_cnt:10}\")"
   ]
  },
  {
   "cell_type": "code",
   "execution_count": 27,
   "id": "fdc42860-6f33-4c4c-ae85-2715dba559c8",
   "metadata": {},
   "outputs": [
    {
     "name": "stdout",
     "output_type": "stream",
     "text": [
      "class: other                | used data count:      14053\n"
     ]
    }
   ],
   "source": [
    "other_data_cnt = sum([1 for class_name in os.listdir(f\"{dataset_dir}/data/other\")])\n",
    "print(f\"class: {'other':20} | used data count: {other_data_cnt:10}\")"
   ]
  },
  {
   "cell_type": "code",
   "execution_count": 44,
   "id": "92b30c59-74ff-42b1-bf4a-30fa3de2d65d",
   "metadata": {},
   "outputs": [
    {
     "name": "stdout",
     "output_type": "stream",
     "text": [
      "class: other                | used data count:       4966\n"
     ]
    }
   ],
   "source": [
    "other_insect_data_cnt = sum([1 for class_name in os.listdir(f\"{dataset_dir}/data/other-insect\")])\n",
    "print(f\"class: {'other':20} | used data count: {other_insect_data_cnt:10}\")"
   ]
  },
  {
   "cell_type": "markdown",
   "id": "dee00c2f-5756-494a-9014-0f7d6504eb64",
   "metadata": {},
   "source": [
    "# Train\n",
    "### Model A"
   ]
  },
  {
   "cell_type": "code",
   "execution_count": 29,
   "id": "dfd90461-6832-4ab6-acd0-8796dc277037",
   "metadata": {},
   "outputs": [
    {
     "name": "stdout",
     "output_type": "stream",
     "text": [
      "Phase 1:\n",
      "Epoch    1 /    5  | Train Loss: 0.1766 Acc: 0.9332  | Val Loss: 0.2624 Acc: 0.9305  | Elapsed time: 0:05:49.368873\n",
      "Epoch    2 /    5  | Train Loss: 0.0988 Acc: 0.9624  | Val Loss: 0.3145 Acc: 0.9109  | Elapsed time: 0:11:26.323126\n",
      "Phase 2:\n",
      "Epoch    1 /    5  | Train Loss: 0.2937 Acc: 0.8861  | Val Loss: 0.1139 Acc: 0.9626  | Elapsed time: 0:06:53.654441\n",
      "Epoch    2 /    5  | Train Loss: 0.2317 Acc: 0.9092  | Val Loss: 0.1865 Acc: 0.9465  | Elapsed time: 0:14:57.317811\n",
      "Phase 3:\n",
      "Epoch    1 /    5  | Train Loss: 0.2392 Acc: 0.9052  | Val Loss: 0.3843 Acc: 0.9127  | Elapsed time: 0:05:30.800892\n",
      "Epoch    2 /    5  | Train Loss: 0.2203 Acc: 0.9146  | Val Loss: 0.1586 Acc: 0.9537  | Elapsed time: 0:11:04.983225\n",
      "Epoch    3 /    5  | Train Loss: 0.2121 Acc: 0.9169  | Val Loss: 0.1383 Acc: 0.9554  | Elapsed time: 0:16:37.199918\n",
      "Phase 4:\n",
      "Epoch    1 /    5  | Train Loss: 0.1971 Acc: 0.9222  | Val Loss: 0.1510 Acc: 0.9519  | Elapsed time: 0:05:31.102094\n",
      "Epoch    2 /    5  | Train Loss: 0.1827 Acc: 0.9282  | Val Loss: 0.1074 Acc: 0.9590  | Elapsed time: 0:11:13.291224\n",
      "Epoch    3 /    5  | Train Loss: 0.1722 Acc: 0.9324  | Val Loss: 0.0995 Acc: 0.9643  | Elapsed time: 0:16:52.379553\n",
      "Epoch    4 /    5  | Train Loss: 0.1685 Acc: 0.9347  | Val Loss: 0.0878 Acc: 0.9679  | Elapsed time: 0:22:31.875496\n",
      "Epoch    5 /    5  | Train Loss: 0.1621 Acc: 0.9378  | Val Loss: 0.1034 Acc: 0.9679  | Elapsed time: 0:28:10.039923\n",
      "Phase 5:\n",
      "Epoch    1 /    5  | Train Loss: 0.1579 Acc: 0.9382  | Val Loss: 0.1162 Acc: 0.9608  | Elapsed time: 0:05:36.746485\n",
      "Epoch    2 /    5  | Train Loss: 0.1555 Acc: 0.9389  | Val Loss: 0.0912 Acc: 0.9661  | Elapsed time: 0:11:25.647730\n",
      "Epoch    3 /    5  | Train Loss: 0.1503 Acc: 0.9420  | Val Loss: 0.1201 Acc: 0.9572  | Elapsed time: 0:16:56.370913\n"
     ]
    }
   ],
   "source": [
    "training_params = [\n",
    "    { \"idx\": 1, \"robustness\": 0.2, \"break_at_val_acc_diff\": 0.05},\n",
    "    { \"idx\": 2, \"robustness\": 0.5, \"break_at_val_acc_diff\": 0.02},\n",
    "    { \"idx\": 3, \"robustness\": 1.0, \"break_at_val_acc_diff\": 0.01},\n",
    "    { \"idx\": 4, \"robustness\": 2.0, \"break_at_val_acc_diff\": -0.000001},\n",
    "    { \"idx\": 5, \"robustness\": 2.0, \"break_at_val_acc_diff\": -0.000001}\n",
    "]\n",
    "for param in training_params:\n",
    "    print(f\"Phase {param[\"idx\"]}:\")\n",
    "    if param[\"idx\"] == 1:\n",
    "        model_data = init_model_for_training(f'{dataset_dir}/data', f'{dataset_dir}/val', \n",
    "                                             batch_size=32, arch=\"resnet18\", image_size=224, robustness=param[\"robustness\"],\n",
    "                                             lr=1e-4, weight_decay=1e-4, silent=True)\n",
    "    else:\n",
    "        model_data = prepare_for_retraining(model_data, f'{dataset_dir}/data', f'{dataset_dir}/val', \n",
    "                                            batch_size=32, image_size=224, robustness=param[\"robustness\"], silent=True)\n",
    "    train(model_data, 5, f\"{dataset_dir}/checkpoint.root-classifier.ta.ep{param[\"idx\"]:02}###.pth\", \n",
    "          break_at_val_acc_diff=param[\"break_at_val_acc_diff\"])"
   ]
  },
  {
   "cell_type": "code",
   "execution_count": 30,
   "id": "3c244496-e9c8-43c4-9752-4e82f9a01f55",
   "metadata": {},
   "outputs": [],
   "source": [
    "model_data = torch.load(f\"{dataset_dir}/checkpoint.root-classifier.ta.ep050001.pth\", weights_only=False)"
   ]
  },
  {
   "cell_type": "code",
   "execution_count": 41,
   "id": "a5d931cf-5d10-4d53-9c71-d4370aef967b",
   "metadata": {},
   "outputs": [
    {
     "name": "stdout",
     "output_type": "stream",
     "text": [
      "Class: moth            ----> Success: 143/157 -> 0.91%\n",
      "Class: butterfly       ----> Success: 314/331 -> 0.95%\n",
      "Class: other           ----> Success: 542/561 -> 0.97%\n"
     ]
    }
   ],
   "source": [
    "test_class(model_data, f\"{dataset_dir}/val\", [\"moth\", \"butterfly\", \"other\"])"
   ]
  },
  {
   "cell_type": "markdown",
   "id": "ddcd2ad5-1212-4969-9f3a-db7db7db7beb",
   "metadata": {},
   "source": [
    "### Model B (added other-insect class)"
   ]
  },
  {
   "cell_type": "code",
   "execution_count": 46,
   "id": "ad4be908-a142-4954-9a20-b46a95b9d3d2",
   "metadata": {},
   "outputs": [
    {
     "name": "stdout",
     "output_type": "stream",
     "text": [
      "Phase 1:\n",
      "Epoch    1 /    5  | Train Loss: 0.2307 Acc: 0.9159  | Val Loss: 0.1703 Acc: 0.9458  | Elapsed time: 0:09:20.039842\n",
      "Epoch    2 /    5  | Train Loss: 0.1274 Acc: 0.9541  | Val Loss: 0.1647 Acc: 0.9445  | Elapsed time: 0:14:37.725237\n",
      "Phase 2:\n",
      "Epoch    1 /    5  | Train Loss: 0.3708 Acc: 0.8613  | Val Loss: 0.1759 Acc: 0.9433  | Elapsed time: 0:08:59.943711\n",
      "Epoch    2 /    5  | Train Loss: 0.2904 Acc: 0.8883  | Val Loss: 0.1090 Acc: 0.9647  | Elapsed time: 0:15:22.880138\n",
      "Epoch    3 /    5  | Train Loss: 0.2669 Acc: 0.8988  | Val Loss: 0.1150 Acc: 0.9697  | Elapsed time: 0:21:23.838444\n",
      "Phase 3:\n",
      "Epoch    1 /    5  | Train Loss: 0.2877 Acc: 0.8902  | Val Loss: 0.1485 Acc: 0.9521  | Elapsed time: 0:08:24.598403\n",
      "Epoch    2 /    5  | Train Loss: 0.2695 Acc: 0.8981  | Val Loss: 0.1888 Acc: 0.9407  | Elapsed time: 0:15:23.914549\n",
      "Phase 4:\n",
      "Epoch    1 /    5  | Train Loss: 0.2578 Acc: 0.9031  | Val Loss: 0.1462 Acc: 0.9571  | Elapsed time: 0:06:00.299434\n",
      "Epoch    2 /    5  | Train Loss: 0.2306 Acc: 0.9122  | Val Loss: 0.0982 Acc: 0.9660  | Elapsed time: 0:12:00.382810\n",
      "Epoch    3 /    5  | Train Loss: 0.2191 Acc: 0.9160  | Val Loss: 0.1142 Acc: 0.9634  | Elapsed time: 0:17:59.742082\n",
      "Phase 5:\n",
      "Epoch    1 /    5  | Train Loss: 0.2132 Acc: 0.9213  | Val Loss: 0.1212 Acc: 0.9571  | Elapsed time: 0:06:00.362673\n",
      "Epoch    2 /    5  | Train Loss: 0.2089 Acc: 0.9219  | Val Loss: 0.1206 Acc: 0.9584  | Elapsed time: 0:12:01.043058\n",
      "Epoch    3 /    5  | Train Loss: 0.2079 Acc: 0.9218  | Val Loss: 0.0977 Acc: 0.9647  | Elapsed time: 0:18:04.163581\n",
      "Epoch    4 /    5  | Train Loss: 0.1999 Acc: 0.9243  | Val Loss: 0.1131 Acc: 0.9596  | Elapsed time: 0:24:07.808873\n"
     ]
    }
   ],
   "source": [
    "training_params = [\n",
    "    { \"idx\": 1, \"robustness\": 0.2, \"break_at_val_acc_diff\": 0.05},\n",
    "    { \"idx\": 2, \"robustness\": 0.5, \"break_at_val_acc_diff\": 0.02},\n",
    "    { \"idx\": 3, \"robustness\": 1.0, \"break_at_val_acc_diff\": 0.01},\n",
    "    { \"idx\": 4, \"robustness\": 2.0, \"break_at_val_acc_diff\": -0.000001},\n",
    "    { \"idx\": 5, \"robustness\": 2.0, \"break_at_val_acc_diff\": -0.000001}\n",
    "]\n",
    "for param in training_params:\n",
    "    print(f\"Phase {param[\"idx\"]}:\")\n",
    "    if param[\"idx\"] == 1:\n",
    "        model_data = init_model_for_training(f'{dataset_dir}/data', f'{dataset_dir}/val', \n",
    "                                             batch_size=32, arch=\"resnet18\", image_size=224, robustness=param[\"robustness\"],\n",
    "                                             lr=1e-4, weight_decay=1e-4, silent=True)\n",
    "    else:\n",
    "        model_data = prepare_for_retraining(model_data, f'{dataset_dir}/data', f'{dataset_dir}/val', \n",
    "                                            batch_size=32, image_size=224, robustness=param[\"robustness\"], silent=True)\n",
    "    train(model_data, 5, f\"{dataset_dir}/checkpoint.root-classifier.tb.ep{param[\"idx\"]:02}###.pth\", \n",
    "          break_at_val_acc_diff=param[\"break_at_val_acc_diff\"])"
   ]
  },
  {
   "cell_type": "code",
   "execution_count": 47,
   "id": "6d3166bc-7e92-4933-9358-53fe41dd15aa",
   "metadata": {},
   "outputs": [],
   "source": [
    "model_data = torch.load(f\"{dataset_dir}/checkpoint.root-classifier.tb.ep050002.pth\", weights_only=False)"
   ]
  },
  {
   "cell_type": "code",
   "execution_count": 48,
   "id": "b22f57f9-6a47-4498-a486-9fe470af7de7",
   "metadata": {},
   "outputs": [
    {
     "name": "stdout",
     "output_type": "stream",
     "text": [
      "Class: moth            ----> Success: 138/157 -> 0.88%\n",
      "Class: butterfly       ----> Success: 308/331 -> 0.93%\n",
      "Class: other-insect    ----> Success: 537/563 -> 0.95%\n",
      "Class: other           ----> Success: 765/793 -> 0.96%\n"
     ]
    }
   ],
   "source": [
    "test_class(model_data, f\"{dataset_dir}/val\", [\"moth\", \"butterfly\", \"other-insect\", \"other\"])"
   ]
  },
  {
   "cell_type": "code",
   "execution_count": null,
   "id": "0eb0be18-1e79-4c04-8ba5-d1c0cfb980e7",
   "metadata": {},
   "outputs": [],
   "source": []
  }
 ],
 "metadata": {
  "kernelspec": {
   "display_name": "Python 3 (ipykernel)",
   "language": "python",
   "name": "python3"
  },
  "language_info": {
   "codemirror_mode": {
    "name": "ipython",
    "version": 3
   },
   "file_extension": ".py",
   "mimetype": "text/x-python",
   "name": "python",
   "nbconvert_exporter": "python",
   "pygments_lexer": "ipython3",
   "version": "3.12.9"
  }
 },
 "nbformat": 4,
 "nbformat_minor": 5
}
