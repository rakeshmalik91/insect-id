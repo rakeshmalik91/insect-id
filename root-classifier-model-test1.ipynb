{
 "cells": [
  {
   "cell_type": "code",
   "execution_count": 1,
   "id": "21dc87f2-2830-4f97-9d15-cf6dc891b72f",
   "metadata": {},
   "outputs": [],
   "source": [
    "%load_ext autoreload"
   ]
  },
  {
   "cell_type": "code",
   "execution_count": 2,
   "id": "235c4049-9bd8-42ed-a870-38447e7d3040",
   "metadata": {},
   "outputs": [],
   "source": [
    "%autoreload 2"
   ]
  },
  {
   "cell_type": "code",
   "execution_count": 3,
   "id": "d735e479-5a03-4491-a368-f532990b2a2a",
   "metadata": {},
   "outputs": [],
   "source": [
    "import mynnlib\n",
    "from mynnlib import *\n",
    "\n",
    "dataset_dir = \"insect-dataset/root-classifier\""
   ]
  },
  {
   "cell_type": "markdown",
   "id": "a179d419-8480-4130-8b02-3dfe9b1ed561",
   "metadata": {},
   "source": [
    "# Create datasets"
   ]
  },
  {
   "cell_type": "code",
   "execution_count": 25,
   "id": "f8489b94-2f99-4012-a458-01d5b8a92c7b",
   "metadata": {},
   "outputs": [
    {
     "name": "stdout",
     "output_type": "stream",
     "text": [
      "class: moth                 | total data count:     187506 | used data count:      14779\n",
      "class: butterfly            | total data count:     124809 | used data count:      14967\n"
     ]
    }
   ],
   "source": [
    "target_data_cnt_per_class = 15000\n",
    "\n",
    "for class_name in [\"moth\", \"butterfly\"]:\n",
    "    class_dir = f\"{dataset_dir}/data/{class_name}\"\n",
    "    if os.path.exists(class_dir):\n",
    "        shutil.rmtree(class_dir)\n",
    "    src_dir = f\"{dataset_dir}/../{class_name}/data\"\n",
    "    data_cnt = sum([len(os.listdir(f\"{src_dir}/{species_name}\")) for species_name in os.listdir(src_dir)])\n",
    "    if not os.path.exists(class_dir):\n",
    "        os.makedirs(class_dir)\n",
    "    used_data_cnt = 0\n",
    "    for species_name in os.listdir(src_dir):\n",
    "        for file in Path(f\"{src_dir}/{species_name}\").iterdir():\n",
    "            if file.is_file() and random.random() <= target_data_cnt_per_class/data_cnt:\n",
    "                used_data_cnt += 1\n",
    "                shutil.copy(file, f\"{class_dir}/{file.name}\")\n",
    "    print(f\"class: {class_name:20} | total data count: {data_cnt:10} | used data count: {used_data_cnt:10}\")"
   ]
  },
  {
   "cell_type": "code",
   "execution_count": 26,
   "id": "fdc42860-6f33-4c4c-ae85-2715dba559c8",
   "metadata": {},
   "outputs": [
    {
     "name": "stdout",
     "output_type": "stream",
     "text": [
      "class: other                | used data count:      14070\n"
     ]
    }
   ],
   "source": [
    "other_data_cnt = sum([1 for class_name in os.listdir(f\"{dataset_dir}/data/other\")])\n",
    "print(f\"class: {'other':20} | used data count: {other_data_cnt:10}\")"
   ]
  },
  {
   "cell_type": "code",
   "execution_count": 27,
   "id": "92b30c59-74ff-42b1-bf4a-30fa3de2d65d",
   "metadata": {},
   "outputs": [
    {
     "name": "stdout",
     "output_type": "stream",
     "text": [
      "class: other                | used data count:       3896\n"
     ]
    }
   ],
   "source": [
    "other_insect_data_cnt = sum([1 for class_name in os.listdir(f\"{dataset_dir}/data/other-insect\")])\n",
    "print(f\"class: {'other':20} | used data count: {other_insect_data_cnt:10}\")"
   ]
  },
  {
   "cell_type": "markdown",
   "id": "12e3c48c-4202-47c3-a125-d7defcf11987",
   "metadata": {},
   "source": [
    "# Train"
   ]
  },
  {
   "cell_type": "markdown",
   "id": "888d4101-ff86-42d3-aeef-f214ddfb9c1c",
   "metadata": {
    "jp-MarkdownHeadingCollapsed": true
   },
   "source": [
    "### Model A (resnet-18)"
   ]
  },
  {
   "cell_type": "code",
   "execution_count": 29,
   "id": "dfd90461-6832-4ab6-acd0-8796dc277037",
   "metadata": {},
   "outputs": [
    {
     "name": "stdout",
     "output_type": "stream",
     "text": [
      "Phase 1:\n",
      "Epoch    1 /    5  | Train Loss: 0.1766 Acc: 0.9332  | Val Loss: 0.2624 Acc: 0.9305  | Elapsed time: 0:05:49.368873\n",
      "Epoch    2 /    5  | Train Loss: 0.0988 Acc: 0.9624  | Val Loss: 0.3145 Acc: 0.9109  | Elapsed time: 0:11:26.323126\n",
      "Phase 2:\n",
      "Epoch    1 /    5  | Train Loss: 0.2937 Acc: 0.8861  | Val Loss: 0.1139 Acc: 0.9626  | Elapsed time: 0:06:53.654441\n",
      "Epoch    2 /    5  | Train Loss: 0.2317 Acc: 0.9092  | Val Loss: 0.1865 Acc: 0.9465  | Elapsed time: 0:14:57.317811\n",
      "Phase 3:\n",
      "Epoch    1 /    5  | Train Loss: 0.2392 Acc: 0.9052  | Val Loss: 0.3843 Acc: 0.9127  | Elapsed time: 0:05:30.800892\n",
      "Epoch    2 /    5  | Train Loss: 0.2203 Acc: 0.9146  | Val Loss: 0.1586 Acc: 0.9537  | Elapsed time: 0:11:04.983225\n",
      "Epoch    3 /    5  | Train Loss: 0.2121 Acc: 0.9169  | Val Loss: 0.1383 Acc: 0.9554  | Elapsed time: 0:16:37.199918\n",
      "Phase 4:\n",
      "Epoch    1 /    5  | Train Loss: 0.1971 Acc: 0.9222  | Val Loss: 0.1510 Acc: 0.9519  | Elapsed time: 0:05:31.102094\n",
      "Epoch    2 /    5  | Train Loss: 0.1827 Acc: 0.9282  | Val Loss: 0.1074 Acc: 0.9590  | Elapsed time: 0:11:13.291224\n",
      "Epoch    3 /    5  | Train Loss: 0.1722 Acc: 0.9324  | Val Loss: 0.0995 Acc: 0.9643  | Elapsed time: 0:16:52.379553\n",
      "Epoch    4 /    5  | Train Loss: 0.1685 Acc: 0.9347  | Val Loss: 0.0878 Acc: 0.9679  | Elapsed time: 0:22:31.875496\n",
      "Epoch    5 /    5  | Train Loss: 0.1621 Acc: 0.9378  | Val Loss: 0.1034 Acc: 0.9679  | Elapsed time: 0:28:10.039923\n",
      "Phase 5:\n",
      "Epoch    1 /    5  | Train Loss: 0.1579 Acc: 0.9382  | Val Loss: 0.1162 Acc: 0.9608  | Elapsed time: 0:05:36.746485\n",
      "Epoch    2 /    5  | Train Loss: 0.1555 Acc: 0.9389  | Val Loss: 0.0912 Acc: 0.9661  | Elapsed time: 0:11:25.647730\n",
      "Epoch    3 /    5  | Train Loss: 0.1503 Acc: 0.9420  | Val Loss: 0.1201 Acc: 0.9572  | Elapsed time: 0:16:56.370913\n"
     ]
    }
   ],
   "source": [
    "training_params = [\n",
    "    { \"idx\": 1, \"robustness\": 0.2, \"break_at_val_acc_diff\": 0.05},\n",
    "    { \"idx\": 2, \"robustness\": 0.5, \"break_at_val_acc_diff\": 0.02},\n",
    "    { \"idx\": 3, \"robustness\": 1.0, \"break_at_val_acc_diff\": 0.01},\n",
    "    { \"idx\": 4, \"robustness\": 2.0, \"break_at_val_acc_diff\": -0.000001},\n",
    "    { \"idx\": 5, \"robustness\": 2.0, \"break_at_val_acc_diff\": -0.000001}\n",
    "]\n",
    "for param in training_params:\n",
    "    print(f\"Phase {param[\"idx\"]}:\")\n",
    "    if param[\"idx\"] == 1:\n",
    "        model_data = init_model_for_training(f'{dataset_dir}/data', f'{dataset_dir}/val', \n",
    "                                             batch_size=32, arch=\"resnet18\", image_size=224, robustness=param[\"robustness\"],\n",
    "                                             lr=1e-4, weight_decay=1e-4, silent=True)\n",
    "    else:\n",
    "        model_data = prepare_for_retraining(model_data, f'{dataset_dir}/data', f'{dataset_dir}/val', \n",
    "                                            batch_size=32, image_size=224, robustness=param[\"robustness\"], silent=True)\n",
    "    train(model_data, 5, f\"{dataset_dir}/checkpoint.root-classifier.ta.ep{param[\"idx\"]:02}###.pth\", \n",
    "          break_at_val_acc_diff=param[\"break_at_val_acc_diff\"])"
   ]
  },
  {
   "cell_type": "code",
   "execution_count": 30,
   "id": "3c244496-e9c8-43c4-9752-4e82f9a01f55",
   "metadata": {},
   "outputs": [],
   "source": [
    "model_data = torch.load(f\"{dataset_dir}/checkpoint.root-classifier.ta.ep050001.pth\", weights_only=False)"
   ]
  },
  {
   "cell_type": "code",
   "execution_count": 41,
   "id": "a5d931cf-5d10-4d53-9c71-d4370aef967b",
   "metadata": {},
   "outputs": [
    {
     "name": "stdout",
     "output_type": "stream",
     "text": [
      "Class: moth            ----> Success: 143/157 -> 0.91%\n",
      "Class: butterfly       ----> Success: 314/331 -> 0.95%\n",
      "Class: other           ----> Success: 542/561 -> 0.97%\n"
     ]
    }
   ],
   "source": [
    "test_class(model_data, f\"{dataset_dir}/val\", [\"moth\", \"butterfly\", \"other\"])"
   ]
  },
  {
   "cell_type": "markdown",
   "id": "ddcd2ad5-1212-4969-9f3a-db7db7db7beb",
   "metadata": {
    "jp-MarkdownHeadingCollapsed": true
   },
   "source": [
    "### Model B (resnet-18)\n",
    "added other-insect class"
   ]
  },
  {
   "cell_type": "code",
   "execution_count": 46,
   "id": "ad4be908-a142-4954-9a20-b46a95b9d3d2",
   "metadata": {},
   "outputs": [
    {
     "name": "stdout",
     "output_type": "stream",
     "text": [
      "Phase 1:\n",
      "Epoch    1 /    5  | Train Loss: 0.2307 Acc: 0.9159  | Val Loss: 0.1703 Acc: 0.9458  | Elapsed time: 0:09:20.039842\n",
      "Epoch    2 /    5  | Train Loss: 0.1274 Acc: 0.9541  | Val Loss: 0.1647 Acc: 0.9445  | Elapsed time: 0:14:37.725237\n",
      "Phase 2:\n",
      "Epoch    1 /    5  | Train Loss: 0.3708 Acc: 0.8613  | Val Loss: 0.1759 Acc: 0.9433  | Elapsed time: 0:08:59.943711\n",
      "Epoch    2 /    5  | Train Loss: 0.2904 Acc: 0.8883  | Val Loss: 0.1090 Acc: 0.9647  | Elapsed time: 0:15:22.880138\n",
      "Epoch    3 /    5  | Train Loss: 0.2669 Acc: 0.8988  | Val Loss: 0.1150 Acc: 0.9697  | Elapsed time: 0:21:23.838444\n",
      "Phase 3:\n",
      "Epoch    1 /    5  | Train Loss: 0.2877 Acc: 0.8902  | Val Loss: 0.1485 Acc: 0.9521  | Elapsed time: 0:08:24.598403\n",
      "Epoch    2 /    5  | Train Loss: 0.2695 Acc: 0.8981  | Val Loss: 0.1888 Acc: 0.9407  | Elapsed time: 0:15:23.914549\n",
      "Phase 4:\n",
      "Epoch    1 /    5  | Train Loss: 0.2578 Acc: 0.9031  | Val Loss: 0.1462 Acc: 0.9571  | Elapsed time: 0:06:00.299434\n",
      "Epoch    2 /    5  | Train Loss: 0.2306 Acc: 0.9122  | Val Loss: 0.0982 Acc: 0.9660  | Elapsed time: 0:12:00.382810\n",
      "Epoch    3 /    5  | Train Loss: 0.2191 Acc: 0.9160  | Val Loss: 0.1142 Acc: 0.9634  | Elapsed time: 0:17:59.742082\n",
      "Phase 5:\n",
      "Epoch    1 /    5  | Train Loss: 0.2132 Acc: 0.9213  | Val Loss: 0.1212 Acc: 0.9571  | Elapsed time: 0:06:00.362673\n",
      "Epoch    2 /    5  | Train Loss: 0.2089 Acc: 0.9219  | Val Loss: 0.1206 Acc: 0.9584  | Elapsed time: 0:12:01.043058\n",
      "Epoch    3 /    5  | Train Loss: 0.2079 Acc: 0.9218  | Val Loss: 0.0977 Acc: 0.9647  | Elapsed time: 0:18:04.163581\n",
      "Epoch    4 /    5  | Train Loss: 0.1999 Acc: 0.9243  | Val Loss: 0.1131 Acc: 0.9596  | Elapsed time: 0:24:07.808873\n"
     ]
    }
   ],
   "source": [
    "training_params = [\n",
    "    { \"idx\": 1, \"robustness\": 0.2, \"break_at_val_acc_diff\": 0.05},\n",
    "    { \"idx\": 2, \"robustness\": 0.5, \"break_at_val_acc_diff\": 0.02},\n",
    "    { \"idx\": 3, \"robustness\": 1.0, \"break_at_val_acc_diff\": 0.01},\n",
    "    { \"idx\": 4, \"robustness\": 2.0, \"break_at_val_acc_diff\": -0.000001},\n",
    "    { \"idx\": 5, \"robustness\": 2.0, \"break_at_val_acc_diff\": -0.000001}\n",
    "]\n",
    "for param in training_params:\n",
    "    print(f\"Phase {param[\"idx\"]}:\")\n",
    "    if param[\"idx\"] == 1:\n",
    "        model_data = init_model_for_training(f'{dataset_dir}/data', f'{dataset_dir}/val', \n",
    "                                             batch_size=32, arch=\"resnet18\", image_size=224, robustness=param[\"robustness\"],\n",
    "                                             lr=1e-4, weight_decay=1e-4, silent=True)\n",
    "    else:\n",
    "        model_data = prepare_for_retraining(model_data, f'{dataset_dir}/data', f'{dataset_dir}/val', \n",
    "                                            batch_size=32, image_size=224, robustness=param[\"robustness\"], silent=True)\n",
    "    train(model_data, 5, f\"{dataset_dir}/checkpoint.root-classifier.tb.ep{param[\"idx\"]:02}###.pth\", \n",
    "          break_at_val_acc_diff=param[\"break_at_val_acc_diff\"])"
   ]
  },
  {
   "cell_type": "code",
   "execution_count": 47,
   "id": "6d3166bc-7e92-4933-9358-53fe41dd15aa",
   "metadata": {},
   "outputs": [],
   "source": [
    "model_data = torch.load(f\"{dataset_dir}/checkpoint.root-classifier.tb.ep050002.pth\", weights_only=False)"
   ]
  },
  {
   "cell_type": "code",
   "execution_count": 8,
   "id": "b22f57f9-6a47-4498-a486-9fe470af7de7",
   "metadata": {},
   "outputs": [
    {
     "name": "stdout",
     "output_type": "stream",
     "text": [
      "Class: moth            ----> Success: 138/157 -> 87.90%\n",
      "Class: butterfly       ----> Success: 170/174 -> 97.70%\n",
      "Class: other-insect    ----> Success: 229/232 -> 98.71%\n",
      "Class: other           ----> Success: 228/230 -> 99.13%\n"
     ]
    }
   ],
   "source": [
    "test_class(model_data, f\"{dataset_dir}/val\", [\"moth\", \"butterfly\", \"other-insect\", \"other\"])"
   ]
  },
  {
   "cell_type": "code",
   "execution_count": 9,
   "id": "0eb0be18-1e79-4c04-8ba5-d1c0cfb980e7",
   "metadata": {},
   "outputs": [
    {
     "name": "stdout",
     "output_type": "stream",
     "text": [
      "Class: moth            ----> Success: 8/11 -> 72.73%\n",
      "Class: butterfly       ----> Success: 23/24 -> 95.83%\n",
      "Class: other-insect    ----> Success: 9/15 -> 60.00%\n",
      "Class: other           ----> Success: 6/17 -> 35.29%\n"
     ]
    }
   ],
   "source": [
    "test_class(model_data, f\"{dataset_dir}/test\", [\"moth\", \"butterfly\", \"other-insect\", \"other\"])"
   ]
  },
  {
   "cell_type": "code",
   "execution_count": 48,
   "id": "8d421c60-34cd-4174-8666-cc768257d2ad",
   "metadata": {},
   "outputs": [
    {
     "name": "stdout",
     "output_type": "stream",
     "text": [
      "\u001b[31mClass: moth            ----> Success: 7/11 -> 63.64%\u001b[0m\n",
      "\u001b[31mClass: butterfly       ----> Success: 22/24 -> 91.67%\u001b[0m\n",
      "\u001b[31mClass: other-insect    ----> Success: 5/15 -> 33.33%\u001b[0m\n",
      "\u001b[31mClass: other           ----> Success: 3/17 -> 17.65%\u001b[0m\n"
     ]
    }
   ],
   "source": [
    "test_class_for_min_accepted_softmax(model_data, f\"{dataset_dir}/test\", [\"moth\", \"butterfly\", \"other-insect\", \"other\"], 0.75)"
   ]
  },
  {
   "cell_type": "code",
   "execution_count": 50,
   "id": "3d3247e8-5f3c-400b-82a6-b1c09ec3d1cb",
   "metadata": {},
   "outputs": [
    {
     "name": "stdout",
     "output_type": "stream",
     "text": [
      "\u001b[31mClass: moth            ----> Success: 10/11 -> 90.91%\u001b[0m\n",
      "\u001b[31mClass: butterfly       ----> Success: 23/24 -> 95.83%\u001b[0m\n",
      "\u001b[31mClass: other-insect    ----> Success: 9/15 -> 60.00%\u001b[0m\n",
      "\u001b[31mClass: other           ----> Success: 7/17 -> 41.18%\u001b[0m\n"
     ]
    }
   ],
   "source": [
    "test_class_for_min_accepted_softmax(model_data, f\"{dataset_dir}/test\", [\"moth\", \"butterfly\", \"other-insect\", \"other\"], 0.3)"
   ]
  },
  {
   "cell_type": "code",
   "execution_count": 51,
   "id": "25b3fc40-bfa7-4ffd-ac01-c9ac8e353fac",
   "metadata": {},
   "outputs": [
    {
     "name": "stdout",
     "output_type": "stream",
     "text": [
      "\u001b[31mClass: moth            ----> Success: 142/157 -> 90.45%\u001b[0m\n",
      "\u001b[31mClass: butterfly       ----> Success: 170/174 -> 97.70%\u001b[0m\n",
      "\u001b[31mClass: other-insect    ----> Success: 230/232 -> 99.14%\u001b[0m\n",
      "Class: other           ----> Success: 230/230 -> 100.00%\n"
     ]
    }
   ],
   "source": [
    "test_class_for_min_accepted_softmax(model_data, f\"{dataset_dir}/val\", [\"moth\", \"butterfly\", \"other-insect\", \"other\"], 0.3)"
   ]
  },
  {
   "cell_type": "code",
   "execution_count": null,
   "id": "be3b1733-676b-4640-a700-8ee388038a72",
   "metadata": {},
   "outputs": [],
   "source": []
  },
  {
   "cell_type": "code",
   "execution_count": null,
   "id": "cba8e925-1de8-4f70-a2b7-72baf1873581",
   "metadata": {},
   "outputs": [],
   "source": []
  },
  {
   "cell_type": "code",
   "execution_count": null,
   "id": "155088c9-5528-43ad-819f-efd692ae21c1",
   "metadata": {},
   "outputs": [],
   "source": []
  },
  {
   "cell_type": "markdown",
   "id": "2aabdca4-dcaa-4eb3-a904-8950478a6a15",
   "metadata": {},
   "source": [
    "### Model C (resnet-34)"
   ]
  },
  {
   "cell_type": "code",
   "execution_count": 6,
   "id": "cd3df320-76b4-435f-85dd-5d7383a04e20",
   "metadata": {},
   "outputs": [
    {
     "name": "stdout",
     "output_type": "stream",
     "text": [
      "Phase 1:\n",
      "Epoch    1 /    5  | Train Loss: 0.2218 Acc: 0.9199  | Val Loss: 0.1400 Acc: 0.9533  | Elapsed time: 0:10:11.404796\n",
      "Epoch    2 /    5  | Train Loss: 0.1332 Acc: 0.9518  | Val Loss: 0.1557 Acc: 0.9458  | Elapsed time: 0:15:51.321329\n",
      "Phase 2:\n",
      "Epoch    1 /    5  | Train Loss: 0.3595 Acc: 0.8639  | Val Loss: 0.1643 Acc: 0.9458  | Elapsed time: 0:06:10.336970\n",
      "Epoch    2 /    5  | Train Loss: 0.2924 Acc: 0.8900  | Val Loss: 0.1267 Acc: 0.9622  | Elapsed time: 0:12:32.109651\n",
      "Phase 3:\n",
      "Epoch    1 /    5  | Train Loss: 0.3012 Acc: 0.8854  | Val Loss: 0.2874 Acc: 0.9105  | Elapsed time: 0:06:24.290519\n",
      "Epoch    2 /    5  | Train Loss: 0.2779 Acc: 0.8949  | Val Loss: 0.1541 Acc: 0.9458  | Elapsed time: 0:12:55.787255\n",
      "Epoch    3 /    5  | Train Loss: 0.2654 Acc: 0.9001  | Val Loss: 0.1812 Acc: 0.9382  | Elapsed time: 0:19:23.164769\n",
      "Phase 4:\n",
      "Epoch    1 /    5  | Train Loss: 0.2382 Acc: 0.9097  | Val Loss: 0.1429 Acc: 0.9508  | Elapsed time: 0:06:44.090558\n",
      "Epoch    2 /    5  | Train Loss: 0.2120 Acc: 0.9192  | Val Loss: 0.1043 Acc: 0.9634  | Elapsed time: 0:12:58.298867\n",
      "Epoch    3 /    5  | Train Loss: 0.1992 Acc: 0.9265  | Val Loss: 0.1152 Acc: 0.9609  | Elapsed time: 0:19:10.151214\n",
      "Phase 5:\n",
      "Epoch    1 /    5  | Train Loss: 0.1917 Acc: 0.9278  | Val Loss: 0.1264 Acc: 0.9546  | Elapsed time: 0:06:10.043845\n",
      "Epoch    2 /    5  | Train Loss: 0.1868 Acc: 0.9307  | Val Loss: 0.1194 Acc: 0.9647  | Elapsed time: 0:12:21.450110\n",
      "Epoch    3 /    5  | Train Loss: 0.1809 Acc: 0.9320  | Val Loss: 0.0859 Acc: 0.9710  | Elapsed time: 0:18:37.766886\n",
      "Epoch    4 /    5  | Train Loss: 0.1737 Acc: 0.9348  | Val Loss: 0.0803 Acc: 0.9735  | Elapsed time: 0:25:07.538224\n",
      "Epoch    5 /    5  | Train Loss: 0.1668 Acc: 0.9377  | Val Loss: 0.0874 Acc: 0.9697  | Elapsed time: 0:31:29.185661\n"
     ]
    }
   ],
   "source": [
    "training_params = [\n",
    "    { \"idx\": 1, \"robustness\": 0.2, \"break_at_val_acc_diff\": 0.05},\n",
    "    { \"idx\": 2, \"robustness\": 0.5, \"break_at_val_acc_diff\": 0.02},\n",
    "    { \"idx\": 3, \"robustness\": 1.0, \"break_at_val_acc_diff\": 0.01},\n",
    "    { \"idx\": 4, \"robustness\": 2.0, \"break_at_val_acc_diff\": -0.000001},\n",
    "    { \"idx\": 5, \"robustness\": 2.0, \"break_at_val_acc_diff\": -0.000001}\n",
    "]\n",
    "for param in training_params:\n",
    "    print(f\"Phase {param[\"idx\"]}:\")\n",
    "    if param[\"idx\"] == 1:\n",
    "        model_data = init_model_for_training(f'{dataset_dir}/data', f'{dataset_dir}/val', \n",
    "                                             batch_size=32, arch=\"resnet34\", image_size=224, robustness=param[\"robustness\"],\n",
    "                                             lr=1e-4, weight_decay=1e-4, silent=True)\n",
    "    else:\n",
    "        model_data = prepare_for_retraining(model_data, f'{dataset_dir}/data', f'{dataset_dir}/val', \n",
    "                                            batch_size=32, image_size=224, robustness=param[\"robustness\"], silent=True)\n",
    "    train(model_data, 5, f\"{dataset_dir}/checkpoint.root-classifier.tc.ep{param[\"idx\"]:02}###.pth\", \n",
    "          break_at_val_acc_diff=param[\"break_at_val_acc_diff\"])"
   ]
  },
  {
   "cell_type": "code",
   "execution_count": 28,
   "id": "c3c33738-3422-4fd3-be35-5a1f5c5b2141",
   "metadata": {},
   "outputs": [],
   "source": [
    "model_data = torch.load(f\"{dataset_dir}/checkpoint.root-classifier.tc.ep050003.pth\", weights_only=False)"
   ]
  },
  {
   "cell_type": "code",
   "execution_count": 15,
   "id": "d27d029c-c897-4f43-ae50-85a2ac673bcd",
   "metadata": {},
   "outputs": [
    {
     "name": "stdout",
     "output_type": "stream",
     "text": [
      "Class: moth            ----> Success: 141/157 -> 89.81%\n",
      "Class: butterfly       ----> Success: 172/174 -> 98.85%\n",
      "Class: other-insect    ----> Success: 231/232 -> 99.57%\n",
      "Class: other           ----> Success: 228/230 -> 99.13%\n"
     ]
    }
   ],
   "source": [
    "test_class(model_data, f\"{dataset_dir}/val\", [\"moth\", \"butterfly\", \"other-insect\", \"other\"])"
   ]
  },
  {
   "cell_type": "code",
   "execution_count": 16,
   "id": "6ce87b6d-ad04-424c-ab67-83bdc0cb95df",
   "metadata": {},
   "outputs": [
    {
     "name": "stdout",
     "output_type": "stream",
     "text": [
      "Class: moth            ----> Success: 8/11 -> 72.73%\n",
      "Class: butterfly       ----> Success: 24/24 -> 100.00%\n",
      "Class: other-insect    ----> Success: 4/15 -> 26.67%\n",
      "Class: other           ----> Success: 10/17 -> 58.82%\n"
     ]
    }
   ],
   "source": [
    "test_class(model_data, f\"{dataset_dir}/test\", [\"moth\", \"butterfly\", \"other-insect\", \"other\"])"
   ]
  },
  {
   "cell_type": "code",
   "execution_count": 40,
   "id": "96feef78-ed8c-4ef8-9491-e21e46de2505",
   "metadata": {},
   "outputs": [
    {
     "name": "stdout",
     "output_type": "stream",
     "text": [
      "\u001b[31mClass: moth            ----> Success: 7/11 -> 63.64%\u001b[0m\n",
      "\u001b[31mClass: butterfly       ----> Success: 22/24 -> 91.67%\u001b[0m\n",
      "\u001b[31mClass: other-insect    ----> Success: 3/15 -> 20.00%\u001b[0m\n",
      "\u001b[31mClass: other           ----> Success: 5/17 -> 29.41%\u001b[0m\n"
     ]
    }
   ],
   "source": [
    "test_class_for_min_accepted_softmax(model_data, f\"{dataset_dir}/test\", [\"moth\", \"butterfly\", \"other-insect\", \"other\"], 0.75)"
   ]
  },
  {
   "cell_type": "code",
   "execution_count": 46,
   "id": "eff69a08-90b7-44a7-9bb1-143089788295",
   "metadata": {},
   "outputs": [
    {
     "name": "stdout",
     "output_type": "stream",
     "text": [
      "\u001b[31mClass: moth            ----> Success: 8/11 -> 72.73%\u001b[0m\n",
      "Class: butterfly       ----> Success: 24/24 -> 100.00%\n",
      "\u001b[31mClass: other-insect    ----> Success: 7/15 -> 46.67%\u001b[0m\n",
      "\u001b[31mClass: other           ----> Success: 10/17 -> 58.82%\u001b[0m\n"
     ]
    }
   ],
   "source": [
    "test_class_for_min_accepted_softmax(model_data, f\"{dataset_dir}/test\", [\"moth\", \"butterfly\", \"other-insect\", \"other\"], 0.3)"
   ]
  },
  {
   "cell_type": "code",
   "execution_count": 44,
   "id": "07c8c1c8-7f2c-4361-be56-6e9094664758",
   "metadata": {},
   "outputs": [
    {
     "name": "stdout",
     "output_type": "stream",
     "text": [
      "\u001b[31mClass: moth            ----> Success: 144/157 -> 91.72%\u001b[0m\n",
      "Class: butterfly       ----> Success: 174/174 -> 100.00%\n",
      "Class: other-insect    ----> Success: 232/232 -> 100.00%\n",
      "\u001b[31mClass: other           ----> Success: 228/230 -> 99.13%\u001b[0m\n"
     ]
    }
   ],
   "source": [
    "test_class_for_min_accepted_softmax(model_data, f\"{dataset_dir}/val\", [\"moth\", \"butterfly\", \"other-insect\", \"other\"], 0.3)"
   ]
  },
  {
   "cell_type": "code",
   "execution_count": 29,
   "id": "c1640a77-245c-4535-bdf3-a25a3f9355ba",
   "metadata": {},
   "outputs": [
    {
     "name": "stdout",
     "output_type": "stream",
     "text": [
      "\u001b[31mClass: moth            ----> Success: 13904/14777 -> 94.09%\u001b[0m\n",
      "\u001b[31mClass: butterfly       ----> Success: 14675/14937 -> 98.25%\u001b[0m\n",
      "\u001b[31mClass: other-insect    ----> Success: 3784/3896 -> 97.13%\u001b[0m\n",
      "\u001b[31mClass: other           ----> Success: 13948/14070 -> 99.13%\u001b[0m\n"
     ]
    }
   ],
   "source": [
    "# another random subset of original butterfly/moth data\n",
    "test_class_for_min_accepted_softmax(model_data, f\"{dataset_dir}/data\", [\"moth\", \"butterfly\", \"other-insect\", \"other\"], 0.3)"
   ]
  },
  {
   "cell_type": "code",
   "execution_count": null,
   "id": "fb50f7dc-5629-443b-b220-175437f2846f",
   "metadata": {},
   "outputs": [],
   "source": []
  },
  {
   "cell_type": "code",
   "execution_count": null,
   "id": "b6c0e727-4635-49a6-a3ad-c91bb7a089d6",
   "metadata": {},
   "outputs": [],
   "source": []
  },
  {
   "cell_type": "code",
   "execution_count": null,
   "id": "d6a9ff79-3dde-436f-b95e-faa2f5943009",
   "metadata": {},
   "outputs": [],
   "source": []
  },
  {
   "cell_type": "markdown",
   "id": "9c9ce0e2-7810-415e-925e-fc4e4a28ff64",
   "metadata": {
    "jp-MarkdownHeadingCollapsed": true
   },
   "source": [
    "### Model D (resnet-50)"
   ]
  },
  {
   "cell_type": "code",
   "execution_count": 97,
   "id": "35523c81-6e52-4ae9-aa22-8d22633c36ea",
   "metadata": {},
   "outputs": [
    {
     "name": "stdout",
     "output_type": "stream",
     "text": [
      "Phase 1:\n",
      "Epoch    1 /    5  | Train Loss: 0.1757 Acc: 0.9402  | Val Loss: 0.1463 Acc: 0.9559  | Elapsed time: 0:10:32.551645\n",
      "Epoch    2 /    5  | Train Loss: 0.0778 Acc: 0.9727  | Val Loss: 0.1186 Acc: 0.9660  | Elapsed time: 0:17:50.348645\n",
      "Phase 2:\n",
      "Epoch    1 /    5  | Train Loss: 0.2593 Acc: 0.9019  | Val Loss: 0.1139 Acc: 0.9672  | Elapsed time: 0:07:55.200823\n",
      "Epoch    2 /    5  | Train Loss: 0.2036 Acc: 0.9240  | Val Loss: 0.1479 Acc: 0.9533  | Elapsed time: 0:15:39.972649\n",
      "Phase 3:\n",
      "Epoch    1 /    5  | Train Loss: 0.2017 Acc: 0.9253  | Val Loss: 0.1114 Acc: 0.9622  | Elapsed time: 0:07:38.059949\n",
      "Epoch    2 /    5  | Train Loss: 0.1870 Acc: 0.9304  | Val Loss: 0.0923 Acc: 0.9672  | Elapsed time: 0:15:16.613885\n",
      "Phase 4:\n",
      "Epoch    1 /    5  | Train Loss: 0.2001 Acc: 0.9254  | Val Loss: 0.2211 Acc: 0.9357  | Elapsed time: 0:07:41.252944\n",
      "Epoch    2 /    5  | Train Loss: 0.1550 Acc: 0.9423  | Val Loss: 0.1107 Acc: 0.9647  | Elapsed time: 0:15:45.025357\n",
      "Epoch    3 /    5  | Train Loss: 0.1360 Acc: 0.9497  | Val Loss: 0.1112 Acc: 0.9710  | Elapsed time: 0:23:47.431052\n",
      "Epoch    4 /    5  | Train Loss: 0.1262 Acc: 0.9522  | Val Loss: 0.1193 Acc: 0.9685  | Elapsed time: 0:32:13.805170\n",
      "Phase 5:\n",
      "Epoch    1 /    5  | Train Loss: 0.1208 Acc: 0.9546  | Val Loss: 0.0989 Acc: 0.9672  | Elapsed time: 0:08:26.858939\n",
      "Epoch    2 /    5  | Train Loss: 0.1126 Acc: 0.9592  | Val Loss: 0.1158 Acc: 0.9584  | Elapsed time: 0:16:38.526695\n"
     ]
    }
   ],
   "source": [
    "training_params = [\n",
    "    { \"idx\": 1, \"robustness\": 0.2, \"break_at_val_acc_diff\": 0.05},\n",
    "    { \"idx\": 2, \"robustness\": 0.5, \"break_at_val_acc_diff\": 0.02},\n",
    "    { \"idx\": 3, \"robustness\": 1.0, \"break_at_val_acc_diff\": 0.01},\n",
    "    { \"idx\": 4, \"robustness\": 2.0, \"break_at_val_acc_diff\": -0.000001},\n",
    "    { \"idx\": 5, \"robustness\": 2.0, \"break_at_val_acc_diff\": -0.000001}\n",
    "]\n",
    "for param in training_params:\n",
    "    print(f\"Phase {param[\"idx\"]}:\")\n",
    "    if param[\"idx\"] == 1:\n",
    "        model_data = init_model_for_training(f'{dataset_dir}/data', f'{dataset_dir}/val', \n",
    "                                             batch_size=32, arch=\"resnet50\", image_size=224, robustness=param[\"robustness\"],\n",
    "                                             lr=1e-4, weight_decay=1e-4, silent=True)\n",
    "    else:\n",
    "        model_data = prepare_for_retraining(model_data, f'{dataset_dir}/data', f'{dataset_dir}/val', \n",
    "                                            batch_size=32, image_size=224, robustness=param[\"robustness\"], silent=True)\n",
    "    train(model_data, 5, f\"{dataset_dir}/checkpoint.root-classifier.td.ep{param[\"idx\"]:02}###.pth\", \n",
    "          break_at_val_acc_diff=param[\"break_at_val_acc_diff\"])"
   ]
  },
  {
   "cell_type": "code",
   "execution_count": 28,
   "id": "4f5aa685-2099-4eba-83f3-42609f9badd0",
   "metadata": {},
   "outputs": [],
   "source": [
    "model_data = torch.load(f\"{dataset_dir}/checkpoint.root-classifier.td.ep050000.pth\", weights_only=False)"
   ]
  },
  {
   "cell_type": "code",
   "execution_count": 22,
   "id": "2412f966-65ee-4cef-8a88-50518f09a488",
   "metadata": {},
   "outputs": [
    {
     "name": "stdout",
     "output_type": "stream",
     "text": [
      "Class: moth            ----> Success: 138/157 -> 87.90%\n",
      "Class: butterfly       ----> Success: 172/174 -> 98.85%\n",
      "Class: other-insect    ----> Success: 227/232 -> 97.84%\n",
      "Class: other           ----> Success: 230/230 -> 100.00%\n"
     ]
    }
   ],
   "source": [
    "test_class(model_data, f\"{dataset_dir}/val\", [\"moth\", \"butterfly\", \"other-insect\", \"other\"])"
   ]
  },
  {
   "cell_type": "code",
   "execution_count": 23,
   "id": "55831ec3-fc88-464c-ba30-eb3891351039",
   "metadata": {},
   "outputs": [
    {
     "name": "stdout",
     "output_type": "stream",
     "text": [
      "Class: moth            ----> Success: 9/11 -> 81.82%\n",
      "Class: butterfly       ----> Success: 24/24 -> 100.00%\n",
      "Class: other-insect    ----> Success: 9/15 -> 60.00%\n",
      "Class: other           ----> Success: 9/17 -> 52.94%\n"
     ]
    }
   ],
   "source": [
    "test_class(model_data, f\"{dataset_dir}/test\", [\"moth\", \"butterfly\", \"other-insect\", \"other\"])"
   ]
  },
  {
   "cell_type": "code",
   "execution_count": 29,
   "id": "023008bc-9f9d-4041-949f-c652ce68a1da",
   "metadata": {},
   "outputs": [
    {
     "name": "stdout",
     "output_type": "stream",
     "text": [
      "\u001b[31mClass: moth            ----> Success: 7/11 -> 63.64%\u001b[0m\n",
      "\u001b[31mClass: butterfly       ----> Success: 23/24 -> 95.83%\u001b[0m\n",
      "\u001b[31mClass: other-insect    ----> Success: 6/15 -> 40.00%\u001b[0m\n",
      "\u001b[31mClass: other           ----> Success: 6/17 -> 35.29%\u001b[0m\n"
     ]
    }
   ],
   "source": [
    "test_class_for_min_accepted_softmax(model_data, f\"{dataset_dir}/test\", [\"moth\", \"butterfly\", \"other-insect\", \"other\"], 0.75)"
   ]
  },
  {
   "cell_type": "code",
   "execution_count": 54,
   "id": "44a7cd99-811a-49e1-9a55-8e165486bc35",
   "metadata": {},
   "outputs": [
    {
     "name": "stdout",
     "output_type": "stream",
     "text": [
      "\u001b[31mClass: moth            ----> Success: 10/11 -> 90.91%\u001b[0m\n",
      "\u001b[31mClass: butterfly       ----> Success: 23/24 -> 95.83%\u001b[0m\n",
      "\u001b[31mClass: other-insect    ----> Success: 9/15 -> 60.00%\u001b[0m\n",
      "\u001b[31mClass: other           ----> Success: 7/17 -> 41.18%\u001b[0m\n"
     ]
    }
   ],
   "source": [
    "test_class_for_min_accepted_softmax(model_data, f\"{dataset_dir}/test\", [\"moth\", \"butterfly\", \"other-insect\", \"other\"], 0.3)"
   ]
  },
  {
   "cell_type": "code",
   "execution_count": 38,
   "id": "bfb1ac64-65ca-4d9b-a2a4-865f4dfb1962",
   "metadata": {},
   "outputs": [
    {
     "name": "stdout",
     "output_type": "stream",
     "text": [
      "\u001b[31mClass: moth            ----> Success: 142/157 -> 90.45%\u001b[0m\n",
      "Class: butterfly       ----> Success: 174/174 -> 100.00%\n",
      "\u001b[31mClass: other-insect    ----> Success: 227/232 -> 97.84%\u001b[0m\n",
      "Class: other           ----> Success: 230/230 -> 100.00%\n"
     ]
    }
   ],
   "source": [
    "test_class_for_min_accepted_softmax(model_data, f\"{dataset_dir}/val\", [\"moth\", \"butterfly\", \"other-insect\", \"other\"], 0.3)"
   ]
  },
  {
   "cell_type": "code",
   "execution_count": null,
   "id": "f5a3895f-76d6-46e3-b5bc-f0cf6fc9ff0e",
   "metadata": {},
   "outputs": [],
   "source": []
  },
  {
   "cell_type": "code",
   "execution_count": null,
   "id": "e16e019a-f040-4666-ae3a-9ae7971738b7",
   "metadata": {},
   "outputs": [],
   "source": []
  },
  {
   "cell_type": "code",
   "execution_count": null,
   "id": "a0119b05-5de8-4ef1-986d-1c9c796c4267",
   "metadata": {},
   "outputs": [],
   "source": []
  },
  {
   "cell_type": "markdown",
   "id": "d143b41d-849c-476a-9d92-634423e4771b",
   "metadata": {},
   "source": [
    "### Model E (resnet-34 + new subset dataset)\n",
    "\n",
    "Model C struggling with brown side photos of butterfly with moth\n",
    "\n",
    "new train dataset = new random subset of butterfly/moth dataset + butterfly/moth test dataset"
   ]
  },
  {
   "cell_type": "code",
   "execution_count": 7,
   "id": "4ca40cd9-c5f9-40ef-a4a2-2a3caef50000",
   "metadata": {},
   "outputs": [
    {
     "name": "stdout",
     "output_type": "stream",
     "text": [
      "Phase 1:\n",
      "Epoch    1 /    5  | Train Loss: 0.2247 Acc: 0.9180  | Val Loss: 0.2399 Acc: 0.9069  | Elapsed time: 0:08:52.739502\n",
      "Epoch    2 /    5  | Train Loss: 0.1389 Acc: 0.9503  | Val Loss: 0.1839 Acc: 0.9279  | Elapsed time: 0:14:26.033736\n",
      "Phase 2:\n",
      "Epoch    1 /    5  | Train Loss: 0.3543 Acc: 0.8665  | Val Loss: 0.3720 Acc: 0.8689  | Elapsed time: 0:06:01.955695\n",
      "Epoch    2 /    5  | Train Loss: 0.2882 Acc: 0.8904  | Val Loss: 0.2382 Acc: 0.9187  | Elapsed time: 0:12:06.001599\n",
      "Epoch    3 /    5  | Train Loss: 0.2622 Acc: 0.9013  | Val Loss: 0.3082 Acc: 0.8873  | Elapsed time: 0:18:55.013008\n",
      "Phase 3:\n",
      "Epoch    1 /    5  | Train Loss: 0.2836 Acc: 0.8933  | Val Loss: 0.2519 Acc: 0.9161  | Elapsed time: 0:09:16.898676\n",
      "Epoch    2 /    5  | Train Loss: 0.2619 Acc: 0.9009  | Val Loss: 0.4518 Acc: 0.8558  | Elapsed time: 0:15:31.199762\n",
      "Phase 4:\n",
      "Epoch    1 /    5  | Train Loss: 0.2363 Acc: 0.9110  | Val Loss: 0.2141 Acc: 0.9266  | Elapsed time: 0:06:19.370162\n",
      "Epoch    2 /    5  | Train Loss: 0.2133 Acc: 0.9188  | Val Loss: 0.2163 Acc: 0.9161  | Elapsed time: 0:12:44.090553\n",
      "Phase 5:\n",
      "Epoch    1 /    5  | Train Loss: 0.2015 Acc: 0.9232  | Val Loss: 0.1851 Acc: 0.9279  | Elapsed time: 0:06:24.681315\n",
      "Epoch    2 /    5  | Train Loss: 0.1896 Acc: 0.9289  | Val Loss: 0.1829 Acc: 0.9318  | Elapsed time: 0:12:50.063109\n",
      "Epoch    3 /    5  | Train Loss: 0.1858 Acc: 0.9295  | Val Loss: 0.1735 Acc: 0.9384  | Elapsed time: 0:19:14.404891\n",
      "Epoch    4 /    5  | Train Loss: 0.1784 Acc: 0.9331  | Val Loss: 0.1604 Acc: 0.9397  | Elapsed time: 0:25:38.310984\n",
      "Epoch    5 /    5  | Train Loss: 0.1719 Acc: 0.9361  | Val Loss: 0.1587 Acc: 0.9410  | Elapsed time: 0:31:57.751504\n"
     ]
    }
   ],
   "source": [
    "training_params = [\n",
    "    { \"idx\": 1, \"robustness\": 0.2, \"break_at_val_acc_diff\": 0.05},\n",
    "    { \"idx\": 2, \"robustness\": 0.5, \"break_at_val_acc_diff\": 0.02},\n",
    "    { \"idx\": 3, \"robustness\": 1.0, \"break_at_val_acc_diff\": 0.01},\n",
    "    { \"idx\": 4, \"robustness\": 2.0, \"break_at_val_acc_diff\": -0.000001},\n",
    "    { \"idx\": 5, \"robustness\": 2.0, \"break_at_val_acc_diff\": -0.000001}\n",
    "]\n",
    "for param in training_params:\n",
    "    print(f\"Phase {param[\"idx\"]}:\")\n",
    "    if param[\"idx\"] == 1:\n",
    "        model_data = init_model_for_training(f'{dataset_dir}/data', f'{dataset_dir}/val', \n",
    "                                             batch_size=32, arch=\"resnet34\", image_size=224, robustness=param[\"robustness\"],\n",
    "                                             lr=1e-4, weight_decay=1e-4, silent=True)\n",
    "    else:\n",
    "        model_data = prepare_for_retraining(model_data, f'{dataset_dir}/data', f'{dataset_dir}/val', \n",
    "                                            batch_size=32, image_size=224, robustness=param[\"robustness\"], silent=True)\n",
    "    train(model_data, 5, f\"{dataset_dir}/checkpoint.root-classifier.te.ep{param[\"idx\"]:02}###.pth\", \n",
    "          break_at_val_acc_diff=param[\"break_at_val_acc_diff\"])"
   ]
  },
  {
   "cell_type": "code",
   "execution_count": 11,
   "id": "6bdd2186-01b4-4a8a-a5b1-46463341cce0",
   "metadata": {},
   "outputs": [
    {
     "name": "stdout",
     "output_type": "stream",
     "text": [
      "Phase 6:\n",
      "Epoch    1 /    5  | Train Loss: 0.1709 Acc: 0.9345  | Val Loss: 0.1534 Acc: 0.9463  | Elapsed time: 0:10:53.020002\n",
      "Epoch    2 /    5  | Train Loss: 0.1630 Acc: 0.9387  | Val Loss: 0.1434 Acc: 0.9476  | Elapsed time: 0:17:24.863814\n",
      "Epoch    3 /    5  | Train Loss: 0.1636 Acc: 0.9383  | Val Loss: 0.1472 Acc: 0.9502  | Elapsed time: 0:23:53.039336\n",
      "Epoch    4 /    5  | Train Loss: 0.1624 Acc: 0.9395  | Val Loss: 0.1403 Acc: 0.9528  | Elapsed time: 0:30:20.622806\n",
      "Epoch    5 /    5  | Train Loss: 0.1615 Acc: 0.9381  | Val Loss: 0.1441 Acc: 0.9515  | Elapsed time: 0:36:47.629922\n"
     ]
    }
   ],
   "source": [
    "training_params = [\n",
    "    { \"idx\": 6, \"robustness\": 2.0, \"break_at_val_acc_diff\": -0.000001}\n",
    "]\n",
    "for param in training_params:\n",
    "    print(f\"Phase {param[\"idx\"]}:\")\n",
    "    model_data = prepare_for_retraining(model_data, f'{dataset_dir}/data', f'{dataset_dir}/val', \n",
    "                                        batch_size=32, image_size=224, robustness=param[\"robustness\"], silent=True)\n",
    "    train(model_data, 5, f\"{dataset_dir}/checkpoint.root-classifier.te.ep{param[\"idx\"]:02}###.pth\", \n",
    "          break_at_val_acc_diff=param[\"break_at_val_acc_diff\"])"
   ]
  },
  {
   "cell_type": "code",
   "execution_count": 12,
   "id": "a0019fe1-d4dd-4540-ac68-0c2cd936263c",
   "metadata": {},
   "outputs": [
    {
     "name": "stdout",
     "output_type": "stream",
     "text": [
      "Phase 7:\n",
      "Epoch    1 /    5  | Train Loss: 0.1602 Acc: 0.9397  | Val Loss: 0.1459 Acc: 0.9489  | Elapsed time: 0:05:56.401994\n",
      "Epoch    2 /    5  | Train Loss: 0.1594 Acc: 0.9393  | Val Loss: 0.1570 Acc: 0.9450  | Elapsed time: 0:12:18.342143\n"
     ]
    }
   ],
   "source": [
    "training_params = [\n",
    "    { \"idx\": 7, \"robustness\": 2.0, \"break_at_val_acc_diff\": -0.000001}\n",
    "]\n",
    "for param in training_params:\n",
    "    print(f\"Phase {param[\"idx\"]}:\")\n",
    "    model_data = prepare_for_retraining(model_data, f'{dataset_dir}/data', f'{dataset_dir}/val', \n",
    "                                        batch_size=32, image_size=224, robustness=param[\"robustness\"], silent=True)\n",
    "    train(model_data, 5, f\"{dataset_dir}/checkpoint.root-classifier.te.ep{param[\"idx\"]:02}###.pth\", \n",
    "          break_at_val_acc_diff=param[\"break_at_val_acc_diff\"])"
   ]
  },
  {
   "cell_type": "code",
   "execution_count": 30,
   "id": "51a78bb3-9483-4495-b2e0-40aa9c9e32d8",
   "metadata": {},
   "outputs": [],
   "source": [
    "model_data = torch.load(f\"{dataset_dir}/checkpoint.root-classifier.te.ep060004.pth\", weights_only=False)"
   ]
  },
  {
   "cell_type": "code",
   "execution_count": 14,
   "id": "196ef35e-cdcd-4b19-be2d-27f46e141c2a",
   "metadata": {},
   "outputs": [
    {
     "name": "stdout",
     "output_type": "stream",
     "text": [
      "Class: moth            ----> Success: 139/157 -> 88.54%\n",
      "Class: butterfly       ----> Success: 171/174 -> 98.28%\n",
      "Class: other-insect    ----> Success: 189/202 -> 93.56%\n",
      "Class: other           ----> Success: 227/230 -> 98.70%\n"
     ]
    }
   ],
   "source": [
    "test_class(model_data, f\"{dataset_dir}/val\", [\"moth\", \"butterfly\", \"other-insect\", \"other\"])"
   ]
  },
  {
   "cell_type": "code",
   "execution_count": 20,
   "id": "abbd3107-27a6-4aa9-a66f-941789ef760a",
   "metadata": {},
   "outputs": [
    {
     "name": "stdout",
     "output_type": "stream",
     "text": [
      "Class: moth            ----> Success: 11/11 -> 100.00%\n",
      "Class: butterfly       ----> Success: 24/24 -> 100.00%\n",
      "\u001b[31mClass: other-insect    ----> Success: 12/15 -> 80.00%\u001b[0m\n",
      "\u001b[31mClass: other           ----> Success: 12/17 -> 70.59%\u001b[0m\n"
     ]
    }
   ],
   "source": [
    "test_class_for_min_accepted_softmax(model_data, f\"{dataset_dir}/test\", [\"moth\", \"butterfly\", \"other-insect\", \"other\"], 0.3)"
   ]
  },
  {
   "cell_type": "code",
   "execution_count": 15,
   "id": "a8c4a8b1-70bf-4ab8-82f5-1b2a39575369",
   "metadata": {},
   "outputs": [
    {
     "name": "stdout",
     "output_type": "stream",
     "text": [
      "\u001b[31mClass: moth            ----> Success: 142/157 -> 90.45%\u001b[0m\n",
      "\u001b[31mClass: butterfly       ----> Success: 172/174 -> 98.85%\u001b[0m\n",
      "\u001b[31mClass: other-insect    ----> Success: 194/202 -> 96.04%\u001b[0m\n",
      "\u001b[31mClass: other           ----> Success: 227/230 -> 98.70%\u001b[0m\n"
     ]
    }
   ],
   "source": [
    "test_class_for_min_accepted_softmax(model_data, f\"{dataset_dir}/val\", [\"moth\", \"butterfly\", \"other-insect\", \"other\"], 0.3)"
   ]
  },
  {
   "cell_type": "code",
   "execution_count": 31,
   "id": "6c581316-77dc-4119-9566-295085f841ba",
   "metadata": {},
   "outputs": [
    {
     "name": "stdout",
     "output_type": "stream",
     "text": [
      "\u001b[31mClass: moth            ----> Success: 14040/14777 -> 95.01%\u001b[0m\n",
      "\u001b[31mClass: butterfly       ----> Success: 14629/14937 -> 97.94%\u001b[0m\n",
      "\u001b[31mClass: other-insect    ----> Success: 3788/3896 -> 97.23%\u001b[0m\n",
      "\u001b[31mClass: other           ----> Success: 13956/14070 -> 99.19%\u001b[0m\n"
     ]
    }
   ],
   "source": [
    "# another random subset of original butterfly/moth data\n",
    "test_class_for_min_accepted_softmax(model_data, f\"{dataset_dir}/data\", [\"moth\", \"butterfly\", \"other-insect\", \"other\"], 0.3)"
   ]
  },
  {
   "cell_type": "code",
   "execution_count": null,
   "id": "5409e119-7316-455a-a6d4-e20ddb6a9279",
   "metadata": {},
   "outputs": [],
   "source": []
  },
  {
   "cell_type": "code",
   "execution_count": null,
   "id": "f6037eac-20e3-4489-855e-ca3d26de7c8a",
   "metadata": {},
   "outputs": [],
   "source": []
  },
  {
   "cell_type": "code",
   "execution_count": null,
   "id": "1e5d111d-b356-47e1-b229-efa3a8ee6b41",
   "metadata": {},
   "outputs": [],
   "source": []
  }
 ],
 "metadata": {
  "kernelspec": {
   "display_name": "Python 3 (ipykernel)",
   "language": "python",
   "name": "python3"
  },
  "language_info": {
   "codemirror_mode": {
    "name": "ipython",
    "version": 3
   },
   "file_extension": ".py",
   "mimetype": "text/x-python",
   "name": "python",
   "nbconvert_exporter": "python",
   "pygments_lexer": "ipython3",
   "version": "3.12.9"
  }
 },
 "nbformat": 4,
 "nbformat_minor": 5
}
