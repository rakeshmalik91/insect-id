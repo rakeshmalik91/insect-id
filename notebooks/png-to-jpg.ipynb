{
 "cells": [
  {
   "cell_type": "code",
   "execution_count": 4,
   "id": "6eac092a",
   "metadata": {},
   "outputs": [],
   "source": [
    "import os\n",
    "os.chdir(\"D:/Projects/insect-id\")"
   ]
  },
  {
   "cell_type": "code",
   "execution_count": 7,
   "id": "5035f6c1",
   "metadata": {},
   "outputs": [],
   "source": [
    "# !pip install send2trash"
   ]
  },
  {
   "cell_type": "code",
   "execution_count": 8,
   "metadata": {},
   "outputs": [],
   "source": [
    "import os\n",
    "from PIL import Image\n",
    "from send2trash import send2trash\n",
    "\n",
    "def convert_all_png_to_jpg(folder_path):\n",
    "    for filename in os.listdir(folder_path):\n",
    "        if filename.lower().endswith(\".png\"):\n",
    "            png_path = os.path.join(folder_path, filename)\n",
    "            jpg_path = os.path.splitext(png_path)[0] + \".jpg\"\n",
    "            with Image.open(png_path) as img:\n",
    "                if img.mode in (\"RGBA\", \"LA\"):\n",
    "                    background = Image.new(\"RGB\", img.size, (255, 255, 255))\n",
    "                    background.paste(img, mask=img.split()[-1])\n",
    "                    background.save(jpg_path, \"JPEG\", quality=95)\n",
    "                else:\n",
    "                    img.convert(\"RGB\").save(jpg_path, \"JPEG\", quality=95)\n",
    "                send2trash(png_path)\n",
    "                print(f\"Converted: {filename} → {os.path.basename(jpg_path)}\")"
   ]
  },
  {
   "cell_type": "code",
   "execution_count": 10,
   "id": "406e74bb",
   "metadata": {},
   "outputs": [
    {
     "name": "stdout",
     "output_type": "stream",
     "text": [
      "Converted: abisara-chela.png → abisara-chela.jpg\n",
      "Converted: abisara-fylla.png → abisara-fylla.jpg\n",
      "Converted: aglais-caschmirensis.png → aglais-caschmirensis.jpg\n",
      "Converted: athyma-selenophora.png → athyma-selenophora.jpg\n",
      "Converted: byasa-polyeuctes.png → byasa-polyeuctes.jpg\n",
      "Converted: chersonesia-risa.png → chersonesia-risa.jpg\n",
      "Converted: cirrochroa-tyche.png → cirrochroa-tyche.jpg\n",
      "Converted: delias-eucharis.png → delias-eucharis.jpg\n",
      "Converted: heliophorus-epicles.png → heliophorus-epicles.jpg\n",
      "Converted: jamides-celeno.png → jamides-celeno.jpg\n",
      "Converted: lethe-sidonis.png → lethe-sidonis.jpg\n",
      "Converted: oriens-spp.png → oriens-spp.jpg\n",
      "Converted: stibochiona-nicea.png → stibochiona-nicea.jpg\n",
      "Converted: symbrenthia-lilaea.png → symbrenthia-lilaea.jpg\n",
      "Converted: ticherra-acte.png → ticherra-acte.jpg\n",
      "Converted: vanessa-indica.png → vanessa-indica.jpg\n",
      "Converted: zemeros-flegyas.png → zemeros-flegyas.jpg\n"
     ]
    }
   ],
   "source": [
    "convert_all_png_to_jpg(\"./insect-dataset/src/test_random/lepidoptera\")\n",
    "convert_all_png_to_jpg(\"./insect-dataset/src/test_ig/lepidoptera\")"
   ]
  },
  {
   "cell_type": "code",
   "execution_count": null,
   "id": "56df661b",
   "metadata": {},
   "outputs": [],
   "source": []
  }
 ],
 "metadata": {
  "kernelspec": {
   "display_name": "Python 3 (ipykernel)",
   "language": "python",
   "name": "python3"
  },
  "language_info": {
   "codemirror_mode": {
    "name": "ipython",
    "version": 3
   },
   "file_extension": ".py",
   "mimetype": "text/x-python",
   "name": "python",
   "nbconvert_exporter": "python",
   "pygments_lexer": "ipython3",
   "version": "3.13.5"
  }
 },
 "nbformat": 4,
 "nbformat_minor": 5
}
