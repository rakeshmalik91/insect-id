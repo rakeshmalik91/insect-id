{
 "cells": [
  {
   "cell_type": "code",
   "execution_count": null,
   "id": "8c663648",
   "metadata": {},
   "outputs": [],
   "source": [
    "import os\n",
    "import json\n",
    "os.chdir(\"D:/Projects/insect-id\")"
   ]
  },
  {
   "cell_type": "code",
   "execution_count": null,
   "id": "60819aea",
   "metadata": {},
   "outputs": [],
   "source": [
    "def clean_widget_outputs_from_notebook(nb_path):\n",
    "    with open(nb_path, 'r', encoding='utf-8') as f:\n",
    "        notebook = json.load(f)\n",
    "\n",
    "    changed = False\n",
    "\n",
    "    for cell in notebook.get('cells', []):\n",
    "        if 'outputs' in cell:\n",
    "            new_outputs = []\n",
    "            for output in cell['outputs']:\n",
    "                # Skip any outputs that are widget displays\n",
    "                if output.get('output_type') == 'display_data':\n",
    "                    data = output.get('data', {})\n",
    "                    if 'application/vnd.jupyter.widget-view+json' in data:\n",
    "                        changed = True\n",
    "                        continue  # skip this output\n",
    "                new_outputs.append(output)\n",
    "            cell['outputs'] = new_outputs\n",
    "\n",
    "    if changed:\n",
    "        with open(nb_path, 'w', encoding='utf-8') as f:\n",
    "            json.dump(notebook, f, indent=1)\n",
    "        print(f\"Cleaned: {nb_path}\")\n",
    "\n",
    "def clean_all_notebooks(path='.'):\n",
    "    for root, _, files in os.walk(path):\n",
    "        for file in files:\n",
    "            if file.endswith('.ipynb'):\n",
    "                full_path = os.path.join(root, file)\n",
    "                clean_widget_outputs_from_notebook(full_path)"
   ]
  },
  {
   "cell_type": "code",
   "execution_count": 3,
   "id": "57826482",
   "metadata": {},
   "outputs": [
    {
     "name": "stdout",
     "output_type": "stream",
     "text": [
      "Cleaned: .\\model-incremental-lepidoptera-test1.ipynb\n"
     ]
    }
   ],
   "source": [
    "clean_all_notebooks('.')\n",
    "clean_all_notebooks('./notebooks')"
   ]
  }
 ],
 "metadata": {
  "kernelspec": {
   "display_name": "Python 3 (ipykernel)",
   "language": "python",
   "name": "python3"
  },
  "language_info": {
   "codemirror_mode": {
    "name": "ipython",
    "version": 3
   },
   "file_extension": ".py",
   "mimetype": "text/x-python",
   "name": "python",
   "nbconvert_exporter": "python",
   "pygments_lexer": "ipython3",
   "version": "3.13.3"
  }
 },
 "nbformat": 4,
 "nbformat_minor": 5
}
