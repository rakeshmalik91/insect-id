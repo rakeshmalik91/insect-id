{
 "cells": [
  {
   "cell_type": "code",
   "execution_count": 2,
   "id": "9964a3ed",
   "metadata": {},
   "outputs": [
    {
     "name": "stdout",
     "output_type": "stream",
     "text": [
      "Current threads: 8\n",
      "Current inter-op threads: 8\n"
     ]
    }
   ],
   "source": [
    "import torch\n",
    "\n",
    "print(\"Current threads:\", torch.get_num_threads())\n",
    "print(\"Current inter-op threads:\", torch.get_num_interop_threads())"
   ]
  },
  {
   "cell_type": "code",
   "execution_count": 13,
   "id": "d1425800",
   "metadata": {},
   "outputs": [],
   "source": [
    "torch.set_num_threads(8)  # For intra-op\n",
    "# torch.set_num_interop_threads(8)  # Optional, conservative"
   ]
  },
  {
   "cell_type": "code",
   "execution_count": 8,
   "id": "90bf210d",
   "metadata": {},
   "outputs": [
    {
     "name": "stdout",
     "output_type": "stream",
     "text": [
      "Logical CPU cores available: 16\n",
      "CPU cores (multiprocessing): 16\n",
      "Physical cores: 8\n",
      "Logical cores: 16\n"
     ]
    }
   ],
   "source": [
    "import os\n",
    "import multiprocessing\n",
    "import psutil\n",
    "\n",
    "print(\"Logical CPU cores available:\", os.cpu_count())\n",
    "print(\"CPU cores (multiprocessing):\", multiprocessing.cpu_count())\n",
    "print(\"Physical cores:\", psutil.cpu_count(logical=False))\n",
    "print(\"Logical cores:\", psutil.cpu_count(logical=True))"
   ]
  },
  {
   "cell_type": "code",
   "execution_count": null,
   "id": "d47b4096",
   "metadata": {},
   "outputs": [],
   "source": []
  }
 ],
 "metadata": {
  "kernelspec": {
   "display_name": "Python 3 (ipykernel)",
   "language": "python",
   "name": "python3"
  }
 },
 "nbformat": 4,
 "nbformat_minor": 5
}
