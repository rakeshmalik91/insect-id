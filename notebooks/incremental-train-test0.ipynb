{
 "cells": [
  {
   "cell_type": "code",
   "execution_count": 1,
   "id": "0c7ffb6b-76f0-4db2-ab14-3498db8c79e2",
   "metadata": {},
   "outputs": [],
   "source": [
    "%load_ext autoreload"
   ]
  },
  {
   "cell_type": "code",
   "execution_count": 2,
   "id": "f871e66c-237c-4d25-9616-7ad30caaedb0",
   "metadata": {},
   "outputs": [],
   "source": [
    "%autoreload 2"
   ]
  },
  {
   "cell_type": "code",
   "execution_count": 3,
   "id": "a606b5ea-24d1-4dc2-b328-0605bd415b7c",
   "metadata": {},
   "outputs": [],
   "source": [
    "import sys\n",
    "directory = \"..\"\n",
    "sys.path.append(directory)\n",
    "\n",
    "import mynnlib\n",
    "from mynnlib import *\n",
    "\n",
    "dataset_dir = \"../insect-dataset/lepidoptera\"\n",
    "\n",
    "early_regex = r\"^.*-(early)$\"\n",
    "unidentified_regex = r\"^.*-(spp|genera|genera-spp)$\"\n",
    "early_or_unidentified_regex = r\"^.*-(early|spp|genera|genera-spp)$\""
   ]
  },
  {
   "cell_type": "markdown",
   "id": "7bcc1388-4a42-4dba-8331-59b26c2e20fe",
   "metadata": {},
   "source": [
    "# Analyze dataset and model"
   ]
  },
  {
   "cell_type": "code",
   "execution_count": 4,
   "id": "61c603f7-2b06-4c9b-952e-2dfba596528a",
   "metadata": {},
   "outputs": [],
   "source": [
    "model_name = \"checkpoint.lepidoptera.te.ep060004.pth\"\n",
    "model_data = torch.load(f\"{dataset_dir}/{model_name}\", weights_only=False)"
   ]
  },
  {
   "cell_type": "code",
   "execution_count": 5,
   "id": "bf4b6850-c30b-4dde-ad35-039e529667ec",
   "metadata": {},
   "outputs": [
    {
     "name": "stdout",
     "output_type": "stream",
     "text": [
      "Top   1 accuracy: 36/43 -> 83.72%, genus matched: 40/43 -> 93.02%\n",
      "Top   3 accuracy: 42/43 -> 97.67%, genus matched: 43/43 -> 100.00%\n"
     ]
    }
   ],
   "source": [
    "test_top_k(model_data, f\"{dataset_dir}/test\", 3, print_preds=False, print_top1_accuracy=True, print_no_match=False)"
   ]
  },
  {
   "cell_type": "code",
   "execution_count": 6,
   "id": "a80dd745-e183-49ba-bb1c-b389070893da",
   "metadata": {},
   "outputs": [
    {
     "name": "stdout",
     "output_type": "stream",
     "text": [
      "Class count in model: 5550\n"
     ]
    }
   ],
   "source": [
    "print(f\"Class count in model: {model_data['num_classes']}\")"
   ]
  },
  {
   "cell_type": "code",
   "execution_count": 7,
   "id": "6fe79ac6-aeef-40d7-bade-4228d17676b9",
   "metadata": {},
   "outputs": [],
   "source": [
    "inc_train_seq = 1\n",
    "inc_data_name = f\"incremental-data-{inc_train_seq}\""
   ]
  },
  {
   "cell_type": "code",
   "execution_count": 8,
   "id": "225ccfc7-3c3e-4362-a81d-8c33cfa84e7e",
   "metadata": {},
   "outputs": [
    {
     "name": "stdout",
     "output_type": "stream",
     "text": [
      "\n",
      "Data stats in \"../insect-dataset/lepidoptera/data\" \n",
      "--------------------------------------------------\n",
      "Total Class count :   5552 ( Unidentified:    446 / Early-stage:   1027 / Identified-adult:   4079 )\n",
      "Total  Data count : 324269 ( Unidentified:  12202 / Early-stage:  25105 / Identified-adult: 286962 )\n",
      "\n",
      "Data stats in \"../insect-dataset/lepidoptera/val\" \n",
      "--------------------------------------------------\n",
      "Total Class count :    143 ( Unidentified:      1 / Early-stage:      0 / Identified-adult:    142 )\n",
      "Total  Data count :    331 ( Unidentified:      1 / Early-stage:      0 / Identified-adult:    330 )\n",
      "\n",
      "Data stats in \"../insect-dataset/lepidoptera/incremental-data-1\" \n",
      "--------------------------------------------------\n",
      "Total Class count :      3 ( Unidentified:      0 / Early-stage:      0 / Identified-adult:      3 )\n",
      "Total  Data count :    235 ( Unidentified:      0 / Early-stage:      0 / Identified-adult:    235 )\n",
      "Classes: {'albinospila-floresaria', 'lophoptera-squammigera', 'camptochilus-reticulatum'}\n",
      "\n",
      "New classes: ['lophoptera-squammigera', 'albinospila-floresaria']\n"
     ]
    }
   ],
   "source": [
    "def print_dataset_stats(dataset_type):\n",
    "    print(f\"\\nData stats in \\\"{dataset_dir}/{dataset_type}\\\"\", '\\n' + '-' * 50)\n",
    "    classes = { class_dir: len([ img for img in os.listdir(f\"{dataset_dir}/{dataset_type}/{class_dir}\") ]) for class_dir in os.listdir(f\"{dataset_dir}/{dataset_type}\") }\n",
    "    early_classes = { class_name: count for class_name, count in classes.items() if re.match(early_regex, class_name) }\n",
    "    unidentified_classes = { class_name: count for class_name, count in classes.items() if re.match(unidentified_regex, class_name) }\n",
    "    print(f\"Total Class count : {len(classes):6} ( Unidentified: {len(unidentified_classes):6} / Early-stage: {len(early_classes):6} / Identified-adult: {len(classes) - len(unidentified_classes) - len(early_classes):6} )\")\n",
    "    print(f\"Total  Data count : {sum(classes.values()):6} ( Unidentified: {sum(unidentified_classes.values()):6} / Early-stage: {sum(early_classes.values()):6} / Identified-adult: {sum(classes.values()) - sum(unidentified_classes.values()) - sum(early_classes.values()):6} )\")\n",
    "\n",
    "print_dataset_stats('data')\n",
    "print_dataset_stats('val')\n",
    "print_dataset_stats(inc_data_name)\n",
    "incremental_classes = { class_dir for class_dir in os.listdir(f\"{dataset_dir}/{inc_data_name}\") }\n",
    "print(f\"Classes: {incremental_classes}\")\n",
    "\n",
    "classes = { class_dir for class_dir in os.listdir(f\"{dataset_dir}/data\") }\n",
    "new_classes = list(classes - set(model_data['class_names']))\n",
    "print(f\"\\nNew classes: {new_classes}\")"
   ]
  },
  {
   "cell_type": "code",
   "execution_count": 9,
   "id": "cb40ec5b-24da-406e-a333-c6cabb3196c9",
   "metadata": {},
   "outputs": [],
   "source": [
    "for class_name in incremental_classes:\n",
    "    if not os.path.exists(f\"{dataset_dir}/val/{class_name}\"):\n",
    "        os.makedirs(f\"{dataset_dir}/val/{class_name}\")\n",
    "    if not os.listdir(f\"{dataset_dir}/val/{class_name}\"):\n",
    "        files = os.listdir(f\"{dataset_dir}/{inc_data_name}/{class_name}\")\n",
    "        random.shuffle(files)\n",
    "        for file in files[0:2]:\n",
    "            shutil.copy(f\"{dataset_dir}/{inc_data_name}/{class_name}/{file}\", f\"{dataset_dir}/val/{class_name}/{file}\")"
   ]
  },
  {
   "cell_type": "markdown",
   "id": "cae6f259-6a59-47a5-80dc-808fb849b975",
   "metadata": {},
   "source": [
    "# Test updated training methods"
   ]
  },
  {
   "cell_type": "code",
   "execution_count": 11,
   "id": "778a3dbb-743e-4ecd-89e4-d5a7cc791a62",
   "metadata": {},
   "outputs": [],
   "source": [
    "model_data = torch.load(f\"{dataset_dir}/{model_name}\", weights_only=False)"
   ]
  },
  {
   "cell_type": "code",
   "execution_count": 12,
   "id": "41130333-ccb5-4ad5-9b35-352704dd6f0e",
   "metadata": {},
   "outputs": [
    {
     "name": "stdout",
     "output_type": "stream",
     "text": [
      "test/acraea-terpsicore.jpg --> {'acraea-terpsicore': 0.5028307437896729}\n",
      "test/graphium-doson.jpg --> {'graphium-doson': 0.9164521098136902}\n",
      "test/troides-minos.jpg --> {'troides-minos': 0.7493312954902649}\n",
      "test2/albinospila-floresaria.jpg --> {'comostola-hauensteini': 0.3403162956237793}\n",
      "test2/lophoptera-squammigera.jpg --> {'lophoptera-spp': 0.9972708821296692}\n"
     ]
    }
   ],
   "source": [
    "for file in ['test/acraea-terpsicore.jpg', 'test/graphium-doson.jpg', 'test/troides-minos.jpg', \n",
    "             'test2/albinospila-floresaria.jpg', 'test2/lophoptera-squammigera.jpg']:\n",
    "    print(f\"{file} --> {predict_top_k(f'{dataset_dir}/{file}', model_data, 1)}\");"
   ]
  },
  {
   "cell_type": "code",
   "execution_count": 13,
   "id": "b6a1ac49-8692-47e2-8ec1-69ef8f21749f",
   "metadata": {},
   "outputs": [
    {
     "name": "stdout",
     "output_type": "stream",
     "text": [
      "ERROR: 5550 classes in model but 3 classes in train dataset\n"
     ]
    }
   ],
   "source": [
    "model_data = prepare_for_retraining(model_data, f'{dataset_dir}/incremental-data-1', f'{dataset_dir}/val', \n",
    "                                    batch_size=32, image_size=224, robustness=0.2, silent=False)"
   ]
  },
  {
   "cell_type": "code",
   "execution_count": 14,
   "id": "71afb0b3-7c70-46be-a6fd-e0e44c570f2f",
   "metadata": {},
   "outputs": [
    {
     "name": "stdout",
     "output_type": "stream",
     "text": [
      "train class count: 5550 updated to 5552\n",
      "val class count: 143 synced to train class count 5552\n",
      "2 new classes added: ['albinospila-floresaria', 'lophoptera-squammigera']\n",
      "Old Weight Std: tensor(0.0197, device='cuda:0')\n",
      "Old FC Weight Shape: torch.Size([5550, 2048])\n",
      "Old FC Weights Mean (Before Copy): -0.030855517834424973\n",
      "New FC Weights Mean (Before Copy): -1.453034087717242e-06\n",
      "New FC Weight Mean (After Copy):  -0.030855517834424973\n",
      "New FC Weight Slice Shape: torch.Size([5550, 2048])\n",
      "device: cuda:0\n"
     ]
    }
   ],
   "source": [
    "model_data = prepare_for_incremental_training(model_data, f'{dataset_dir}/incremental-data-1', f'{dataset_dir}/val', \n",
    "                                              batch_size=32, image_size=224, robustness=0.2, silent=False)"
   ]
  },
  {
   "cell_type": "code",
   "execution_count": 15,
   "id": "bf14ab66-7c2b-41bb-a1df-16e61369951b",
   "metadata": {},
   "outputs": [
    {
     "name": "stdout",
     "output_type": "stream",
     "text": [
      "test/acraea-terpsicore.jpg --> {'lophoptera-squammigera': 0.9393853545188904}\n",
      "test/graphium-doson.jpg --> {'lophoptera-squammigera': 0.8485425710678101}\n",
      "test/troides-minos.jpg --> {'albinospila-floresaria': 0.9019157886505127}\n",
      "test2/albinospila-floresaria.jpg --> {'lophoptera-squammigera': 0.6468878984451294}\n",
      "test2/lophoptera-squammigera.jpg --> {'albinospila-floresaria': 0.9970108270645142}\n"
     ]
    }
   ],
   "source": [
    "for file in ['test/acraea-terpsicore.jpg', 'test/graphium-doson.jpg', 'test/troides-minos.jpg', \n",
    "             'test2/albinospila-floresaria.jpg', 'test2/lophoptera-squammigera.jpg']:\n",
    "    print(f\"{file} --> {predict_top_k(f'{dataset_dir}/{file}', model_data, 1)}\");"
   ]
  },
  {
   "cell_type": "markdown",
   "id": "4524c215-4d7a-4ef7-b665-4aad579f808f",
   "metadata": {},
   "source": [
    "it is forgetting everything..."
   ]
  },
  {
   "cell_type": "markdown",
   "id": "337763a7-6a22-47a5-b4c4-a1d3cfa38a64",
   "metadata": {},
   "source": [
    "# Train"
   ]
  },
  {
   "cell_type": "code",
   "execution_count": 16,
   "id": "cd48c2bd-5d2f-4c80-a0b2-5a009cc3d2aa",
   "metadata": {},
   "outputs": [
    {
     "name": "stdout",
     "output_type": "stream",
     "text": [
      "Phase 1:\n",
      "Epoch    0 /    4  | Train Loss: 55.7671 Acc: 0.0000  | Val Loss: 37.0219 Acc: 0.0000  | Elapsed time: 0:00:08.143682\n",
      "Epoch    1 /    4  | Train Loss: 55.7782 Acc: 0.0000  | Val Loss: 38.7608 Acc: 0.0030  | Elapsed time: 0:00:17.034200\n",
      "Phase 2:\n",
      "Epoch    0 /    4  | Train Loss: 55.3140 Acc: 0.0000  | Val Loss: 39.8080 Acc: 0.0030  | Elapsed time: 0:00:08.674864\n",
      "Epoch    1 /    4  | Train Loss: 55.2716 Acc: 0.0000  | Val Loss: 40.6783 Acc: 0.0000  | Elapsed time: 0:00:18.162286\n",
      "Phase 3:\n",
      "Epoch    0 /    4  | Train Loss: 55.2689 Acc: 0.0000  | Val Loss: 40.6941 Acc: 0.0000  | Elapsed time: 0:00:09.161697\n",
      "Epoch    1 /    4  | Train Loss: 55.1161 Acc: 0.0000  | Val Loss: 40.8872 Acc: 0.0000  | Elapsed time: 0:00:19.055705\n"
     ]
    }
   ],
   "source": [
    "training_params = [\n",
    "    { \"idx\": 1, \"robustness\": 0.2, \"break_at_val_acc_diff\": 0.05},\n",
    "    { \"idx\": 2, \"robustness\": 0.5, \"break_at_val_acc_diff\": 0.02},\n",
    "    { \"idx\": 3, \"robustness\": 1.0, \"break_at_val_acc_diff\": 0.01}\n",
    "]\n",
    "for param in training_params:\n",
    "    print(f\"Phase {param[\"idx\"]}:\")\n",
    "    model_data = prepare_for_incremental_training(model_data, f'{dataset_dir}/incremental-data-1', f'{dataset_dir}/val', \n",
    "                                                  batch_size=32, image_size=224, robustness=param[\"robustness\"], silent=True)\n",
    "    train(model_data, 5, f\"{dataset_dir}/{model_name}.inc.test.pth\", \n",
    "          break_at_val_acc_diff=param[\"break_at_val_acc_diff\"])"
   ]
  },
  {
   "cell_type": "code",
   "execution_count": 17,
   "id": "93d7c787-e47a-4150-bf62-a692630aafb7",
   "metadata": {},
   "outputs": [
    {
     "name": "stdout",
     "output_type": "stream",
     "text": [
      "test/acraea-terpsicore.jpg --> {'lophoptera-squammigera': 0.9502971172332764}\n",
      "test/graphium-doson.jpg --> {'lophoptera-squammigera': 0.8710583448410034}\n",
      "test/troides-minos.jpg --> {'albinospila-floresaria': 0.9235486388206482}\n",
      "test2/albinospila-floresaria.jpg --> {'lophoptera-squammigera': 0.8892876505851746}\n",
      "test2/lophoptera-squammigera.jpg --> {'albinospila-floresaria': 0.9614320397377014}\n"
     ]
    }
   ],
   "source": [
    "for file in ['test/acraea-terpsicore.jpg', 'test/graphium-doson.jpg', 'test/troides-minos.jpg', \n",
    "             'test2/albinospila-floresaria.jpg', 'test2/lophoptera-squammigera.jpg']:\n",
    "    print(f\"{file} --> {predict_top_k(f'{dataset_dir}/{file}', model_data, 1)}\");"
   ]
  },
  {
   "cell_type": "code",
   "execution_count": null,
   "id": "072aa4c7-80c9-4061-b449-e83cfe273654",
   "metadata": {},
   "outputs": [],
   "source": []
  },
  {
   "cell_type": "code",
   "execution_count": null,
   "id": "2e66443f-55d2-4466-af85-249da6aa4a7e",
   "metadata": {},
   "outputs": [],
   "source": []
  }
 ],
 "metadata": {
  "kernelspec": {
   "display_name": "Python 3 (ipykernel)",
   "language": "python",
   "name": "python3"
  },
  "language_info": {
   "codemirror_mode": {
    "name": "ipython",
    "version": 3
   },
   "file_extension": ".py",
   "mimetype": "text/x-python",
   "name": "python",
   "nbconvert_exporter": "python",
   "pygments_lexer": "ipython3",
   "version": "3.13.2"
  }
 },
 "nbformat": 4,
 "nbformat_minor": 5
}
