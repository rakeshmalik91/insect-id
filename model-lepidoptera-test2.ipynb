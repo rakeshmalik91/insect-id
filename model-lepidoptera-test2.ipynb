{
 "cells": [
  {
   "cell_type": "code",
   "execution_count": 2,
   "id": "4f1ad507-a969-4008-a8e6-33a44467cdbd",
   "metadata": {},
   "outputs": [],
   "source": [
    "%load_ext autoreload"
   ]
  },
  {
   "cell_type": "code",
   "execution_count": 3,
   "id": "5954cff2-405c-4764-84d9-938ee1b97cbf",
   "metadata": {},
   "outputs": [],
   "source": [
    "%autoreload 2"
   ]
  },
  {
   "cell_type": "code",
   "execution_count": 4,
   "id": "e8087173-e706-4adb-af8a-8633865a659f",
   "metadata": {},
   "outputs": [],
   "source": [
    "import mynnlib\n",
    "from mynnlib import *\n",
    "\n",
    "dataset_dir = \"insect-dataset/lepidoptera\"\n",
    "\n",
    "early_regex = r\"^.*-(early)$\"\n",
    "unidentified_regex = r\"^.*-(spp|genera|genera-spp)$\"\n",
    "early_or_unidentified_regex = r\"^.*-(early|spp|genera|genera-spp)$\""
   ]
  },
  {
   "cell_type": "markdown",
   "id": "8dac6bd1-e118-4a6d-887f-02309be394e2",
   "metadata": {
    "jp-MarkdownHeadingCollapsed": true
   },
   "source": [
    "# Create datasets"
   ]
  },
  {
   "cell_type": "code",
   "execution_count": 4,
   "id": "42a37c22-684b-422b-b7a9-856623e40092",
   "metadata": {},
   "outputs": [],
   "source": [
    "if os.path.exists(f\"{dataset_dir}/data\"):\n",
    "    shutil.rmtree(f\"{dataset_dir}/data\")\n",
    "os.makedirs(f\"{dataset_dir}/data\")\n",
    "for src_dir in [f\"{dataset_dir}/../moth/data\", f\"{dataset_dir}/../butterfly/data\"]:\n",
    "    for class_dir in os.listdir(src_dir):\n",
    "        shutil.copytree(f\"{src_dir}/{class_dir}\", f\"{dataset_dir}/data/{class_dir}\")"
   ]
  },
  {
   "cell_type": "code",
   "execution_count": 5,
   "id": "d7283a55-9fc2-4c93-8c80-73beed19505d",
   "metadata": {},
   "outputs": [],
   "source": [
    "if os.path.exists(f\"{dataset_dir}/val\"):\n",
    "    shutil.rmtree(f\"{dataset_dir}/val\")\n",
    "os.makedirs(f\"{dataset_dir}/val\")\n",
    "for src_dir in [f\"{dataset_dir}/../moth/val\", f\"{dataset_dir}/../butterfly/val\"]:\n",
    "    for class_dir in os.listdir(src_dir):\n",
    "        shutil.copytree(f\"{src_dir}/{class_dir}\", f\"{dataset_dir}/val/{class_dir}\")"
   ]
  },
  {
   "cell_type": "markdown",
   "id": "40b1be4d-1796-4c09-9112-7a971bc790e6",
   "metadata": {},
   "source": [
    "# Count"
   ]
  },
  {
   "cell_type": "code",
   "execution_count": 2,
   "id": "0a850df6-087a-418c-858a-598b8c60b3ee",
   "metadata": {},
   "outputs": [
    {
     "name": "stdout",
     "output_type": "stream",
     "text": [
      "Total Class count :   5550 ( Unidentified:    446 / Early-stage:   1027 / Identified-adult:   4077 )\n",
      "Total  Data count : 324034 ( Unidentified:  12202 / Early-stage:  25105 / Identified-adult: 286727 )\n"
     ]
    }
   ],
   "source": [
    "classes = { class_dir: len([ img for img in os.listdir(f\"{dataset_dir}/data/{class_dir}\") ]) for class_dir in os.listdir(f\"{dataset_dir}/data\") }\n",
    "early_classes = { class_name: count for class_name, count in classes.items() if re.match(early_regex, class_name) }\n",
    "unidentified_classes = { class_name: count for class_name, count in classes.items() if re.match(unidentified_regex, class_name) }\n",
    "print(f\"Total Class count : {len(classes):6} ( Unidentified: {len(unidentified_classes):6} / Early-stage: {len(early_classes):6} / Identified-adult: {len(classes) - len(unidentified_classes) - len(early_classes):6} )\")\n",
    "print(f\"Total  Data count : {sum(classes.values()):6} ( Unidentified: {sum(unidentified_classes.values()):6} / Early-stage: {sum(early_classes.values()):6} / Identified-adult: {sum(classes.values()) - sum(unidentified_classes.values()) - sum(early_classes.values()):6} )\")"
   ]
  },
  {
   "cell_type": "code",
   "execution_count": 3,
   "id": "d38c8fbe-81f6-4abb-8e11-5040db523058",
   "metadata": {},
   "outputs": [
    {
     "name": "stdout",
     "output_type": "stream",
     "text": [
      "   195 classes with <=2 images\n",
      "   526 classes with <=5 images\n"
     ]
    }
   ],
   "source": [
    "img2_class = []\n",
    "img5_class = []\n",
    "for class_dir in os.listdir(f\"{dataset_dir}/data\"):\n",
    "    if not re.match(early_or_unidentified_regex, class_dir):\n",
    "        img_cnt = sum([1 for file in os.listdir(f\"{dataset_dir}/data/{class_dir}\")])\n",
    "        img2_class += [class_dir] if img_cnt <= 2 else []\n",
    "        img5_class += [class_dir] if img_cnt <= 5 else []\n",
    "print(f\"{len(img2_class):6} classes with <=2 images\")\n",
    "print(f\"{len(img5_class):6} classes with <=5 images\")"
   ]
  },
  {
   "cell_type": "code",
   "execution_count": 4,
   "id": "4b0cea6f-518a-4f62-a9e1-68c0eac3026a",
   "metadata": {},
   "outputs": [
    {
     "name": "stdout",
     "output_type": "stream",
     "text": [
      "Genera count: 1866\n"
     ]
    }
   ],
   "source": [
    "generas = set()\n",
    "for class_name in classes:\n",
    "    generas.add(class_name.split('-')[0])\n",
    "print(f\"Genera count: {len(generas)}\")"
   ]
  },
  {
   "cell_type": "markdown",
   "id": "e991c64c-9d0c-4fad-b242-7f664fa534c4",
   "metadata": {},
   "source": [
    "# Train"
   ]
  },
  {
   "cell_type": "markdown",
   "id": "7b51a58d-5d64-47e3-8fb2-5f863416b622",
   "metadata": {
    "jp-MarkdownHeadingCollapsed": true
   },
   "source": [
    "### Model A (resnet-152)"
   ]
  },
  {
   "cell_type": "code",
   "execution_count": 16,
   "id": "a55dfec0-e31a-4710-8d52-adf2367bd86f",
   "metadata": {},
   "outputs": [
    {
     "name": "stdout",
     "output_type": "stream",
     "text": [
      "Phase 1:\n",
      "Epoch    1 /    5  | Train Loss: 2.1822 Acc: 0.5864  | Val Loss: 1.4265 Acc: 0.6265  | Elapsed time: 1:21:41.822510\n",
      "Epoch    2 /    5  | Train Loss: 0.8145 Acc: 0.8010  | Val Loss: 1.2405 Acc: 0.7531  | Elapsed time: 2:40:29.224297\n",
      "Epoch    3 /    5  | Train Loss: 0.6167 Acc: 0.8454  | Val Loss: 1.1244 Acc: 0.7346  | Elapsed time: 3:58:54.970532\n",
      "Phase 2:\n",
      "Epoch    1 /    5  | Train Loss: 1.5067 Acc: 0.6823  | Val Loss: 1.0881 Acc: 0.7562  | Elapsed time: 1:21:08.680264\n",
      "Epoch    2 /    5  | Train Loss: 1.3111 Acc: 0.7191  | Val Loss: 1.0673 Acc: 0.7716  | Elapsed time: 2:41:32.846402\n",
      "Phase 3:\n",
      "Epoch    1 /    5  | Train Loss: 1.2929 Acc: 0.7225  | Val Loss: 1.1342 Acc: 0.7500  | Elapsed time: 1:20:42.444327\n",
      "Epoch    2 /    5  | Train Loss: 1.2441 Acc: 0.7325  | Val Loss: 1.0588 Acc: 0.7747  | Elapsed time: 2:41:30.319693\n",
      "Epoch    3 /    5  | Train Loss: 0.9636 Acc: 0.7913  | Val Loss: 0.8902 Acc: 0.8148  | Elapsed time: 4:02:22.746229\n",
      "Epoch    4 /    5  | Train Loss: 0.8768 Acc: 0.8095  | Val Loss: 0.8818 Acc: 0.8117  | Elapsed time: 5:23:19.184070\n",
      "Phase 4:\n",
      "Epoch    1 /    5  | Train Loss: 0.9183 Acc: 0.8010  | Val Loss: 0.8638 Acc: 0.7994  | Elapsed time: 1:21:00.682487\n",
      "Epoch    2 /    5  | Train Loss: 0.8792 Acc: 0.8094  | Val Loss: 0.8599 Acc: 0.8056  | Elapsed time: 2:42:13.311328\n",
      "Epoch    3 /    5  | Train Loss: 0.8549 Acc: 0.8148  | Val Loss: 0.8508 Acc: 0.8025  | Elapsed time: 4:02:20.981201\n",
      "Phase 5:\n",
      "Epoch    1 /    5  | Train Loss: 0.8397 Acc: 0.8186  | Val Loss: 0.8634 Acc: 0.8056  | Elapsed time: 1:20:31.848380\n",
      "Epoch    2 /    5  | Train Loss: 0.8181 Acc: 0.8220  | Val Loss: 0.8467 Acc: 0.8056  | Elapsed time: 2:44:51.428337\n",
      "Epoch    3 /    5  | Train Loss: 0.7820 Acc: 0.8305  | Val Loss: 0.8399 Acc: 0.8117  | Elapsed time: 4:08:04.197774\n",
      "Epoch    4 /    5  | Train Loss: 0.7804 Acc: 0.8326  | Val Loss: 0.8431 Acc: 0.8148  | Elapsed time: 5:31:54.623262\n",
      "Epoch    5 /    5  | Train Loss: 0.7709 Acc: 0.8337  | Val Loss: 0.8338 Acc: 0.8148  | Elapsed time: 6:55:43.875627\n"
     ]
    }
   ],
   "source": [
    "training_params = [\n",
    "    { \"idx\": 1, \"robustness\": 0.2, \"break_at_val_acc_diff\": 0.05},\n",
    "    { \"idx\": 2, \"robustness\": 0.5, \"break_at_val_acc_diff\": 0.02},\n",
    "    { \"idx\": 3, \"robustness\": 1.0, \"break_at_val_acc_diff\": 0.01},\n",
    "    { \"idx\": 4, \"robustness\": 2.0, \"break_at_val_acc_diff\": -0.000001},\n",
    "    { \"idx\": 5, \"robustness\": 2.0, \"break_at_val_acc_diff\": -0.000001}\n",
    "]\n",
    "for param in training_params:\n",
    "    print(f\"Phase {param[\"idx\"]}:\")\n",
    "    if param[\"idx\"] == 1:\n",
    "        model_data = init_model_for_training(f'{dataset_dir}/data', f'{dataset_dir}/val', \n",
    "                                             batch_size=32, arch=\"resnet152\", image_size=224, robustness=param[\"robustness\"],\n",
    "                                             lr=1e-4, weight_decay=1e-4, silent=True)\n",
    "    else:\n",
    "        model_data = prepare_for_retraining(model_data, f'{dataset_dir}/data', f'{dataset_dir}/val', \n",
    "                                            batch_size=32, image_size=224, robustness=param[\"robustness\"], silent=True)\n",
    "    train(model_data, 5, f\"{dataset_dir}/checkpoint.lepidoptera.ta.ep{param[\"idx\"]:02}###.pth\", \n",
    "          break_at_val_acc_diff=param[\"break_at_val_acc_diff\"])"
   ]
  },
  {
   "cell_type": "code",
   "execution_count": 22,
   "id": "5717abdf-2eb1-49e2-9748-a0ffa5a93f41",
   "metadata": {},
   "outputs": [],
   "source": [
    "model_data = torch.load(f\"{dataset_dir}/checkpoint.lepidoptera.ta.ep050004.pth\", weights_only=False)"
   ]
  },
  {
   "cell_type": "code",
   "execution_count": 23,
   "id": "a3ad4d55-dfb0-437e-bb08-b2b62acc67aa",
   "metadata": {},
   "outputs": [
    {
     "name": "stdout",
     "output_type": "stream",
     "text": [
      "Top   1 accuracy: 119/153 -> 77.78%, genus matched: 138/153 -> 90.20%\n",
      "Top   3 accuracy: 135/153 -> 88.24%, genus matched: 150/153 -> 98.04%\n",
      "Top   5 accuracy: 144/153 -> 94.12%, genus matched: 152/153 -> 99.35%\n",
      "Top  10 accuracy: 145/153 -> 94.77%, genus matched: 153/153 -> 100.00%\n"
     ]
    }
   ],
   "source": [
    "test_top_k(model_data, f\"{dataset_dir}/../butterfly/random-test\", 3, print_preds=False, print_top1_accuracy=True, print_no_match=False)\n",
    "test_top_k(model_data, f\"{dataset_dir}/../butterfly/random-test\", 5, print_preds=False, print_top1_accuracy=False)\n",
    "test_top_k(model_data, f\"{dataset_dir}/../butterfly/random-test\", 10, print_preds=False, print_top1_accuracy=False)"
   ]
  },
  {
   "cell_type": "code",
   "execution_count": 24,
   "id": "8f605e56-9532-43a0-a711-43da135480aa",
   "metadata": {},
   "outputs": [
    {
     "name": "stdout",
     "output_type": "stream",
     "text": [
      "Top   1 accuracy: 130/152 -> 85.53%, genus matched: 146/152 -> 96.05%\n",
      "Top   3 accuracy: 147/152 -> 96.71%, genus matched: 147/152 -> 96.71%\n",
      "Top   5 accuracy: 147/152 -> 96.71%, genus matched: 147/152 -> 96.71%\n",
      "Top  10 accuracy: 147/152 -> 96.71%, genus matched: 147/152 -> 96.71%\n"
     ]
    }
   ],
   "source": [
    "test_top_k(model_data, f\"{dataset_dir}/../moth/random-test\", 3, print_preds=False, print_top1_accuracy=True, print_no_match=False)\n",
    "test_top_k(model_data, f\"{dataset_dir}/../moth/random-test\", 5, print_preds=False, print_top1_accuracy=False)\n",
    "test_top_k(model_data, f\"{dataset_dir}/../moth/random-test\", 10, print_preds=False, print_top1_accuracy=False)"
   ]
  },
  {
   "cell_type": "code",
   "execution_count": 25,
   "id": "50debd3b-5624-4791-9091-5960b9acf8cc",
   "metadata": {},
   "outputs": [
    {
     "name": "stdout",
     "output_type": "stream",
     "text": [
      "acraea-terpsicore             : \u001b[32macraea-terpsicore\u001b[0m(0.971)  lycaena-panava(0.016)  argynnis-hybrida(0.008)  \n",
      "athyma-pravara                : neptis-clinia(0.648)  neptis-nata(0.158)  neptis-soma(0.044)  \n",
      "colias-fieldii                : \u001b[32mcolias-fieldii\u001b[0m(0.998)  colias-eogene(0.001)  colias-erate(0.001)  \n",
      "danaus-melanippus             : \u001b[32mdanaus-melanippus\u001b[0m(0.926)  danaus-genutia(0.070)  danaus-chrysippus(0.000)  \n",
      "delias-descombesi             : \u001b[32mdelias-descombesi\u001b[0m(0.944)  delias-agostina(0.008)  delias-pasithoe(0.005)  \n",
      "euploea-core                  : \u001b[32meuploea-core\u001b[0m(0.431)  euploea-sylvester(0.267)  euploea-algea(0.144)  \n",
      "graphium-doson                : \u001b[32mgraphium-doson\u001b[0m(0.982)  graphium-teredon(0.008)  graphium-sarpedon(0.005)  \n",
      "hypolimnas-bolina             : \u001b[32mhypolimnas-bolina\u001b[0m(0.999)  hypolimnas-misippus(0.001)  mimathyma-ambica(0.000)  \n",
      "kallima-inachus               : \u001b[32mkallima-inachus\u001b[0m(0.997)  doleschallia-bisaltide(0.001)  kallima-albofasciata(0.000)  \n",
      "lethe-verma                   : \u001b[32mlethe-verma\u001b[0m(0.985)  lethe-confusa(0.008)  orsotriaena-medus(0.001)  \n",
      "melanitis-leda                : \u001b[32mmelanitis-leda\u001b[0m(0.704)  melanitis-zitenius(0.229)  melanitis-phedima(0.063)  \n",
      "papilio-bianor                : papilio-polyctor(0.757)  \u001b[32mpapilio-bianor\u001b[0m(0.234)  papilio-arcturus(0.003)  \n",
      "papilio-paris                 : papilio-bianor(0.930)  papilio-polyctor(0.059)  papilio-arcturus(0.006)  \n",
      "parantica-sita                : parantica-melaneus(0.746)  \u001b[32mparantica-sita\u001b[0m(0.208)  parantica-pedonga(0.037)  \n",
      "phalanta-phalantha            : \u001b[32mphalanta-phalantha\u001b[0m(0.997)  phalanta-alcippe(0.001)  argynnis-castetsi(0.001)  \n",
      "symbrenthia-lilaea            : \u001b[32msymbrenthia-lilaea\u001b[0m(0.944)  symbrenthia-hypselis(0.020)  symbrenthia-brabira(0.013)  \n",
      "troides-minos                 : \u001b[32mtroides-minos\u001b[0m(0.850)  troides-aeacus(0.139)  troides-helena(0.011)  \n",
      "vanessa-indica                : \u001b[32mvanessa-indica\u001b[0m(0.985)  dilipa-morgiana(0.004)  vanessa-cardui(0.002)  \n",
      "vindula-dejone                : vindula-erota(0.874)  cirrochroa-tyche(0.056)  stichophthalma-sparta(0.011)  \n",
      "zemeros-flegyas               : \u001b[32mzemeros-flegyas\u001b[0m(0.984)  amesia-sanguiflua(0.002)  stibochiona-nicea(0.002)  \n",
      "----------\n",
      "Top   1 accuracy: 15/20 -> 75.00%, genus matched: 19/20 -> 95.00%\n",
      "Top   3 accuracy: 17/20 -> 85.00%, genus matched: 19/20 -> 95.00%\n"
     ]
    }
   ],
   "source": [
    "test_top_k(model_data, f\"{dataset_dir}/../butterfly/my-test\", 3, print_preds=True, print_top1_accuracy=True, print_no_match=False)"
   ]
  },
  {
   "cell_type": "code",
   "execution_count": 20,
   "id": "788104bd-f9e7-4f5b-9ac7-86510d56b7a0",
   "metadata": {},
   "outputs": [
    {
     "name": "stdout",
     "output_type": "stream",
     "text": [
      "apona-spp                     : apona-caschmirensis(0.382)  polyptychus-trilineatus(0.232)  marumba-dyras(0.101)  \n",
      "dysphania-percota             : \u001b[32mdysphania-percota\u001b[0m(0.997)  dysphania-percota-early(0.000)  teliphasa-albifusa(0.000)  \n",
      "eupterote-undata              : \u001b[32meupterote-undata\u001b[0m(0.990)  eupterote-spp(0.005)  eupterote-mollifera(0.002)  \n",
      "hippotion-rosetta-2           : hippotion-boerhaviae(0.536)  \u001b[32mhippotion-rosetta\u001b[0m(0.226)  cechetra-minor(0.154)  \n",
      "hippotion-rosetta             : \u001b[32mhippotion-rosetta\u001b[0m(0.396)  hippotion-boerhaviae(0.364)  hippotion-spp(0.176)  \n",
      "----------\n",
      "Top   1 accuracy: 3/5 -> 60.00%, genus matched: 5/5 -> 100.00%\n",
      "Top   3 accuracy: 4/5 -> 80.00%, genus matched: 5/5 -> 100.00%\n"
     ]
    }
   ],
   "source": [
    "test_top_k(model_data, f\"{dataset_dir}/../moth/my-test\", 3, print_preds=True, print_top1_accuracy=True, print_no_match=False)"
   ]
  },
  {
   "cell_type": "code",
   "execution_count": null,
   "id": "daa59210-e4ad-4899-bcdd-b208c531fa29",
   "metadata": {},
   "outputs": [],
   "source": []
  },
  {
   "cell_type": "code",
   "execution_count": null,
   "id": "bb7e9693-7d87-460b-8976-ff0ffaa96aae",
   "metadata": {},
   "outputs": [],
   "source": []
  },
  {
   "cell_type": "code",
   "execution_count": null,
   "id": "9b442b59-d245-4564-bdd1-e0d050ad2efe",
   "metadata": {},
   "outputs": [],
   "source": []
  },
  {
   "cell_type": "markdown",
   "id": "e3116533-44ad-4746-a216-d8c39f5cd3f2",
   "metadata": {
    "jp-MarkdownHeadingCollapsed": true
   },
   "source": [
    "### Model B (resnet-101 + sorted data)\n",
    "inaturalist data had lots of early stage data mixed in imago class, have been sorted now manually"
   ]
  },
  {
   "cell_type": "code",
   "execution_count": 9,
   "id": "0ddb8a95-399f-48a5-a0ac-7954c90ac773",
   "metadata": {},
   "outputs": [
    {
     "name": "stdout",
     "output_type": "stream",
     "text": [
      "Phase 1:\n",
      "Epoch    1 /    5  | Train Loss: 2.2218 Acc: 0.5835  | Val Loss: 1.3690 Acc: 0.7037  | Elapsed time: 1:06:34.353595\n",
      "Epoch    2 /    5  | Train Loss: 0.8291 Acc: 0.8009  | Val Loss: 1.1166 Acc: 0.7407  | Elapsed time: 2:11:51.312474\n",
      "Phase 2:\n",
      "Epoch    1 /    5  | Train Loss: 1.5705 Acc: 0.6715  | Val Loss: 1.0159 Acc: 0.7469  | Elapsed time: 1:07:39.699875\n",
      "Epoch    2 /    5  | Train Loss: 1.3733 Acc: 0.7075  | Val Loss: 0.9844 Acc: 0.7593  | Elapsed time: 2:15:28.483240\n",
      "Phase 3:\n",
      "Epoch    1 /    5  | Train Loss: 1.3445 Acc: 0.7138  | Val Loss: 0.9940 Acc: 0.7716  | Elapsed time: 1:07:17.710645\n",
      "Epoch    2 /    5  | Train Loss: 1.2949 Acc: 0.7240  | Val Loss: 1.0233 Acc: 0.7531  | Elapsed time: 2:14:56.035088\n",
      "Phase 4:\n",
      "Epoch    1 /    5 "
     ]
    },
    {
     "ename": "KeyboardInterrupt",
     "evalue": "",
     "output_type": "error",
     "traceback": [
      "\u001b[1;31m---------------------------------------------------------------------------\u001b[0m",
      "\u001b[1;31mKeyboardInterrupt\u001b[0m                         Traceback (most recent call last)",
      "..."
     ]
    }
   ],
   "source": [
    "training_params = [\n",
    "    { \"idx\": 1, \"robustness\": 0.2, \"break_at_val_acc_diff\": 0.05},\n",
    "    { \"idx\": 2, \"robustness\": 0.5, \"break_at_val_acc_diff\": 0.02},\n",
    "    { \"idx\": 3, \"robustness\": 1.0, \"break_at_val_acc_diff\": 0.01},\n",
    "    { \"idx\": 4, \"robustness\": 2.0, \"break_at_val_acc_diff\": -0.000001},\n",
    "    { \"idx\": 5, \"robustness\": 2.0, \"break_at_val_acc_diff\": -0.000001}\n",
    "]\n",
    "for param in training_params:\n",
    "    print(f\"Phase {param[\"idx\"]}:\")\n",
    "    if param[\"idx\"] == 1:\n",
    "        model_data = init_model_for_training(f'{dataset_dir}/data', f'{dataset_dir}/val', \n",
    "                                             batch_size=32, arch=\"resnet101\", image_size=224, robustness=param[\"robustness\"],\n",
    "                                             lr=1e-4, weight_decay=1e-4, silent=True)\n",
    "    else:\n",
    "        model_data = prepare_for_retraining(model_data, f'{dataset_dir}/data', f'{dataset_dir}/val', \n",
    "                                            batch_size=32, image_size=224, robustness=param[\"robustness\"], silent=True)\n",
    "    train(model_data, 5, f\"{dataset_dir}/checkpoint.lepidoptera.tb.ep{param[\"idx\"]:02}###.pth\", \n",
    "          break_at_val_acc_diff=param[\"break_at_val_acc_diff\"])"
   ]
  },
  {
   "cell_type": "code",
   "execution_count": null,
   "id": "2cb111b7-3773-4584-9ef5-d4dc81cfcb58",
   "metadata": {},
   "outputs": [],
   "source": []
  },
  {
   "cell_type": "code",
   "execution_count": null,
   "id": "afb522a0-c96a-4312-b82d-2a7d26cec1e2",
   "metadata": {},
   "outputs": [],
   "source": []
  },
  {
   "cell_type": "code",
   "execution_count": null,
   "id": "f2f1be1a-41eb-4dac-bf19-5f751e05a382",
   "metadata": {},
   "outputs": [],
   "source": []
  },
  {
   "cell_type": "markdown",
   "id": "cdade356-bbe6-4211-9e70-c1f83c9f9781",
   "metadata": {
    "jp-MarkdownHeadingCollapsed": true
   },
   "source": [
    "### Model C (resnet-152 + sorted data) ***"
   ]
  },
  {
   "cell_type": "code",
   "execution_count": 10,
   "id": "adce4008-b6a2-4bc4-a9d9-43ad08e8a91e",
   "metadata": {},
   "outputs": [
    {
     "name": "stdout",
     "output_type": "stream",
     "text": [
      "Phase 1:\n",
      "Epoch    1 /    5  | Train Loss: 2.1977 Acc: 0.5879  | Val Loss: 1.2671 Acc: 0.6944  | Elapsed time: 1:20:03.938434\n",
      "Epoch    2 /    5  | Train Loss: 0.8228 Acc: 0.8023  | Val Loss: 1.1125 Acc: 0.7284  | Elapsed time: 2:41:38.858001\n",
      "Phase 2:\n",
      "Epoch    1 /    5  | Train Loss: 1.5379 Acc: 0.6765  | Val Loss: 1.0099 Acc: 0.7654  | Elapsed time: 1:23:44.811123\n",
      "Epoch    2 /    5  | Train Loss: 1.3459 Acc: 0.7117  | Val Loss: 1.0590 Acc: 0.7469  | Elapsed time: 2:47:16.850669\n",
      "Phase 3:\n",
      "Epoch    1 /    5  | Train Loss: 1.3132 Acc: 0.7188  | Val Loss: 1.0038 Acc: 0.7685  | Elapsed time: 1:24:05.802611\n",
      "Epoch    2 /    5  | Train Loss: 1.2663 Acc: 0.7291  | Val Loss: 1.0119 Acc: 0.7346  | Elapsed time: 2:48:06.307405\n",
      "Phase 4:\n",
      "Epoch    1 /    5  | Train Loss: 1.3079 Acc: 0.7206  | Val Loss: 1.0882 Acc: 0.7469  | Elapsed time: 2:25:26.729687\n",
      "Epoch    2 /    5  | Train Loss: 1.0291 Acc: 0.7792  | Val Loss: 0.8902 Acc: 0.7901  | Elapsed time: 3:46:25.230717\n",
      "Epoch    3 /    5  | Train Loss: 0.9427 Acc: 0.7979  | Val Loss: 0.8831 Acc: 0.7809  | Elapsed time: 5:09:57.775328\n",
      "Phase 5:\n",
      "Epoch    1 /    5  | Train Loss: 0.9057 Acc: 0.8050  | Val Loss: 0.8578 Acc: 0.7809  | Elapsed time: 1:23:57.932603\n",
      "Epoch    2 /    5  | Train Loss: 0.8760 Acc: 0.8114  | Val Loss: 0.8287 Acc: 0.7932  | Elapsed time: 2:47:36.977281\n",
      "Epoch    3 /    5  | Train Loss: 0.8592 Acc: 0.8152  | Val Loss: 0.8345 Acc: 0.7809  | Elapsed time: 4:11:05.927561\n"
     ]
    }
   ],
   "source": [
    "training_params = [\n",
    "    { \"idx\": 1, \"robustness\": 0.2, \"break_at_val_acc_diff\": 0.05},\n",
    "    { \"idx\": 2, \"robustness\": 0.5, \"break_at_val_acc_diff\": 0.02},\n",
    "    { \"idx\": 3, \"robustness\": 1.0, \"break_at_val_acc_diff\": 0.01},\n",
    "    { \"idx\": 4, \"robustness\": 2.0, \"break_at_val_acc_diff\": -0.000001},\n",
    "    { \"idx\": 5, \"robustness\": 2.0, \"break_at_val_acc_diff\": -0.000001}\n",
    "]\n",
    "for param in training_params:\n",
    "    print(f\"Phase {param[\"idx\"]}:\")\n",
    "    if param[\"idx\"] == 1:\n",
    "        model_data = init_model_for_training(f'{dataset_dir}/data', f'{dataset_dir}/val', \n",
    "                                             batch_size=32, arch=\"resnet152\", image_size=224, robustness=param[\"robustness\"],\n",
    "                                             lr=1e-4, weight_decay=1e-4, silent=True)\n",
    "    else:\n",
    "        model_data = prepare_for_retraining(model_data, f'{dataset_dir}/data', f'{dataset_dir}/val', \n",
    "                                            batch_size=32, image_size=224, robustness=param[\"robustness\"], silent=True)\n",
    "    train(model_data, 5, f\"{dataset_dir}/checkpoint.lepidoptera.tc.ep{param[\"idx\"]:02}###.pth\", \n",
    "          break_at_val_acc_diff=param[\"break_at_val_acc_diff\"])"
   ]
  },
  {
   "cell_type": "code",
   "execution_count": 9,
   "id": "c48c2251-79fb-40e2-8be3-8df378f03e78",
   "metadata": {},
   "outputs": [],
   "source": [
    "model_data = torch.load(f\"{dataset_dir}/checkpoint.lepidoptera.tc.ep050001.pth\", weights_only=False)"
   ]
  },
  {
   "cell_type": "code",
   "execution_count": 10,
   "id": "619f7596-96cf-44db-b211-5d180cd13bc2",
   "metadata": {},
   "outputs": [
    {
     "name": "stdout",
     "output_type": "stream",
     "text": [
      "Top   1 accuracy: 113/153 -> 73.86%, genus matched: 133/153 -> 86.93%\n",
      "Top   3 accuracy: 139/153 -> 90.85%, genus matched: 150/153 -> 98.04%\n",
      "Top   5 accuracy: 144/153 -> 94.12%, genus matched: 152/153 -> 99.35%\n",
      "Top  10 accuracy: 146/153 -> 95.42%, genus matched: 153/153 -> 100.00%\n"
     ]
    }
   ],
   "source": [
    "test_top_k(model_data, f\"{dataset_dir}/../butterfly/random-test\", 3, print_preds=False, print_top1_accuracy=True, print_no_match=False)\n",
    "test_top_k(model_data, f\"{dataset_dir}/../butterfly/random-test\", 5, print_preds=False, print_top1_accuracy=False)\n",
    "test_top_k(model_data, f\"{dataset_dir}/../butterfly/random-test\", 10, print_preds=False, print_top1_accuracy=False)"
   ]
  },
  {
   "cell_type": "markdown",
   "id": "0a7d9128-cafa-478a-a0a2-6fac1678f544",
   "metadata": {},
   "source": [
    "reduced top 1 accuracy, but increased top 3 accuracy"
   ]
  },
  {
   "cell_type": "code",
   "execution_count": 11,
   "id": "b4fb2a09-50b2-46a8-a88f-e443462d9604",
   "metadata": {},
   "outputs": [
    {
     "name": "stdout",
     "output_type": "stream",
     "text": [
      "Top   1 accuracy: 128/152 -> 84.21%, genus matched: 146/152 -> 96.05%\n",
      "Top   3 accuracy: 146/152 -> 96.05%, genus matched: 147/152 -> 96.71%\n",
      "Top   5 accuracy: 148/152 -> 97.37%, genus matched: 148/152 -> 97.37%\n",
      "Top  10 accuracy: 148/152 -> 97.37%, genus matched: 149/152 -> 98.03%\n"
     ]
    }
   ],
   "source": [
    "test_top_k(model_data, f\"{dataset_dir}/../moth/random-test\", 3, print_preds=False, print_top1_accuracy=True, print_no_match=False)\n",
    "test_top_k(model_data, f\"{dataset_dir}/../moth/random-test\", 5, print_preds=False, print_top1_accuracy=False)\n",
    "test_top_k(model_data, f\"{dataset_dir}/../moth/random-test\", 10, print_preds=False, print_top1_accuracy=False)"
   ]
  },
  {
   "cell_type": "code",
   "execution_count": 12,
   "id": "b51879fd-420a-40c3-8145-aff6abb7db11",
   "metadata": {},
   "outputs": [
    {
     "name": "stdout",
     "output_type": "stream",
     "text": [
      "acraea-terpsicore             : \u001b[32macraea-terpsicore\u001b[0m(0.997)  danaus-chrysippus(0.001)  argina-astrea(0.001)  \n",
      "athyma-pravara                : neptis-clinia(0.405)  neptis-nata(0.204)  neptis-harita(0.159)  \n",
      "colias-fieldii                : \u001b[32mcolias-fieldii\u001b[0m(0.978)  colias-erate(0.018)  colias-nilagiriensis(0.001)  \n",
      "danaus-melanippus             : \u001b[32mdanaus-melanippus\u001b[0m(0.939)  danaus-genutia(0.059)  danaus-chrysippus(0.000)  \n",
      "delias-descombesi             : \u001b[32mdelias-descombesi\u001b[0m(0.989)  delias-pasithoe(0.003)  delias-descombesi-early(0.001)  \n",
      "euploea-core                  : \u001b[32meuploea-core\u001b[0m(0.441)  euploea-sylvester(0.230)  euploea-godartii(0.145)  \n",
      "graphium-doson                : \u001b[32mgraphium-doson\u001b[0m(0.874)  graphium-teredon(0.080)  graphium-sarpedon(0.036)  \n",
      "hypolimnas-bolina             : \u001b[32mhypolimnas-bolina\u001b[0m(0.989)  hypolimnas-misippus(0.007)  mimathyma-ambica(0.001)  \n",
      "kallima-inachus               : \u001b[32mkallima-inachus\u001b[0m(0.999)  kallima-albofasciata(0.001)  kallima-horsfieldii(0.000)  \n",
      "lethe-verma                   : \u001b[32mlethe-verma\u001b[0m(0.972)  lethe-confusa(0.008)  neorina-patria(0.005)  \n",
      "melanitis-leda                : \u001b[32mmelanitis-leda\u001b[0m(0.734)  melanitis-zitenius(0.210)  melanitis-phedima(0.041)  \n",
      "papilio-bianor                : papilio-polyctor(0.589)  \u001b[32mpapilio-bianor\u001b[0m(0.395)  papilio-paris(0.009)  \n",
      "papilio-paris                 : papilio-bianor(0.931)  papilio-polyctor(0.048)  papilio-arcturus(0.013)  \n",
      "parantica-sita                : parantica-melaneus(0.903)  \u001b[32mparantica-sita\u001b[0m(0.058)  parantica-pedonga(0.026)  \n",
      "phalanta-phalantha            : \u001b[32mphalanta-phalantha\u001b[0m(0.995)  argynnis-hybrida(0.002)  argynnis-castetsi(0.001)  \n",
      "symbrenthia-lilaea            : \u001b[32msymbrenthia-lilaea\u001b[0m(0.950)  abrota-ganga(0.006)  symbrenthia-hypselis(0.006)  \n",
      "troides-minos                 : \u001b[32mtroides-minos\u001b[0m(0.785)  troides-aeacus(0.201)  troides-helena(0.014)  \n",
      "vanessa-indica                : \u001b[32mvanessa-indica\u001b[0m(0.923)  vanessa-cardui(0.060)  episteme-vetula(0.006)  \n",
      "vindula-dejone                : vindula-erota(0.598)  cirrochroa-tyche(0.267)  cirrochroa-aoris(0.030)  \n",
      "zemeros-flegyas               : \u001b[32mzemeros-flegyas\u001b[0m(0.993)  argynnis-castetsi(0.004)  graphium-megarus(0.000)  \n",
      "----------\n",
      "Top   1 accuracy: 15/20 -> 75.00%, genus matched: 19/20 -> 95.00%\n",
      "Top   3 accuracy: 17/20 -> 85.00%, genus matched: 19/20 -> 95.00%\n"
     ]
    }
   ],
   "source": [
    "test_top_k(model_data, f\"{dataset_dir}/../butterfly/my-test\", 3, print_preds=True, print_top1_accuracy=True, print_no_match=False)"
   ]
  },
  {
   "cell_type": "code",
   "execution_count": 13,
   "id": "0fe48240-efa7-4dbe-901c-1cc8df35208a",
   "metadata": {},
   "outputs": [
    {
     "name": "stdout",
     "output_type": "stream",
     "text": [
      "apona-spp                     : marumba-dyras(0.447)  apona-caschmirensis(0.162)  polyptychus-trilineatus(0.123)  \n",
      "dysphania-percota             : \u001b[32mdysphania-percota\u001b[0m(0.995)  pachyodes-haemataria(0.001)  dysphania-percota-early(0.001)  \n",
      "eupterote-undata              : \u001b[32meupterote-undata\u001b[0m(0.996)  eupterote-spp(0.002)  eupterote-mollifera(0.000)  \n",
      "hippotion-rosetta-2           : cechetra-minor(0.470)  hippotion-boerhaviae(0.209)  \u001b[32mhippotion-rosetta\u001b[0m(0.182)  \n",
      "hippotion-rosetta             : hippotion-boerhaviae(0.507)  \u001b[32mhippotion-rosetta\u001b[0m(0.262)  hippotion-spp(0.056)  \n",
      "----------\n",
      "Top   1 accuracy: 2/5 -> 40.00%, genus matched: 3/5 -> 60.00%\n",
      "Top   3 accuracy: 4/5 -> 80.00%, genus matched: 5/5 -> 100.00%\n"
     ]
    }
   ],
   "source": [
    "test_top_k(model_data, f\"{dataset_dir}/../moth/my-test\", 3, print_preds=True, print_top1_accuracy=True, print_no_match=False)"
   ]
  },
  {
   "cell_type": "code",
   "execution_count": null,
   "id": "70709b65-6d7e-433e-8628-06ba4f4f819f",
   "metadata": {},
   "outputs": [],
   "source": []
  },
  {
   "cell_type": "code",
   "execution_count": null,
   "id": "bfbf4322-61cb-403e-8745-1c771ee4e4ca",
   "metadata": {},
   "outputs": [],
   "source": []
  },
  {
   "cell_type": "code",
   "execution_count": null,
   "id": "ab1ecfa4-878a-4380-b7b7-acad0a8eff6a",
   "metadata": {},
   "outputs": [],
   "source": []
  },
  {
   "cell_type": "markdown",
   "id": "873ae938-ba9a-43bc-b8a5-3f17cf921ff2",
   "metadata": {},
   "source": [
    "### Model D (resnet-152 + more species)"
   ]
  },
  {
   "cell_type": "code",
   "execution_count": 7,
   "id": "4ee53820-fb40-4155-ad71-89039fe95c94",
   "metadata": {},
   "outputs": [
    {
     "name": "stdout",
     "output_type": "stream",
     "text": [
      "Phase 1:\n",
      "Epoch    1 /    5  | Train Loss: 2.2655 Acc: 0.5688  | Val Loss: 1.3073 Acc: 0.6780  | Elapsed time: 2:02:12.433761\n",
      "Epoch    2 /    5  | Train Loss: 0.8992 Acc: 0.7774  | Val Loss: 1.2307 Acc: 0.7090  | Elapsed time: 3:57:24.550842\n",
      "Phase 2:\n",
      "Epoch    1 /    5  | Train Loss: 1.6152 Acc: 0.6551  | Val Loss: 1.0624 Acc: 0.7461  | Elapsed time: 2:04:49.408890\n",
      "Epoch    2 /    5  | Train Loss: 1.4142 Acc: 0.6921  | Val Loss: 1.0937 Acc: 0.7523  | Elapsed time: 4:00:55.403772\n",
      "Phase 3:\n",
      "Epoch    1 /    5  | Train Loss: 1.3906 Acc: 0.6972  | Val Loss: 1.0870 Acc: 0.7554  | Elapsed time: 1:53:22.447964\n",
      "Epoch    2 /    5  | Train Loss: 1.3428 Acc: 0.7069  | Val Loss: 1.0982 Acc: 0.7461  | Elapsed time: 3:45:43.227653\n",
      "Phase 4:\n",
      "Epoch    1 /    5  | Train Loss: 1.3839 Acc: 0.6985  | Val Loss: 1.0711 Acc: 0.7399  | Elapsed time: 1:52:35.319650\n",
      "Epoch    2 /    5  | Train Loss: 1.0969 Acc: 0.7569  | Val Loss: 0.9380 Acc: 0.7709  | Elapsed time: 3:49:36.904192\n",
      "Epoch    3 /    5  | Train Loss: 1.0084 Acc: 0.7756  | Val Loss: 0.8788 Acc: 0.7957  | Elapsed time: 5:53:30.287793\n",
      "Epoch    4 /    5  | Train Loss: 0.9734 Acc: 0.7831  | Val Loss: 0.9144 Acc: 0.7802  | Elapsed time: 7:53:25.389635\n",
      "Phase 5:\n",
      "Epoch    1 /    5  | Train Loss: 0.9435 Acc: 0.7896  | Val Loss: 0.8746 Acc: 0.8019  | Elapsed time: 2:10:49.147938\n",
      "Epoch    2 /    5  | Train Loss: 0.9206 Acc: 0.7943  | Val Loss: 0.9004 Acc: 0.7895  | Elapsed time: 4:18:21.297663\n",
      "Phase 6:\n",
      "Epoch    1 /    5  | Train Loss: 0.8971 Acc: 0.7988  | Val Loss: 0.8806 Acc: 0.7957  | Elapsed time: 2:02:46.149518\n",
      "Epoch    2 /    5  | Train Loss: 0.8837 Acc: 0.8019  | Val Loss: 0.8388 Acc: 0.8142  | Elapsed time: 4:08:46.501997\n",
      "Epoch    3 /    5  | Train Loss: 0.8493 Acc: 0.8090  | Val Loss: 0.8556 Acc: 0.8050  | Elapsed time: 6:15:13.045522\n"
     ]
    }
   ],
   "source": [
    "training_params = [\n",
    "    { \"idx\": 1, \"robustness\": 0.2, \"break_at_val_acc_diff\": 0.05},\n",
    "    { \"idx\": 2, \"robustness\": 0.5, \"break_at_val_acc_diff\": 0.02},\n",
    "    { \"idx\": 3, \"robustness\": 1.0, \"break_at_val_acc_diff\": 0.01},\n",
    "    { \"idx\": 4, \"robustness\": 2.0, \"break_at_val_acc_diff\": -0.000001},\n",
    "    { \"idx\": 5, \"robustness\": 2.0, \"break_at_val_acc_diff\": -0.000001},\n",
    "    { \"idx\": 6, \"robustness\": 2.0, \"break_at_val_acc_diff\": -0.000001}\n",
    "]\n",
    "for param in training_params:\n",
    "    print(f\"Phase {param[\"idx\"]}:\")\n",
    "    if param[\"idx\"] == 1:\n",
    "        model_data = init_model_for_training(f'{dataset_dir}/data', f'{dataset_dir}/val', \n",
    "                                             batch_size=32, arch=\"resnet152\", image_size=224, robustness=param[\"robustness\"],\n",
    "                                             lr=1e-4, weight_decay=1e-4, silent=True)\n",
    "    else:\n",
    "        model_data = prepare_for_retraining(model_data, f'{dataset_dir}/data', f'{dataset_dir}/val', \n",
    "                                            batch_size=32, image_size=224, robustness=param[\"robustness\"], silent=True)\n",
    "    train(model_data, 5, f\"{dataset_dir}/checkpoint.lepidoptera.td.ep{param[\"idx\"]:02}###.pth\", \n",
    "          break_at_val_acc_diff=param[\"break_at_val_acc_diff\"])"
   ]
  },
  {
   "cell_type": "code",
   "execution_count": 8,
   "id": "55a19dc6-c500-4c22-99ce-6bb14f6035ae",
   "metadata": {},
   "outputs": [],
   "source": [
    "model_data = torch.load(f\"{dataset_dir}/checkpoint.lepidoptera.td.ep060001.pth\", weights_only=False)"
   ]
  },
  {
   "cell_type": "code",
   "execution_count": 9,
   "id": "3c0087e6-228a-4cdf-8953-f25bdc353766",
   "metadata": {},
   "outputs": [
    {
     "name": "stdout",
     "output_type": "stream",
     "text": [
      "athyma-pravara: \n",
      "\t \u001b[31mneptis-nata\u001b[0m(0.293)  \u001b[31mneptis-clinia\u001b[0m(0.235)  \u001b[31mneptis-harita\u001b[0m(0.166)  \n",
      "eupterote-undata-2: \n",
      "\t \u001b[31mgunda-javanica\u001b[0m(0.209)  \u001b[31mepisparis-costistriga\u001b[0m(0.142)  \u001b[31mlymantria-fuliginosa\u001b[0m(0.078)  \n",
      "hypolimnas-missippus: \n",
      "\t \u001b[33mhypolimnas-misippus\u001b[0m(0.676)  \u001b[33mhypolimnas-bolina\u001b[0m(0.298)  \u001b[33mathyma-punctata\u001b[0m(0.008)  \n",
      "unidentified-moth-2: \n",
      "\t \u001b[31morgyia-postica-early\u001b[0m(0.762)  \u001b[31mlymantria-ampla\u001b[0m(0.052)  \u001b[31molene-mendosa-early\u001b[0m(0.039)  \n",
      "unidentified-moth-3a: \n",
      "\t \u001b[31mlocastra-muscosalis\u001b[0m(0.628)  \u001b[31mpyralidae-genera-spp\u001b[0m(0.206)  \u001b[31marippara-indicator\u001b[0m(0.032)  \n",
      "unidentified-moth-3b: \n",
      "\t \u001b[31mlocastra-muscosalis\u001b[0m(0.613)  \u001b[31maporodes-floralis\u001b[0m(0.183)  \u001b[31mpyralis-manihotalis\u001b[0m(0.055)  \n",
      "unidentified-moth-4a: \n",
      "\t \u001b[31mcleora-injectaria\u001b[0m(0.434)  \u001b[31mcleora-alienaria\u001b[0m(0.140)  \u001b[31mcusiala-boarmoides\u001b[0m(0.097)  \n",
      "unidentified-moth-4b: \n",
      "\t \u001b[31mcleora-injectaria\u001b[0m(0.722)  \u001b[31mboarmiini-genera-spp\u001b[0m(0.119)  \u001b[31mcleora-spp\u001b[0m(0.061)  \n",
      "vindula-dejone: \n",
      "\t \u001b[33mvindula-erota\u001b[0m(0.729)  \u001b[33mcirrochroa-tyche\u001b[0m(0.201)  \u001b[33mcirrochroa-aoris\u001b[0m(0.027)  \n",
      "Top   1 accuracy: 34/49 -> 69.39%, genus matched: 41/49 -> 83.67%\n",
      "Top   3 accuracy: 40/49 -> 81.63%, genus matched: 42/49 -> 85.71%\n",
      "Top   5 accuracy: 40/49 -> 81.63%, genus matched: 42/49 -> 85.71%\n",
      "Top  10 accuracy: 40/49 -> 81.63%, genus matched: 43/49 -> 87.76%\n"
     ]
    }
   ],
   "source": [
    "test_top_k(model_data, f\"{dataset_dir}/my-test\", 3, print_preds=False, print_top1_accuracy=True, print_no_match=True)\n",
    "test_top_k(model_data, f\"{dataset_dir}/my-test\", 5, print_preds=False, print_top1_accuracy=False)\n",
    "test_top_k(model_data, f\"{dataset_dir}/my-test\", 10, print_preds=False, print_top1_accuracy=False)"
   ]
  },
  {
   "cell_type": "code",
   "execution_count": null,
   "id": "ad97902f-c4ba-48a5-bfb5-d67c2b26a3d6",
   "metadata": {},
   "outputs": [],
   "source": []
  },
  {
   "cell_type": "code",
   "execution_count": null,
   "id": "6c82e5fd-ed84-40ad-b006-6db3080f476f",
   "metadata": {},
   "outputs": [],
   "source": []
  },
  {
   "cell_type": "code",
   "execution_count": null,
   "id": "6ee01995-dcd4-44ce-b44d-019046f71321",
   "metadata": {},
   "outputs": [],
   "source": []
  },
  {
   "cell_type": "code",
   "execution_count": null,
   "id": "087a3c3a-8e26-46c6-95e3-c9f88b60722f",
   "metadata": {},
   "outputs": [],
   "source": []
  },
  {
   "cell_type": "code",
   "execution_count": null,
   "id": "6a969759-8ca1-40f0-b730-d8340b7ef9ff",
   "metadata": {},
   "outputs": [],
   "source": []
  },
  {
   "cell_type": "code",
   "execution_count": null,
   "id": "370b7fc5-6547-4704-bf29-c43d7fe95e10",
   "metadata": {},
   "outputs": [],
   "source": []
  }
 ],
 "metadata": {
  "kernelspec": {
   "display_name": "Python 3 (ipykernel)",
   "language": "python",
   "name": "python3"
  },
  "language_info": {
   "codemirror_mode": {
    "name": "ipython",
    "version": 3
   },
   "file_extension": ".py",
   "mimetype": "text/x-python",
   "name": "python",
   "nbconvert_exporter": "python",
   "pygments_lexer": "ipython3",
   "version": "3.13.2"
  }
 },
 "nbformat": 4,
 "nbformat_minor": 5
}
