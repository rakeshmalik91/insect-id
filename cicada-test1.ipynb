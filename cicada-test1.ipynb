{
 "cells": [
  {
   "cell_type": "code",
   "execution_count": 1,
   "id": "daec9bf3-bab1-4312-b6ab-16ea45a778c9",
   "metadata": {},
   "outputs": [],
   "source": [
    "%load_ext autoreload"
   ]
  },
  {
   "cell_type": "code",
   "execution_count": 2,
   "id": "7e6f45b3-4a2d-4cc7-92eb-ca2f497d0073",
   "metadata": {},
   "outputs": [],
   "source": [
    "%autoreload 2"
   ]
  },
  {
   "cell_type": "code",
   "execution_count": 3,
   "id": "7c70caf4-3495-4873-b1cc-f5b5a72ccd24",
   "metadata": {},
   "outputs": [],
   "source": [
    "import mynnlib\n",
    "from mynnlib import *\n",
    "\n",
    "dataset_dir = \"insect-dataset/cicada\"\n",
    "\n",
    "early_regex = r\"^.*-(early)$\"\n",
    "unidentified_regex = r\"^.*-(spp|genera|genera-spp)$\"\n",
    "early_or_unidentified_regex = r\"^.*-(early|spp|genera|genera-spp)$\""
   ]
  },
  {
   "cell_type": "markdown",
   "id": "0d3edc07-9122-4dc5-baed-6ad1d8f1f7b9",
   "metadata": {},
   "source": [
    "# Create Dataset"
   ]
  },
  {
   "cell_type": "code",
   "execution_count": 28,
   "id": "3c5dbc80-5b87-4229-b12d-1cc056034e68",
   "metadata": {},
   "outputs": [],
   "source": [
    "if os.path.exists(f\"{dataset_dir}/data\"):\n",
    "    shutil.rmtree(f\"{dataset_dir}/data\")\n",
    "os.makedirs(f\"{dataset_dir}/data\")"
   ]
  },
  {
   "cell_type": "code",
   "execution_count": 29,
   "id": "cc6f0643-a5ce-452b-8987-f90943c3a500",
   "metadata": {},
   "outputs": [],
   "source": [
    "# merge early and imago classes\n",
    "# merge unnamed classes suffixed \"-0\"\n",
    "\n",
    "src_dir = \"insect-dataset/src/indiancicadas.org\"\n",
    "for class_dir in os.listdir(src_dir):\n",
    "    if not os.path.exists(f\"{dataset_dir}/data/{re.sub(r\"-(early|0)\", \"\", class_dir)}\"):\n",
    "        os.makedirs(f\"{dataset_dir}/data/{re.sub(r\"-(early|0)\", \"\", class_dir)}\")\n",
    "    if os.listdir(f\"{src_dir}/{class_dir}\"):\n",
    "        if re.match(r\"^.*-(early|0)$\", class_dir):\n",
    "            for file in os.listdir(f\"{src_dir}/{class_dir}\"):\n",
    "                shutil.copy2(f\"{src_dir}/{class_dir}/{file}\", f\"{dataset_dir}/data/{re.sub(r\"-(early|0)\", \"\", class_dir)}/{file}\")\n",
    "        else:\n",
    "            for file in os.listdir(f\"{src_dir}/{class_dir}\"):\n",
    "                shutil.copy2(f\"{src_dir}/{class_dir}/{file}\", f\"{dataset_dir}/data/{class_dir}/{file}\")"
   ]
  },
  {
   "cell_type": "code",
   "execution_count": 30,
   "id": "cf7ed24f-a2cc-4115-b39e-e6470085bcfa",
   "metadata": {
    "jupyter": {
     "source_hidden": true
    }
   },
   "outputs": [],
   "source": [
    "def copy_data_from(sources, add_early=False):\n",
    "    class_cnt = 0\n",
    "    img_cnt = 0\n",
    "    for more_data_dir in sources:\n",
    "        for class_dir in os.listdir(f\"{dataset_dir}/data\"):\n",
    "            if os.path.exists(f\"{more_data_dir}/{class_dir}\"):\n",
    "                # print(f\"Copying data for {class_dir}...\")\n",
    "                class_cnt += 1\n",
    "                for file in os.listdir(f\"{more_data_dir}/{class_dir}\"):\n",
    "                    shutil.copy2(f\"{more_data_dir}/{class_dir}/{file}\", f\"{dataset_dir}/data/{class_dir}/{file}\")\n",
    "                    img_cnt += 1\n",
    "            if add_early and os.path.exists(f\"{more_data_dir}/{class_dir}-early\"):\n",
    "                # print(f\"Copying data for {class_dir}-early...\")\n",
    "                class_cnt += 1\n",
    "                os.makedirs(f\"{dataset_dir}/data/{class_dir}-early/{file}\")\n",
    "                for file in os.listdir(f\"{more_data_dir}/{class_dir}-early\"):\n",
    "                    shutil.copy2(f\"{more_data_dir}/{class_dir}-early/{file}\", f\"{dataset_dir}/data/{class_dir}-early/{file}\")\n",
    "                    img_cnt += 1\n",
    "    print(f\"{img_cnt} images added into {class_cnt} classes\")"
   ]
  },
  {
   "cell_type": "code",
   "execution_count": 31,
   "id": "d44f31fd-9135-4ad3-91ae-5da9233ab554",
   "metadata": {},
   "outputs": [
    {
     "name": "stdout",
     "output_type": "stream",
     "text": [
      "768 images added into 35 classes\n"
     ]
    }
   ],
   "source": [
    "copy_data_from([\"insect-dataset/src/cicada.inaturalist.org\"], add_early=False)"
   ]
  },
  {
   "cell_type": "code",
   "execution_count": 32,
   "id": "3c5305f8-438c-4329-9eba-7abbf154b990",
   "metadata": {},
   "outputs": [
    {
     "name": "stdout",
     "output_type": "stream",
     "text": [
      "Removed 0 unsupported files\n"
     ]
    }
   ],
   "source": [
    "remove_file_cnt = 0\n",
    "valid_file_regex = r\"^.*\\\\.(jpg|jpeg|png|ppm|bmp|pgm|tif|tiff|webp)$\"\n",
    "for class_dir in os.listdir(f\"{dataset_dir}/data\"):\n",
    "    for file in os.listdir(f\"{dataset_dir}/data/{class_dir}\"):\n",
    "        if not re.match(valid_file_regex, file):\n",
    "            # os.remove(f\"{dataset_dir}/data/{class_dir}/{file}\")\n",
    "            remove_file_cnt += 0\n",
    "print(f\"Removed {remove_file_cnt} unsupported files\")"
   ]
  },
  {
   "cell_type": "code",
   "execution_count": 33,
   "id": "17bb6694-8e8d-4b06-b166-0231af38b378",
   "metadata": {},
   "outputs": [
    {
     "name": "stdout",
     "output_type": "stream",
     "text": [
      "abricta-brunnea\n",
      "abricta-pusilla\n",
      "abroma-apicalis\n",
      "balinta-pulchella\n",
      "balinta-sanguiniventris\n",
      "becquartina-goera\n",
      "calcagninus-divaricatus\n",
      "calcagninus-nilgirensis\n",
      "callogaeana-annamensis\n",
      "chremistica-germana\n",
      "chremistica-viridis\n",
      "cicada-complex\n",
      "cicada-conspurcata\n",
      "cicada-olivierana\n",
      "cicadatra-anoea\n",
      "cicadatra-gingat\n",
      "cicadatra-intermedia\n",
      "cicadatra-karachiensis\n",
      "cicadatra-minuta\n",
      "cicadatra-raja\n",
      "cicadatra-walkeri\n",
      "cicadetta-inglisi\n",
      "cicadetta-intermedia\n",
      "cicadetta-minuta\n",
      "cryptotympana-aquila\n",
      "cryptotympana-atrata\n",
      "cryptotympana-auropilosa\n",
      "diceroprocta-semicincta\n",
      "dundubia-ensifera\n",
      "dundubia-laterocurvata\n",
      "dundubia-myitkyinensis\n",
      "dundubia-vaginata\n",
      "emathia-aegrota\n",
      "emathia-dup-aegrota\n",
      "eopycna-himalayana\n",
      "eopycna-minor\n",
      "eopycna-montana\n",
      "eopycna-spp\n",
      "eopycna-verna\n",
      "gaeana-consors\n",
      "hamza-ciliaris\n",
      "haphsa-bindusara\n",
      "haphsa-karenensis\n",
      "haphsa-stellata\n",
      "huechys-beata\n",
      "huechys-haematica\n",
      "huechys-thoracica\n",
      "hyalessa-melanoptera\n",
      "hyalessa-virescens\n",
      "karenia-ravida\n",
      "khimbya-cuneata\n",
      "kumanga-sandaracata\n",
      "linguacicada-continuata\n",
      "macrosemia-tonkiniana\n",
      "mata-rama\n",
      "maua-quadrituberculata\n",
      "megapomponia-imperatoria\n",
      "meimuna-gamameda\n",
      "meimuna-pallida\n",
      "meimuna-tavoyana\n",
      "meimuna-velitaris\n",
      "melampsalta-mogannia\n",
      "mogannia-aurea\n",
      "mogannia-conica\n",
      "mogannia-hebes\n",
      "mogannia-nasalis\n",
      "mogannia-spurcata\n",
      "mogannia-venutissima\n",
      "mogannia-viridis\n",
      "nabalua-mascula\n",
      "neotanna-thalia\n",
      "orientopsaltria-beaudouini\n",
      "panka-simulata\n",
      "paratanna-parata\n",
      "platylomia-juno\n",
      "platylomia-lemoultii\n",
      "platylomia-malickyi\n",
      "platypleura-inglisi\n",
      "platypleura-intermedia\n",
      "platypleura-nigrosignata\n",
      "platypleura-stridula\n",
      "platypleura-takasagona\n",
      "platypleura-testacea\n",
      "platypleura-westwoodi\n",
      "polyneura-laevigata\n",
      "pomponia-adusta\n",
      "pomponia-picta\n",
      "pomponia-secreta\n",
      "pomponia-zebra\n",
      "proarna-hilaris\n",
      "proarna-shaoshia\n",
      "psalmocharias-balochii\n",
      "psalmocharias-chitralensis\n",
      "psalmocharias-gizarensis\n",
      "psalmocharias-japokensis\n",
      "psalmocharias-paliur\n",
      "psalmocharias-querula\n",
      "scieroptera-crocea\n",
      "scieroptera-formosana\n",
      "scieroptera-montana\n",
      "scieroptera-sumatrana\n",
      "shaoshia-zhangi\n",
      "subtibicina-tigris\n",
      "tacua-speciosa\n",
      "talainga-japrona\n",
      "talainga-naga\n",
      "tanna-chekiangensis\n",
      "tanna-japonensis\n",
      "tanna-minor\n",
      "taungia-abnormis\n",
      "terpnosia-abdullah\n",
      "terpnosia-elegans\n",
      "terpnosia-lactea\n",
      "terpnosia-polei\n",
      "terpnosia-psecas\n",
      "tettigetta-musiva\n",
      "unduncus-connexa\n",
      "zouga-fornicata\n",
      "\n",
      "Removed 118 empty classes\n"
     ]
    }
   ],
   "source": [
    "# list empty classes\n",
    "empty_class_cnt = 0\n",
    "for class_dir in os.listdir(f\"{dataset_dir}/data\"):\n",
    "    if not os.listdir(f\"{dataset_dir}/data/{class_dir}\"):\n",
    "        print(class_dir)\n",
    "        shutil.rmtree(f\"{dataset_dir}/data/{class_dir}\")\n",
    "        empty_class_cnt += 1\n",
    "print(f\"\\nRemoved {empty_class_cnt} empty classes\")"
   ]
  },
  {
   "cell_type": "markdown",
   "id": "3538b22f-f326-4bea-a91c-0deb31d2a8cf",
   "metadata": {},
   "source": [
    "# Create val dataset"
   ]
  },
  {
   "cell_type": "code",
   "execution_count": 34,
   "id": "6a973f85-6f56-464b-925d-77c782dfcb28",
   "metadata": {},
   "outputs": [],
   "source": [
    "if not os.path.exists(f\"{dataset_dir}/val\"):\n",
    "    os.makedirs(f\"{dataset_dir}/val\")"
   ]
  },
  {
   "cell_type": "code",
   "execution_count": 35,
   "id": "abf13802-1ff5-43d4-8da5-71692bf5afdf",
   "metadata": {},
   "outputs": [
    {
     "name": "stdout",
     "output_type": "stream",
     "text": [
      "15 images moved from data to val\n"
     ]
    }
   ],
   "source": [
    "move_src = \"data\"\n",
    "move_dst = \"val\"\n",
    "val_data_ratio = 0.01\n",
    "val_data_cnt = 0\n",
    "for class_dir in os.listdir(f\"{dataset_dir}/{move_src}\"):\n",
    "    for file in os.listdir(f\"{dataset_dir}/{move_src}/{class_dir}\"):\n",
    "        if random.random() < val_data_ratio:\n",
    "            if not os.path.exists(f\"{dataset_dir}/{move_dst}/{class_dir}\"):\n",
    "                os.makedirs(f\"{dataset_dir}/{move_dst}/{class_dir}\")\n",
    "            shutil.move(f\"{dataset_dir}/{move_src}/{class_dir}/{file}\", f\"{dataset_dir}/{move_dst}/{class_dir}/\")\n",
    "            val_data_cnt += 1\n",
    "print(f\"{val_data_cnt} images moved from {move_src} to {move_dst}\")"
   ]
  },
  {
   "cell_type": "markdown",
   "id": "fe1e04da-0c6e-4bf6-99a5-dd7617d5c9ee",
   "metadata": {},
   "source": [
    "# Count"
   ]
  },
  {
   "cell_type": "code",
   "execution_count": 36,
   "id": "978768d6-274f-49fb-badd-dfc78c96f930",
   "metadata": {},
   "outputs": [
    {
     "name": "stdout",
     "output_type": "stream",
     "text": [
      "Total Class count :    178 ( Unidentified:      0 / Early-stage:      0 / Identified-adult:    178 )\n",
      "Total  Data count :   1772 ( Unidentified:      0 / Early-stage:      0 / Identified-adult:   1772 )\n"
     ]
    }
   ],
   "source": [
    "classes = { class_dir: len([ img for img in os.listdir(f\"{dataset_dir}/data/{class_dir}\") ]) for class_dir in os.listdir(f\"{dataset_dir}/data\") }\n",
    "early_classes = { class_name: count for class_name, count in classes.items() if re.match(early_regex, class_name) }\n",
    "unidentified_classes = { class_name: count for class_name, count in classes.items() if re.match(unidentified_regex, class_name) }\n",
    "print(f\"Total Class count : {len(classes):6} ( Unidentified: {len(unidentified_classes):6} / Early-stage: {len(early_classes):6} / Identified-adult: {len(classes) - len(unidentified_classes) - len(early_classes):6} )\")\n",
    "print(f\"Total  Data count : {sum(classes.values()):6} ( Unidentified: {sum(unidentified_classes.values()):6} / Early-stage: {sum(early_classes.values()):6} / Identified-adult: {sum(classes.values()) - sum(unidentified_classes.values()) - sum(early_classes.values()):6} )\")"
   ]
  },
  {
   "cell_type": "code",
   "execution_count": 37,
   "id": "5997d9b6-6df3-47f5-b8d0-08f268c1b801",
   "metadata": {},
   "outputs": [
    {
     "name": "stdout",
     "output_type": "stream",
     "text": [
      "    72 classes with <=2 images\n",
      "   103 classes with <=5 images\n"
     ]
    }
   ],
   "source": [
    "img2_class = []\n",
    "img5_class = []\n",
    "for class_dir in os.listdir(f\"{dataset_dir}/data\"):\n",
    "    if not re.match(early_or_unidentified_regex, class_dir):\n",
    "        img_cnt = sum([1 for file in os.listdir(f\"{dataset_dir}/data/{class_dir}\")])\n",
    "        img2_class += [class_dir] if img_cnt <= 2 else []\n",
    "        img5_class += [class_dir] if img_cnt <= 5 else []\n",
    "print(f\"{len(img2_class):6} classes with <=2 images\")\n",
    "print(f\"{len(img5_class):6} classes with <=5 images\")"
   ]
  },
  {
   "cell_type": "code",
   "execution_count": 38,
   "id": "a97d9aa1-b003-4d7b-9ad9-0910362d07fc",
   "metadata": {},
   "outputs": [
    {
     "name": "stdout",
     "output_type": "stream",
     "text": [
      "Genera count: 58\n"
     ]
    }
   ],
   "source": [
    "generas = set()\n",
    "for class_name in classes:\n",
    "    generas.add(class_name.split('-')[0])\n",
    "print(f\"Genera count: {len(generas)}\")"
   ]
  },
  {
   "cell_type": "markdown",
   "id": "04cb382e-ad32-4a22-a955-2566a2b96bdf",
   "metadata": {},
   "source": [
    "# Train"
   ]
  },
  {
   "cell_type": "markdown",
   "id": "2c48fbbc-010f-43a2-b366-40a39746a665",
   "metadata": {
    "jp-MarkdownHeadingCollapsed": true
   },
   "source": [
    "### Model A (resnet-50)"
   ]
  },
  {
   "cell_type": "code",
   "execution_count": 15,
   "id": "4d6aef9d-d7e2-44cb-91cc-a47df64ae3a8",
   "metadata": {},
   "outputs": [
    {
     "name": "stdout",
     "output_type": "stream",
     "text": [
      "Phase 1:\n",
      "Epoch    1 /    5  | Train Loss: 4.4782 Acc: 0.1412  | Val Loss: 3.8467 Acc: 0.1875  | Elapsed time: 0:00:39.764082\n",
      "Epoch    2 /    5  | Train Loss: 3.1831 Acc: 0.3162  | Val Loss: 3.0110 Acc: 0.3438  | Elapsed time: 0:01:06.269717\n",
      "Epoch    3 /    5  | Train Loss: 2.4004 Acc: 0.4675  | Val Loss: 2.3262 Acc: 0.5312  | Elapsed time: 0:01:32.488642\n",
      "Epoch    4 /    5  | Train Loss: 1.7762 Acc: 0.6245  | Val Loss: 1.8954 Acc: 0.6250  | Elapsed time: 0:01:58.846555\n",
      "Epoch    5 /    5  | Train Loss: 1.3094 Acc: 0.7420  | Val Loss: 1.5509 Acc: 0.6562  | Elapsed time: 0:02:25.624755\n",
      "Phase 2:\n",
      "Epoch    1 /    5  | Train Loss: 2.0995 Acc: 0.5409  | Val Loss: 1.5360 Acc: 0.6875  | Elapsed time: 0:00:25.839088\n",
      "Epoch    2 /    5  | Train Loss: 1.7627 Acc: 0.6172  | Val Loss: 1.4179 Acc: 0.7188  | Elapsed time: 0:00:52.120409\n",
      "Epoch    3 /    5  | Train Loss: 1.5564 Acc: 0.6612  | Val Loss: 1.4157 Acc: 0.6875  | Elapsed time: 0:01:18.515850\n",
      "Phase 3:\n",
      "Epoch    1 /    5  | Train Loss: 1.6346 Acc: 0.6375  | Val Loss: 1.3932 Acc: 0.6875  | Elapsed time: 0:00:25.817011\n",
      "Epoch    2 /    5  | Train Loss: 1.5524 Acc: 0.6623  | Val Loss: 1.3849 Acc: 0.7188  | Elapsed time: 0:00:51.958460\n",
      "Epoch    3 /    5  | Train Loss: 1.5745 Acc: 0.6635  | Val Loss: 1.3693 Acc: 0.7188  | Elapsed time: 0:01:17.939608\n",
      "Phase 4:\n",
      "Epoch    1 /    5  | Train Loss: 1.6862 Acc: 0.6251  | Val Loss: 1.3771 Acc: 0.7188  | Elapsed time: 0:00:26.052369\n",
      "Epoch    2 /    5  | Train Loss: 1.6241 Acc: 0.6460  | Val Loss: 1.3595 Acc: 0.7188  | Elapsed time: 0:00:52.284747\n",
      "Epoch    3 /    5  | Train Loss: 1.6050 Acc: 0.6522  | Val Loss: 1.3751 Acc: 0.6875  | Elapsed time: 0:01:20.507893\n",
      "Phase 5:\n",
      "Epoch    1 /    5  | Train Loss: 1.5614 Acc: 0.6606  | Val Loss: 1.3783 Acc: 0.7188  | Elapsed time: 0:00:41.610277\n",
      "Epoch    2 /    5  | Train Loss: 1.5759 Acc: 0.6550  | Val Loss: 1.3775 Acc: 0.6875  | Elapsed time: 0:01:12.355143\n",
      "Phase 6:\n",
      "Epoch    1 /    5  | Train Loss: 1.5657 Acc: 0.6584  | Val Loss: 1.3806 Acc: 0.6875  | Elapsed time: 0:00:25.970553\n",
      "Epoch    2 /    5  | Train Loss: 1.5932 Acc: 0.6544  | Val Loss: 1.3534 Acc: 0.7188  | Elapsed time: 0:00:52.087802\n",
      "Epoch    3 /    5  | Train Loss: 1.5694 Acc: 0.6584  | Val Loss: 1.3599 Acc: 0.7188  | Elapsed time: 0:01:18.250438\n",
      "Epoch    4 /    5  | Train Loss: 1.5655 Acc: 0.6685  | Val Loss: 1.3640 Acc: 0.7188  | Elapsed time: 0:01:44.743619\n",
      "Epoch    5 /    5  | Train Loss: 1.5849 Acc: 0.6561  | Val Loss: 1.3503 Acc: 0.7188  | Elapsed time: 0:02:11.097451\n"
     ]
    }
   ],
   "source": [
    "training_params = [\n",
    "    { \"idx\": 1, \"robustness\": 0.2, \"break_at_val_acc_diff\": 0.05},\n",
    "    { \"idx\": 2, \"robustness\": 0.5, \"break_at_val_acc_diff\": 0.02},\n",
    "    { \"idx\": 3, \"robustness\": 1.0, \"break_at_val_acc_diff\": 0.01},\n",
    "    { \"idx\": 4, \"robustness\": 2.0, \"break_at_val_acc_diff\": -0.000001},\n",
    "    { \"idx\": 5, \"robustness\": 2.0, \"break_at_val_acc_diff\": -0.000001},\n",
    "    { \"idx\": 6, \"robustness\": 2.0, \"break_at_val_acc_diff\": -0.000001}\n",
    "]\n",
    "for param in training_params:\n",
    "    print(f\"Phase {param[\"idx\"]}:\")\n",
    "    if param[\"idx\"] == 1:\n",
    "        model_data = init_model_for_training(f'{dataset_dir}/data', f'{dataset_dir}/val', \n",
    "                                             batch_size=32, arch=\"resnet50\", image_size=224, robustness=param[\"robustness\"],\n",
    "                                             lr=1e-4, weight_decay=1e-4, silent=True)\n",
    "    else:\n",
    "        model_data = prepare_for_retraining(model_data, f'{dataset_dir}/data', f'{dataset_dir}/val', \n",
    "                                            batch_size=32, image_size=224, robustness=param[\"robustness\"], silent=True)\n",
    "    train(model_data, 5, f\"{dataset_dir}/checkpoint.cicada.ta.ep{param[\"idx\"]:02}###.pth\", \n",
    "          break_at_val_acc_diff=param[\"break_at_val_acc_diff\"])"
   ]
  },
  {
   "cell_type": "code",
   "execution_count": null,
   "id": "c33c731d-a05a-472d-9989-66e6d5ffacd1",
   "metadata": {},
   "outputs": [],
   "source": []
  },
  {
   "cell_type": "code",
   "execution_count": null,
   "id": "70d2b228-18a6-4f5a-b56b-bcfe2381187d",
   "metadata": {},
   "outputs": [],
   "source": []
  },
  {
   "cell_type": "code",
   "execution_count": null,
   "id": "81ec3d0c-7ffc-4571-8de4-c349698f783e",
   "metadata": {},
   "outputs": [],
   "source": []
  },
  {
   "cell_type": "markdown",
   "id": "ad23f1bd-d7ed-4a5e-9e05-6ace7ac44542",
   "metadata": {},
   "source": [
    "### Model B (resnet-101) ***"
   ]
  },
  {
   "cell_type": "code",
   "execution_count": 27,
   "id": "4feff062-f9b6-476e-9679-e3fec0ee9bad",
   "metadata": {},
   "outputs": [
    {
     "name": "stdout",
     "output_type": "stream",
     "text": [
      "Phase 1:\n",
      "Epoch    1 /    5  | Train Loss: 4.4344 Acc: 0.1298  | Val Loss: 3.7384 Acc: 0.1915  | Elapsed time: 0:00:30.669116\n",
      "Epoch    2 /    5  | Train Loss: 3.0846 Acc: 0.3397  | Val Loss: 2.6703 Acc: 0.4894  | Elapsed time: 0:00:53.390840\n",
      "Epoch    3 /    5  | Train Loss: 2.1551 Acc: 0.5587  | Val Loss: 1.8586 Acc: 0.6170  | Elapsed time: 0:01:15.741540\n",
      "Epoch    4 /    5  | Train Loss: 1.4809 Acc: 0.7094  | Val Loss: 1.4664 Acc: 0.6809  | Elapsed time: 0:01:38.363716\n",
      "Epoch    5 /    5  | Train Loss: 1.0379 Acc: 0.7980  | Val Loss: 1.1596 Acc: 0.7660  | Elapsed time: 0:02:00.993443\n",
      "Phase 2:\n",
      "Epoch    1 /    5  | Train Loss: 1.7655 Acc: 0.6191  | Val Loss: 1.3854 Acc: 0.6809  | Elapsed time: 0:00:24.074709\n",
      "Epoch    2 /    5  | Train Loss: 1.4645 Acc: 0.6653  | Val Loss: 1.1201 Acc: 0.7234  | Elapsed time: 0:00:48.692374\n",
      "Epoch    3 /    5  | Train Loss: 1.2731 Acc: 0.7302  | Val Loss: 1.1210 Acc: 0.7447  | Elapsed time: 0:01:12.999120\n",
      "Epoch    4 /    5  | Train Loss: 1.2018 Acc: 0.7460  | Val Loss: 1.0757 Acc: 0.7660  | Elapsed time: 0:01:37.175785\n",
      "Epoch    5 /    5  | Train Loss: 1.1541 Acc: 0.7500  | Val Loss: 1.0760 Acc: 0.7660  | Elapsed time: 0:02:01.251028\n",
      "Phase 3:\n",
      "Epoch    1 /    5  | Train Loss: 1.2278 Acc: 0.7319  | Val Loss: 1.0719 Acc: 0.7660  | Elapsed time: 0:00:24.839199\n",
      "Epoch    2 /    5  | Train Loss: 1.1866 Acc: 0.7415  | Val Loss: 1.0686 Acc: 0.7660  | Elapsed time: 0:00:49.855781\n",
      "Phase 4:\n",
      "Epoch    1 /    5  | Train Loss: 1.3112 Acc: 0.7077  | Val Loss: 1.0486 Acc: 0.7872  | Elapsed time: 0:00:24.670908\n",
      "Epoch    2 /    5  | Train Loss: 1.2577 Acc: 0.7319  | Val Loss: 1.0462 Acc: 0.7872  | Elapsed time: 0:00:50.376410\n",
      "Epoch    3 /    5  | Train Loss: 1.1975 Acc: 0.7398  | Val Loss: 1.0436 Acc: 0.8085  | Elapsed time: 0:01:14.904363\n",
      "Epoch    4 /    5  | Train Loss: 1.2673 Acc: 0.7173  | Val Loss: 1.0418 Acc: 0.8085  | Elapsed time: 0:01:39.819327\n",
      "Epoch    5 /    5  | Train Loss: 1.2004 Acc: 0.7342  | Val Loss: 1.0268 Acc: 0.7872  | Elapsed time: 0:02:04.784417\n",
      "Phase 5:\n",
      "Epoch    1 /    5  | Train Loss: 1.2075 Acc: 0.7393  | Val Loss: 1.0314 Acc: 0.8085  | Elapsed time: 0:00:24.411055\n",
      "Epoch    2 /    5  | Train Loss: 1.2409 Acc: 0.7246  | Val Loss: 1.0389 Acc: 0.8085  | Elapsed time: 0:00:49.763870\n",
      "Epoch    3 /    5  | Train Loss: 1.2146 Acc: 0.7325  | Val Loss: 1.0343 Acc: 0.8085  | Elapsed time: 0:01:16.018589\n",
      "Epoch    4 /    5  | Train Loss: 1.2581 Acc: 0.7207  | Val Loss: 1.0380 Acc: 0.7872  | Elapsed time: 0:01:43.259303\n",
      "Phase 6:\n",
      "Epoch    1 /    5  | Train Loss: 1.2088 Acc: 0.7376  | Val Loss: 1.0422 Acc: 0.7872  | Elapsed time: 0:00:24.732200\n",
      "Epoch    2 /    5  | Train Loss: 1.2393 Acc: 0.7286  | Val Loss: 1.0433 Acc: 0.7660  | Elapsed time: 0:00:49.595754\n"
     ]
    }
   ],
   "source": [
    "training_params = [\n",
    "    { \"idx\": 1, \"robustness\": 0.2, \"break_at_val_acc_diff\": 0.05},\n",
    "    { \"idx\": 2, \"robustness\": 0.5, \"break_at_val_acc_diff\": 0.02},\n",
    "    { \"idx\": 3, \"robustness\": 1.0, \"break_at_val_acc_diff\": 0.01},\n",
    "    { \"idx\": 4, \"robustness\": 2.0, \"break_at_val_acc_diff\": -0.000001},\n",
    "    { \"idx\": 5, \"robustness\": 2.0, \"break_at_val_acc_diff\": -0.000001},\n",
    "    { \"idx\": 6, \"robustness\": 2.0, \"break_at_val_acc_diff\": -0.000001}\n",
    "]\n",
    "for param in training_params:\n",
    "    print(f\"Phase {param[\"idx\"]}:\")\n",
    "    if param[\"idx\"] == 1:\n",
    "        model_data = init_model_for_training(f'{dataset_dir}/data', f'{dataset_dir}/val', \n",
    "                                             batch_size=32, arch=\"resnet101\", image_size=224, robustness=param[\"robustness\"],\n",
    "                                             lr=1e-4, weight_decay=1e-4, silent=True)\n",
    "    else:\n",
    "        model_data = prepare_for_retraining(model_data, f'{dataset_dir}/data', f'{dataset_dir}/val', \n",
    "                                            batch_size=32, image_size=224, robustness=param[\"robustness\"], silent=True)\n",
    "    train(model_data, 5, f\"{dataset_dir}/checkpoint.cicada.tb.ep{param[\"idx\"]:02}###.pth\", \n",
    "          break_at_val_acc_diff=param[\"break_at_val_acc_diff\"])"
   ]
  },
  {
   "cell_type": "code",
   "execution_count": 39,
   "id": "470ae1c4-9434-4a9f-bdf2-e9439e08a240",
   "metadata": {},
   "outputs": [],
   "source": [
    "model_data = torch.load(f\"{dataset_dir}/checkpoint.cicada.tb.ep050002.pth\", weights_only=False)"
   ]
  },
  {
   "cell_type": "code",
   "execution_count": 40,
   "id": "c5503f73-b78c-4691-be83-536fd965cd20",
   "metadata": {},
   "outputs": [
    {
     "data": {
      "image/png": "[encoded data removed]",
      "text/plain": [
       "<Figure size 400x300 with 1 Axes>"
      ]
     },
     "metadata": {},
     "output_type": "display_data"
    }
   ],
   "source": [
    "plot_confidence(model_data, f\"{dataset_dir}/data\", classes, 0.2, k=10)"
   ]
  },
  {
   "cell_type": "code",
   "execution_count": null,
   "id": "a7d7faa8-1d49-4a0b-af85-c65e87298255",
   "metadata": {},
   "outputs": [],
   "source": []
  },
  {
   "cell_type": "code",
   "execution_count": null,
   "id": "6b44be7a-4849-431d-81a9-ac706d6fa4e5",
   "metadata": {},
   "outputs": [],
   "source": []
  },
  {
   "cell_type": "code",
   "execution_count": null,
   "id": "ad5d5808-d030-4c3f-aa12-f2025ce3b955",
   "metadata": {},
   "outputs": [],
   "source": []
  },
  {
   "cell_type": "markdown",
   "id": "753f0232-02e9-4350-bc75-277815e03487",
   "metadata": {
    "jp-MarkdownHeadingCollapsed": true
   },
   "source": [
    "### Model C (resnet-34)"
   ]
  },
  {
   "cell_type": "code",
   "execution_count": 17,
   "id": "9a684e3c-f36f-4cdb-a9bb-a140d6324953",
   "metadata": {},
   "outputs": [
    {
     "name": "stdout",
     "output_type": "stream",
     "text": [
      "Phase 1:\n",
      "Epoch    1 /    5  | Train Loss: 4.0401 Acc: 0.2157  | Val Loss: 3.0061 Acc: 0.3750  | Elapsed time: 0:00:22.853247\n",
      "Epoch    2 /    5  | Train Loss: 2.4528 Acc: 0.5065  | Val Loss: 2.2035 Acc: 0.4688  | Elapsed time: 0:00:46.589591\n",
      "Epoch    3 /    5  | Train Loss: 1.7044 Acc: 0.6770  | Val Loss: 1.6959 Acc: 0.6562  | Elapsed time: 0:01:09.745984\n",
      "Epoch    4 /    5  | Train Loss: 1.1965 Acc: 0.7899  | Val Loss: 1.4126 Acc: 0.6562  | Elapsed time: 0:01:32.913761\n",
      "Phase 2:\n",
      "Epoch    1 /    5  | Train Loss: 2.3284 Acc: 0.4896  | Val Loss: 1.4854 Acc: 0.6250  | Elapsed time: 0:00:24.587938\n",
      "Epoch    2 /    5  | Train Loss: 1.9940 Acc: 0.5641  | Val Loss: 1.5214 Acc: 0.6250  | Elapsed time: 0:00:49.241880\n",
      "Phase 3:\n",
      "Epoch    1 /    5  | Train Loss: 1.8658 Acc: 0.5985  | Val Loss: 1.3553 Acc: 0.7188  | Elapsed time: 0:00:24.544694\n",
      "Epoch    2 /    5  | Train Loss: 1.6329 Acc: 0.6635  | Val Loss: 1.3041 Acc: 0.7500  | Elapsed time: 0:00:49.237325\n",
      "Epoch    3 /    5  | Train Loss: 1.6149 Acc: 0.6589  | Val Loss: 1.3094 Acc: 0.7188  | Elapsed time: 0:01:13.887661\n",
      "Phase 4:\n",
      "Epoch    1 /    5  | Train Loss: 1.7251 Acc: 0.6409  | Val Loss: 1.3136 Acc: 0.7500  | Elapsed time: 0:00:23.753691\n",
      "Epoch    2 /    5  | Train Loss: 1.6989 Acc: 0.6352  | Val Loss: 1.2815 Acc: 0.7500  | Elapsed time: 0:00:48.468268\n",
      "Epoch    3 /    5  | Train Loss: 1.6424 Acc: 0.6567  | Val Loss: 1.2720 Acc: 0.7500  | Elapsed time: 0:01:12.930839\n",
      "Epoch    4 /    5  | Train Loss: 1.6124 Acc: 0.6652  | Val Loss: 1.2472 Acc: 0.7500  | Elapsed time: 0:01:37.555555\n",
      "Epoch    5 /    5  | Train Loss: 1.5976 Acc: 0.6550  | Val Loss: 1.2384 Acc: 0.7500  | Elapsed time: 0:02:02.247990\n",
      "Phase 5:\n",
      "Epoch    1 /    5  | Train Loss: 1.5662 Acc: 0.6798  | Val Loss: 1.2249 Acc: 0.7500  | Elapsed time: 0:00:24.624271\n",
      "Epoch    2 /    5  | Train Loss: 1.5801 Acc: 0.6753  | Val Loss: 1.2470 Acc: 0.7500  | Elapsed time: 0:00:49.174371\n",
      "Epoch    3 /    5  | Train Loss: 1.5581 Acc: 0.6731  | Val Loss: 1.2317 Acc: 0.7500  | Elapsed time: 0:01:13.468161\n",
      "Epoch    4 /    5  | Train Loss: 1.5720 Acc: 0.6748  | Val Loss: 1.2295 Acc: 0.7500  | Elapsed time: 0:01:38.298065\n",
      "Epoch    5 /    5  | Train Loss: 1.5353 Acc: 0.6748  | Val Loss: 1.2390 Acc: 0.7500  | Elapsed time: 0:02:02.606097\n",
      "Phase 6:\n",
      "Epoch    1 /    5  | Train Loss: 1.5782 Acc: 0.6652  | Val Loss: 1.2436 Acc: 0.7500  | Elapsed time: 0:00:24.574712\n",
      "Epoch    2 /    5  | Train Loss: 1.5550 Acc: 0.6866  | Val Loss: 1.2437 Acc: 0.7500  | Elapsed time: 0:00:49.569633\n",
      "Epoch    3 /    5  | Train Loss: 1.5318 Acc: 0.6844  | Val Loss: 1.2331 Acc: 0.7500  | Elapsed time: 0:01:13.796143\n",
      "Epoch    4 /    5  | Train Loss: 1.5520 Acc: 0.6753  | Val Loss: 1.2463 Acc: 0.7500  | Elapsed time: 0:01:38.788728\n",
      "Epoch    5 /    5  | Train Loss: 1.5219 Acc: 0.6928  | Val Loss: 1.2395 Acc: 0.7500  | Elapsed time: 0:02:03.566735\n"
     ]
    }
   ],
   "source": [
    "training_params = [\n",
    "    { \"idx\": 1, \"robustness\": 0.2, \"break_at_val_acc_diff\": 0.05},\n",
    "    { \"idx\": 2, \"robustness\": 0.5, \"break_at_val_acc_diff\": 0.02},\n",
    "    { \"idx\": 3, \"robustness\": 1.0, \"break_at_val_acc_diff\": 0.01},\n",
    "    { \"idx\": 4, \"robustness\": 2.0, \"break_at_val_acc_diff\": -0.000001},\n",
    "    { \"idx\": 5, \"robustness\": 2.0, \"break_at_val_acc_diff\": -0.000001},\n",
    "    { \"idx\": 6, \"robustness\": 2.0, \"break_at_val_acc_diff\": -0.000001}\n",
    "]\n",
    "for param in training_params:\n",
    "    print(f\"Phase {param[\"idx\"]}:\")\n",
    "    if param[\"idx\"] == 1:\n",
    "        model_data = init_model_for_training(f'{dataset_dir}/data', f'{dataset_dir}/val', \n",
    "                                             batch_size=32, arch=\"resnet34\", image_size=224, robustness=param[\"robustness\"],\n",
    "                                             lr=1e-4, weight_decay=1e-4, silent=True)\n",
    "    else:\n",
    "        model_data = prepare_for_retraining(model_data, f'{dataset_dir}/data', f'{dataset_dir}/val', \n",
    "                                            batch_size=32, image_size=224, robustness=param[\"robustness\"], silent=True)\n",
    "    train(model_data, 5, f\"{dataset_dir}/checkpoint.cicada.tc.ep{param[\"idx\"]:02}###.pth\", \n",
    "          break_at_val_acc_diff=param[\"break_at_val_acc_diff\"])"
   ]
  },
  {
   "cell_type": "code",
   "execution_count": null,
   "id": "0e2beda8-b525-45de-b16a-457480fcae6a",
   "metadata": {},
   "outputs": [],
   "source": []
  },
  {
   "cell_type": "code",
   "execution_count": null,
   "id": "946f6061-a51a-46d8-a50c-139aac6f9ea9",
   "metadata": {},
   "outputs": [],
   "source": []
  },
  {
   "cell_type": "code",
   "execution_count": null,
   "id": "0e8a4231-3427-4135-b73a-11b6f7738240",
   "metadata": {},
   "outputs": [],
   "source": []
  }
 ],
 "metadata": {
  "kernelspec": {
   "display_name": "Python 3 (ipykernel)",
   "language": "python",
   "name": "python3"
  },
  "language_info": {
   "codemirror_mode": {
    "name": "ipython",
    "version": 3
   },
   "file_extension": ".py",
   "mimetype": "text/x-python",
   "name": "python",
   "nbconvert_exporter": "python",
   "pygments_lexer": "ipython3",
   "version": "3.12.9"
  }
 },
 "nbformat": 4,
 "nbformat_minor": 5
}
