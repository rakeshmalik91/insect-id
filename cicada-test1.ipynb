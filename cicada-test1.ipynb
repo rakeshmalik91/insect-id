{
 "cells": [
  {
   "cell_type": "code",
   "execution_count": 1,
   "id": "daec9bf3-bab1-4312-b6ab-16ea45a778c9",
   "metadata": {},
   "outputs": [],
   "source": [
    "%load_ext autoreload"
   ]
  },
  {
   "cell_type": "code",
   "execution_count": 2,
   "id": "7e6f45b3-4a2d-4cc7-92eb-ca2f497d0073",
   "metadata": {},
   "outputs": [],
   "source": [
    "%autoreload 2"
   ]
  },
  {
   "cell_type": "code",
   "execution_count": 3,
   "id": "7c70caf4-3495-4873-b1cc-f5b5a72ccd24",
   "metadata": {},
   "outputs": [],
   "source": [
    "import mynnlib\n",
    "from mynnlib import *\n",
    "\n",
    "dataset_dir = \"insect-dataset/cicada\"\n",
    "\n",
    "early_regex = r\"^.*-(early)$\"\n",
    "unidentified_regex = r\"^.*-(spp|genera|genera-spp)$\"\n",
    "early_or_unidentified_regex = r\"^.*-(early|spp|genera|genera-spp)$\""
   ]
  },
  {
   "cell_type": "markdown",
   "id": "0d3edc07-9122-4dc5-baed-6ad1d8f1f7b9",
   "metadata": {},
   "source": [
    "# Create Dataset"
   ]
  },
  {
   "cell_type": "code",
   "execution_count": 4,
   "id": "3c5dbc80-5b87-4229-b12d-1cc056034e68",
   "metadata": {},
   "outputs": [],
   "source": [
    "if os.path.exists(f\"{dataset_dir}/data\"):\n",
    "    shutil.rmtree(f\"{dataset_dir}/data\")\n",
    "os.makedirs(f\"{dataset_dir}/data\")"
   ]
  },
  {
   "cell_type": "code",
   "execution_count": 5,
   "id": "cc6f0643-a5ce-452b-8987-f90943c3a500",
   "metadata": {},
   "outputs": [],
   "source": [
    "# merge early and imago classes\n",
    "src_dir = \"insect-dataset/src/indiancicadas.org\"\n",
    "for class_dir in os.listdir(src_dir):\n",
    "    if not os.path.exists(f\"{dataset_dir}/data/{re.sub(r\"-early\", \"\", class_dir)}\"):\n",
    "        os.makedirs(f\"{dataset_dir}/data/{re.sub(r\"-early\", \"\", class_dir)}\")\n",
    "    if os.listdir(f\"{src_dir}/{class_dir}\"):\n",
    "        if class_dir.endswith(\"-early\"):\n",
    "            for file in os.listdir(f\"{src_dir}/{class_dir}\"):\n",
    "                shutil.copy2(f\"{src_dir}/{class_dir}/{file}\", f\"{dataset_dir}/data/{re.sub(r\"-early\", \"\", class_dir)}/{file}\")\n",
    "        else:\n",
    "            for file in os.listdir(f\"{src_dir}/{class_dir}\"):\n",
    "                shutil.copy2(f\"{src_dir}/{class_dir}/{file}\", f\"{dataset_dir}/data/{class_dir}/{file}\")"
   ]
  },
  {
   "cell_type": "code",
   "execution_count": 6,
   "id": "cf7ed24f-a2cc-4115-b39e-e6470085bcfa",
   "metadata": {},
   "outputs": [],
   "source": [
    "def copy_data_from(sources, add_early=False):\n",
    "    class_cnt = 0\n",
    "    img_cnt = 0\n",
    "    for more_data_dir in sources:\n",
    "        for class_dir in os.listdir(f\"{dataset_dir}/data\"):\n",
    "            if os.path.exists(f\"{more_data_dir}/{class_dir}\"):\n",
    "                # print(f\"Copying data for {class_dir}...\")\n",
    "                class_cnt += 1\n",
    "                for file in os.listdir(f\"{more_data_dir}/{class_dir}\"):\n",
    "                    shutil.copy2(f\"{more_data_dir}/{class_dir}/{file}\", f\"{dataset_dir}/data/{class_dir}/{file}\")\n",
    "                    img_cnt += 1\n",
    "            if add_early and os.path.exists(f\"{more_data_dir}/{class_dir}-early\"):\n",
    "                # print(f\"Copying data for {class_dir}-early...\")\n",
    "                class_cnt += 1\n",
    "                os.makedirs(f\"{dataset_dir}/data/{class_dir}-early/{file}\")\n",
    "                for file in os.listdir(f\"{more_data_dir}/{class_dir}-early\"):\n",
    "                    shutil.copy2(f\"{more_data_dir}/{class_dir}-early/{file}\", f\"{dataset_dir}/data/{class_dir}-early/{file}\")\n",
    "                    img_cnt += 1\n",
    "    print(f\"{img_cnt} images added into {class_cnt} classes\")"
   ]
  },
  {
   "cell_type": "code",
   "execution_count": 7,
   "id": "d44f31fd-9135-4ad3-91ae-5da9233ab554",
   "metadata": {},
   "outputs": [
    {
     "name": "stdout",
     "output_type": "stream",
     "text": [
      "768 images added into 35 classes\n"
     ]
    }
   ],
   "source": [
    "copy_data_from([\"insect-dataset/src/inaturalist.org\"], add_early=False)"
   ]
  },
  {
   "cell_type": "code",
   "execution_count": 8,
   "id": "22ad790e-7ceb-4509-9ed4-9f38d26f3590",
   "metadata": {},
   "outputs": [
    {
     "name": "stdout",
     "output_type": "stream",
     "text": [
      "Removed 121 empty classes\n"
     ]
    }
   ],
   "source": [
    "removed_cnt = 0\n",
    "for class_dir in os.listdir(f\"{dataset_dir}/data\"):\n",
    "    if not os.listdir(f\"{dataset_dir}/data/{class_dir}\"):\n",
    "        shutil.rmtree(f\"{dataset_dir}/data/{class_dir}\")\n",
    "        removed_cnt += 1\n",
    "print(f\"Removed {removed_cnt} empty classes\")"
   ]
  },
  {
   "cell_type": "code",
   "execution_count": 9,
   "id": "3c5305f8-438c-4329-9eba-7abbf154b990",
   "metadata": {},
   "outputs": [
    {
     "name": "stdout",
     "output_type": "stream",
     "text": [
      "Removed 0 unsupported files\n"
     ]
    }
   ],
   "source": [
    "remove_file_cnt = 0\n",
    "valid_file_regex = r\"^.*\\\\.(jpg|jpeg|png|ppm|bmp|pgm|tif|tiff|webp)$\"\n",
    "for class_dir in os.listdir(f\"{dataset_dir}/data\"):\n",
    "    for file in os.listdir(f\"{dataset_dir}/data/{class_dir}\"):\n",
    "        if not re.match(valid_file_regex, file):\n",
    "            # os.remove(f\"{dataset_dir}/data/{class_dir}/{file}\")\n",
    "            remove_file_cnt += 0\n",
    "print(f\"Removed {remove_file_cnt} unsupported files\")"
   ]
  },
  {
   "cell_type": "markdown",
   "id": "3538b22f-f326-4bea-a91c-0deb31d2a8cf",
   "metadata": {},
   "source": [
    "# Create val dataset"
   ]
  },
  {
   "cell_type": "code",
   "execution_count": 10,
   "id": "6a973f85-6f56-464b-925d-77c782dfcb28",
   "metadata": {},
   "outputs": [],
   "source": [
    "if not os.path.exists(f\"{dataset_dir}/val\"):\n",
    "    os.makedirs(f\"{dataset_dir}/val\")"
   ]
  },
  {
   "cell_type": "code",
   "execution_count": 11,
   "id": "abf13802-1ff5-43d4-8da5-71692bf5afdf",
   "metadata": {},
   "outputs": [
    {
     "name": "stdout",
     "output_type": "stream",
     "text": [
      "16 images moved from data to val\n"
     ]
    }
   ],
   "source": [
    "move_src = \"data\"\n",
    "move_dst = \"val\"\n",
    "val_data_ratio = 0.01\n",
    "val_data_cnt = 0\n",
    "for class_dir in os.listdir(f\"{dataset_dir}/{move_src}\"):\n",
    "    for file in os.listdir(f\"{dataset_dir}/{move_src}/{class_dir}\"):\n",
    "        if random.random() < val_data_ratio:\n",
    "            if not os.path.exists(f\"{dataset_dir}/{move_dst}/{class_dir}\"):\n",
    "                os.makedirs(f\"{dataset_dir}/{move_dst}/{class_dir}\")\n",
    "            shutil.move(f\"{dataset_dir}/{move_src}/{class_dir}/{file}\", f\"{dataset_dir}/{move_dst}/{class_dir}/\")\n",
    "            val_data_cnt += 1\n",
    "print(f\"{val_data_cnt} images moved from {move_src} to {move_dst}\")"
   ]
  },
  {
   "cell_type": "markdown",
   "id": "fe1e04da-0c6e-4bf6-99a5-dd7617d5c9ee",
   "metadata": {},
   "source": [
    "# Count"
   ]
  },
  {
   "cell_type": "code",
   "execution_count": 12,
   "id": "978768d6-274f-49fb-badd-dfc78c96f930",
   "metadata": {},
   "outputs": [
    {
     "name": "stdout",
     "output_type": "stream",
     "text": [
      "Total Class count :    180 ( Unidentified:      0 / Early-stage:      0 / Identified-adult:    180 )\n",
      "Total  Data count :   1771 ( Unidentified:      0 / Early-stage:      0 / Identified-adult:   1771 )\n"
     ]
    }
   ],
   "source": [
    "classes = { class_dir: len([ img for img in os.listdir(f\"{dataset_dir}/data/{class_dir}\") ]) for class_dir in os.listdir(f\"{dataset_dir}/data\") }\n",
    "early_classes = { class_name: count for class_name, count in classes.items() if re.match(early_regex, class_name) }\n",
    "unidentified_classes = { class_name: count for class_name, count in classes.items() if re.match(unidentified_regex, class_name) }\n",
    "print(f\"Total Class count : {len(classes):6} ( Unidentified: {len(unidentified_classes):6} / Early-stage: {len(early_classes):6} / Identified-adult: {len(classes) - len(unidentified_classes) - len(early_classes):6} )\")\n",
    "print(f\"Total  Data count : {sum(classes.values()):6} ( Unidentified: {sum(unidentified_classes.values()):6} / Early-stage: {sum(early_classes.values()):6} / Identified-adult: {sum(classes.values()) - sum(unidentified_classes.values()) - sum(early_classes.values()):6} )\")"
   ]
  },
  {
   "cell_type": "code",
   "execution_count": 13,
   "id": "5997d9b6-6df3-47f5-b8d0-08f268c1b801",
   "metadata": {},
   "outputs": [
    {
     "name": "stdout",
     "output_type": "stream",
     "text": [
      "    74 classes with <=2 images\n",
      "   104 classes with <=5 images\n"
     ]
    }
   ],
   "source": [
    "img2_class = []\n",
    "img5_class = []\n",
    "for class_dir in os.listdir(f\"{dataset_dir}/data\"):\n",
    "    if not re.match(early_or_unidentified_regex, class_dir):\n",
    "        img_cnt = sum([1 for file in os.listdir(f\"{dataset_dir}/data/{class_dir}\")])\n",
    "        img2_class += [class_dir] if img_cnt <= 2 else []\n",
    "        img5_class += [class_dir] if img_cnt <= 5 else []\n",
    "print(f\"{len(img2_class):6} classes with <=2 images\")\n",
    "print(f\"{len(img5_class):6} classes with <=5 images\")"
   ]
  },
  {
   "cell_type": "code",
   "execution_count": 14,
   "id": "a97d9aa1-b003-4d7b-9ad9-0910362d07fc",
   "metadata": {},
   "outputs": [
    {
     "name": "stdout",
     "output_type": "stream",
     "text": [
      "Genera count: 58\n"
     ]
    }
   ],
   "source": [
    "generas = set()\n",
    "for class_name in classes:\n",
    "    generas.add(class_name.split('-')[0])\n",
    "print(f\"Genera count: {len(generas)}\")"
   ]
  },
  {
   "cell_type": "markdown",
   "id": "04cb382e-ad32-4a22-a955-2566a2b96bdf",
   "metadata": {},
   "source": [
    "# Train"
   ]
  },
  {
   "cell_type": "markdown",
   "id": "2c48fbbc-010f-43a2-b366-40a39746a665",
   "metadata": {
    "jp-MarkdownHeadingCollapsed": true
   },
   "source": [
    "### Model A (resnet-50)"
   ]
  },
  {
   "cell_type": "code",
   "execution_count": 15,
   "id": "4d6aef9d-d7e2-44cb-91cc-a47df64ae3a8",
   "metadata": {},
   "outputs": [
    {
     "name": "stdout",
     "output_type": "stream",
     "text": [
      "Phase 1:\n",
      "Epoch    1 /    5  | Train Loss: 4.4782 Acc: 0.1412  | Val Loss: 3.8467 Acc: 0.1875  | Elapsed time: 0:00:39.764082\n",
      "Epoch    2 /    5  | Train Loss: 3.1831 Acc: 0.3162  | Val Loss: 3.0110 Acc: 0.3438  | Elapsed time: 0:01:06.269717\n",
      "Epoch    3 /    5  | Train Loss: 2.4004 Acc: 0.4675  | Val Loss: 2.3262 Acc: 0.5312  | Elapsed time: 0:01:32.488642\n",
      "Epoch    4 /    5  | Train Loss: 1.7762 Acc: 0.6245  | Val Loss: 1.8954 Acc: 0.6250  | Elapsed time: 0:01:58.846555\n",
      "Epoch    5 /    5  | Train Loss: 1.3094 Acc: 0.7420  | Val Loss: 1.5509 Acc: 0.6562  | Elapsed time: 0:02:25.624755\n",
      "Phase 2:\n",
      "Epoch    1 /    5  | Train Loss: 2.0995 Acc: 0.5409  | Val Loss: 1.5360 Acc: 0.6875  | Elapsed time: 0:00:25.839088\n",
      "Epoch    2 /    5  | Train Loss: 1.7627 Acc: 0.6172  | Val Loss: 1.4179 Acc: 0.7188  | Elapsed time: 0:00:52.120409\n",
      "Epoch    3 /    5  | Train Loss: 1.5564 Acc: 0.6612  | Val Loss: 1.4157 Acc: 0.6875  | Elapsed time: 0:01:18.515850\n",
      "Phase 3:\n",
      "Epoch    1 /    5  | Train Loss: 1.6346 Acc: 0.6375  | Val Loss: 1.3932 Acc: 0.6875  | Elapsed time: 0:00:25.817011\n",
      "Epoch    2 /    5  | Train Loss: 1.5524 Acc: 0.6623  | Val Loss: 1.3849 Acc: 0.7188  | Elapsed time: 0:00:51.958460\n",
      "Epoch    3 /    5  | Train Loss: 1.5745 Acc: 0.6635  | Val Loss: 1.3693 Acc: 0.7188  | Elapsed time: 0:01:17.939608\n",
      "Phase 4:\n",
      "Epoch    1 /    5  | Train Loss: 1.6862 Acc: 0.6251  | Val Loss: 1.3771 Acc: 0.7188  | Elapsed time: 0:00:26.052369\n",
      "Epoch    2 /    5  | Train Loss: 1.6241 Acc: 0.6460  | Val Loss: 1.3595 Acc: 0.7188  | Elapsed time: 0:00:52.284747\n",
      "Epoch    3 /    5  | Train Loss: 1.6050 Acc: 0.6522  | Val Loss: 1.3751 Acc: 0.6875  | Elapsed time: 0:01:20.507893\n",
      "Phase 5:\n",
      "Epoch    1 /    5  | Train Loss: 1.5614 Acc: 0.6606  | Val Loss: 1.3783 Acc: 0.7188  | Elapsed time: 0:00:41.610277\n",
      "Epoch    2 /    5  | Train Loss: 1.5759 Acc: 0.6550  | Val Loss: 1.3775 Acc: 0.6875  | Elapsed time: 0:01:12.355143\n",
      "Phase 6:\n",
      "Epoch    1 /    5  | Train Loss: 1.5657 Acc: 0.6584  | Val Loss: 1.3806 Acc: 0.6875  | Elapsed time: 0:00:25.970553\n",
      "Epoch    2 /    5  | Train Loss: 1.5932 Acc: 0.6544  | Val Loss: 1.3534 Acc: 0.7188  | Elapsed time: 0:00:52.087802\n",
      "Epoch    3 /    5  | Train Loss: 1.5694 Acc: 0.6584  | Val Loss: 1.3599 Acc: 0.7188  | Elapsed time: 0:01:18.250438\n",
      "Epoch    4 /    5  | Train Loss: 1.5655 Acc: 0.6685  | Val Loss: 1.3640 Acc: 0.7188  | Elapsed time: 0:01:44.743619\n",
      "Epoch    5 /    5  | Train Loss: 1.5849 Acc: 0.6561  | Val Loss: 1.3503 Acc: 0.7188  | Elapsed time: 0:02:11.097451\n"
     ]
    }
   ],
   "source": [
    "training_params = [\n",
    "    { \"idx\": 1, \"robustness\": 0.2, \"break_at_val_acc_diff\": 0.05},\n",
    "    { \"idx\": 2, \"robustness\": 0.5, \"break_at_val_acc_diff\": 0.02},\n",
    "    { \"idx\": 3, \"robustness\": 1.0, \"break_at_val_acc_diff\": 0.01},\n",
    "    { \"idx\": 4, \"robustness\": 2.0, \"break_at_val_acc_diff\": -0.000001},\n",
    "    { \"idx\": 5, \"robustness\": 2.0, \"break_at_val_acc_diff\": -0.000001},\n",
    "    { \"idx\": 6, \"robustness\": 2.0, \"break_at_val_acc_diff\": -0.000001}\n",
    "]\n",
    "for param in training_params:\n",
    "    print(f\"Phase {param[\"idx\"]}:\")\n",
    "    if param[\"idx\"] == 1:\n",
    "        model_data = init_model_for_training(f'{dataset_dir}/data', f'{dataset_dir}/val', \n",
    "                                             batch_size=32, arch=\"resnet50\", image_size=224, robustness=param[\"robustness\"],\n",
    "                                             lr=1e-4, weight_decay=1e-4, silent=True)\n",
    "    else:\n",
    "        model_data = prepare_for_retraining(model_data, f'{dataset_dir}/data', f'{dataset_dir}/val', \n",
    "                                            batch_size=32, image_size=224, robustness=param[\"robustness\"], silent=True)\n",
    "    train(model_data, 5, f\"{dataset_dir}/checkpoint.cicada.ta.ep{param[\"idx\"]:02}###.pth\", \n",
    "          break_at_val_acc_diff=param[\"break_at_val_acc_diff\"])"
   ]
  },
  {
   "cell_type": "code",
   "execution_count": null,
   "id": "c33c731d-a05a-472d-9989-66e6d5ffacd1",
   "metadata": {},
   "outputs": [],
   "source": []
  },
  {
   "cell_type": "code",
   "execution_count": null,
   "id": "70d2b228-18a6-4f5a-b56b-bcfe2381187d",
   "metadata": {},
   "outputs": [],
   "source": []
  },
  {
   "cell_type": "code",
   "execution_count": null,
   "id": "81ec3d0c-7ffc-4571-8de4-c349698f783e",
   "metadata": {},
   "outputs": [],
   "source": []
  },
  {
   "cell_type": "markdown",
   "id": "ad23f1bd-d7ed-4a5e-9e05-6ace7ac44542",
   "metadata": {},
   "source": [
    "### Model B (resnet-101) ***"
   ]
  },
  {
   "cell_type": "code",
   "execution_count": 16,
   "id": "4feff062-f9b6-476e-9679-e3fec0ee9bad",
   "metadata": {},
   "outputs": [
    {
     "name": "stdout",
     "output_type": "stream",
     "text": [
      "Phase 1:\n",
      "Epoch    1 /    5  | Train Loss: 4.3823 Acc: 0.1361  | Val Loss: 3.8788 Acc: 0.1562  | Elapsed time: 0:00:36.052703\n",
      "Epoch    2 /    5  | Train Loss: 3.0609 Acc: 0.3394  | Val Loss: 2.8027 Acc: 0.5000  | Elapsed time: 0:01:12.584967\n",
      "Epoch    3 /    5  | Train Loss: 2.1181 Acc: 0.5562  | Val Loss: 2.0692 Acc: 0.6250  | Elapsed time: 0:01:48.755397\n",
      "Epoch    4 /    5  | Train Loss: 1.4211 Acc: 0.7075  | Val Loss: 1.4972 Acc: 0.6875  | Elapsed time: 0:02:25.032676\n",
      "Epoch    5 /    5  | Train Loss: 0.9489 Acc: 0.8221  | Val Loss: 1.2013 Acc: 0.7188  | Elapsed time: 0:03:01.226855\n",
      "Phase 2:\n",
      "Epoch    1 /    5  | Train Loss: 1.8001 Acc: 0.6008  | Val Loss: 1.2676 Acc: 0.7188  | Elapsed time: 0:00:37.473946\n",
      "Epoch    2 /    5  | Train Loss: 1.4156 Acc: 0.6781  | Val Loss: 1.1628 Acc: 0.7500  | Elapsed time: 0:01:15.402303\n",
      "Epoch    3 /    5  | Train Loss: 1.1610 Acc: 0.7465  | Val Loss: 1.1163 Acc: 0.7500  | Elapsed time: 0:01:53.749779\n",
      "Phase 3:\n",
      "Epoch    1 /    5  | Train Loss: 1.2015 Acc: 0.7442  | Val Loss: 1.0811 Acc: 0.7500  | Elapsed time: 0:00:37.195077\n",
      "Epoch    2 /    5  | Train Loss: 1.1327 Acc: 0.7487  | Val Loss: 1.0962 Acc: 0.7500  | Elapsed time: 0:01:15.408936\n",
      "Phase 4:\n",
      "Epoch    1 /    5  | Train Loss: 1.2487 Acc: 0.7216  | Val Loss: 1.0857 Acc: 0.7500  | Elapsed time: 0:00:37.799289\n",
      "Epoch    2 /    5  | Train Loss: 1.2104 Acc: 0.7278  | Val Loss: 1.0759 Acc: 0.7500  | Elapsed time: 0:01:15.881189\n",
      "Epoch    3 /    5  | Train Loss: 1.1482 Acc: 0.7448  | Val Loss: 1.0902 Acc: 0.7500  | Elapsed time: 0:01:54.464648\n",
      "Epoch    4 /    5  | Train Loss: 1.1644 Acc: 0.7352  | Val Loss: 1.0799 Acc: 0.7500  | Elapsed time: 0:02:32.743838\n",
      "Epoch    5 /    5  | Train Loss: 1.1669 Acc: 0.7380  | Val Loss: 1.0815 Acc: 0.7500  | Elapsed time: 0:03:11.113682\n",
      "Phase 5:\n",
      "Epoch    1 /    5  | Train Loss: 1.1296 Acc: 0.7612  | Val Loss: 1.0894 Acc: 0.7500  | Elapsed time: 0:00:37.830779\n",
      "Epoch    2 /    5  | Train Loss: 1.1017 Acc: 0.7527  | Val Loss: 1.0628 Acc: 0.7500  | Elapsed time: 0:01:16.349742\n",
      "Epoch    3 /    5  | Train Loss: 1.1268 Acc: 0.7465  | Val Loss: 1.0659 Acc: 0.7500  | Elapsed time: 0:01:52.504718\n",
      "Epoch    4 /    5  | Train Loss: 1.1458 Acc: 0.7516  | Val Loss: 1.0771 Acc: 0.7500  | Elapsed time: 0:02:33.261244\n",
      "Epoch    5 /    5  | Train Loss: 1.1103 Acc: 0.7606  | Val Loss: 1.0747 Acc: 0.7500  | Elapsed time: 0:03:13.820783\n",
      "Phase 6:\n",
      "Epoch    1 /    5  | Train Loss: 1.1030 Acc: 0.7628  | Val Loss: 1.0787 Acc: 0.7500  | Elapsed time: 0:00:39.926689\n",
      "Epoch    2 /    5  | Train Loss: 1.1171 Acc: 0.7453  | Val Loss: 1.0724 Acc: 0.7500  | Elapsed time: 0:01:20.507874\n",
      "Epoch    3 /    5  | Train Loss: 1.1245 Acc: 0.7521  | Val Loss: 1.0709 Acc: 0.7500  | Elapsed time: 0:02:00.705526\n",
      "Epoch    4 /    5  | Train Loss: 1.0697 Acc: 0.7645  | Val Loss: 1.0749 Acc: 0.7500  | Elapsed time: 0:02:41.161487\n",
      "Epoch    5 /    5  | Train Loss: 1.1064 Acc: 0.7493  | Val Loss: 1.0739 Acc: 0.7500  | Elapsed time: 0:03:22.130809\n"
     ]
    }
   ],
   "source": [
    "training_params = [\n",
    "    { \"idx\": 1, \"robustness\": 0.2, \"break_at_val_acc_diff\": 0.05},\n",
    "    { \"idx\": 2, \"robustness\": 0.5, \"break_at_val_acc_diff\": 0.02},\n",
    "    { \"idx\": 3, \"robustness\": 1.0, \"break_at_val_acc_diff\": 0.01},\n",
    "    { \"idx\": 4, \"robustness\": 2.0, \"break_at_val_acc_diff\": -0.000001},\n",
    "    { \"idx\": 5, \"robustness\": 2.0, \"break_at_val_acc_diff\": -0.000001},\n",
    "    { \"idx\": 6, \"robustness\": 2.0, \"break_at_val_acc_diff\": -0.000001}\n",
    "]\n",
    "for param in training_params:\n",
    "    print(f\"Phase {param[\"idx\"]}:\")\n",
    "    if param[\"idx\"] == 1:\n",
    "        model_data = init_model_for_training(f'{dataset_dir}/data', f'{dataset_dir}/val', \n",
    "                                             batch_size=32, arch=\"resnet101\", image_size=224, robustness=param[\"robustness\"],\n",
    "                                             lr=1e-4, weight_decay=1e-4, silent=True)\n",
    "    else:\n",
    "        model_data = prepare_for_retraining(model_data, f'{dataset_dir}/data', f'{dataset_dir}/val', \n",
    "                                            batch_size=32, image_size=224, robustness=param[\"robustness\"], silent=True)\n",
    "    train(model_data, 5, f\"{dataset_dir}/checkpoint.cicada.tb.ep{param[\"idx\"]:02}###.pth\", \n",
    "          break_at_val_acc_diff=param[\"break_at_val_acc_diff\"])"
   ]
  },
  {
   "cell_type": "code",
   "execution_count": 20,
   "id": "470ae1c4-9434-4a9f-bdf2-e9439e08a240",
   "metadata": {},
   "outputs": [],
   "source": [
    "model_data = torch.load(f\"{dataset_dir}/checkpoint.cicada.tb.ep060003.pth\", weights_only=False)"
   ]
  },
  {
   "cell_type": "code",
   "execution_count": 21,
   "id": "c5503f73-b78c-4691-be83-536fd965cd20",
   "metadata": {},
   "outputs": [
    {
     "data": {
      "image/png": "[encoded data removed]",
      "text/plain": [
       "<Figure size 400x300 with 1 Axes>"
      ]
     },
     "metadata": {},
     "output_type": "display_data"
    }
   ],
   "source": [
    "plot_confidence(model_data, f\"{dataset_dir}/data\", classes, 0.2, k=10)"
   ]
  },
  {
   "cell_type": "code",
   "execution_count": null,
   "id": "a7d7faa8-1d49-4a0b-af85-c65e87298255",
   "metadata": {},
   "outputs": [],
   "source": []
  },
  {
   "cell_type": "code",
   "execution_count": null,
   "id": "6b44be7a-4849-431d-81a9-ac706d6fa4e5",
   "metadata": {},
   "outputs": [],
   "source": []
  },
  {
   "cell_type": "code",
   "execution_count": null,
   "id": "ad5d5808-d030-4c3f-aa12-f2025ce3b955",
   "metadata": {},
   "outputs": [],
   "source": []
  },
  {
   "cell_type": "markdown",
   "id": "753f0232-02e9-4350-bc75-277815e03487",
   "metadata": {
    "jp-MarkdownHeadingCollapsed": true
   },
   "source": [
    "### Model C (resnet-34)"
   ]
  },
  {
   "cell_type": "code",
   "execution_count": 17,
   "id": "9a684e3c-f36f-4cdb-a9bb-a140d6324953",
   "metadata": {},
   "outputs": [
    {
     "name": "stdout",
     "output_type": "stream",
     "text": [
      "Phase 1:\n",
      "Epoch    1 /    5  | Train Loss: 4.0401 Acc: 0.2157  | Val Loss: 3.0061 Acc: 0.3750  | Elapsed time: 0:00:22.853247\n",
      "Epoch    2 /    5  | Train Loss: 2.4528 Acc: 0.5065  | Val Loss: 2.2035 Acc: 0.4688  | Elapsed time: 0:00:46.589591\n",
      "Epoch    3 /    5  | Train Loss: 1.7044 Acc: 0.6770  | Val Loss: 1.6959 Acc: 0.6562  | Elapsed time: 0:01:09.745984\n",
      "Epoch    4 /    5  | Train Loss: 1.1965 Acc: 0.7899  | Val Loss: 1.4126 Acc: 0.6562  | Elapsed time: 0:01:32.913761\n",
      "Phase 2:\n",
      "Epoch    1 /    5  | Train Loss: 2.3284 Acc: 0.4896  | Val Loss: 1.4854 Acc: 0.6250  | Elapsed time: 0:00:24.587938\n",
      "Epoch    2 /    5  | Train Loss: 1.9940 Acc: 0.5641  | Val Loss: 1.5214 Acc: 0.6250  | Elapsed time: 0:00:49.241880\n",
      "Phase 3:\n",
      "Epoch    1 /    5  | Train Loss: 1.8658 Acc: 0.5985  | Val Loss: 1.3553 Acc: 0.7188  | Elapsed time: 0:00:24.544694\n",
      "Epoch    2 /    5  | Train Loss: 1.6329 Acc: 0.6635  | Val Loss: 1.3041 Acc: 0.7500  | Elapsed time: 0:00:49.237325\n",
      "Epoch    3 /    5  | Train Loss: 1.6149 Acc: 0.6589  | Val Loss: 1.3094 Acc: 0.7188  | Elapsed time: 0:01:13.887661\n",
      "Phase 4:\n",
      "Epoch    1 /    5  | Train Loss: 1.7251 Acc: 0.6409  | Val Loss: 1.3136 Acc: 0.7500  | Elapsed time: 0:00:23.753691\n",
      "Epoch    2 /    5  | Train Loss: 1.6989 Acc: 0.6352  | Val Loss: 1.2815 Acc: 0.7500  | Elapsed time: 0:00:48.468268\n",
      "Epoch    3 /    5  | Train Loss: 1.6424 Acc: 0.6567  | Val Loss: 1.2720 Acc: 0.7500  | Elapsed time: 0:01:12.930839\n",
      "Epoch    4 /    5  | Train Loss: 1.6124 Acc: 0.6652  | Val Loss: 1.2472 Acc: 0.7500  | Elapsed time: 0:01:37.555555\n",
      "Epoch    5 /    5  | Train Loss: 1.5976 Acc: 0.6550  | Val Loss: 1.2384 Acc: 0.7500  | Elapsed time: 0:02:02.247990\n",
      "Phase 5:\n",
      "Epoch    1 /    5  | Train Loss: 1.5662 Acc: 0.6798  | Val Loss: 1.2249 Acc: 0.7500  | Elapsed time: 0:00:24.624271\n",
      "Epoch    2 /    5  | Train Loss: 1.5801 Acc: 0.6753  | Val Loss: 1.2470 Acc: 0.7500  | Elapsed time: 0:00:49.174371\n",
      "Epoch    3 /    5  | Train Loss: 1.5581 Acc: 0.6731  | Val Loss: 1.2317 Acc: 0.7500  | Elapsed time: 0:01:13.468161\n",
      "Epoch    4 /    5  | Train Loss: 1.5720 Acc: 0.6748  | Val Loss: 1.2295 Acc: 0.7500  | Elapsed time: 0:01:38.298065\n",
      "Epoch    5 /    5  | Train Loss: 1.5353 Acc: 0.6748  | Val Loss: 1.2390 Acc: 0.7500  | Elapsed time: 0:02:02.606097\n",
      "Phase 6:\n",
      "Epoch    1 /    5  | Train Loss: 1.5782 Acc: 0.6652  | Val Loss: 1.2436 Acc: 0.7500  | Elapsed time: 0:00:24.574712\n",
      "Epoch    2 /    5  | Train Loss: 1.5550 Acc: 0.6866  | Val Loss: 1.2437 Acc: 0.7500  | Elapsed time: 0:00:49.569633\n",
      "Epoch    3 /    5  | Train Loss: 1.5318 Acc: 0.6844  | Val Loss: 1.2331 Acc: 0.7500  | Elapsed time: 0:01:13.796143\n",
      "Epoch    4 /    5  | Train Loss: 1.5520 Acc: 0.6753  | Val Loss: 1.2463 Acc: 0.7500  | Elapsed time: 0:01:38.788728\n",
      "Epoch    5 /    5  | Train Loss: 1.5219 Acc: 0.6928  | Val Loss: 1.2395 Acc: 0.7500  | Elapsed time: 0:02:03.566735\n"
     ]
    }
   ],
   "source": [
    "training_params = [\n",
    "    { \"idx\": 1, \"robustness\": 0.2, \"break_at_val_acc_diff\": 0.05},\n",
    "    { \"idx\": 2, \"robustness\": 0.5, \"break_at_val_acc_diff\": 0.02},\n",
    "    { \"idx\": 3, \"robustness\": 1.0, \"break_at_val_acc_diff\": 0.01},\n",
    "    { \"idx\": 4, \"robustness\": 2.0, \"break_at_val_acc_diff\": -0.000001},\n",
    "    { \"idx\": 5, \"robustness\": 2.0, \"break_at_val_acc_diff\": -0.000001},\n",
    "    { \"idx\": 6, \"robustness\": 2.0, \"break_at_val_acc_diff\": -0.000001}\n",
    "]\n",
    "for param in training_params:\n",
    "    print(f\"Phase {param[\"idx\"]}:\")\n",
    "    if param[\"idx\"] == 1:\n",
    "        model_data = init_model_for_training(f'{dataset_dir}/data', f'{dataset_dir}/val', \n",
    "                                             batch_size=32, arch=\"resnet34\", image_size=224, robustness=param[\"robustness\"],\n",
    "                                             lr=1e-4, weight_decay=1e-4, silent=True)\n",
    "    else:\n",
    "        model_data = prepare_for_retraining(model_data, f'{dataset_dir}/data', f'{dataset_dir}/val', \n",
    "                                            batch_size=32, image_size=224, robustness=param[\"robustness\"], silent=True)\n",
    "    train(model_data, 5, f\"{dataset_dir}/checkpoint.cicada.tc.ep{param[\"idx\"]:02}###.pth\", \n",
    "          break_at_val_acc_diff=param[\"break_at_val_acc_diff\"])"
   ]
  },
  {
   "cell_type": "code",
   "execution_count": null,
   "id": "0e2beda8-b525-45de-b16a-457480fcae6a",
   "metadata": {},
   "outputs": [],
   "source": []
  },
  {
   "cell_type": "code",
   "execution_count": null,
   "id": "946f6061-a51a-46d8-a50c-139aac6f9ea9",
   "metadata": {},
   "outputs": [],
   "source": []
  },
  {
   "cell_type": "code",
   "execution_count": null,
   "id": "0e8a4231-3427-4135-b73a-11b6f7738240",
   "metadata": {},
   "outputs": [],
   "source": []
  }
 ],
 "metadata": {
  "kernelspec": {
   "display_name": "Python 3 (ipykernel)",
   "language": "python",
   "name": "python3"
  },
  "language_info": {
   "codemirror_mode": {
    "name": "ipython",
    "version": 3
   },
   "file_extension": ".py",
   "mimetype": "text/x-python",
   "name": "python",
   "nbconvert_exporter": "python",
   "pygments_lexer": "ipython3",
   "version": "3.12.9"
  }
 },
 "nbformat": 4,
 "nbformat_minor": 5
}
