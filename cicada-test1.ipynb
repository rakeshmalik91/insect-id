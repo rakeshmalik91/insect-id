{
 "cells": [
  {
   "cell_type": "code",
   "execution_count": 1,
   "id": "daec9bf3-bab1-4312-b6ab-16ea45a778c9",
   "metadata": {},
   "outputs": [],
   "source": [
    "%load_ext autoreload"
   ]
  },
  {
   "cell_type": "code",
   "execution_count": 2,
   "id": "7e6f45b3-4a2d-4cc7-92eb-ca2f497d0073",
   "metadata": {},
   "outputs": [],
   "source": [
    "%autoreload 2"
   ]
  },
  {
   "cell_type": "code",
   "execution_count": 4,
   "id": "7c70caf4-3495-4873-b1cc-f5b5a72ccd24",
   "metadata": {},
   "outputs": [],
   "source": [
    "import mynnlib\n",
    "from mynnlib import *\n",
    "\n",
    "dataset_dir = \"insect-dataset/cicada\"\n",
    "\n",
    "early_regex = r\"^.*-(early)$\"\n",
    "unidentified_regex = r\"^.*-(spp|genera|genera-spp)$\"\n",
    "early_or_unidentified_regex = r\"^.*-(early|spp|genera|genera-spp)$\""
   ]
  },
  {
   "cell_type": "markdown",
   "id": "0d3edc07-9122-4dc5-baed-6ad1d8f1f7b9",
   "metadata": {},
   "source": [
    "# Create Dataset"
   ]
  },
  {
   "cell_type": "code",
   "execution_count": 5,
   "id": "3c5dbc80-5b87-4229-b12d-1cc056034e68",
   "metadata": {},
   "outputs": [],
   "source": [
    "if os.path.exists(f\"{dataset_dir}/data\"):\n",
    "    shutil.rmtree(f\"{dataset_dir}/data\")\n",
    "os.makedirs(f\"{dataset_dir}/data\")"
   ]
  },
  {
   "cell_type": "code",
   "execution_count": 6,
   "id": "cc6f0643-a5ce-452b-8987-f90943c3a500",
   "metadata": {},
   "outputs": [],
   "source": [
    "# merge early and imago classes\n",
    "src_dir = \"insect-dataset/src/indiancicadas.org\"\n",
    "for class_dir in os.listdir(src_dir):\n",
    "    if os.listdir(f\"{src_dir}/{class_dir}\"):\n",
    "        if class_dir.endswith(\"-early\"):\n",
    "            if not os.path.exists(f\"{dataset_dir}/data/{re.sub(r\"-early\", \"\", class_dir)}\"):\n",
    "                os.makedirs(f\"{dataset_dir}/data/{re.sub(r\"-early\", \"\", class_dir)}\")\n",
    "            for file in os.listdir(f\"{src_dir}/{class_dir}\"):\n",
    "                shutil.copy2(f\"{src_dir}/{class_dir}/{file}\", f\"{dataset_dir}/data/{re.sub(r\"-early\", \"\", class_dir)}/{file}\")\n",
    "        else:\n",
    "            shutil.copytree(f\"{src_dir}/{class_dir}\", f\"{dataset_dir}/data/{class_dir}\")"
   ]
  },
  {
   "cell_type": "code",
   "execution_count": 7,
   "id": "cf7ed24f-a2cc-4115-b39e-e6470085bcfa",
   "metadata": {},
   "outputs": [],
   "source": [
    "def copy_data_from(sources, add_early=False):\n",
    "    class_cnt = 0\n",
    "    img_cnt = 0\n",
    "    for more_data_dir in sources:\n",
    "        for class_dir in os.listdir(f\"{dataset_dir}/data\"):\n",
    "            if os.path.exists(f\"{more_data_dir}/{class_dir}\"):\n",
    "                # print(f\"Copying data for {class_dir}...\")\n",
    "                class_cnt += 1\n",
    "                for file in os.listdir(f\"{more_data_dir}/{class_dir}\"):\n",
    "                    shutil.copy2(f\"{more_data_dir}/{class_dir}/{file}\", f\"{dataset_dir}/data/{class_dir}/{file}\")\n",
    "                    img_cnt += 1\n",
    "            if add_early and os.path.exists(f\"{more_data_dir}/{class_dir}-early\"):\n",
    "                # print(f\"Copying data for {class_dir}-early...\")\n",
    "                class_cnt += 1\n",
    "                os.makedirs(f\"{dataset_dir}/data/{class_dir}-early/{file}\")\n",
    "                for file in os.listdir(f\"{more_data_dir}/{class_dir}-early\"):\n",
    "                    shutil.copy2(f\"{more_data_dir}/{class_dir}-early/{file}\", f\"{dataset_dir}/data/{class_dir}-early/{file}\")\n",
    "                    img_cnt += 1\n",
    "    print(f\"{img_cnt} images added into {class_cnt} classes\")"
   ]
  },
  {
   "cell_type": "code",
   "execution_count": 8,
   "id": "d44f31fd-9135-4ad3-91ae-5da9233ab554",
   "metadata": {},
   "outputs": [
    {
     "name": "stdout",
     "output_type": "stream",
     "text": [
      "160 images added into 17 classes\n"
     ]
    }
   ],
   "source": [
    "copy_data_from([\"insect-dataset/src/inaturalist.org\"], add_early=False)"
   ]
  },
  {
   "cell_type": "markdown",
   "id": "3538b22f-f326-4bea-a91c-0deb31d2a8cf",
   "metadata": {},
   "source": [
    "# Create val dataset"
   ]
  },
  {
   "cell_type": "code",
   "execution_count": 9,
   "id": "6a973f85-6f56-464b-925d-77c782dfcb28",
   "metadata": {},
   "outputs": [],
   "source": [
    "if not os.path.exists(f\"{dataset_dir}/val\"):\n",
    "    os.makedirs(f\"{dataset_dir}/val\")"
   ]
  },
  {
   "cell_type": "code",
   "execution_count": 11,
   "id": "abf13802-1ff5-43d4-8da5-71692bf5afdf",
   "metadata": {},
   "outputs": [
    {
     "name": "stdout",
     "output_type": "stream",
     "text": [
      "16 images moved from data to val\n"
     ]
    }
   ],
   "source": [
    "move_src = \"data\"\n",
    "move_dst = \"val\"\n",
    "val_data_ratio = 0.01\n",
    "val_data_cnt = 0\n",
    "for class_dir in os.listdir(f\"{dataset_dir}/{move_src}\"):\n",
    "    for file in os.listdir(f\"{dataset_dir}/{move_src}/{class_dir}\"):\n",
    "        if random.random() < val_data_ratio:\n",
    "            if not os.path.exists(f\"{dataset_dir}/{move_dst}/{class_dir}\"):\n",
    "                os.makedirs(f\"{dataset_dir}/{move_dst}/{class_dir}\")\n",
    "            shutil.move(f\"{dataset_dir}/{move_src}/{class_dir}/{file}\", f\"{dataset_dir}/{move_dst}/{class_dir}/\")\n",
    "            val_data_cnt += 1\n",
    "print(f\"{val_data_cnt} images moved from {move_src} to {move_dst}\")"
   ]
  },
  {
   "cell_type": "markdown",
   "id": "fe1e04da-0c6e-4bf6-99a5-dd7617d5c9ee",
   "metadata": {},
   "source": [
    "# Count"
   ]
  },
  {
   "cell_type": "code",
   "execution_count": 12,
   "id": "978768d6-274f-49fb-badd-dfc78c96f930",
   "metadata": {},
   "outputs": [
    {
     "name": "stdout",
     "output_type": "stream",
     "text": [
      "Total Class count :    162 ( Unidentified:      0 / Early-stage:      0 / Identified-adult:    162 )\n",
      "Total  Data count :   1163 ( Unidentified:      0 / Early-stage:      0 / Identified-adult:   1163 )\n"
     ]
    }
   ],
   "source": [
    "classes = { class_dir: len([ img for img in os.listdir(f\"{dataset_dir}/data/{class_dir}\") ]) for class_dir in os.listdir(f\"{dataset_dir}/data\") }\n",
    "early_classes = { class_name: count for class_name, count in classes.items() if re.match(early_regex, class_name) }\n",
    "unidentified_classes = { class_name: count for class_name, count in classes.items() if re.match(unidentified_regex, class_name) }\n",
    "print(f\"Total Class count : {len(classes):6} ( Unidentified: {len(unidentified_classes):6} / Early-stage: {len(early_classes):6} / Identified-adult: {len(classes) - len(unidentified_classes) - len(early_classes):6} )\")\n",
    "print(f\"Total  Data count : {sum(classes.values()):6} ( Unidentified: {sum(unidentified_classes.values()):6} / Early-stage: {sum(early_classes.values()):6} / Identified-adult: {sum(classes.values()) - sum(unidentified_classes.values()) - sum(early_classes.values()):6} )\")"
   ]
  },
  {
   "cell_type": "code",
   "execution_count": 13,
   "id": "5997d9b6-6df3-47f5-b8d0-08f268c1b801",
   "metadata": {},
   "outputs": [
    {
     "name": "stdout",
     "output_type": "stream",
     "text": [
      "    71 classes with <=2 images\n",
      "    99 classes with <=5 images\n"
     ]
    }
   ],
   "source": [
    "img2_class = []\n",
    "img5_class = []\n",
    "for class_dir in os.listdir(f\"{dataset_dir}/data\"):\n",
    "    if not re.match(early_or_unidentified_regex, class_dir):\n",
    "        img_cnt = sum([1 for file in os.listdir(f\"{dataset_dir}/data/{class_dir}\")])\n",
    "        img2_class += [class_dir] if img_cnt <= 2 else []\n",
    "        img5_class += [class_dir] if img_cnt <= 5 else []\n",
    "print(f\"{len(img2_class):6} classes with <=2 images\")\n",
    "print(f\"{len(img5_class):6} classes with <=5 images\")"
   ]
  },
  {
   "cell_type": "code",
   "execution_count": 14,
   "id": "a97d9aa1-b003-4d7b-9ad9-0910362d07fc",
   "metadata": {},
   "outputs": [
    {
     "name": "stdout",
     "output_type": "stream",
     "text": [
      "Genera count: 55\n"
     ]
    }
   ],
   "source": [
    "generas = set()\n",
    "for class_name in classes:\n",
    "    generas.add(class_name.split('-')[0])\n",
    "print(f\"Genera count: {len(generas)}\")"
   ]
  },
  {
   "cell_type": "markdown",
   "id": "04cb382e-ad32-4a22-a955-2566a2b96bdf",
   "metadata": {},
   "source": [
    "# Train"
   ]
  },
  {
   "cell_type": "markdown",
   "id": "2c48fbbc-010f-43a2-b366-40a39746a665",
   "metadata": {},
   "source": [
    "### Model A (resnet-50)"
   ]
  },
  {
   "cell_type": "code",
   "execution_count": 15,
   "id": "4d6aef9d-d7e2-44cb-91cc-a47df64ae3a8",
   "metadata": {},
   "outputs": [
    {
     "name": "stdout",
     "output_type": "stream",
     "text": [
      "Phase 1:\n",
      "Epoch    1 /    5  | Train Loss: 4.8136 Acc: 0.0791  | Val Loss: 4.1585 Acc: 0.0625  | Elapsed time: 0:00:30.249098\n",
      "Epoch    2 /    5  | Train Loss: 3.7449 Acc: 0.2330  | Val Loss: 3.4279 Acc: 0.3750  | Elapsed time: 0:00:49.836342\n",
      "Epoch    3 /    5  | Train Loss: 2.8777 Acc: 0.4179  | Val Loss: 2.9048 Acc: 0.4375  | Elapsed time: 0:01:09.834152\n",
      "Epoch    4 /    5  | Train Loss: 2.1791 Acc: 0.5787  | Val Loss: 2.5530 Acc: 0.5000  | Elapsed time: 0:01:29.854198\n",
      "Epoch    5 /    5  | Train Loss: 1.6544 Acc: 0.6973  | Val Loss: 2.3723 Acc: 0.5625  | Elapsed time: 0:01:49.873551\n",
      "Phase 2:\n",
      "Epoch    1 /    5  | Train Loss: 2.3732 Acc: 0.5125  | Val Loss: 2.3386 Acc: 0.5625  | Elapsed time: 0:00:22.036426\n",
      "Epoch    2 /    5  | Train Loss: 2.0705 Acc: 0.5752  | Val Loss: 2.2414 Acc: 0.6250  | Elapsed time: 0:00:43.917323\n",
      "Epoch    3 /    5  | Train Loss: 1.8708 Acc: 0.6242  | Val Loss: 2.1982 Acc: 0.6875  | Elapsed time: 0:01:05.954651\n",
      "Epoch    4 /    5  | Train Loss: 1.8043 Acc: 0.6389  | Val Loss: 2.2234 Acc: 0.6250  | Elapsed time: 0:01:27.904666\n",
      "Phase 3:\n",
      "Epoch    1 /    5  | Train Loss: 1.9156 Acc: 0.6062  | Val Loss: 2.2501 Acc: 0.5625  | Elapsed time: 0:00:21.458863\n",
      "Epoch    2 /    5  | Train Loss: 1.8844 Acc: 0.6174  | Val Loss: 2.2479 Acc: 0.6250  | Elapsed time: 0:00:43.521928\n",
      "Epoch    3 /    5  | Train Loss: 1.8078 Acc: 0.6363  | Val Loss: 2.2490 Acc: 0.6250  | Elapsed time: 0:01:05.462898\n",
      "Phase 4:\n",
      "Epoch    1 /    5  | Train Loss: 1.9616 Acc: 0.5873  | Val Loss: 2.2078 Acc: 0.5625  | Elapsed time: 0:00:21.547181\n",
      "Epoch    2 /    5  | Train Loss: 1.8949 Acc: 0.6294  | Val Loss: 2.1663 Acc: 0.5625  | Elapsed time: 0:00:43.523745\n",
      "Epoch    3 /    5  | Train Loss: 1.8647 Acc: 0.6131  | Val Loss: 2.1691 Acc: 0.6250  | Elapsed time: 0:01:05.643493\n",
      "Epoch    4 /    5  | Train Loss: 1.8805 Acc: 0.6191  | Val Loss: 2.1743 Acc: 0.5625  | Elapsed time: 0:01:27.788190\n",
      "Phase 5:\n",
      "Epoch    1 /    5  | Train Loss: 1.8647 Acc: 0.6285  | Val Loss: 2.1801 Acc: 0.6250  | Elapsed time: 0:00:21.571620\n",
      "Epoch    2 /    5  | Train Loss: 1.9002 Acc: 0.5993  | Val Loss: 2.2007 Acc: 0.6250  | Elapsed time: 0:00:43.764314\n",
      "Epoch    3 /    5  | Train Loss: 1.8709 Acc: 0.6268  | Val Loss: 2.1779 Acc: 0.5625  | Elapsed time: 0:01:05.823174\n",
      "Phase 6:\n",
      "Epoch    1 /    5  | Train Loss: 1.9118 Acc: 0.6062  | Val Loss: 2.1673 Acc: 0.5625  | Elapsed time: 0:00:21.339862\n",
      "Epoch    2 /    5  | Train Loss: 1.8602 Acc: 0.6285  | Val Loss: 2.1724 Acc: 0.6250  | Elapsed time: 0:00:43.373540\n",
      "Epoch    3 /    5  | Train Loss: 1.8656 Acc: 0.6225  | Val Loss: 2.1841 Acc: 0.6250  | Elapsed time: 0:01:05.183707\n",
      "Epoch    4 /    5  | Train Loss: 1.8715 Acc: 0.6234  | Val Loss: 2.1944 Acc: 0.6250  | Elapsed time: 0:01:27.179634\n",
      "Epoch    5 /    5  | Train Loss: 1.8786 Acc: 0.6062  | Val Loss: 2.1898 Acc: 0.6250  | Elapsed time: 0:01:49.215412\n"
     ]
    }
   ],
   "source": [
    "training_params = [\n",
    "    { \"idx\": 1, \"robustness\": 0.2, \"break_at_val_acc_diff\": 0.05},\n",
    "    { \"idx\": 2, \"robustness\": 0.5, \"break_at_val_acc_diff\": 0.02},\n",
    "    { \"idx\": 3, \"robustness\": 1.0, \"break_at_val_acc_diff\": 0.01},\n",
    "    { \"idx\": 4, \"robustness\": 2.0, \"break_at_val_acc_diff\": -0.000001},\n",
    "    { \"idx\": 5, \"robustness\": 2.0, \"break_at_val_acc_diff\": -0.000001},\n",
    "    { \"idx\": 6, \"robustness\": 2.0, \"break_at_val_acc_diff\": -0.000001}\n",
    "]\n",
    "for param in training_params:\n",
    "    print(f\"Phase {param[\"idx\"]}:\")\n",
    "    if param[\"idx\"] == 1:\n",
    "        model_data = init_model_for_training(f'{dataset_dir}/data', f'{dataset_dir}/val', \n",
    "                                             batch_size=32, arch=\"resnet50\", image_size=224, robustness=param[\"robustness\"],\n",
    "                                             lr=1e-4, weight_decay=1e-4, silent=True)\n",
    "    else:\n",
    "        model_data = prepare_for_retraining(model_data, f'{dataset_dir}/data', f'{dataset_dir}/val', \n",
    "                                            batch_size=32, image_size=224, robustness=param[\"robustness\"], silent=True)\n",
    "    train(model_data, 5, f\"{dataset_dir}/checkpoint.cicada.ta.ep{param[\"idx\"]:02}###.pth\", \n",
    "          break_at_val_acc_diff=param[\"break_at_val_acc_diff\"])"
   ]
  },
  {
   "cell_type": "code",
   "execution_count": 34,
   "id": "4d580497-063d-49d5-ae53-f9ac65ac05af",
   "metadata": {},
   "outputs": [],
   "source": [
    "model_data = torch.load(f\"{dataset_dir}/checkpoint.cicada.ta.ep020002.pth\", weights_only=False)"
   ]
  },
  {
   "cell_type": "code",
   "execution_count": 35,
   "id": "adcc4755-bc08-4cc4-bb4c-f862649c0035",
   "metadata": {},
   "outputs": [
    {
     "data": {
      "image/png": "[encoded data removed]",
      "text/plain": [
       "<Figure size 400x300 with 1 Axes>"
      ]
     },
     "metadata": {},
     "output_type": "display_data"
    }
   ],
   "source": [
    "plot_confidence(model_data, f\"{dataset_dir}/data\", classes, 0.2, k=10)"
   ]
  },
  {
   "cell_type": "code",
   "execution_count": 36,
   "id": "5a8705e8-39f6-442d-a0e2-326483c3e52c",
   "metadata": {},
   "outputs": [],
   "source": [
    "model_data = torch.load(f\"{dataset_dir}/checkpoint.cicada.ta.ep060003.pth\", weights_only=False)"
   ]
  },
  {
   "cell_type": "code",
   "execution_count": 37,
   "id": "52defbe3-c641-470c-83c7-026b107fbb22",
   "metadata": {},
   "outputs": [
    {
     "data": {
      "image/png": "[encoded data removed]",
      "text/plain": [
       "<Figure size 400x300 with 1 Axes>"
      ]
     },
     "metadata": {},
     "output_type": "display_data"
    }
   ],
   "source": [
    "plot_confidence(model_data, f\"{dataset_dir}/data\", classes, 0.2, k=10)"
   ]
  },
  {
   "cell_type": "code",
   "execution_count": null,
   "id": "c33c731d-a05a-472d-9989-66e6d5ffacd1",
   "metadata": {},
   "outputs": [],
   "source": []
  },
  {
   "cell_type": "code",
   "execution_count": null,
   "id": "70d2b228-18a6-4f5a-b56b-bcfe2381187d",
   "metadata": {},
   "outputs": [],
   "source": []
  },
  {
   "cell_type": "code",
   "execution_count": null,
   "id": "81ec3d0c-7ffc-4571-8de4-c349698f783e",
   "metadata": {},
   "outputs": [],
   "source": []
  },
  {
   "cell_type": "markdown",
   "id": "ad23f1bd-d7ed-4a5e-9e05-6ace7ac44542",
   "metadata": {},
   "source": [
    "### Model B (resnet-101)"
   ]
  },
  {
   "cell_type": "code",
   "execution_count": 16,
   "id": "4feff062-f9b6-476e-9679-e3fec0ee9bad",
   "metadata": {},
   "outputs": [
    {
     "name": "stdout",
     "output_type": "stream",
     "text": [
      "Phase 1:\n",
      "Epoch    1 /    5  | Train Loss: 4.7030 Acc: 0.0954  | Val Loss: 3.8966 Acc: 0.3125  | Elapsed time: 0:00:27.522528\n",
      "Epoch    2 /    5  | Train Loss: 3.4514 Acc: 0.3044  | Val Loss: 3.1606 Acc: 0.2500  | Elapsed time: 0:00:56.054315\n",
      "Phase 2:\n",
      "Epoch    1 /    5  | Train Loss: 3.2667 Acc: 0.3181  | Val Loss: 2.9565 Acc: 0.3125  | Elapsed time: 0:00:28.524959\n",
      "Epoch    2 /    5  | Train Loss: 2.8330 Acc: 0.4230  | Val Loss: 2.8025 Acc: 0.4375  | Elapsed time: 0:00:58.412254\n",
      "Epoch    3 /    5  | Train Loss: 2.5021 Acc: 0.4858  | Val Loss: 2.5644 Acc: 0.5000  | Elapsed time: 0:01:27.914481\n",
      "Epoch    4 /    5  | Train Loss: 2.2584 Acc: 0.5314  | Val Loss: 2.5057 Acc: 0.5625  | Elapsed time: 0:01:57.435651\n",
      "Epoch    5 /    5  | Train Loss: 2.0773 Acc: 0.5778  | Val Loss: 2.4956 Acc: 0.5625  | Elapsed time: 0:02:27.553085\n",
      "Phase 3:\n",
      "Epoch    1 /    5  | Train Loss: 1.9816 Acc: 0.5967  | Val Loss: 2.2928 Acc: 0.5625  | Elapsed time: 0:00:28.750290\n",
      "Epoch    2 /    5  | Train Loss: 1.9089 Acc: 0.6165  | Val Loss: 2.3093 Acc: 0.5625  | Elapsed time: 0:00:55.461660\n",
      "Phase 4:\n",
      "Epoch    1 /    5  | Train Loss: 2.0304 Acc: 0.5881  | Val Loss: 2.2853 Acc: 0.5625  | Elapsed time: 0:00:30.387272\n",
      "Epoch    2 /    5  | Train Loss: 1.9750 Acc: 0.6028  | Val Loss: 2.2887 Acc: 0.5625  | Elapsed time: 0:01:02.863613\n",
      "Epoch    3 /    5  | Train Loss: 1.9033 Acc: 0.6174  | Val Loss: 2.2745 Acc: 0.5625  | Elapsed time: 0:01:35.400273\n",
      "Epoch    4 /    5  | Train Loss: 1.9047 Acc: 0.6105  | Val Loss: 2.3082 Acc: 0.5625  | Elapsed time: 0:02:07.832055\n",
      "Epoch    5 /    5  | Train Loss: 1.8881 Acc: 0.6191  | Val Loss: 2.3082 Acc: 0.5625  | Elapsed time: 0:02:40.252836\n",
      "Phase 5:\n",
      "Epoch    1 /    5  | Train Loss: 1.8267 Acc: 0.6440  | Val Loss: 2.2903 Acc: 0.5625  | Elapsed time: 0:00:31.317023\n",
      "Epoch    2 /    5  | Train Loss: 1.8594 Acc: 0.6217  | Val Loss: 2.2621 Acc: 0.5625  | Elapsed time: 0:01:00.724723\n",
      "Epoch    3 /    5  | Train Loss: 1.9180 Acc: 0.6079  | Val Loss: 2.2841 Acc: 0.5625  | Elapsed time: 0:01:30.273472\n",
      "Epoch    4 /    5  | Train Loss: 1.8528 Acc: 0.6311  | Val Loss: 2.3145 Acc: 0.5625  | Elapsed time: 0:01:59.134020\n",
      "Epoch    5 /    5  | Train Loss: 1.8626 Acc: 0.6182  | Val Loss: 2.2902 Acc: 0.5625  | Elapsed time: 0:02:27.830884\n",
      "Phase 6:\n",
      "Epoch    1 /    5  | Train Loss: 1.8912 Acc: 0.6174  | Val Loss: 2.3077 Acc: 0.5625  | Elapsed time: 0:00:27.194298\n",
      "Epoch    2 /    5  | Train Loss: 1.8677 Acc: 0.6294  | Val Loss: 2.2664 Acc: 0.5625  | Elapsed time: 0:00:55.591926\n",
      "Epoch    3 /    5  | Train Loss: 1.8558 Acc: 0.6139  | Val Loss: 2.2585 Acc: 0.5625  | Elapsed time: 0:01:24.348786\n",
      "Epoch    4 /    5  | Train Loss: 1.8476 Acc: 0.6320  | Val Loss: 2.2631 Acc: 0.5625  | Elapsed time: 0:01:52.787513\n",
      "Epoch    5 /    5  | Train Loss: 1.8296 Acc: 0.6268  | Val Loss: 2.2807 Acc: 0.5625  | Elapsed time: 0:02:21.069775\n"
     ]
    }
   ],
   "source": [
    "training_params = [\n",
    "    { \"idx\": 1, \"robustness\": 0.2, \"break_at_val_acc_diff\": 0.05},\n",
    "    { \"idx\": 2, \"robustness\": 0.5, \"break_at_val_acc_diff\": 0.02},\n",
    "    { \"idx\": 3, \"robustness\": 1.0, \"break_at_val_acc_diff\": 0.01},\n",
    "    { \"idx\": 4, \"robustness\": 2.0, \"break_at_val_acc_diff\": -0.000001},\n",
    "    { \"idx\": 5, \"robustness\": 2.0, \"break_at_val_acc_diff\": -0.000001},\n",
    "    { \"idx\": 6, \"robustness\": 2.0, \"break_at_val_acc_diff\": -0.000001}\n",
    "]\n",
    "for param in training_params:\n",
    "    print(f\"Phase {param[\"idx\"]}:\")\n",
    "    if param[\"idx\"] == 1:\n",
    "        model_data = init_model_for_training(f'{dataset_dir}/data', f'{dataset_dir}/val', \n",
    "                                             batch_size=32, arch=\"resnet101\", image_size=224, robustness=param[\"robustness\"],\n",
    "                                             lr=1e-4, weight_decay=1e-4, silent=True)\n",
    "    else:\n",
    "        model_data = prepare_for_retraining(model_data, f'{dataset_dir}/data', f'{dataset_dir}/val', \n",
    "                                            batch_size=32, image_size=224, robustness=param[\"robustness\"], silent=True)\n",
    "    train(model_data, 5, f\"{dataset_dir}/checkpoint.cicada.tb.ep{param[\"idx\"]:02}###.pth\", \n",
    "          break_at_val_acc_diff=param[\"break_at_val_acc_diff\"])"
   ]
  },
  {
   "cell_type": "code",
   "execution_count": 38,
   "id": "470ae1c4-9434-4a9f-bdf2-e9439e08a240",
   "metadata": {},
   "outputs": [],
   "source": [
    "model_data = torch.load(f\"{dataset_dir}/checkpoint.cicada.tb.ep050000.pth\", weights_only=False)"
   ]
  },
  {
   "cell_type": "code",
   "execution_count": 39,
   "id": "c5503f73-b78c-4691-be83-536fd965cd20",
   "metadata": {},
   "outputs": [
    {
     "data": {
      "image/png": "[encoded data removed]",
      "text/plain": [
       "<Figure size 400x300 with 1 Axes>"
      ]
     },
     "metadata": {},
     "output_type": "display_data"
    }
   ],
   "source": [
    "plot_confidence(model_data, f\"{dataset_dir}/data\", classes, 0.2, k=10)"
   ]
  },
  {
   "cell_type": "code",
   "execution_count": null,
   "id": "a7d7faa8-1d49-4a0b-af85-c65e87298255",
   "metadata": {},
   "outputs": [],
   "source": []
  },
  {
   "cell_type": "code",
   "execution_count": null,
   "id": "6b44be7a-4849-431d-81a9-ac706d6fa4e5",
   "metadata": {},
   "outputs": [],
   "source": []
  },
  {
   "cell_type": "code",
   "execution_count": null,
   "id": "ad5d5808-d030-4c3f-aa12-f2025ce3b955",
   "metadata": {},
   "outputs": [],
   "source": []
  },
  {
   "cell_type": "markdown",
   "id": "753f0232-02e9-4350-bc75-277815e03487",
   "metadata": {},
   "source": [
    "### Model C (resnet-34)"
   ]
  },
  {
   "cell_type": "code",
   "execution_count": 17,
   "id": "9a684e3c-f36f-4cdb-a9bb-a140d6324953",
   "metadata": {},
   "outputs": [
    {
     "name": "stdout",
     "output_type": "stream",
     "text": [
      "Phase 1:\n",
      "Epoch    1 /    5  | Train Loss: 4.4672 Acc: 0.1470  | Val Loss: 3.7088 Acc: 0.1875  | Elapsed time: 0:00:15.842481\n",
      "Epoch    2 /    5  | Train Loss: 2.7860 Acc: 0.4402  | Val Loss: 3.0062 Acc: 0.3750  | Elapsed time: 0:00:31.149213\n",
      "Epoch    3 /    5  | Train Loss: 1.9287 Acc: 0.6741  | Val Loss: 2.6723 Acc: 0.5625  | Elapsed time: 0:00:46.746422\n",
      "Epoch    4 /    5  | Train Loss: 1.3336 Acc: 0.8186  | Val Loss: 2.4934 Acc: 0.5000  | Elapsed time: 0:01:02.424913\n",
      "Phase 2:\n",
      "Epoch    1 /    5  | Train Loss: 2.4823 Acc: 0.4875  | Val Loss: 2.5548 Acc: 0.5000  | Elapsed time: 0:00:17.214553\n",
      "Epoch    2 /    5  | Train Loss: 2.1617 Acc: 0.5503  | Val Loss: 2.4588 Acc: 0.4375  | Elapsed time: 0:00:34.442380\n",
      "Phase 3:\n",
      "Epoch    1 /    5  | Train Loss: 2.0587 Acc: 0.5864  | Val Loss: 2.5163 Acc: 0.3750  | Elapsed time: 0:00:17.221948\n",
      "Epoch    2 /    5  | Train Loss: 1.8502 Acc: 0.6268  | Val Loss: 2.3477 Acc: 0.4375  | Elapsed time: 0:00:34.732110\n",
      "Epoch    3 /    5  | Train Loss: 1.7571 Acc: 0.6483  | Val Loss: 2.3745 Acc: 0.3750  | Elapsed time: 0:00:52.425116\n",
      "Phase 4:\n",
      "Epoch    1 /    5  | Train Loss: 1.9957 Acc: 0.5907  | Val Loss: 2.3053 Acc: 0.5000  | Elapsed time: 0:00:16.946840\n",
      "Epoch    2 /    5  | Train Loss: 1.8788 Acc: 0.6337  | Val Loss: 2.3442 Acc: 0.4375  | Elapsed time: 0:00:34.430591\n",
      "Phase 5:\n",
      "Epoch    1 /    5  | Train Loss: 1.8788 Acc: 0.6311  | Val Loss: 2.2766 Acc: 0.5000  | Elapsed time: 0:00:16.844903\n",
      "Epoch    2 /    5  | Train Loss: 1.8548 Acc: 0.6182  | Val Loss: 2.2079 Acc: 0.5000  | Elapsed time: 0:00:34.233907\n",
      "Epoch    3 /    5  | Train Loss: 1.8049 Acc: 0.6303  | Val Loss: 2.2445 Acc: 0.5000  | Elapsed time: 0:00:51.740326\n",
      "Epoch    4 /    5  | Train Loss: 1.7916 Acc: 0.6500  | Val Loss: 2.2088 Acc: 0.4375  | Elapsed time: 0:01:09.095783\n",
      "Phase 6:\n",
      "Epoch    1 /    5  | Train Loss: 1.7426 Acc: 0.6526  | Val Loss: 2.2162 Acc: 0.4375  | Elapsed time: 0:00:17.005409\n",
      "Epoch    2 /    5  | Train Loss: 1.7787 Acc: 0.6423  | Val Loss: 2.2195 Acc: 0.5000  | Elapsed time: 0:00:34.506358\n",
      "Epoch    3 /    5  | Train Loss: 1.7684 Acc: 0.6578  | Val Loss: 2.2246 Acc: 0.4375  | Elapsed time: 0:00:51.635408\n"
     ]
    }
   ],
   "source": [
    "training_params = [\n",
    "    { \"idx\": 1, \"robustness\": 0.2, \"break_at_val_acc_diff\": 0.05},\n",
    "    { \"idx\": 2, \"robustness\": 0.5, \"break_at_val_acc_diff\": 0.02},\n",
    "    { \"idx\": 3, \"robustness\": 1.0, \"break_at_val_acc_diff\": 0.01},\n",
    "    { \"idx\": 4, \"robustness\": 2.0, \"break_at_val_acc_diff\": -0.000001},\n",
    "    { \"idx\": 5, \"robustness\": 2.0, \"break_at_val_acc_diff\": -0.000001},\n",
    "    { \"idx\": 6, \"robustness\": 2.0, \"break_at_val_acc_diff\": -0.000001}\n",
    "]\n",
    "for param in training_params:\n",
    "    print(f\"Phase {param[\"idx\"]}:\")\n",
    "    if param[\"idx\"] == 1:\n",
    "        model_data = init_model_for_training(f'{dataset_dir}/data', f'{dataset_dir}/val', \n",
    "                                             batch_size=32, arch=\"resnet34\", image_size=224, robustness=param[\"robustness\"],\n",
    "                                             lr=1e-4, weight_decay=1e-4, silent=True)\n",
    "    else:\n",
    "        model_data = prepare_for_retraining(model_data, f'{dataset_dir}/data', f'{dataset_dir}/val', \n",
    "                                            batch_size=32, image_size=224, robustness=param[\"robustness\"], silent=True)\n",
    "    train(model_data, 5, f\"{dataset_dir}/checkpoint.cicada.tc.ep{param[\"idx\"]:02}###.pth\", \n",
    "          break_at_val_acc_diff=param[\"break_at_val_acc_diff\"])"
   ]
  },
  {
   "cell_type": "code",
   "execution_count": null,
   "id": "0e2beda8-b525-45de-b16a-457480fcae6a",
   "metadata": {},
   "outputs": [],
   "source": []
  },
  {
   "cell_type": "code",
   "execution_count": null,
   "id": "946f6061-a51a-46d8-a50c-139aac6f9ea9",
   "metadata": {},
   "outputs": [],
   "source": []
  },
  {
   "cell_type": "code",
   "execution_count": null,
   "id": "0e8a4231-3427-4135-b73a-11b6f7738240",
   "metadata": {},
   "outputs": [],
   "source": []
  }
 ],
 "metadata": {
  "kernelspec": {
   "display_name": "Python 3 (ipykernel)",
   "language": "python",
   "name": "python3"
  },
  "language_info": {
   "codemirror_mode": {
    "name": "ipython",
    "version": 3
   },
   "file_extension": ".py",
   "mimetype": "text/x-python",
   "name": "python",
   "nbconvert_exporter": "python",
   "pygments_lexer": "ipython3",
   "version": "3.12.9"
  }
 },
 "nbformat": 4,
 "nbformat_minor": 5
}
