{
 "cells": [
  {
   "cell_type": "code",
   "execution_count": 1,
   "id": "f6a862db-9e52-48fe-b1f2-fcb1e114c603",
   "metadata": {},
   "outputs": [],
   "source": [
    "%load_ext autoreload"
   ]
  },
  {
   "cell_type": "code",
   "execution_count": 2,
   "id": "de9757bc-ec03-4f4d-b2d8-7afda0d0bb34",
   "metadata": {},
   "outputs": [],
   "source": [
    "%autoreload 2"
   ]
  },
  {
   "cell_type": "code",
   "execution_count": 4,
   "id": "a0956ff6-3c2c-4ef4-9db3-690863f02b7e",
   "metadata": {},
   "outputs": [],
   "source": [
    "import mynnlib\n",
    "from mynnlib import *\n",
    "\n",
    "dataset_dir = \"insect-dataset/lepidoptera\"\n",
    "\n",
    "early_regex = r\"^.*-(early)$\"\n",
    "unidentified_regex = r\"^.*-(spp|genera|genera-spp)$\"\n",
    "early_or_unidentified_regex = r\"^.*-(early|spp|genera|genera-spp)$\""
   ]
  },
  {
   "cell_type": "code",
   "execution_count": 7,
   "id": "604514b2-f608-4248-9f9d-7e272a42e647",
   "metadata": {},
   "outputs": [],
   "source": [
    "# combine moth & butterfly\n",
    "\n",
    "import json\n",
    "\n",
    "input_data = {\n",
    "    \"insect-dataset/src/class_details.ifoundbutterflies.org.json\": \"Butterfly\",\n",
    "    \"insect-dataset/src/class_details.mothsofindia.org.json\": \"Moth\",\n",
    "}\n",
    "combined_data = {}\n",
    "\n",
    "for src, name in input_data.items():\n",
    "    with open(src, \"r\", encoding=\"utf-8\") as file:\n",
    "        data = json.load(file)\n",
    "    for key, value in data.items():\n",
    "        if 'name' in value and not re.match(r\"(?i)^.*(moth|moths|butterfly|butterflies|fly|flies)$\", value['name']):\n",
    "            value['name'] += \" \" + name\n",
    "        combined_data[key] = value\n",
    "\n",
    "# for species_type in ['moth', 'butterfly']:\n",
    "#     for class_name in os.listdir(f\"{dataset_dir}/../{species_type}/data\"):\n",
    "#         if not re.match(early_or_unidentified_regex, class_name) and (class_name not in combined_data or 'name' not in combined_data[class_name]):\n",
    "#             if class_name not in combined_data:\n",
    "#                 combined_data[class_name] = {}\n",
    "#             name = re.sub(r\"-\", \" \", class_name, count=1).title() + \" \" + species_type.title()\n",
    "#             combined_data[class_name]['name'] = name\n",
    "\n",
    "with open(\"models/class_details.lepidoptera.json\", \"w\", encoding=\"utf-8\") as file:\n",
    "    json.dump(combined_data, file, indent=4)"
   ]
  },
  {
   "cell_type": "code",
   "execution_count": 2,
   "id": "eb076393-918c-47ad-88d3-27a6a857241a",
   "metadata": {},
   "outputs": [
    {
     "data": {
      "text/plain": [
       "'models/class_details.odonata.json'"
      ]
     },
     "execution_count": 2,
     "metadata": {},
     "output_type": "execute_result"
    }
   ],
   "source": [
    "shutil.copy(\"insect-dataset/src/class_details.indianodonata.org.json\", \"models/class_details.odonata.json\")"
   ]
  },
  {
   "cell_type": "code",
   "execution_count": 3,
   "id": "53be1f47-10d1-47aa-b598-c811430193d8",
   "metadata": {},
   "outputs": [
    {
     "data": {
      "text/plain": [
       "'models/class_details.cicada.json'"
      ]
     },
     "execution_count": 3,
     "metadata": {},
     "output_type": "execute_result"
    }
   ],
   "source": [
    "shutil.copy(\"insect-dataset/src/class_details.indiancicadas.org.json\", \"models/class_details.cicada.json\")"
   ]
  },
  {
   "cell_type": "code",
   "execution_count": 8,
   "id": "ea018d1a-fc87-4c35-b8c9-d455b897feca",
   "metadata": {},
   "outputs": [],
   "source": [
    "# remove image urls from class details\n",
    "\n",
    "for s in ['lepidoptera', 'odonata', 'cicada']:\n",
    "    class_details = load_json(f\"models/class_details.{s}.json\")\n",
    "    for _, c in class_details.items():\n",
    "        if 'images' in c:\n",
    "            del c['images']\n",
    "    dump_json(f\"models/class_details.{s}.json\", class_details)"
   ]
  },
  {
   "cell_type": "code",
   "execution_count": null,
   "id": "a7826097-c22f-4972-8f3c-55fa32891f92",
   "metadata": {},
   "outputs": [],
   "source": []
  }
 ],
 "metadata": {
  "kernelspec": {
   "display_name": "Python 3 (ipykernel)",
   "language": "python",
   "name": "python3"
  },
  "language_info": {
   "codemirror_mode": {
    "name": "ipython",
    "version": 3
   },
   "file_extension": ".py",
   "mimetype": "text/x-python",
   "name": "python",
   "nbconvert_exporter": "python",
   "pygments_lexer": "ipython3",
   "version": "3.12.9"
  }
 },
 "nbformat": 4,
 "nbformat_minor": 5
}
