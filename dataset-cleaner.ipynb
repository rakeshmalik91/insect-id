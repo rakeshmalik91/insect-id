{
 "cells": [
  {
   "cell_type": "code",
   "execution_count": 1,
   "id": "c24a5de1-91c4-49d2-b2ae-bb3fbffbbb8a",
   "metadata": {},
   "outputs": [],
   "source": [
    "%load_ext autoreload"
   ]
  },
  {
   "cell_type": "code",
   "execution_count": 2,
   "id": "a5f89542-f83f-492b-bc72-a1b3eb8db272",
   "metadata": {},
   "outputs": [],
   "source": [
    "%autoreload 2"
   ]
  },
  {
   "cell_type": "code",
   "execution_count": 3,
   "id": "f34cbdeb-d8fa-4ea1-83df-cdebf0dff532",
   "metadata": {},
   "outputs": [],
   "source": [
    "import mynnlib\n",
    "from mynnlib import *\n",
    "import imagehash"
   ]
  },
  {
   "cell_type": "code",
   "execution_count": 11,
   "id": "ef168c85-0613-4f7c-a020-7539a71a1970",
   "metadata": {},
   "outputs": [],
   "source": [
    "def clean_datasets(species_types, dataset_type='data'):\n",
    "    for species_type in species_types:\n",
    "        dataset_dir = f\"insect-dataset/{species_type}/{dataset_type}\"\n",
    "        removed_corrupted = 0\n",
    "        removed_duplicate = 0\n",
    "        for class_name in os.listdir(dataset_dir):\n",
    "            img_hashes = []\n",
    "            for file in os.listdir(f\"{dataset_dir}/{class_name}\"):\n",
    "                if not Path(f\"{dataset_dir}/{class_name}/{file}\").is_file():\n",
    "                    removed_corrupted += 1\n",
    "                    shutil.rmtree(f\"{dataset_dir}/{class_name}/{file}\")\n",
    "                    continue\n",
    "                img = Image.open(f\"{dataset_dir}/{class_name}/{file}\").convert(\"RGB\")\n",
    "                img_hash = imagehash.average_hash(img)\n",
    "                if img_hash in img_hashes:\n",
    "                    removed_duplicate += 1\n",
    "                    os.remove(f\"{dataset_dir}/{class_name}/{file}\")\n",
    "                    continue\n",
    "                img_hashes += [img_hash]\n",
    "        print(f\"{dataset_dir:30}: removed_corrupted={removed_corrupted:5}, removed_duplicate={removed_duplicate:5}\")"
   ]
  },
  {
   "cell_type": "code",
   "execution_count": 10,
   "id": "e10c25c4-de01-49a2-8639-7574aecbc194",
   "metadata": {},
   "outputs": [
    {
     "name": "stdout",
     "output_type": "stream",
     "text": [
      "insect-dataset/lepidoptera/data: removed_corrupted=  433, removed_duplicate= 5496\n",
      "insect-dataset/moth/data      : removed_corrupted=  330, removed_duplicate= 2884\n",
      "insect-dataset/butterfly/data : removed_corrupted=   97, removed_duplicate= 2713\n",
      "insect-dataset/cicada/data    : removed_corrupted=    0, removed_duplicate=  134\n",
      "insect-dataset/odonata/data   : removed_corrupted=    0, removed_duplicate=  512\n",
      "insect-dataset/root-classifier/data: removed_corrupted=    0, removed_duplicate= 1711\n"
     ]
    }
   ],
   "source": [
    "clean_datasets([\"lepidoptera\", \"moth\", \"butterfly\", \"cicada\", \"odonata\", \"root-classifier\"])"
   ]
  },
  {
   "cell_type": "code",
   "execution_count": 12,
   "id": "128f74ea-30cd-439b-963b-bcf91e4926c5",
   "metadata": {},
   "outputs": [
    {
     "name": "stdout",
     "output_type": "stream",
     "text": [
      "insect-dataset/lepidoptera/val: removed_corrupted=    0, removed_duplicate=    1\n",
      "insect-dataset/moth/val       : removed_corrupted=    0, removed_duplicate=    0\n",
      "insect-dataset/butterfly/val  : removed_corrupted=    0, removed_duplicate=    1\n",
      "insect-dataset/cicada/val     : removed_corrupted=    0, removed_duplicate=    0\n",
      "insect-dataset/odonata/val    : removed_corrupted=    0, removed_duplicate=    0\n",
      "insect-dataset/root-classifier/val: removed_corrupted=    0, removed_duplicate=   17\n"
     ]
    }
   ],
   "source": [
    "clean_datasets([\"lepidoptera\", \"moth\", \"butterfly\", \"cicada\", \"odonata\", \"root-classifier\"], dataset_type='val')"
   ]
  },
  {
   "cell_type": "code",
   "execution_count": null,
   "id": "4f8a41bb-a390-4c5a-b473-dda2dfb87e9c",
   "metadata": {},
   "outputs": [],
   "source": []
  }
 ],
 "metadata": {
  "kernelspec": {
   "display_name": "Python 3 (ipykernel)",
   "language": "python",
   "name": "python3"
  },
  "language_info": {
   "codemirror_mode": {
    "name": "ipython",
    "version": 3
   },
   "file_extension": ".py",
   "mimetype": "text/x-python",
   "name": "python",
   "nbconvert_exporter": "python",
   "pygments_lexer": "ipython3",
   "version": "3.12.9"
  }
 },
 "nbformat": 4,
 "nbformat_minor": 5
}
